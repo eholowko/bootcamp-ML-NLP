{
 "cells": [
  {
   "cell_type": "code",
   "execution_count": 1,
   "metadata": {
    "collapsed": true
   },
   "outputs": [],
   "source": [
    "import re\n",
    "import nltk\n",
    "from bs4 import BeautifulSoup\n",
    "import numpy as np\n",
    "from urllib.request import urlopen\n",
    "import string\n",
    "import pandas as pd\n",
    "from sklearn.feature_extraction.text import CountVectorizer\n",
    "from sklearn.decomposition import TruncatedSVD\n",
    "from sklearn.feature_extraction.text import TfidfVectorizer\n",
    "from scipy.spatial.distance import euclidean\n",
    "from scipy.spatial.distance import cosine\n",
    "from gensim import corpora, models\n",
    "from gensim.models.ldamodel import LdaModel\n",
    "from gensim import matutils\n",
    "\n",
    "import pyLDAvis.gensim"
   ]
  },
  {
   "cell_type": "code",
   "execution_count": 2,
   "metadata": {
    "collapsed": false
   },
   "outputs": [],
   "source": [
    "wiki = \"http://en.wikipedia.org/wiki/\"\n",
    "titles = [\"Integral\", \"Riemann_integral\", \"Riemann-Stieltjes_integral\", \"Derivative\",\n",
    "    \"Limit_of_a_sequence\", \"Edvard_Munch\", \"Vincent_van_Gogh\", \"Jan_Matejko\",\n",
    "    \"Lev_Tolstoj\", \"Franz_Kafka\", \"J._R._R._Tolkien\",\"Warsaw\",\"England\",\"Eiffel_Tower\",\"Taipei_101\"]\n",
    "\n",
    "def parse(url):        \n",
    "    x = urlopen(url)\n",
    "    x = x.read()\n",
    "    x = BeautifulSoup(x,'html.parser')\n",
    "    x = x.find(\"div\",id=\"bodyContent\")\n",
    "    x = x.find_all(\"p\")\n",
    "    return(x)\n",
    "\n",
    "articles_raw = [parse(url) for url in [wiki+x for x in titles]]"
   ]
  },
  {
   "cell_type": "code",
   "execution_count": 3,
   "metadata": {
    "collapsed": false,
    "scrolled": true
   },
   "outputs": [
    {
     "data": {
      "text/plain": [
       "<p>is defined informally as the signed <a class=\"mw-redirect\" href=\"/wiki/Area_(geometry)\" title=\"Area (geometry)\">area</a> of the region in the <span class=\"texhtml mvar\" style=\"font-style:italic;\">xy</span>-plane that is bounded by the <a href=\"/wiki/Graph_of_a_function\" title=\"Graph of a function\">graph</a> of <span class=\"texhtml mvar\" style=\"font-style:italic;\">f</span>, the <span class=\"texhtml mvar\" style=\"font-style:italic;\">x</span>-axis and the vertical lines <span class=\"texhtml\"><i>x</i> = <i>a</i></span> and <span class=\"texhtml\"><i>x</i> = <i>b</i></span>. The area above the <span class=\"texhtml mvar\" style=\"font-style:italic;\">x</span>-axis adds to the total and that below the <span class=\"texhtml mvar\" style=\"font-style:italic;\">x</span>-axis subtracts from the total.\n",
       "</p>"
      ]
     },
     "execution_count": 3,
     "metadata": {},
     "output_type": "execute_result"
    }
   ],
   "source": [
    "articles_raw[0][1]"
   ]
  },
  {
   "cell_type": "markdown",
   "metadata": {},
   "source": [
    "## Preprocessing"
   ]
  },
  {
   "cell_type": "markdown",
   "metadata": {},
   "source": [
    "### Removing html tags"
   ]
  },
  {
   "cell_type": "code",
   "execution_count": 4,
   "metadata": {
    "collapsed": true
   },
   "outputs": [],
   "source": [
    "articles_non_tags = [re.sub('<.*?>','',str(a)) for a in articles_raw]"
   ]
  },
  {
   "cell_type": "markdown",
   "metadata": {},
   "source": [
    "### Convert into lower letters "
   ]
  },
  {
   "cell_type": "code",
   "execution_count": 5,
   "metadata": {
    "collapsed": false
   },
   "outputs": [],
   "source": [
    "articles_lower = [art.lower() for art in articles_non_tags]"
   ]
  },
  {
   "cell_type": "code",
   "execution_count": 6,
   "metadata": {
    "collapsed": false
   },
   "outputs": [
    {
     "data": {
      "text/plain": [
       "'[in the branch of mathematics known as real analysis, the riemann integral, created by bernhard riemann, was the first rigorous definition of the integral of a function on an interval. it was presented to the faculty at the university of göttingen in 1854, but not published in a journal until 1868.[1] for many functions and practical applications, the riemann integral can be evaluated by the fundamental theorem of calculus or approximated by numerical integration., the riemann integral is unsuitable for many theoretical purposes. some of the technical deficiencies in riemann integration can be remedied with the riemann–stieltjes integral, and most disappear with the lebesgue integral., , , let f be a nonnegative real-valued function on the interval [a, b], and let, be the region of the plane under the graph of the function f and above the interval [a, b] (see the figure on the top right). we are interested in measuring the area of s. once we have measured it, we will denote the area by'"
      ]
     },
     "execution_count": 6,
     "metadata": {},
     "output_type": "execute_result"
    }
   ],
   "source": [
    "articles_lower[1][:1000]"
   ]
  },
  {
   "cell_type": "markdown",
   "metadata": {},
   "source": [
    "## Segmentation"
   ]
  },
  {
   "cell_type": "markdown",
   "metadata": {},
   "source": [
    "### Word tokenize - document segmentation"
   ]
  },
  {
   "cell_type": "code",
   "execution_count": 7,
   "metadata": {
    "collapsed": false
   },
   "outputs": [
    {
     "data": {
      "text/plain": [
       "['[',\n",
       " 'in',\n",
       " 'mathematics',\n",
       " ',',\n",
       " 'an',\n",
       " 'integral',\n",
       " 'assigns',\n",
       " 'numbers',\n",
       " 'to',\n",
       " 'functions',\n",
       " 'in',\n",
       " 'a',\n",
       " 'way',\n",
       " 'that',\n",
       " 'can',\n",
       " 'describe',\n",
       " 'displacement',\n",
       " ',',\n",
       " 'area',\n",
       " ',',\n",
       " 'volume',\n",
       " ',',\n",
       " 'and',\n",
       " 'other',\n",
       " 'concepts',\n",
       " 'that',\n",
       " 'arise',\n",
       " 'by',\n",
       " 'combining',\n",
       " 'infinitesimal',\n",
       " 'data',\n",
       " '.',\n",
       " 'integration',\n",
       " 'is',\n",
       " 'one',\n",
       " 'of',\n",
       " 'the',\n",
       " 'two',\n",
       " 'main',\n",
       " 'operations',\n",
       " 'of',\n",
       " 'calculus',\n",
       " ',',\n",
       " 'with',\n",
       " 'its',\n",
       " 'inverse',\n",
       " 'operation',\n",
       " ',',\n",
       " 'differentiation',\n",
       " ',',\n",
       " 'being',\n",
       " 'the',\n",
       " 'other',\n",
       " '.',\n",
       " 'given',\n",
       " 'a',\n",
       " 'function',\n",
       " 'f',\n",
       " 'of',\n",
       " 'a',\n",
       " 'real',\n",
       " 'variable',\n",
       " 'x',\n",
       " 'and',\n",
       " 'an',\n",
       " 'interval',\n",
       " '[',\n",
       " 'a',\n",
       " ',',\n",
       " 'b',\n",
       " ']',\n",
       " 'of',\n",
       " 'the',\n",
       " 'real',\n",
       " 'line',\n",
       " ',',\n",
       " 'the',\n",
       " 'definite',\n",
       " 'integral',\n",
       " ',',\n",
       " 'is',\n",
       " 'defined',\n",
       " 'informally',\n",
       " 'as',\n",
       " 'the',\n",
       " 'signed',\n",
       " 'area',\n",
       " 'of',\n",
       " 'the',\n",
       " 'region',\n",
       " 'in',\n",
       " 'the',\n",
       " 'xy-plane',\n",
       " 'that',\n",
       " 'is',\n",
       " 'bounded',\n",
       " 'by',\n",
       " 'the',\n",
       " 'graph',\n",
       " 'of',\n",
       " 'f',\n",
       " ',',\n",
       " 'the',\n",
       " 'x-axis',\n",
       " 'and',\n",
       " 'the',\n",
       " 'vertical',\n",
       " 'lines',\n",
       " 'x',\n",
       " '=',\n",
       " 'a',\n",
       " 'and',\n",
       " 'x',\n",
       " '=',\n",
       " 'b.',\n",
       " 'the',\n",
       " 'area',\n",
       " 'above',\n",
       " 'the',\n",
       " 'x-axis',\n",
       " 'adds',\n",
       " 'to',\n",
       " 'the',\n",
       " 'total',\n",
       " 'and',\n",
       " 'that',\n",
       " 'below',\n",
       " 'the',\n",
       " 'x-axis',\n",
       " 'subtracts',\n",
       " 'from',\n",
       " 'the',\n",
       " 'total',\n",
       " '.',\n",
       " ',',\n",
       " 'the',\n",
       " 'operation',\n",
       " 'of',\n",
       " 'integration',\n",
       " ',',\n",
       " 'up',\n",
       " 'to',\n",
       " 'an',\n",
       " 'additive',\n",
       " 'constant',\n",
       " ',',\n",
       " 'is',\n",
       " 'the',\n",
       " 'inverse',\n",
       " 'of',\n",
       " 'the',\n",
       " 'operation',\n",
       " 'of',\n",
       " 'differentiation',\n",
       " '.',\n",
       " 'for',\n",
       " 'this',\n",
       " 'reason',\n",
       " ',',\n",
       " 'the',\n",
       " 'term',\n",
       " 'integral',\n",
       " 'may',\n",
       " 'also',\n",
       " 'refer',\n",
       " 'to',\n",
       " 'the',\n",
       " 'related',\n",
       " 'notion',\n",
       " 'of',\n",
       " 'the',\n",
       " 'antiderivative',\n",
       " ',',\n",
       " 'a',\n",
       " 'function',\n",
       " 'f',\n",
       " 'whose',\n",
       " 'derivative',\n",
       " 'is',\n",
       " 'the',\n",
       " 'given',\n",
       " 'function',\n",
       " 'f.',\n",
       " 'in',\n",
       " 'this',\n",
       " 'case',\n",
       " ',',\n",
       " 'it',\n",
       " 'is',\n",
       " 'called',\n",
       " 'an',\n",
       " 'indefinite',\n",
       " 'integral',\n",
       " 'and',\n",
       " 'is',\n",
       " 'written',\n",
       " ':',\n",
       " ',',\n",
       " 'the',\n",
       " 'integrals',\n",
       " 'discussed',\n",
       " 'in',\n",
       " 'this',\n",
       " 'article',\n",
       " 'are',\n",
       " 'those',\n",
       " 'termed',\n",
       " 'definite',\n",
       " 'integrals',\n",
       " '.',\n",
       " 'it',\n",
       " 'is',\n",
       " 'the',\n",
       " 'fundamental',\n",
       " 'theorem',\n",
       " 'of',\n",
       " 'calculus',\n",
       " 'that',\n",
       " 'connects',\n",
       " 'differentiation',\n",
       " 'with',\n",
       " 'the',\n",
       " 'definite',\n",
       " 'integral',\n",
       " ':',\n",
       " 'if',\n",
       " 'f',\n",
       " 'is',\n",
       " 'a',\n",
       " 'continuous',\n",
       " 'real-valued',\n",
       " 'function',\n",
       " 'defined',\n",
       " 'on',\n",
       " 'a',\n",
       " 'closed',\n",
       " 'interval',\n",
       " '[',\n",
       " 'a',\n",
       " ',',\n",
       " 'b',\n",
       " ']',\n",
       " ',',\n",
       " 'then',\n",
       " ',',\n",
       " 'once',\n",
       " 'an',\n",
       " 'antiderivative',\n",
       " 'f',\n",
       " 'of',\n",
       " 'f',\n",
       " 'is',\n",
       " 'known',\n",
       " ',',\n",
       " 'the',\n",
       " 'definite',\n",
       " 'integral',\n",
       " 'of',\n",
       " 'f',\n",
       " 'over',\n",
       " 'that',\n",
       " 'interval',\n",
       " 'is',\n",
       " 'given',\n",
       " 'by',\n",
       " ',',\n",
       " 'the',\n",
       " 'principles',\n",
       " 'of',\n",
       " 'integration',\n",
       " 'were',\n",
       " 'formulated',\n",
       " 'independently',\n",
       " 'by',\n",
       " 'isaac',\n",
       " 'newton',\n",
       " 'and',\n",
       " 'gottfried',\n",
       " 'wilhelm',\n",
       " 'leibniz',\n",
       " 'in',\n",
       " 'the',\n",
       " 'late',\n",
       " '17th',\n",
       " 'century',\n",
       " ',',\n",
       " 'who',\n",
       " 'thought',\n",
       " 'of',\n",
       " 'the',\n",
       " 'integral',\n",
       " 'as',\n",
       " 'an',\n",
       " 'infinite',\n",
       " 'sum',\n",
       " 'of',\n",
       " 'rectangles',\n",
       " 'of',\n",
       " 'infinitesimal',\n",
       " 'width',\n",
       " '.',\n",
       " 'bernhard',\n",
       " 'riemann',\n",
       " 'gave',\n",
       " 'a',\n",
       " 'rigorous',\n",
       " 'mathematical',\n",
       " 'definition',\n",
       " 'of',\n",
       " 'integrals',\n",
       " '.',\n",
       " 'it',\n",
       " 'is',\n",
       " 'based',\n",
       " 'on',\n",
       " 'a',\n",
       " 'limiting',\n",
       " 'procedure',\n",
       " 'that',\n",
       " 'approximates',\n",
       " 'the',\n",
       " 'area',\n",
       " 'of',\n",
       " 'a',\n",
       " 'curvilinear',\n",
       " 'region',\n",
       " 'by',\n",
       " 'breaking',\n",
       " 'the',\n",
       " 'region',\n",
       " 'into',\n",
       " 'thin',\n",
       " 'vertical',\n",
       " 'slabs',\n",
       " '.',\n",
       " 'beginning',\n",
       " 'in',\n",
       " 'the',\n",
       " 'nineteenth',\n",
       " 'century',\n",
       " ',',\n",
       " 'more',\n",
       " 'sophisticated',\n",
       " 'notions',\n",
       " 'of',\n",
       " 'integrals',\n",
       " 'began',\n",
       " 'to',\n",
       " 'appear',\n",
       " ',',\n",
       " 'where',\n",
       " 'the',\n",
       " 'type',\n",
       " 'of',\n",
       " 'the',\n",
       " 'function',\n",
       " 'as',\n",
       " 'well',\n",
       " 'as',\n",
       " 'the',\n",
       " 'domain',\n",
       " 'over',\n",
       " 'which',\n",
       " 'the',\n",
       " 'integration',\n",
       " 'is',\n",
       " 'performed',\n",
       " 'has',\n",
       " 'been',\n",
       " 'generalised',\n",
       " '.',\n",
       " 'a',\n",
       " 'line',\n",
       " 'integral',\n",
       " 'is',\n",
       " 'defined',\n",
       " 'for',\n",
       " 'functions',\n",
       " 'of',\n",
       " 'two',\n",
       " 'or',\n",
       " 'more',\n",
       " 'variables',\n",
       " ',',\n",
       " 'and',\n",
       " 'the',\n",
       " 'interval',\n",
       " 'of',\n",
       " 'integration',\n",
       " '[',\n",
       " 'a',\n",
       " ',',\n",
       " 'b',\n",
       " ']',\n",
       " 'is',\n",
       " 'replaced',\n",
       " 'by',\n",
       " 'a',\n",
       " 'curve',\n",
       " 'connecting',\n",
       " 'the',\n",
       " 'two',\n",
       " 'endpoints',\n",
       " '.',\n",
       " 'in',\n",
       " 'a',\n",
       " 'surface',\n",
       " 'integral',\n",
       " ',',\n",
       " 'the',\n",
       " 'curve',\n",
       " 'is',\n",
       " 'replaced',\n",
       " 'by',\n",
       " 'a',\n",
       " 'piece',\n",
       " 'of',\n",
       " 'a',\n",
       " 'surface',\n",
       " 'in',\n",
       " 'three-dimensional',\n",
       " 'space',\n",
       " '.',\n",
       " ',',\n",
       " 'the',\n",
       " 'first',\n",
       " 'documented',\n",
       " 'systematic',\n",
       " 'technique',\n",
       " 'capable',\n",
       " 'of',\n",
       " 'determining',\n",
       " 'integrals',\n",
       " 'is',\n",
       " 'the',\n",
       " 'method',\n",
       " 'of',\n",
       " 'exhaustion',\n",
       " 'of',\n",
       " 'the',\n",
       " 'ancient',\n",
       " 'greek',\n",
       " 'astronomer',\n",
       " 'eudoxus',\n",
       " '(',\n",
       " 'ca',\n",
       " '.',\n",
       " '370',\n",
       " 'bc',\n",
       " ')',\n",
       " ',',\n",
       " 'which',\n",
       " 'sought',\n",
       " 'to',\n",
       " 'find',\n",
       " 'areas',\n",
       " 'and',\n",
       " 'volumes',\n",
       " 'by',\n",
       " 'breaking',\n",
       " 'them',\n",
       " 'up',\n",
       " 'into',\n",
       " 'an',\n",
       " 'infinite',\n",
       " 'number',\n",
       " 'of',\n",
       " 'divisions',\n",
       " 'for',\n",
       " 'which',\n",
       " 'the',\n",
       " 'area',\n",
       " 'or',\n",
       " 'volume',\n",
       " 'was',\n",
       " 'known',\n",
       " '.',\n",
       " 'this',\n",
       " 'method',\n",
       " 'was',\n",
       " 'further',\n",
       " 'developed',\n",
       " 'and',\n",
       " 'employed',\n",
       " 'by',\n",
       " 'archimedes',\n",
       " 'in',\n",
       " 'the',\n",
       " '3rd',\n",
       " 'century',\n",
       " 'bc',\n",
       " 'and',\n",
       " 'used',\n",
       " 'to',\n",
       " 'calculate',\n",
       " 'areas',\n",
       " 'for',\n",
       " 'parabolas',\n",
       " 'and',\n",
       " 'an',\n",
       " 'approximation',\n",
       " 'to',\n",
       " 'the',\n",
       " 'area',\n",
       " 'of',\n",
       " 'a',\n",
       " 'circle',\n",
       " '.',\n",
       " ',',\n",
       " 'a',\n",
       " 'similar',\n",
       " 'method',\n",
       " 'was',\n",
       " 'independently',\n",
       " 'developed',\n",
       " 'in',\n",
       " 'china',\n",
       " 'around',\n",
       " 'the',\n",
       " '3rd',\n",
       " 'century',\n",
       " 'ad',\n",
       " 'by',\n",
       " 'liu',\n",
       " 'hui',\n",
       " ',',\n",
       " 'who',\n",
       " 'used',\n",
       " 'it',\n",
       " 'to',\n",
       " 'find',\n",
       " 'the',\n",
       " 'area',\n",
       " 'of',\n",
       " 'the',\n",
       " 'circle',\n",
       " '.',\n",
       " 'this',\n",
       " 'method',\n",
       " 'was',\n",
       " 'later',\n",
       " 'used',\n",
       " 'in',\n",
       " 'the',\n",
       " '5th',\n",
       " 'century',\n",
       " 'by',\n",
       " 'chinese',\n",
       " 'father-and-son',\n",
       " 'mathematicians',\n",
       " 'zu',\n",
       " 'chongzhi',\n",
       " 'and',\n",
       " 'zu',\n",
       " 'geng',\n",
       " 'to',\n",
       " 'find',\n",
       " 'the',\n",
       " 'volume',\n",
       " 'of',\n",
       " 'a',\n",
       " 'sphere',\n",
       " '(',\n",
       " 'shea',\n",
       " '2007',\n",
       " ';',\n",
       " 'katz',\n",
       " '2004',\n",
       " ',',\n",
       " 'pp',\n",
       " '.',\n",
       " '125–126',\n",
       " ')',\n",
       " '.',\n",
       " ',',\n",
       " 'the',\n",
       " 'next',\n",
       " 'significant',\n",
       " 'advances',\n",
       " 'in',\n",
       " 'integral',\n",
       " 'calculus',\n",
       " 'did',\n",
       " 'not',\n",
       " 'begin',\n",
       " 'to',\n",
       " 'appear',\n",
       " 'until',\n",
       " 'the',\n",
       " '17th',\n",
       " 'century',\n",
       " '.',\n",
       " 'at',\n",
       " 'this',\n",
       " 'time',\n",
       " ',',\n",
       " 'the',\n",
       " 'work',\n",
       " 'of',\n",
       " 'cavalieri',\n",
       " 'with',\n",
       " 'his',\n",
       " 'method',\n",
       " 'of',\n",
       " 'indivisibles',\n",
       " ',',\n",
       " 'and',\n",
       " 'work',\n",
       " 'by',\n",
       " 'fermat',\n",
       " ',',\n",
       " 'began',\n",
       " 'to',\n",
       " 'lay',\n",
       " 'the',\n",
       " 'foundations',\n",
       " 'of',\n",
       " 'modern',\n",
       " 'calculus',\n",
       " ',',\n",
       " 'with',\n",
       " 'cavalieri',\n",
       " 'computing',\n",
       " 'the',\n",
       " 'integrals',\n",
       " 'of',\n",
       " 'xn',\n",
       " 'up',\n",
       " 'to',\n",
       " 'degree',\n",
       " 'n',\n",
       " '=',\n",
       " '9',\n",
       " 'in',\n",
       " 'cavalieri',\n",
       " \"'s\",\n",
       " 'quadrature',\n",
       " 'formula',\n",
       " '.',\n",
       " 'further',\n",
       " 'steps',\n",
       " 'were',\n",
       " 'made',\n",
       " 'in',\n",
       " 'the',\n",
       " 'early',\n",
       " '17th',\n",
       " 'century',\n",
       " 'by',\n",
       " 'barrow',\n",
       " 'and',\n",
       " 'torricelli',\n",
       " ',',\n",
       " 'who',\n",
       " 'provided',\n",
       " 'the',\n",
       " 'first',\n",
       " 'hints',\n",
       " 'of',\n",
       " 'a',\n",
       " 'connection',\n",
       " 'between',\n",
       " 'integration',\n",
       " 'and',\n",
       " 'differentiation',\n",
       " '.',\n",
       " 'barrow',\n",
       " 'provided',\n",
       " 'the',\n",
       " 'first',\n",
       " 'proof',\n",
       " 'of',\n",
       " 'the',\n",
       " 'fundamental',\n",
       " 'theorem',\n",
       " 'of',\n",
       " 'calculus',\n",
       " '.',\n",
       " 'wallis',\n",
       " 'generalized',\n",
       " 'cavalieri',\n",
       " \"'s\",\n",
       " 'method',\n",
       " ',',\n",
       " 'computing',\n",
       " 'integrals',\n",
       " 'of',\n",
       " 'x',\n",
       " 'to',\n",
       " 'a',\n",
       " 'general',\n",
       " 'power',\n",
       " ',',\n",
       " 'including',\n",
       " 'negative',\n",
       " 'powers',\n",
       " 'and',\n",
       " 'fractional',\n",
       " 'powers',\n",
       " '.',\n",
       " ',',\n",
       " 'the',\n",
       " 'major',\n",
       " 'advance',\n",
       " 'in',\n",
       " 'integration',\n",
       " 'came',\n",
       " 'in',\n",
       " 'the',\n",
       " '17th',\n",
       " 'century',\n",
       " 'with',\n",
       " 'the',\n",
       " 'independent',\n",
       " 'discovery',\n",
       " 'of',\n",
       " 'the',\n",
       " 'fundamental',\n",
       " 'theorem',\n",
       " 'of',\n",
       " 'calculus',\n",
       " 'by',\n",
       " 'newton',\n",
       " 'and',\n",
       " 'leibniz',\n",
       " '.',\n",
       " 'the',\n",
       " 'theorem',\n",
       " 'demonstrates',\n",
       " 'a',\n",
       " 'connection',\n",
       " 'between',\n",
       " 'integration',\n",
       " 'and',\n",
       " 'differentiation',\n",
       " '.',\n",
       " 'this',\n",
       " 'connection',\n",
       " ',',\n",
       " 'combined',\n",
       " 'with',\n",
       " 'the',\n",
       " 'comparative',\n",
       " 'ease',\n",
       " 'of',\n",
       " 'differentiation',\n",
       " ',',\n",
       " 'can',\n",
       " 'be',\n",
       " 'exploited',\n",
       " 'to',\n",
       " 'calculate',\n",
       " 'integrals',\n",
       " '.',\n",
       " 'in',\n",
       " 'particular',\n",
       " ',',\n",
       " 'the',\n",
       " 'fundamental',\n",
       " 'theorem',\n",
       " 'of',\n",
       " 'calculus',\n",
       " 'allows',\n",
       " 'one',\n",
       " 'to',\n",
       " 'solve',\n",
       " 'a',\n",
       " 'much',\n",
       " 'broader',\n",
       " 'class',\n",
       " 'of',\n",
       " 'problems',\n",
       " '.',\n",
       " 'equal',\n",
       " 'in',\n",
       " 'importance',\n",
       " 'is',\n",
       " 'the',\n",
       " 'comprehensive',\n",
       " 'mathematical',\n",
       " 'framework',\n",
       " 'that',\n",
       " 'both',\n",
       " 'newton',\n",
       " 'and',\n",
       " 'leibniz',\n",
       " 'developed',\n",
       " '.',\n",
       " 'given',\n",
       " 'the',\n",
       " 'name',\n",
       " 'infinitesimal',\n",
       " 'calculus',\n",
       " ',',\n",
       " 'it',\n",
       " 'allowed',\n",
       " 'for',\n",
       " 'precise',\n",
       " 'analysis',\n",
       " 'of',\n",
       " 'functions',\n",
       " 'within',\n",
       " 'continuous',\n",
       " 'domains',\n",
       " '.',\n",
       " 'this',\n",
       " 'framework',\n",
       " 'eventually',\n",
       " 'became',\n",
       " 'modern',\n",
       " 'calculus',\n",
       " ',',\n",
       " 'whose',\n",
       " 'notation',\n",
       " 'for',\n",
       " 'integrals',\n",
       " 'is',\n",
       " 'drawn',\n",
       " 'directly',\n",
       " 'from',\n",
       " 'the',\n",
       " 'work',\n",
       " 'of',\n",
       " 'leibniz',\n",
       " '.',\n",
       " ',',\n",
       " 'while',\n",
       " 'newton',\n",
       " 'and',\n",
       " 'leibniz',\n",
       " 'provided',\n",
       " 'a',\n",
       " 'systematic',\n",
       " 'approach',\n",
       " 'to',\n",
       " 'integration',\n",
       " ',',\n",
       " 'their',\n",
       " 'work',\n",
       " 'lacked',\n",
       " 'a',\n",
       " 'degree',\n",
       " 'of',\n",
       " 'rigour',\n",
       " '.',\n",
       " 'bishop',\n",
       " 'berkeley',\n",
       " 'memorably',\n",
       " 'attacked',\n",
       " 'the',\n",
       " 'vanishing',\n",
       " 'increments',\n",
       " 'used',\n",
       " 'by',\n",
       " 'newton',\n",
       " ',',\n",
       " 'calling',\n",
       " 'them',\n",
       " '``',\n",
       " 'ghosts',\n",
       " 'of',\n",
       " 'departed',\n",
       " 'quantities',\n",
       " \"''\",\n",
       " '.',\n",
       " 'calculus',\n",
       " 'acquired',\n",
       " 'a',\n",
       " 'firmer',\n",
       " 'footing',\n",
       " 'with',\n",
       " 'the',\n",
       " 'development',\n",
       " 'of',\n",
       " 'limits',\n",
       " '.',\n",
       " 'integration',\n",
       " 'was',\n",
       " 'first',\n",
       " 'rigorously',\n",
       " 'formalized',\n",
       " ',',\n",
       " 'using',\n",
       " 'limits',\n",
       " ',',\n",
       " 'by',\n",
       " 'riemann',\n",
       " '.',\n",
       " 'although',\n",
       " 'all',\n",
       " 'bounded',\n",
       " 'piecewise',\n",
       " 'continuous',\n",
       " 'functions',\n",
       " 'are',\n",
       " 'riemann-integrable',\n",
       " 'on',\n",
       " 'a',\n",
       " 'bounded',\n",
       " 'interval',\n",
       " ',',\n",
       " 'subsequently',\n",
       " 'more',\n",
       " 'general',\n",
       " 'functions',\n",
       " 'were',\n",
       " 'considered—particularly',\n",
       " 'in',\n",
       " 'the',\n",
       " 'context',\n",
       " 'of',\n",
       " 'fourier',\n",
       " 'analysis—to',\n",
       " 'which',\n",
       " 'riemann',\n",
       " \"'s\",\n",
       " 'definition',\n",
       " 'does',\n",
       " 'not',\n",
       " 'apply',\n",
       " ',',\n",
       " 'and',\n",
       " 'lebesgue',\n",
       " 'formulated',\n",
       " 'a',\n",
       " 'different',\n",
       " 'definition',\n",
       " 'of',\n",
       " 'integral',\n",
       " ',',\n",
       " 'founded',\n",
       " 'in',\n",
       " 'measure',\n",
       " 'theory',\n",
       " '(',\n",
       " 'a',\n",
       " 'subfield',\n",
       " 'of',\n",
       " 'real',\n",
       " 'analysis',\n",
       " ')',\n",
       " '.',\n",
       " 'other',\n",
       " 'definitions',\n",
       " 'of',\n",
       " 'integral',\n",
       " ',',\n",
       " 'extending',\n",
       " 'riemann',\n",
       " \"'s\",\n",
       " 'and',\n",
       " 'lebesgue',\n",
       " \"'s\",\n",
       " 'approaches',\n",
       " ',',\n",
       " 'were',\n",
       " 'proposed',\n",
       " '.',\n",
       " 'these',\n",
       " 'approaches',\n",
       " 'based',\n",
       " 'on',\n",
       " 'the',\n",
       " 'real',\n",
       " 'number',\n",
       " 'system',\n",
       " 'are',\n",
       " 'the',\n",
       " 'ones',\n",
       " 'most',\n",
       " 'common',\n",
       " 'today',\n",
       " ',',\n",
       " 'but',\n",
       " 'alternative',\n",
       " 'approaches',\n",
       " 'exist',\n",
       " ',',\n",
       " 'such',\n",
       " 'as',\n",
       " 'a',\n",
       " 'definition',\n",
       " 'of',\n",
       " 'integral',\n",
       " 'as',\n",
       " 'the',\n",
       " 'standard',\n",
       " 'part',\n",
       " 'of',\n",
       " 'an',\n",
       " 'infinite',\n",
       " 'riemann',\n",
       " 'sum',\n",
       " ',',\n",
       " 'based',\n",
       " 'on',\n",
       " 'the',\n",
       " 'hyperreal',\n",
       " 'number',\n",
       " 'system',\n",
       " ...]"
      ]
     },
     "execution_count": 7,
     "metadata": {},
     "output_type": "execute_result"
    }
   ],
   "source": [
    "nltk.word_tokenize(articles_lower[0])"
   ]
  },
  {
   "cell_type": "code",
   "execution_count": 8,
   "metadata": {
    "collapsed": true
   },
   "outputs": [],
   "source": [
    "article_tokenized = [nltk.word_tokenize(art) for art in articles_lower]"
   ]
  },
  {
   "cell_type": "code",
   "execution_count": 9,
   "metadata": {
    "collapsed": false
   },
   "outputs": [
    {
     "data": {
      "text/plain": [
       "['[',\n",
       " 'in',\n",
       " 'mathematics',\n",
       " ',',\n",
       " 'an',\n",
       " 'integral',\n",
       " 'assigns',\n",
       " 'numbers',\n",
       " 'to',\n",
       " 'functions']"
      ]
     },
     "execution_count": 9,
     "metadata": {},
     "output_type": "execute_result"
    }
   ],
   "source": [
    "article_tokenized[0][:10]"
   ]
  },
  {
   "cell_type": "markdown",
   "metadata": {},
   "source": [
    "## Cleaning segments"
   ]
  },
  {
   "cell_type": "markdown",
   "metadata": {},
   "source": [
    "### Removing punctuation"
   ]
  },
  {
   "cell_type": "code",
   "execution_count": 17,
   "metadata": {
    "collapsed": false
   },
   "outputs": [
    {
     "data": {
      "text/plain": [
       "'!\"#$%&\\'()*+,-./:;<=>?@[\\\\]^_`{|}~'"
      ]
     },
     "execution_count": 17,
     "metadata": {},
     "output_type": "execute_result"
    }
   ],
   "source": [
    "string.punctuation"
   ]
  },
  {
   "cell_type": "code",
   "execution_count": 18,
   "metadata": {
    "collapsed": true
   },
   "outputs": [],
   "source": [
    "articles_no_punctuation = [\n",
    "    [token for token in art if token not in string.punctuation]\n",
    "    for art in article_tokenized\n",
    "]"
   ]
  },
  {
   "cell_type": "code",
   "execution_count": 19,
   "metadata": {
    "collapsed": false
   },
   "outputs": [
    {
     "data": {
      "text/plain": [
       "['edvard',\n",
       " 'munch',\n",
       " '/mʊŋk/',\n",
       " '1',\n",
       " 'norwegian',\n",
       " 'ˈedvɑʈ',\n",
       " 'ˈmuŋk',\n",
       " 'listen',\n",
       " '12',\n",
       " 'december']"
      ]
     },
     "execution_count": 19,
     "metadata": {},
     "output_type": "execute_result"
    }
   ],
   "source": [
    "articles_no_punctuation[5][:10]"
   ]
  },
  {
   "cell_type": "markdown",
   "metadata": {},
   "source": [
    "### Removing 'stopwords'"
   ]
  },
  {
   "cell_type": "code",
   "execution_count": 20,
   "metadata": {
    "collapsed": true
   },
   "outputs": [],
   "source": [
    "stopwords = nltk.corpus.stopwords.words('english')"
   ]
  },
  {
   "cell_type": "code",
   "execution_count": 29,
   "metadata": {
    "collapsed": false
   },
   "outputs": [
    {
     "data": {
      "text/plain": [
       "['i', 'me', 'my', 'myself', 'we', 'our', 'ours', 'ourselves', 'you', \"you're\"]"
      ]
     },
     "execution_count": 29,
     "metadata": {},
     "output_type": "execute_result"
    }
   ],
   "source": [
    "stopwords[:10]"
   ]
  },
  {
   "cell_type": "code",
   "execution_count": 21,
   "metadata": {
    "collapsed": false
   },
   "outputs": [
    {
     "data": {
      "text/plain": [
       "179"
      ]
     },
     "execution_count": 21,
     "metadata": {},
     "output_type": "execute_result"
    }
   ],
   "source": [
    "len(stopwords)"
   ]
  },
  {
   "cell_type": "code",
   "execution_count": 22,
   "metadata": {
    "collapsed": false
   },
   "outputs": [],
   "source": [
    "articles_no_stopwords = [\n",
    "    [token for token in art if not token in stopwords]\n",
    "    for art in articles_no_punctuation\n",
    "]"
   ]
  },
  {
   "cell_type": "code",
   "execution_count": 23,
   "metadata": {
    "collapsed": false
   },
   "outputs": [
    {
     "data": {
      "text/plain": [
       "['mathematics',\n",
       " 'integral',\n",
       " 'assigns',\n",
       " 'numbers',\n",
       " 'functions',\n",
       " 'way',\n",
       " 'describe',\n",
       " 'displacement',\n",
       " 'area',\n",
       " 'volume']"
      ]
     },
     "execution_count": 23,
     "metadata": {},
     "output_type": "execute_result"
    }
   ],
   "source": [
    "articles_no_stopwords[0][:10]"
   ]
  },
  {
   "cell_type": "markdown",
   "metadata": {},
   "source": [
    "## Segments normalization"
   ]
  },
  {
   "cell_type": "markdown",
   "metadata": {},
   "source": [
    "### Stemming - identifying a common stem among various forms of a word (removing suffixes, plural from, various form fo verbs, stem is not required to be a propery spelled word)\n",
    "### Most popular : Porter and Snowball stemmers"
   ]
  },
  {
   "cell_type": "markdown",
   "metadata": {},
   "source": [
    "### More sxtensive normalization down to the semmantic root of a word is called lemmatization, more accurate than stemming as it takes into account the meaning of a word, but stemmers are faster, and less complex"
   ]
  },
  {
   "cell_type": "markdown",
   "metadata": {},
   "source": [
    "W nltk mamy dostępny stemmer dla języka angielskiego. Dla języka polskiego mamy dostępny na przykład stemmer Morfeusz (http://sgjp.pl/morfeusz/index.html),"
   ]
  },
  {
   "cell_type": "code",
   "execution_count": 30,
   "metadata": {
    "collapsed": true
   },
   "outputs": [],
   "source": [
    "stemmer = nltk.PorterStemmer()"
   ]
  },
  {
   "cell_type": "code",
   "execution_count": 31,
   "metadata": {
    "collapsed": false
   },
   "outputs": [
    {
     "data": {
      "text/plain": [
       "'drive'"
      ]
     },
     "execution_count": 31,
     "metadata": {},
     "output_type": "execute_result"
    }
   ],
   "source": [
    "stemmer.stem('driving')"
   ]
  },
  {
   "cell_type": "code",
   "execution_count": 32,
   "metadata": {
    "collapsed": true
   },
   "outputs": [],
   "source": [
    "articles_stemmed = [\n",
    "    [stemmer.stem(token) for token in art]\n",
    "    for art in articles_no_stopwords\n",
    "]"
   ]
  },
  {
   "cell_type": "code",
   "execution_count": 33,
   "metadata": {
    "collapsed": false
   },
   "outputs": [
    {
     "data": {
      "text/plain": [
       "['mathemat',\n",
       " 'integr',\n",
       " 'assign',\n",
       " 'number',\n",
       " 'function',\n",
       " 'way',\n",
       " 'describ',\n",
       " 'displac',\n",
       " 'area',\n",
       " 'volum',\n",
       " 'concept',\n",
       " 'aris',\n",
       " 'combin',\n",
       " 'infinitesim',\n",
       " 'data',\n",
       " 'integr',\n",
       " 'one',\n",
       " 'two',\n",
       " 'main',\n",
       " 'oper']"
      ]
     },
     "execution_count": 33,
     "metadata": {},
     "output_type": "execute_result"
    }
   ],
   "source": [
    "articles_stemmed[0][:20]"
   ]
  },
  {
   "cell_type": "markdown",
   "metadata": {},
   "source": [
    "### Merging into one text"
   ]
  },
  {
   "cell_type": "code",
   "execution_count": 34,
   "metadata": {
    "collapsed": false
   },
   "outputs": [],
   "source": [
    "articles_cleaned = [' '.join(tokens) for tokens in articles_stemmed]"
   ]
  },
  {
   "cell_type": "code",
   "execution_count": 35,
   "metadata": {
    "collapsed": false
   },
   "outputs": [
    {
     "data": {
      "text/plain": [
       "'mathemat integr assign number function way describ displac area volum concept aris combin infinitesim data integr one two main oper calculu invers oper differenti given function f real variabl x interv b real line definit integr defin inform sign area region xy-plan bound graph f x-axi vertic line x x b. area x-axi add total x-axi subtract total oper integr addit constant invers oper differenti re'"
      ]
     },
     "execution_count": 35,
     "metadata": {},
     "output_type": "execute_result"
    }
   ],
   "source": [
    "articles_cleaned[0][:400]"
   ]
  },
  {
   "cell_type": "markdown",
   "metadata": {},
   "source": [
    "### Count vectorizer (reguires text not separate tokens) - represent documents as vectors of word counts"
   ]
  },
  {
   "cell_type": "code",
   "execution_count": 36,
   "metadata": {
    "collapsed": true
   },
   "outputs": [],
   "source": [
    "vectorizer = CountVectorizer(token_pattern='(?u)\\\\b\\\\w+\\\\b',min_df=2, max_df=0.7) \n",
    "# default pattern remove one letter long words"
   ]
  },
  {
   "cell_type": "code",
   "execution_count": 37,
   "metadata": {
    "collapsed": false
   },
   "outputs": [
    {
     "data": {
      "text/plain": [
       "<15x3710 sparse matrix of type '<class 'numpy.int64'>'\n",
       "\twith 14569 stored elements in Compressed Sparse Row format>"
      ]
     },
     "execution_count": 37,
     "metadata": {},
     "output_type": "execute_result"
    }
   ],
   "source": [
    "vectorizer.fit(articles_cleaned)\n",
    "dtm_count = vectorizer.transform(articles_cleaned)\n",
    "dtm_count"
   ]
  },
  {
   "cell_type": "code",
   "execution_count": 39,
   "metadata": {
    "collapsed": false
   },
   "outputs": [
    {
     "data": {
      "text/plain": [
       "(15, 3710)"
      ]
     },
     "execution_count": 39,
     "metadata": {},
     "output_type": "execute_result"
    }
   ],
   "source": [
    "dtm_count.shape"
   ]
  },
  {
   "cell_type": "code",
   "execution_count": 40,
   "metadata": {
    "collapsed": false
   },
   "outputs": [
    {
     "data": {
      "text/plain": [
       "array([[0],\n",
       "       [0],\n",
       "       [0],\n",
       "       [0],\n",
       "       [0],\n",
       "       [0],\n",
       "       [0],\n",
       "       [0],\n",
       "       [0],\n",
       "       [0],\n",
       "       [0],\n",
       "       [1],\n",
       "       [2],\n",
       "       [0],\n",
       "       [0]])"
      ]
     },
     "execution_count": 40,
     "metadata": {},
     "output_type": "execute_result"
    }
   ],
   "source": [
    "dtm_count.getcol(800).toarray()"
   ]
  },
  {
   "cell_type": "code",
   "execution_count": 41,
   "metadata": {
    "collapsed": false
   },
   "outputs": [
    {
     "data": {
      "text/plain": [
       "'birthplac'"
      ]
     },
     "execution_count": 41,
     "metadata": {},
     "output_type": "execute_result"
    }
   ],
   "source": [
    "vectorizer.get_feature_names()[800]"
   ]
  },
  {
   "cell_type": "code",
   "execution_count": 42,
   "metadata": {
    "collapsed": false
   },
   "outputs": [
    {
     "data": {
      "text/plain": [
       "{'mathemat': 2259,\n",
       " 'integr': 1990,\n",
       " 'assign': 686,\n",
       " 'function': 1702,\n",
       " 'displac': 1303,\n",
       " 'area': 658,\n",
       " 'volum': 3574,\n",
       " 'concept': 1064,\n",
       " 'aris': 661,\n",
       " 'combin': 1025,\n",
       " 'infinitesim': 1961,\n",
       " 'data': 1195,\n",
       " 'main': 2222,\n",
       " 'oper': 2497,\n",
       " 'calculu': 891,\n",
       " 'invers': 2016,\n",
       " 'differenti': 1276,\n",
       " 'f': 1554,\n",
       " 'real': 2812,\n",
       " 'variabl': 3527,\n",
       " 'x': 3676,\n",
       " 'interv': 2005,\n",
       " 'b': 731,\n",
       " 'definit': 1225,\n",
       " 'defin': 1224,\n",
       " 'inform': 1964,\n",
       " 'sign': 3086,\n",
       " 'region': 2851,\n",
       " 'plan': 2636,\n",
       " 'bound': 832,\n",
       " 'graph': 1773,\n",
       " 'axi': 730,\n",
       " 'vertic': 3544,\n",
       " 'add': 525,\n",
       " 'total': 3417,\n",
       " 'subtract': 3274,\n",
       " 'constant': 1089,\n",
       " 'reason': 2820,\n",
       " 'refer': 2842,\n",
       " 'relat': 2860,\n",
       " 'notion': 2459,\n",
       " 'deriv': 1251,\n",
       " 'case': 916,\n",
       " 'written': 3671,\n",
       " 'discuss': 1296,\n",
       " 'articl': 675,\n",
       " 'fundament': 1704,\n",
       " 'theorem': 3376,\n",
       " 'connect': 1081,\n",
       " 'valu': 3523,\n",
       " 'principl': 2713,\n",
       " 'formul': 1665,\n",
       " 'independ': 1945,\n",
       " 'isaac': 2025,\n",
       " 'newton': 2427,\n",
       " 'gottfri': 1758,\n",
       " 'wilhelm': 3634,\n",
       " 'leibniz': 2147,\n",
       " 'late': 2117,\n",
       " '17th': 104,\n",
       " 'thought': 3388,\n",
       " 'infinit': 1960,\n",
       " 'sum': 3286,\n",
       " 'rectangl': 2838,\n",
       " 'width': 3631,\n",
       " 'bernhard': 781,\n",
       " 'riemann': 2936,\n",
       " 'gave': 1723,\n",
       " 'rigor': 2938,\n",
       " 'procedur': 2724,\n",
       " 'approxim': 644,\n",
       " 'break': 840,\n",
       " 'thin': 3382,\n",
       " 'slab': 3120,\n",
       " 'begin': 762,\n",
       " 'nineteenth': 2435,\n",
       " 'appear': 637,\n",
       " 'type': 3473,\n",
       " 'domain': 1322,\n",
       " 'perform': 2595,\n",
       " 'generalis': 1726,\n",
       " 'replac': 2887,\n",
       " 'curv': 1176,\n",
       " 'endpoint': 1434,\n",
       " 'surfac': 3301,\n",
       " 'piec': 2626,\n",
       " 'space': 3164,\n",
       " 'document': 1321,\n",
       " 'systemat': 3326,\n",
       " 'techniqu': 3348,\n",
       " 'capabl': 904,\n",
       " 'determin': 1262,\n",
       " 'method': 2301,\n",
       " 'exhaust': 1521,\n",
       " 'ancient': 605,\n",
       " 'greek': 1782,\n",
       " 'astronom': 691,\n",
       " 'eudoxu': 1484,\n",
       " 'ca': 886,\n",
       " 'bc': 753,\n",
       " 'sought': 3155,\n",
       " 'find': 1616,\n",
       " 'divis': 1318,\n",
       " 'employ': 1425,\n",
       " 'archimed': 654,\n",
       " '3rd': 404,\n",
       " 'calcul': 890,\n",
       " 'circl': 978,\n",
       " 'similar': 3091,\n",
       " 'china': 963,\n",
       " 'ad': 522,\n",
       " '5th': 432,\n",
       " 'chines': 964,\n",
       " 'father': 1582,\n",
       " 'and': 606,\n",
       " 'son': 3149,\n",
       " 'mathematician': 2260,\n",
       " 'zu': 3701,\n",
       " 'sphere': 3179,\n",
       " '2007': 273,\n",
       " '2004': 270,\n",
       " '125': 33,\n",
       " '126': 34,\n",
       " 'next': 2428,\n",
       " 'signific': 3089,\n",
       " 'advanc': 535,\n",
       " 'lay': 2127,\n",
       " 'foundat': 1671,\n",
       " 'comput': 1061,\n",
       " 'xn': 3682,\n",
       " 'degre': 1227,\n",
       " 'formula': 1666,\n",
       " 'step': 3222,\n",
       " 'barrow': 745,\n",
       " 'provid': 2756,\n",
       " 'hint': 1855,\n",
       " 'proof': 2743,\n",
       " 'power': 2684,\n",
       " 'neg': 2412,\n",
       " 'came': 893,\n",
       " 'discoveri': 1294,\n",
       " 'demonstr': 1234,\n",
       " 'compar': 1046,\n",
       " 'exploit': 1537,\n",
       " 'particular': 2565,\n",
       " 'solv': 3144,\n",
       " 'class': 991,\n",
       " 'problem': 2722,\n",
       " 'equal': 1462,\n",
       " 'comprehens': 1059,\n",
       " 'framework': 1681,\n",
       " 'precis': 2693,\n",
       " 'analysi': 599,\n",
       " 'notat': 2454,\n",
       " 'drawn': 1341,\n",
       " 'directli': 1284,\n",
       " 'approach': 641,\n",
       " 'lack': 2103,\n",
       " 'rigour': 2939,\n",
       " 'attack': 698,\n",
       " 'ghost': 1740,\n",
       " 'depart': 1241,\n",
       " 'quantiti': 2773,\n",
       " 'acquir': 514,\n",
       " 'foot': 1653,\n",
       " 'formal': 1661,\n",
       " 'although': 584,\n",
       " 'subsequ': 3269,\n",
       " 'particularli': 2566,\n",
       " 'context': 1098,\n",
       " 'fourier': 1675,\n",
       " 'to': 3401,\n",
       " 'lebesgu': 2137,\n",
       " 'measur': 2270,\n",
       " 'theori': 3377,\n",
       " 'propos': 2748,\n",
       " 'system': 3325,\n",
       " 'common': 1036,\n",
       " 'today': 3402,\n",
       " 'altern': 583,\n",
       " 'standard': 3204,\n",
       " 'hyperr': 1895,\n",
       " 'bar': 743,\n",
       " 'indic': 1949,\n",
       " 'place': 2634,\n",
       " 'insid': 1976,\n",
       " 'box': 836,\n",
       " 'easili': 1373,\n",
       " 'confus': 1078,\n",
       " 'difficult': 1277,\n",
       " 'printer': 2715,\n",
       " 'reproduc': 2892,\n",
       " 'wide': 3628,\n",
       " 'adopt': 533,\n",
       " 'introduc': 2008,\n",
       " '1675': 87,\n",
       " 'burton': 878,\n",
       " '1988': 253,\n",
       " 'p': 2539,\n",
       " '1899': 164,\n",
       " '154': 68,\n",
       " 'adapt': 524,\n",
       " 'letter': 2155,\n",
       " 'stand': 3203,\n",
       " 'latin': 2118,\n",
       " 'joseph': 2058,\n",
       " 'french': 1691,\n",
       " 'academi': 497,\n",
       " 'reprint': 2891,\n",
       " 'book': 822,\n",
       " '1929': 199,\n",
       " '249': 340,\n",
       " '250': 341,\n",
       " '231': 321,\n",
       " 'reli': 2865,\n",
       " 'probabl': 2721,\n",
       " 'random': 2795,\n",
       " 'fall': 1569,\n",
       " 'certain': 940,\n",
       " 'rang': 2796,\n",
       " 'moreov': 2359,\n",
       " 'entir': 1454,\n",
       " 'densiti': 1240,\n",
       " 'must': 2391,\n",
       " 'test': 3365,\n",
       " 'whether': 3622,\n",
       " 'boundari': 833,\n",
       " 'object': 2467,\n",
       " 'physic': 2619,\n",
       " 'veloc': 3537,\n",
       " 'motion': 2367,\n",
       " 'displaystyl': 1305,\n",
       " 'v': 3520,\n",
       " 'express': 1544,\n",
       " 'done': 1327,\n",
       " 'forc': 1656,\n",
       " 'initi': 1968,\n",
       " 'final': 1614,\n",
       " 'free': 1689,\n",
       " 'energi': 1436,\n",
       " 'dx': 1359,\n",
       " 'integrand': 1992,\n",
       " 'separ': 3051,\n",
       " 'shown': 3082,\n",
       " 'specifi': 3172,\n",
       " 'goe': 1751,\n",
       " 'finit': 1621,\n",
       " 'infin': 1959,\n",
       " 'get': 1737,\n",
       " 'closer': 1002,\n",
       " 'converg': 1109,\n",
       " 'diverg': 1315,\n",
       " 'omit': 2492,\n",
       " 'evalu': 1491,\n",
       " 'occasion': 2474,\n",
       " 'occur': 2477,\n",
       " 'repeatedli': 2886,\n",
       " 'usual': 3519,\n",
       " 'convent': 1108,\n",
       " 'clear': 996,\n",
       " 'relev': 2864,\n",
       " 'text': 3366,\n",
       " 'unbound': 3482,\n",
       " 'or': 2507,\n",
       " 'multipl': 2380,\n",
       " 'dimens': 1281,\n",
       " 'section': 3026,\n",
       " 'histor': 1857,\n",
       " 'taken': 3331,\n",
       " 'multipli': 2381,\n",
       " 'sens': 3046,\n",
       " 'deem': 1217,\n",
       " 'introductori': 2009,\n",
       " 'therefor': 3379,\n",
       " 'instead': 1982,\n",
       " 'depend': 1243,\n",
       " 'co': 1007,\n",
       " 'opt': 2505,\n",
       " 'interpret': 2003,\n",
       " 'stieltj': 3225,\n",
       " 'exterior': 1548,\n",
       " 'k': 2073,\n",
       " 'cdot': 927,\n",
       " 'convers': 1110,\n",
       " 'leav': 2136,\n",
       " 'simpl': 3094,\n",
       " 'exact': 1506,\n",
       " 'instanc': 1980,\n",
       " 'might': 2313,\n",
       " 'write': 3669,\n",
       " 'g': 1709,\n",
       " 'linear': 2172,\n",
       " 'properti': 2746,\n",
       " 'share': 3069,\n",
       " 'arab': 646,\n",
       " 'reflect': 2844,\n",
       " 'script': 3015,\n",
       " 'go': 1747,\n",
       " 'european': 1489,\n",
       " 'i': 1896,\n",
       " 'e': 1361,\n",
       " 'properli': 2745,\n",
       " 'speak': 3167,\n",
       " 'alway': 586,\n",
       " 'treat': 3445,\n",
       " 'factor': 1561,\n",
       " 'commut': 1042,\n",
       " 'x2': 3679,\n",
       " 'highlight': 1850,\n",
       " 'clarifi': 989,\n",
       " 'practic': 2687,\n",
       " 'physicist': 2621,\n",
       " 'situat': 3109,\n",
       " 'swim': 3315,\n",
       " 'pool': 2665,\n",
       " 'flat': 1630,\n",
       " 'bottom': 829,\n",
       " 'length': 2150,\n",
       " 'depth': 1248,\n",
       " 'water': 3598,\n",
       " 'contain': 1094,\n",
       " 'fill': 1611,\n",
       " 'cover': 1146,\n",
       " 'edg': 1382,\n",
       " 'rope': 2962,\n",
       " 'round': 2967,\n",
       " 'trivial': 3456,\n",
       " 'engin': 1438,\n",
       " 'disciplin': 1290,\n",
       " 'requir': 2897,\n",
       " 'element': 1404,\n",
       " '0': 0,\n",
       " 'ask': 681,\n",
       " 'yet': 3687,\n",
       " 'unknown': 3501,\n",
       " 'look': 2194,\n",
       " 'squar': 3194,\n",
       " 'exactli': 1507,\n",
       " 'actual': 520,\n",
       " 'true': 3459,\n",
       " 'somewhat': 3148,\n",
       " 'decreas': 1215,\n",
       " 'increas': 1942,\n",
       " 'better': 784,\n",
       " 'cross': 1160,\n",
       " 'fit': 1627,\n",
       " 'height': 1835,\n",
       " 'thu': 3392,\n",
       " 'produc': 2727,\n",
       " 'never': 2424,\n",
       " 'subinterv': 3265,\n",
       " 'low': 2203,\n",
       " 'twelv': 3468,\n",
       " 'key': 2081,\n",
       " 'idea': 1899,\n",
       " 'transit': 3439,\n",
       " 'fine': 1617,\n",
       " 'conceiv': 1062,\n",
       " 'weight': 3614,\n",
       " 'denot': 1238,\n",
       " 'so': 3131,\n",
       " 'cal': 889,\n",
       " 'failur': 1564,\n",
       " 'effort': 1391,\n",
       " 'suggest': 3283,\n",
       " 'motiv': 2368,\n",
       " 'especi': 1470,\n",
       " 'abil': 486,\n",
       " 'flexibl': 1635,\n",
       " 'partit': 2567,\n",
       " 'equival': 1465,\n",
       " 'mostli': 2364,\n",
       " 'deal': 1201,\n",
       " 'special': 3170,\n",
       " 'commonli': 1037,\n",
       " 'tag': 3330,\n",
       " 'let': 2154,\n",
       " 'sequenc': 3053,\n",
       " 'sub': 3262,\n",
       " 'xi': 3680,\n",
       " 'index': 1946,\n",
       " 'distinguish': 1310,\n",
       " 'ti': 3393,\n",
       " 'mesh': 2293,\n",
       " 'largest': 2116,\n",
       " 'chosen': 969,\n",
       " 'maximum': 2266,\n",
       " 'minimum': 2328,\n",
       " 'lower': 2204,\n",
       " 'darboux': 1191,\n",
       " 'interest': 2000,\n",
       " 'applic': 638,\n",
       " 'abl': 487,\n",
       " 'pass': 2569,\n",
       " 'frequent': 1692,\n",
       " 'construct': 1092,\n",
       " 'suitabl': 3285,\n",
       " 'solut': 3143,\n",
       " 'obtain': 2471,\n",
       " 'great': 1777,\n",
       " 'wider': 3629,\n",
       " '1987': 252,\n",
       " 'fact': 1560,\n",
       " 'enlarg': 1443,\n",
       " 'rearrang': 2819,\n",
       " 'henri': 1839,\n",
       " 'bear': 756,\n",
       " 'explain': 1534,\n",
       " 'paul': 2581,\n",
       " 'pay': 2584,\n",
       " 'collect': 1016,\n",
       " 'bill': 793,\n",
       " 'coin': 1013,\n",
       " 'reach': 2807,\n",
       " 'proceed': 2725,\n",
       " 'money': 2349,\n",
       " 'accord': 506,\n",
       " 'ident': 1901,\n",
       " 'heap': 1828,\n",
       " 'integral': 1991,\n",
       " '1984': 251,\n",
       " '56': 428,\n",
       " 'put': 2769,\n",
       " 'effect': 1389,\n",
       " 'simplest': 3096,\n",
       " 'agre': 556,\n",
       " 'proper': 2744,\n",
       " 'complic': 1055,\n",
       " 'highli': 1849,\n",
       " 'fragment': 1679,\n",
       " 'resembl': 2899,\n",
       " 'philosophi': 2614,\n",
       " 'non': 2442,\n",
       " 'r': 2784,\n",
       " 'horizont': 1872,\n",
       " 'strip': 3247,\n",
       " 'gt': 1795,\n",
       " 'amp': 595,\n",
       " 'loss': 2197,\n",
       " '2001': 267,\n",
       " 'ordinari': 2511,\n",
       " 'improp': 1932,\n",
       " 'strictli': 3246,\n",
       " 'lebesgue': 2138,\n",
       " 'absolut': 491,\n",
       " 'vector': 3533,\n",
       " 'pointwis': 2654,\n",
       " 'scalar': 2998,\n",
       " 'similarli': 3092,\n",
       " 'henc': 1838,\n",
       " 'local': 2186,\n",
       " 'compact': 1043,\n",
       " 'topolog': 3414,\n",
       " 'field': 1607,\n",
       " 'abstract': 493,\n",
       " 'map': 2240,\n",
       " 'complex': 1054,\n",
       " 'hilbert': 1852,\n",
       " 'daniel': 1188,\n",
       " 'nicola': 2431,\n",
       " 'hildebrandt': 1853,\n",
       " 'characteris': 950,\n",
       " 'inequ': 1957,\n",
       " 'lt': 2207,\n",
       " 'x0': 3677,\n",
       " 'x1': 3678,\n",
       " 'geometr': 1732,\n",
       " 'signifi': 3088,\n",
       " 'higher': 1847,\n",
       " 'lie': 2162,\n",
       " 'impli': 1925,\n",
       " 'necessari': 2410,\n",
       " 'consider': 1087,\n",
       " 'degener': 1226,\n",
       " 'zero': 3699,\n",
       " 'statement': 3211,\n",
       " 'consequ': 1085,\n",
       " 'sometim': 3147,\n",
       " 'admit': 530,\n",
       " 'explicitli': 1536,\n",
       " 'root': 2961,\n",
       " 'suffici': 3282,\n",
       " 'question': 2777,\n",
       " 'rule': 2975,\n",
       " 'q': 2770,\n",
       " 'tabl': 3328,\n",
       " 'assum': 690,\n",
       " 'satisfi': 2993,\n",
       " 'progress': 2736,\n",
       " 'larger': 2115,\n",
       " 'half': 1807,\n",
       " 'either': 1396,\n",
       " 'interior': 2001,\n",
       " 'doubl': 1332,\n",
       " 'plane': 2637,\n",
       " 'product': 2728,\n",
       " 'da': 1183,\n",
       " 'z': 3697,\n",
       " 'reduc': 2841,\n",
       " 'possibl': 2676,\n",
       " 'subset': 3270,\n",
       " 'path': 2576,\n",
       " 'contour': 1101,\n",
       " 'arc': 650,\n",
       " 'simpler': 3095,\n",
       " 'analog': 598,\n",
       " 'electr': 1402,\n",
       " 'gravit': 1776,\n",
       " 'achiev': 511,\n",
       " 'split': 3184,\n",
       " 'imagin': 1916,\n",
       " 'fluid': 1645,\n",
       " 'flow': 1642,\n",
       " 'amount': 594,\n",
       " 'dot': 1331,\n",
       " 'normal': 2446,\n",
       " 'us': 3518,\n",
       " 'air': 561,\n",
       " 'classic': 992,\n",
       " 'multivari': 2382,\n",
       " 'organ': 2512,\n",
       " 'coordin': 1117,\n",
       " 'orient': 2514,\n",
       " 'basic': 747,\n",
       " 'dy': 1360,\n",
       " 'parallel': 2556,\n",
       " 'axe': 729,\n",
       " 'j': 2036,\n",
       " 'unlik': 3502,\n",
       " 'arbitrari': 648,\n",
       " 'play': 2642,\n",
       " 'role': 2955,\n",
       " 'gradient': 1764,\n",
       " 'curl': 1174,\n",
       " 'stoke': 3229,\n",
       " 'simultan': 3100,\n",
       " 'green': 1783,\n",
       " 'discret': 1295,\n",
       " 'scale': 2999,\n",
       " 'rare': 2801,\n",
       " 'rewrit': 2928,\n",
       " 'hope': 1870,\n",
       " 'expand': 1525,\n",
       " 'taylor': 3341,\n",
       " 'analyt': 600,\n",
       " 'transform': 3438,\n",
       " 'trick': 3451,\n",
       " 'solid': 3140,\n",
       " 'revolut': 2925,\n",
       " 'shell': 3072,\n",
       " 'specif': 3171,\n",
       " 'list': 2174,\n",
       " 'involv': 2020,\n",
       " 'explicit': 1535,\n",
       " 'desir': 1254,\n",
       " 'compil': 1051,\n",
       " 'purpos': 2765,\n",
       " 'spread': 3191,\n",
       " 'profession': 2729,\n",
       " 'educ': 1386,\n",
       " 'student': 3257,\n",
       " 'tediou': 3350,\n",
       " 'task': 3338,\n",
       " 'difficulti': 1278,\n",
       " 'rather': 2803,\n",
       " 'exp': 1524,\n",
       " 'xx': 3683,\n",
       " 'sin': 3101,\n",
       " 'ration': 2804,\n",
       " 'exponenti': 1539,\n",
       " 'composit': 1058,\n",
       " 'word': 3657,\n",
       " 'none': 2443,\n",
       " 'elementari': 1405,\n",
       " 'built': 872,\n",
       " 'polynomi': 2663,\n",
       " 'criterion': 1156,\n",
       " 'unfortun': 3494,\n",
       " 'except': 1512,\n",
       " 'build': 871,\n",
       " 'block': 808,\n",
       " 'fix': 1628,\n",
       " 'decid': 1209,\n",
       " 'answer': 624,\n",
       " 'whenev': 3620,\n",
       " 'implement': 1924,\n",
       " 'radic': 2786,\n",
       " 'enough': 1446,\n",
       " 'warrant': 3591,\n",
       " 'hypergeometr': 1894,\n",
       " 'incomplet': 1940,\n",
       " 'challeng': 943,\n",
       " 'activ': 518,\n",
       " 'research': 2898,\n",
       " 'subject': 3266,\n",
       " 'recent': 2825,\n",
       " 'emerg': 1418,\n",
       " 'd': 1182,\n",
       " 'equat': 1463,\n",
       " 'accommod': 503,\n",
       " 'slow': 3126,\n",
       " 'aros': 668,\n",
       " 'hand': 1812,\n",
       " 'drove': 1351,\n",
       " 'improv': 1933,\n",
       " 'goal': 1748,\n",
       " 'accuraci': 509,\n",
       " 'effici': 1390,\n",
       " 'four': 1674,\n",
       " '2008': 274,\n",
       " '1989': 254,\n",
       " '2002': 268,\n",
       " '94': 475,\n",
       " '76': 454,\n",
       " 'explor': 1538,\n",
       " 'divid': 1316,\n",
       " 'h': 1804,\n",
       " 'impress': 1928,\n",
       " 'seem': 3031,\n",
       " 'littl': 2181,\n",
       " 'caus': 925,\n",
       " 'concern': 1065,\n",
       " 'inde': 1944,\n",
       " '218': 305,\n",
       " 'expens': 1529,\n",
       " 'greater': 1778,\n",
       " 'arithmet': 664,\n",
       " 'easi': 1370,\n",
       " 'immedi': 1918,\n",
       " 'notic': 2457,\n",
       " 'accur': 508,\n",
       " 'furthermor': 1706,\n",
       " '210': 297,\n",
       " 'substanti': 3271,\n",
       " 'behind': 766,\n",
       " 'yield': 3689,\n",
       " 'carri': 913,\n",
       " 'alreadi': 581,\n",
       " 'twice': 3472,\n",
       " 'suffer': 3281,\n",
       " 'phenomenon': 2610,\n",
       " 'far': 1576,\n",
       " 'halv': 1810,\n",
       " 'size': 3112,\n",
       " 'previou': 2705,\n",
       " 'realli': 2817,\n",
       " 'lagrang': 2105,\n",
       " '00': 1,\n",
       " '128': 36,\n",
       " 'superior': 3292,\n",
       " 'dramat': 1339,\n",
       " 'success': 3277,\n",
       " 'choic': 966,\n",
       " 'evenli': 1493,\n",
       " 'plu': 2647,\n",
       " 'cancel': 898,\n",
       " 'benefit': 776,\n",
       " 'extra': 1551,\n",
       " 'ensur': 1447,\n",
       " 'error': 1468,\n",
       " 'tend': 3359,\n",
       " 'offset': 2485,\n",
       " 'advantag': 536,\n",
       " 'pure': 2764,\n",
       " 'gauss': 1722,\n",
       " 'concentr': 1063,\n",
       " 'mont': 2353,\n",
       " 'carlo': 912,\n",
       " 'substitut': 3272,\n",
       " 'revers': 2920,\n",
       " 'best': 783,\n",
       " 'code': 1011,\n",
       " 'demand': 1231,\n",
       " 'avoid': 724,\n",
       " 'symmetri': 3321,\n",
       " 'period': 2597,\n",
       " 'critic': 1157,\n",
       " 'u': 3476,\n",
       " 'du': 1352,\n",
       " 'shape': 3068,\n",
       " 'instrument': 1986,\n",
       " 'via': 3547,\n",
       " 'branch': 838,\n",
       " 'univers': 3499,\n",
       " '1854': 119,\n",
       " 'journal': 2060,\n",
       " '1868': 132,\n",
       " 'unsuit': 3507,\n",
       " 'technic': 3347,\n",
       " 'remedi': 2872,\n",
       " 'disappear': 1287,\n",
       " 'top': 3413,\n",
       " 'modifi': 2343,\n",
       " 'correspond': 1128,\n",
       " 'minu': 2332,\n",
       " 'norm': 2445,\n",
       " 'longest': 2193,\n",
       " 'suppos': 3297,\n",
       " 'refin': 2843,\n",
       " 'integ': 1989,\n",
       " 'simpli': 3097,\n",
       " 'partial': 2563,\n",
       " 'former': 1663,\n",
       " 'latter': 2119,\n",
       " 'supremum': 3300,\n",
       " 'discontinu': 1291,\n",
       " 'loos': 2195,\n",
       " 'finer': 1618,\n",
       " 'smaller': 3127,\n",
       " 'ε': 3709,\n",
       " 'δ': 3708,\n",
       " 'easier': 1371,\n",
       " 'rm': 2948,\n",
       " 'trap': 3442,\n",
       " 'matter': 2262,\n",
       " 'earlier': 1363,\n",
       " 'choos': 967,\n",
       " 'easiest': 1372,\n",
       " 'clearli': 997,\n",
       " 'conclud': 1067,\n",
       " 'chose': 968,\n",
       " 'near': 2407,\n",
       " 'finish': 1620,\n",
       " 'stretch': 3245,\n",
       " 'across': 515,\n",
       " 'meet': 2280,\n",
       " 'happen': 1815,\n",
       " 'otherwis': 2521,\n",
       " 'handl': 1813,\n",
       " 'estim': 1477,\n",
       " 'subdivid': 3263,\n",
       " 't': 3327,\n",
       " 'distanc': 1307,\n",
       " 'prove': 2754,\n",
       " 'arbitrarili': 649,\n",
       " 'cut': 1178,\n",
       " 'minim': 2327,\n",
       " 'care': 910,\n",
       " 'want': 3587,\n",
       " 'confin': 1075,\n",
       " 'contribut': 1105,\n",
       " 'least': 2135,\n",
       " 'xj': 3681,\n",
       " 'fals': 1570,\n",
       " 'everywher': 1498,\n",
       " 'beyond': 786,\n",
       " 'wors': 3663,\n",
       " 'smith': 3128,\n",
       " 'cantor': 902,\n",
       " 'dens': 1239,\n",
       " 'restrict': 2913,\n",
       " 'alon': 579,\n",
       " 'impos': 1926,\n",
       " 'languag': 2114,\n",
       " 'regular': 2853,\n",
       " 'subdivis': 3264,\n",
       " 'nth': 2464,\n",
       " 'consist': 1088,\n",
       " 'regularli': 2854,\n",
       " 'danger': 1187,\n",
       " 'correct': 1127,\n",
       " 'appar': 635,\n",
       " 'tri': 3448,\n",
       " 'seen': 3033,\n",
       " 'refus': 2847,\n",
       " 'α': 3706,\n",
       " 'β': 3707,\n",
       " 'noth': 2456,\n",
       " 'neither': 2419,\n",
       " 'proven': 2755,\n",
       " 'sketch': 3114,\n",
       " 'direct': 1283,\n",
       " 'oscil': 2519,\n",
       " 'vice': 3550,\n",
       " 'versa': 3542,\n",
       " 'union': 3497,\n",
       " 'complement': 1053,\n",
       " 'empti': 1427,\n",
       " 'intersect': 2004,\n",
       " 'neighborhood': 2415,\n",
       " 'kind': 2086,\n",
       " 'monoton': 2350,\n",
       " 'stronger': 3251,\n",
       " 'justifi': 2072,\n",
       " 'euclidean': 1483,\n",
       " 'rn': 2949,\n",
       " 'f1': 1555,\n",
       " 'cauchi': 924,\n",
       " 'princip': 2712,\n",
       " 'regardless': 2849,\n",
       " 'a': 482,\n",
       " 'undefin': 3485,\n",
       " 'lead': 2130,\n",
       " 'translat': 3440,\n",
       " 'shift': 3073,\n",
       " 'elsewher': 1412,\n",
       " 'strong': 3250,\n",
       " 'exchang': 1514,\n",
       " 'rout': 2968,\n",
       " 'abandon': 485,\n",
       " 'obvious': 2472,\n",
       " 'hard': 1817,\n",
       " 'someth': 3146,\n",
       " 'els': 1411,\n",
       " 'roughli': 2966,\n",
       " 'thoma': 3387,\n",
       " '1894': 159,\n",
       " 'instruct': 1985,\n",
       " 'tool': 3412,\n",
       " 'unifi': 3496,\n",
       " 'statist': 3213,\n",
       " 'th': 3368,\n",
       " 'understood': 3489,\n",
       " 'slight': 3124,\n",
       " '1920': 190,\n",
       " 'exhibit': 1522,\n",
       " '1952': 222,\n",
       " '1938': 209,\n",
       " 'appropri': 642,\n",
       " 'grave': 1775,\n",
       " '1946': 217,\n",
       " 'chap': 947,\n",
       " 'cours': 1142,\n",
       " 'mathbb': 2258,\n",
       " 'jump': 2068,\n",
       " 'devil': 1265,\n",
       " 'staircas': 3201,\n",
       " 'captur': 908,\n",
       " 'max': 2265,\n",
       " 'hill': 1854,\n",
       " 'phillip': 2612,\n",
       " '1974': 241,\n",
       " 'variat': 3528,\n",
       " 'young': 3693,\n",
       " '1936': 207,\n",
       " 'distribut': 1312,\n",
       " 'expect': 1527,\n",
       " 'account': 507,\n",
       " 'mass': 2253,\n",
       " 'fail': 1563,\n",
       " 'ill': 1909,\n",
       " 'behav': 764,\n",
       " 'moment': 2344,\n",
       " 'banach': 739,\n",
       " 'self': 3039,\n",
       " 'project': 2738,\n",
       " '1955': 224,\n",
       " 'strongli': 3253,\n",
       " 'sensit': 3048,\n",
       " 'output': 2527,\n",
       " 'argument': 660,\n",
       " 'quickli': 2779,\n",
       " 'singl': 3103,\n",
       " 'rate': 2802,\n",
       " 'basi': 746,\n",
       " 'process': 2726,\n",
       " 'constitut': 1091,\n",
       " 'single': 3104,\n",
       " 'vari': 3526,\n",
       " 'action': 517,\n",
       " 'plot': 2645,\n",
       " 'apart': 634,\n",
       " 'straight': 3238,\n",
       " 'illustr': 1912,\n",
       " 'distinct': 1309,\n",
       " 'loui': 2200,\n",
       " 'read': 2810,\n",
       " 'prime': 2710,\n",
       " 'ambigu': 588,\n",
       " 'attribut': 705,\n",
       " 'intuit': 2010,\n",
       " 'uniqu': 3498,\n",
       " 'nearbi': 2408,\n",
       " 'gap': 1715,\n",
       " 'away': 728,\n",
       " 'simplifi': 3099,\n",
       " 'rel': 2859,\n",
       " 'shadow': 3066,\n",
       " 'y': 3684,\n",
       " 'establish': 1475,\n",
       " 'return': 2918,\n",
       " 'steep': 3220,\n",
       " 'wherea': 3621,\n",
       " 'graphic': 1774,\n",
       " 'histori': 1858,\n",
       " 'mild': 2315,\n",
       " '1872': 137,\n",
       " 'weierstrass': 3612,\n",
       " 'nowher': 2463,\n",
       " '1931': 202,\n",
       " 'stefan': 3221,\n",
       " 'hardli': 1818,\n",
       " 'comparison': 1047,\n",
       " 'individu': 1952,\n",
       " 'third': 3385,\n",
       " 'repeat': 2885,\n",
       " 'fourth': 1676,\n",
       " 'frac': 1678,\n",
       " 'switch': 3316,\n",
       " 'relationship': 2861,\n",
       " 'chain': 941,\n",
       " 'rememb': 2873,\n",
       " 'mark': 2247,\n",
       " 'roman': 2956,\n",
       " 'wish': 3645,\n",
       " 'talk': 3334,\n",
       " 'cumbersom': 1170,\n",
       " 'exclus': 1517,\n",
       " 'euler': 1486,\n",
       " 'attach': 697,\n",
       " 'ex': 1505,\n",
       " 'send': 3044,\n",
       " 'en': 1428,\n",
       " 'retain': 2916,\n",
       " 'for': 1655,\n",
       " 'fa': 1556,\n",
       " 'a2': 484,\n",
       " 'assembl': 684,\n",
       " 'pronounc': 2742,\n",
       " 'der': 1250,\n",
       " 'a1': 483,\n",
       " 'held': 1836,\n",
       " 'w': 3580,\n",
       " 'compon': 1056,\n",
       " 'pictur': 2623,\n",
       " 'behavior': 765,\n",
       " 'imposs': 1927,\n",
       " 'entri': 1458,\n",
       " 'record': 2834,\n",
       " 'sourc': 3158,\n",
       " 'target': 3337,\n",
       " 'jet': 2049,\n",
       " 'subtl': 3273,\n",
       " 'room': 2960,\n",
       " 'version': 3543,\n",
       " 'begun': 763,\n",
       " 'identifi': 1902,\n",
       " 'focus': 1647,\n",
       " 'discov': 1293,\n",
       " 'mid': 2308,\n",
       " 'inventor': 2015,\n",
       " 'claim': 988,\n",
       " 'bitter': 801,\n",
       " 'disput': 1306,\n",
       " 'live': 2183,\n",
       " 'whole': 3625,\n",
       " 'ultim': 3480,\n",
       " 'rest': 2910,\n",
       " 'metric': 2303,\n",
       " 'encount': 1431,\n",
       " 'philosoph': 2613,\n",
       " 'famou': 1572,\n",
       " 'paradox': 2555,\n",
       " 'succeed': 3276,\n",
       " 'dealt': 1202,\n",
       " 'circul': 979,\n",
       " 'manuscript': 2239,\n",
       " 'english': 1440,\n",
       " 'de': 1199,\n",
       " 'expans': 1526,\n",
       " '18th': 165,\n",
       " 'stop': 3232,\n",
       " 'opin': 2499,\n",
       " 'investig': 2018,\n",
       " 'pragu': 2688,\n",
       " '1816': 108,\n",
       " 'karl': 2076,\n",
       " '1870': 135,\n",
       " 'l': 2099,\n",
       " 'afterward': 550,\n",
       " 'member': 2282,\n",
       " 'outsid': 2528,\n",
       " 'preserv': 2699,\n",
       " 'necessarili': 2411,\n",
       " 'coincid': 1014,\n",
       " 'neighbourhood': 2417,\n",
       " 'in': 1934,\n",
       " 'cup': 1171,\n",
       " 'induc': 1955,\n",
       " 'affin': 545,\n",
       " 'listen': 2175,\n",
       " '12': 27,\n",
       " 'decemb': 1208,\n",
       " '1863': 128,\n",
       " '23': 319,\n",
       " 'januari': 2043,\n",
       " '1944': 215,\n",
       " 'painter': 2545,\n",
       " 'intens': 1996,\n",
       " 'evoc': 1501,\n",
       " 'treatment': 3446,\n",
       " 'psycholog': 2760,\n",
       " 'theme': 3374,\n",
       " 'upon': 3514,\n",
       " '19th': 264,\n",
       " 'greatli': 1780,\n",
       " 'influenc': 1962,\n",
       " 'german': 1734,\n",
       " 'expression': 1545,\n",
       " '20th': 295,\n",
       " ...}"
      ]
     },
     "execution_count": 42,
     "metadata": {},
     "output_type": "execute_result"
    }
   ],
   "source": [
    "vectorizer.vocabulary_"
   ]
  },
  {
   "cell_type": "markdown",
   "metadata": {},
   "source": [
    "### statistics for  word 'kingdom' in documents"
   ]
  },
  {
   "cell_type": "code",
   "execution_count": 43,
   "metadata": {
    "collapsed": false
   },
   "outputs": [
    {
     "data": {
      "text/plain": [
       "2088"
      ]
     },
     "execution_count": 43,
     "metadata": {},
     "output_type": "execute_result"
    }
   ],
   "source": [
    "vectorizer.vocabulary_[\"kingdom\"]"
   ]
  },
  {
   "cell_type": "code",
   "execution_count": 45,
   "metadata": {
    "collapsed": false
   },
   "outputs": [
    {
     "data": {
      "text/plain": [
       "'kingdom'"
      ]
     },
     "execution_count": 45,
     "metadata": {},
     "output_type": "execute_result"
    }
   ],
   "source": [
    "vectorizer.get_feature_names()[2088]"
   ]
  },
  {
   "cell_type": "code",
   "execution_count": 46,
   "metadata": {
    "collapsed": false
   },
   "outputs": [
    {
     "data": {
      "text/plain": [
       "array([[ 0],\n",
       "       [ 0],\n",
       "       [ 0],\n",
       "       [ 0],\n",
       "       [ 0],\n",
       "       [ 1],\n",
       "       [ 0],\n",
       "       [ 0],\n",
       "       [ 7],\n",
       "       [ 2],\n",
       "       [ 3],\n",
       "       [ 5],\n",
       "       [56],\n",
       "       [ 0],\n",
       "       [ 0]])"
      ]
     },
     "execution_count": 46,
     "metadata": {},
     "output_type": "execute_result"
    }
   ],
   "source": [
    "dtm_count.getcol(vectorizer.vocabulary_[\"kingdom\"]).toarray()"
   ]
  },
  {
   "cell_type": "markdown",
   "metadata": {},
   "source": [
    "### statistics of words in first document"
   ]
  },
  {
   "cell_type": "code",
   "execution_count": 54,
   "metadata": {
    "collapsed": false
   },
   "outputs": [
    {
     "data": {
      "text/plain": [
       "(3710,)"
      ]
     },
     "execution_count": 54,
     "metadata": {},
     "output_type": "execute_result"
    }
   ],
   "source": [
    "dtm_count.getrow(0).toarray()[0].shape"
   ]
  },
  {
   "cell_type": "code",
   "execution_count": 55,
   "metadata": {
    "collapsed": false
   },
   "outputs": [],
   "source": [
    "df = pd.DataFrame({\n",
    "    'counts':dtm_count.getrow(0).toarray()[0],# pandas potrzebuje 1d\n",
    "    'words':vectorizer.get_feature_names()\n",
    "}\n",
    ")"
   ]
  },
  {
   "cell_type": "code",
   "execution_count": 56,
   "metadata": {
    "collapsed": false
   },
   "outputs": [],
   "source": [
    "df = df.sort_values(by=\"counts\",ascending=False)"
   ]
  },
  {
   "cell_type": "code",
   "execution_count": 57,
   "metadata": {
    "collapsed": false
   },
   "outputs": [
    {
     "data": {
      "text/html": [
       "<div>\n",
       "<table border=\"1\" class=\"dataframe\">\n",
       "  <thead>\n",
       "    <tr style=\"text-align: right;\">\n",
       "      <th></th>\n",
       "      <th>counts</th>\n",
       "      <th>words</th>\n",
       "    </tr>\n",
       "  </thead>\n",
       "  <tbody>\n",
       "    <tr>\n",
       "      <th>1990</th>\n",
       "      <td>267</td>\n",
       "      <td>integr</td>\n",
       "    </tr>\n",
       "    <tr>\n",
       "      <th>1702</th>\n",
       "      <td>132</td>\n",
       "      <td>function</td>\n",
       "    </tr>\n",
       "    <tr>\n",
       "      <th>1554</th>\n",
       "      <td>74</td>\n",
       "      <td>f</td>\n",
       "    </tr>\n",
       "    <tr>\n",
       "      <th>3676</th>\n",
       "      <td>71</td>\n",
       "      <td>x</td>\n",
       "    </tr>\n",
       "    <tr>\n",
       "      <th>731</th>\n",
       "      <td>50</td>\n",
       "      <td>b</td>\n",
       "    </tr>\n",
       "  </tbody>\n",
       "</table>\n",
       "</div>"
      ],
      "text/plain": [
       "      counts     words\n",
       "1990     267    integr\n",
       "1702     132  function\n",
       "1554      74         f\n",
       "3676      71         x\n",
       "731       50         b"
      ]
     },
     "execution_count": 57,
     "metadata": {},
     "output_type": "execute_result"
    }
   ],
   "source": [
    "df.head()"
   ]
  },
  {
   "cell_type": "markdown",
   "metadata": {},
   "source": [
    "### Top k words for all documents"
   ]
  },
  {
   "cell_type": "code",
   "execution_count": 58,
   "metadata": {
    "collapsed": true
   },
   "outputs": [],
   "source": [
    "def top_words(matrix,vectorizer,k):\n",
    "    \n",
    "    words = np.array(vectorizer.get_feature_names())\n",
    "    top_words = []\n",
    "    \n",
    "    for art in range(matrix.shape[0]):\n",
    "\n",
    "        words_counter =  matrix.getrow(art).toarray()[0]\n",
    "\n",
    "        words_counter = np.argsort(words_counter)\n",
    "        words_counter = words_counter[::-1]\n",
    "        \n",
    "        top_words_indices = words_counter[:k]\n",
    "        top_document_words = words[top_words_indices]\n",
    "        \n",
    "        \n",
    "        top_words.append(top_document_words) \n",
    "        \n",
    "    return np.array(top_words)\n",
    "\n",
    "    \n",
    "        "
   ]
  },
  {
   "cell_type": "code",
   "execution_count": 59,
   "metadata": {
    "collapsed": false
   },
   "outputs": [
    {
     "data": {
      "text/plain": [
       "array([['integr', 'function', 'f', 'x', 'b'],\n",
       "       ['integr', 'riemann', 'sum', 'interv', 'function'],\n",
       "       ['integr', 'g', 'riemann', 'stieltj', 'function'],\n",
       "       ['deriv', 'f', 'function', 'x', 'h'],\n",
       "       ['displaystyl', 'x', 'sequenc', 'b', 'to'],\n",
       "       ['cm', 'paint', 'museum', 'art', 'portrait'],\n",
       "       ['van', 'gogh', 'paint', 'art', 'portrait'],\n",
       "       ['paint', 'kraków', 'polish', 'jan', 'art'],\n",
       "       ['war', 'russian', 'novel', 'anarchist', 'peac'],\n",
       "       ['stori', 'german', 'write', 'der', 'die'],\n",
       "       ['tolkien', 'ring', 'english', 'lord', 'stori'],\n",
       "       ['warsaw', 'citi', 'polish', 'poland', 'palac'],\n",
       "       ['england', 'english', 'world', 'kingdom', 'london'],\n",
       "       ['tower', 'level', 'top', 'pari', 'de'],\n",
       "       ['101', 'floor', 'build', 'tower', 'ft']], \n",
       "      dtype='<U14')"
      ]
     },
     "execution_count": 59,
     "metadata": {},
     "output_type": "execute_result"
    }
   ],
   "source": [
    "top_words(dtm_count,vectorizer,5)"
   ]
  },
  {
   "cell_type": "markdown",
   "metadata": {},
   "source": [
    "### TF-IDF - Term Frequency-Inverse Documents Frequency"
   ]
  },
  {
   "cell_type": "code",
   "execution_count": 60,
   "metadata": {
    "collapsed": true
   },
   "outputs": [],
   "source": [
    "sentences = [\n",
    "    \"morze plaza slonce\",\n",
    "    'morze piasek slonce lato',\n",
    "    'plaza lato woda'\n",
    "]"
   ]
  },
  {
   "cell_type": "code",
   "execution_count": 61,
   "metadata": {
    "collapsed": false
   },
   "outputs": [
    {
     "data": {
      "text/plain": [
       "array([[0, 1, 0, 1, 1, 0],\n",
       "       [1, 1, 1, 0, 1, 0],\n",
       "       [1, 0, 0, 1, 0, 1]], dtype=int64)"
      ]
     },
     "execution_count": 61,
     "metadata": {},
     "output_type": "execute_result"
    }
   ],
   "source": [
    "CountVectorizer().fit_transform(sentences).toarray()"
   ]
  },
  {
   "cell_type": "code",
   "execution_count": 62,
   "metadata": {
    "collapsed": false
   },
   "outputs": [
    {
     "data": {
      "text/plain": [
       "array([[ 0.        ,  1.28768207,  0.        ,  1.28768207,  1.28768207,\n",
       "         0.        ],\n",
       "       [ 1.28768207,  1.28768207,  1.69314718,  0.        ,  1.28768207,\n",
       "         0.        ],\n",
       "       [ 1.28768207,  0.        ,  0.        ,  1.28768207,  0.        ,\n",
       "         1.69314718]])"
      ]
     },
     "execution_count": 62,
     "metadata": {},
     "output_type": "execute_result"
    }
   ],
   "source": [
    "TfidfVectorizer(norm=None).fit_transform(sentences).toarray()"
   ]
  },
  {
   "cell_type": "code",
   "execution_count": 63,
   "metadata": {
    "collapsed": true
   },
   "outputs": [],
   "source": [
    "# im częściej występuje slowo w danym dokumencie tym to słowo ma większe TF-IDF\n",
    "# im częściej słowo występuje w wielu artykułąch tym to słowo ma mniejsze TF-IDF"
   ]
  },
  {
   "cell_type": "code",
   "execution_count": 64,
   "metadata": {
    "collapsed": true
   },
   "outputs": [],
   "source": [
    "tf_idf = TfidfVectorizer(norm=None,min_df=2,max_df=0.7,token_pattern='(?u)\\\\b\\\\w+\\\\b')"
   ]
  },
  {
   "cell_type": "code",
   "execution_count": 65,
   "metadata": {
    "collapsed": false
   },
   "outputs": [
    {
     "data": {
      "text/plain": [
       "<15x3710 sparse matrix of type '<class 'numpy.float64'>'\n",
       "\twith 14569 stored elements in Compressed Sparse Row format>"
      ]
     },
     "execution_count": 65,
     "metadata": {},
     "output_type": "execute_result"
    }
   ],
   "source": [
    "tf_idf.fit(articles_cleaned)\n",
    "dtm_tfidf = tf_idf.transform(articles_cleaned)\n",
    "dtm_tfidf"
   ]
  },
  {
   "cell_type": "code",
   "execution_count": 66,
   "metadata": {
    "collapsed": false
   },
   "outputs": [
    {
     "data": {
      "text/plain": [
       "array([['integr', 'function', 'x', 'f', 'interv'],\n",
       "       ['riemann', 'integr', 'interv', 'sum', 'partit'],\n",
       "       ['integr', 'riemann', 'stieltj', 'g', 'x'],\n",
       "       ['f', 'deriv', 'x', 'function', 'vector'],\n",
       "       ['displaystyl', 'x', 'sequenc', 'b', 'to'],\n",
       "       ['cm', 'paint', 'museum', 'portrait', 'scream'],\n",
       "       ['gogh', 'van', 'paint', 'gauguin', '1888'],\n",
       "       ['kraków', 'polish', 'paint', 'jan', 'fine'],\n",
       "       ['anarchist', 'war', 'russian', 'novel', 'peac'],\n",
       "       ['stori', 'der', 'franz', 'jewish', 'czech'],\n",
       "       ['tolkien', 'ring', 'lord', 'english', 'beowulf'],\n",
       "       ['warsaw', 'citi', 'poland', 'polish', 'palac'],\n",
       "       ['england', 'english', 'london', 'kingdom', 'britain'],\n",
       "       ['tower', 'level', 'top', 'pari', 'ft'],\n",
       "       ['floor', '101', 'tower', 'build', 'ft']], \n",
       "      dtype='<U14')"
      ]
     },
     "execution_count": 66,
     "metadata": {},
     "output_type": "execute_result"
    }
   ],
   "source": [
    "top_words(dtm_tfidf,tf_idf,5)"
   ]
  },
  {
   "cell_type": "code",
   "execution_count": null,
   "metadata": {
    "collapsed": false
   },
   "outputs": [],
   "source": [
    "top_words(dtm_count,vectorizer,5)"
   ]
  },
  {
   "cell_type": "markdown",
   "metadata": {},
   "source": [
    "### Cosine similarity "
   ]
  },
  {
   "cell_type": "code",
   "execution_count": 67,
   "metadata": {
    "collapsed": true
   },
   "outputs": [],
   "source": [
    "sentences = [\"morze plaza slonce\",\"morze plaza slonce morze plaza slonce\"]"
   ]
  },
  {
   "cell_type": "code",
   "execution_count": 68,
   "metadata": {
    "collapsed": true
   },
   "outputs": [],
   "source": [
    "matrix_repr = CountVectorizer().fit_transform(sentences).toarray()"
   ]
  },
  {
   "cell_type": "code",
   "execution_count": 69,
   "metadata": {
    "collapsed": false
   },
   "outputs": [
    {
     "data": {
      "text/plain": [
       "1.7320508075688772"
      ]
     },
     "execution_count": 69,
     "metadata": {},
     "output_type": "execute_result"
    }
   ],
   "source": [
    "euclidean(matrix_repr[0],matrix_repr[1])"
   ]
  },
  {
   "cell_type": "code",
   "execution_count": 70,
   "metadata": {
    "collapsed": false
   },
   "outputs": [
    {
     "data": {
      "text/plain": [
       "0.0"
      ]
     },
     "execution_count": 70,
     "metadata": {},
     "output_type": "execute_result"
    }
   ],
   "source": [
    "cosine(matrix_repr[0],matrix_repr[1])"
   ]
  },
  {
   "cell_type": "code",
   "execution_count": 71,
   "metadata": {
    "collapsed": false
   },
   "outputs": [
    {
     "data": {
      "text/plain": [
       "(15, 3710)"
      ]
     },
     "execution_count": 71,
     "metadata": {},
     "output_type": "execute_result"
    }
   ],
   "source": [
    "dtm_count.shape"
   ]
  },
  {
   "cell_type": "code",
   "execution_count": 72,
   "metadata": {
    "collapsed": false
   },
   "outputs": [
    {
     "data": {
      "text/plain": [
       "0.26571334929199597"
      ]
     },
     "execution_count": 72,
     "metadata": {},
     "output_type": "execute_result"
    }
   ],
   "source": [
    "cosine(dtm_count[0].toarray(),dtm_count[1].toarray())"
   ]
  },
  {
   "cell_type": "markdown",
   "metadata": {},
   "source": [
    "### according to CountVectorizer"
   ]
  },
  {
   "cell_type": "code",
   "execution_count": 73,
   "metadata": {
    "collapsed": false
   },
   "outputs": [
    {
     "name": "stdout",
     "output_type": "stream",
     "text": [
      "Article Integral is most similar to Riemann_integral\n",
      "Article Riemann_integral is most similar to Integral\n",
      "Article Riemann-Stieltjes_integral is most similar to Integral\n",
      "Article Derivative is most similar to Integral\n",
      "Article Limit_of_a_sequence is most similar to Derivative\n",
      "Article Edvard_Munch is most similar to Jan_Matejko\n",
      "Article Vincent_van_Gogh is most similar to Edvard_Munch\n",
      "Article Jan_Matejko is most similar to Edvard_Munch\n",
      "Article Lev_Tolstoj is most similar to Franz_Kafka\n",
      "Article Franz_Kafka is most similar to Lev_Tolstoj\n",
      "Article J._R._R._Tolkien is most similar to Franz_Kafka\n",
      "Article Warsaw is most similar to Jan_Matejko\n",
      "Article England is most similar to J._R._R._Tolkien\n",
      "Article Eiffel_Tower is most similar to Taipei_101\n",
      "Article Taipei_101 is most similar to Eiffel_Tower\n"
     ]
    }
   ],
   "source": [
    "for art in range(dtm_count.shape[0]):\n",
    "    distances = [cosine(dtm_count[art].toarray(),dtm_count[art2].toarray())for art2 in range(dtm_count.shape[0])]\n",
    "    distances[art] = 1.0\n",
    "    print('Article {} is most similar to {}'.format(titles[art],titles[np.argmin(distances)]))"
   ]
  },
  {
   "cell_type": "markdown",
   "metadata": {},
   "source": [
    "### according to TF-IDF"
   ]
  },
  {
   "cell_type": "code",
   "execution_count": 74,
   "metadata": {
    "collapsed": false
   },
   "outputs": [
    {
     "name": "stdout",
     "output_type": "stream",
     "text": [
      "Article Integral is most similar to Riemann_integral\n",
      "Article Riemann_integral is most similar to Riemann-Stieltjes_integral\n",
      "Article Riemann-Stieltjes_integral is most similar to Riemann_integral\n",
      "Article Derivative is most similar to Integral\n",
      "Article Limit_of_a_sequence is most similar to Derivative\n",
      "Article Edvard_Munch is most similar to Jan_Matejko\n",
      "Article Vincent_van_Gogh is most similar to Edvard_Munch\n",
      "Article Jan_Matejko is most similar to Edvard_Munch\n",
      "Article Lev_Tolstoj is most similar to Franz_Kafka\n",
      "Article Franz_Kafka is most similar to Lev_Tolstoj\n",
      "Article J._R._R._Tolkien is most similar to Franz_Kafka\n",
      "Article Warsaw is most similar to Jan_Matejko\n",
      "Article England is most similar to Lev_Tolstoj\n",
      "Article Eiffel_Tower is most similar to Taipei_101\n",
      "Article Taipei_101 is most similar to Eiffel_Tower\n"
     ]
    }
   ],
   "source": [
    "for art in range(dtm_tfidf.shape[0]):\n",
    "    distances = [cosine(dtm_tfidf[art].toarray(),dtm_tfidf[art2].toarray())for art2 in range(dtm_tfidf.shape[0])]\n",
    "    distances[art] = 1.0\n",
    "    print('Article {} is most similar to {}'.format(titles[art],titles[np.argmin(distances)]))"
   ]
  },
  {
   "cell_type": "markdown",
   "metadata": {},
   "source": [
    "## LSI - Latent Semantic Indexing, LSA - Latent Semantic Analysis (SVD)"
   ]
  },
  {
   "cell_type": "code",
   "execution_count": 75,
   "metadata": {
    "collapsed": false
   },
   "outputs": [
    {
     "data": {
      "text/plain": [
       "(15, 3710)"
      ]
     },
     "execution_count": 75,
     "metadata": {},
     "output_type": "execute_result"
    }
   ],
   "source": [
    "dtm_tfidf.shape"
   ]
  },
  {
   "cell_type": "code",
   "execution_count": 76,
   "metadata": {
    "collapsed": true
   },
   "outputs": [],
   "source": [
    "# 15 documents and 3724 terms - OVERFITTTING\n",
    "# We want to end up with fewer topics than words, so we can use those topic vector \n",
    "# as a reduced-dimension reprezentation of the original TF-IDF vectors"
   ]
  },
  {
   "cell_type": "code",
   "execution_count": 77,
   "metadata": {
    "collapsed": true
   },
   "outputs": [],
   "source": [
    "svd = TruncatedSVD(5,n_iter=100) # 5 topics"
   ]
  },
  {
   "cell_type": "code",
   "execution_count": 78,
   "metadata": {
    "collapsed": false
   },
   "outputs": [
    {
     "data": {
      "text/plain": [
       "TruncatedSVD(algorithm='randomized', n_components=5, n_iter=100,\n",
       "       random_state=None, tol=0.0)"
      ]
     },
     "execution_count": 78,
     "metadata": {},
     "output_type": "execute_result"
    }
   ],
   "source": [
    "svd.fit(dtm_tfidf)"
   ]
  },
  {
   "cell_type": "code",
   "execution_count": 79,
   "metadata": {
    "collapsed": true
   },
   "outputs": [],
   "source": [
    "svd_topic_vectors = svd.transform(dtm_tfidf)#transform document_term_matrix \n",
    "                                            #into topic_document matrix(topic vectors)"
   ]
  },
  {
   "cell_type": "code",
   "execution_count": 94,
   "metadata": {
    "collapsed": false
   },
   "outputs": [
    {
     "data": {
      "text/plain": [
       "(15, 5)"
      ]
     },
     "execution_count": 94,
     "metadata": {},
     "output_type": "execute_result"
    }
   ],
   "source": [
    "svd_topic_vectors.shape"
   ]
  },
  {
   "cell_type": "code",
   "execution_count": 95,
   "metadata": {
    "collapsed": false
   },
   "outputs": [
    {
     "data": {
      "text/plain": [
       "array([[ 0.13342,  0.7143 , -0.23265,  0.08995, -0.03971],\n",
       "       [ 0.06601,  0.37659, -0.12372,  0.04717, -0.03153],\n",
       "       [ 0.02303,  0.13258, -0.04335,  0.01696, -0.00983],\n",
       "       [ 0.08651,  0.4311 , -0.14329,  0.05106,  0.00121],\n",
       "       [ 0.01549,  0.07816, -0.02557,  0.0097 , -0.00172],\n",
       "       [ 0.07614,  0.00274,  0.05944,  0.05603,  0.01432],\n",
       "       [ 0.38324,  0.02781,  0.58426,  0.70161, -0.06677],\n",
       "       [ 0.03633,  0.0044 ,  0.03243, -0.00517, -0.00305],\n",
       "       [ 0.04247, -0.0018 ,  0.00394,  0.00021,  0.02554],\n",
       "       [ 0.08089, -0.00309,  0.00348,  0.00016,  0.03435],\n",
       "       [ 0.70351, -0.34161, -0.57473,  0.08044, -0.21938],\n",
       "       [ 0.45065,  0.14333,  0.47872, -0.68491, -0.27022],\n",
       "       [ 0.32168,  0.00613,  0.02733, -0.12384,  0.93004],\n",
       "       [ 0.06266,  0.01492,  0.03084, -0.00625,  0.0562 ],\n",
       "       [ 0.04285,  0.00965,  0.01857, -0.01785,  0.03937]])"
      ]
     },
     "execution_count": 95,
     "metadata": {},
     "output_type": "execute_result"
    }
   ],
   "source": [
    "svd_topic_vectors"
   ]
  },
  {
   "cell_type": "code",
   "execution_count": 80,
   "metadata": {
    "collapsed": true
   },
   "outputs": [],
   "source": [
    "np.set_printoptions(5, suppress=True)"
   ]
  },
  {
   "cell_type": "code",
   "execution_count": 82,
   "metadata": {
    "collapsed": false
   },
   "outputs": [
    {
     "data": {
      "text/plain": [
       "array([ 0.13686,  0.29676,  0.48757,  0.67109,  0.78101])"
      ]
     },
     "execution_count": 82,
     "metadata": {},
     "output_type": "execute_result"
    }
   ],
   "source": [
    "cumsum = np.cumsum(svd.explained_variance_ratio_)\n",
    "cumsum # it shows us how each topic explains the variance of our documnets in our new topic vectos space "
   ]
  },
  {
   "cell_type": "code",
   "execution_count": 83,
   "metadata": {
    "collapsed": false
   },
   "outputs": [
    {
     "data": {
      "text/plain": [
       "array([ 859.97824,  773.54179,  770.23736,  756.31047,  588.55946])"
      ]
     },
     "execution_count": 83,
     "metadata": {},
     "output_type": "execute_result"
    }
   ],
   "source": [
    "svd.singular_values_"
   ]
  },
  {
   "cell_type": "code",
   "execution_count": 84,
   "metadata": {
    "collapsed": false
   },
   "outputs": [
    {
     "data": {
      "text/plain": [
       "(15, 5)"
      ]
     },
     "execution_count": 84,
     "metadata": {},
     "output_type": "execute_result"
    }
   ],
   "source": [
    "svd_topic_vectors.shape"
   ]
  },
  {
   "cell_type": "code",
   "execution_count": 85,
   "metadata": {
    "collapsed": false
   },
   "outputs": [
    {
     "data": {
      "text/plain": [
       "(5, 3710)"
      ]
     },
     "execution_count": 85,
     "metadata": {},
     "output_type": "execute_result"
    }
   ],
   "source": [
    "svd.components_.shape # (topics,terms)"
   ]
  },
  {
   "cell_type": "code",
   "execution_count": 89,
   "metadata": {
    "collapsed": false
   },
   "outputs": [
    {
     "name": "stdout",
     "output_type": "stream",
     "text": [
      "['tolkien' 'warsaw' 'gogh' 'van' 'england' 'english' 'citi' 'paint']\n",
      "[ 0.58943  0.32555  0.22585  0.19602  0.17519  0.12583  0.11924  0.10898]\n",
      "['integr' 'function' 'f' 'x' 'riemann' 'deriv' 'interv' 'warsaw']\n",
      "[ 0.56607  0.31472  0.3      0.26081  0.20707  0.15383  0.12978  0.11498]\n",
      "['warsaw' 'gogh' 'van' 'paint' 'citi' 'polish' 'poland' 'gauguin']\n",
      "[ 0.38583  0.3836   0.32278  0.15324  0.12908  0.08367  0.08249  0.07587]\n",
      "['gogh' 'van' 'paint' 'gauguin' '1888' 'portrait' 'vincent' 'tolkien']\n",
      "[ 0.46511  0.39173  0.17347  0.09257  0.0862   0.08334  0.08214  0.07606]\n",
      "['england' 'english' 'london' 'kingdom' 'britain' 'world' 'british' 'roman']\n",
      "[ 0.62128  0.23917  0.1669   0.15622  0.14267  0.11179  0.11077  0.0897 ]\n"
     ]
    }
   ],
   "source": [
    "#Top words in each topic\n",
    "k=8\n",
    "words = np.array(vectorizer.get_feature_names())\n",
    "for topic in svd.components_:\n",
    "    indexes = np.argsort(topic)\n",
    "    indexes = indexes[::-1]\n",
    "    top_words_indices = indexes[:k]\n",
    "    print(words[top_words_indices])\n",
    "    print(topic[indexes[:k]])\n",
    "# each topic is a linear combiantations of terms"
   ]
  },
  {
   "cell_type": "code",
   "execution_count": 90,
   "metadata": {
    "collapsed": false
   },
   "outputs": [
    {
     "data": {
      "text/plain": [
       "array([[ 0.13342,  0.7143 , -0.23265,  0.08995, -0.03971],\n",
       "       [ 0.06601,  0.37659, -0.12372,  0.04717, -0.03153],\n",
       "       [ 0.02303,  0.13258, -0.04335,  0.01696, -0.00983],\n",
       "       [ 0.08651,  0.4311 , -0.14329,  0.05106,  0.00121],\n",
       "       [ 0.01549,  0.07816, -0.02557,  0.0097 , -0.00172],\n",
       "       [ 0.07614,  0.00274,  0.05944,  0.05603,  0.01432],\n",
       "       [ 0.38324,  0.02781,  0.58426,  0.70161, -0.06677],\n",
       "       [ 0.03633,  0.0044 ,  0.03243, -0.00517, -0.00305],\n",
       "       [ 0.04247, -0.0018 ,  0.00394,  0.00021,  0.02554],\n",
       "       [ 0.08089, -0.00309,  0.00348,  0.00016,  0.03435],\n",
       "       [ 0.70351, -0.34161, -0.57473,  0.08044, -0.21938],\n",
       "       [ 0.45065,  0.14333,  0.47872, -0.68491, -0.27022],\n",
       "       [ 0.32168,  0.00613,  0.02733, -0.12384,  0.93004],\n",
       "       [ 0.06266,  0.01492,  0.03084, -0.00625,  0.0562 ],\n",
       "       [ 0.04285,  0.00965,  0.01857, -0.01785,  0.03937]])"
      ]
     },
     "execution_count": 90,
     "metadata": {},
     "output_type": "execute_result"
    }
   ],
   "source": [
    "# topics in documents\n",
    "svd_topic_vectors = svd_topic_vectors/svd.singular_values_#(documents,topics)\n",
    "svd_topic_vectors"
   ]
  },
  {
   "cell_type": "code",
   "execution_count": 91,
   "metadata": {
    "collapsed": false
   },
   "outputs": [
    {
     "data": {
      "text/html": [
       "<div>\n",
       "<table border=\"1\" class=\"dataframe\">\n",
       "  <thead>\n",
       "    <tr style=\"text-align: right;\">\n",
       "      <th></th>\n",
       "      <th>topic0</th>\n",
       "      <th>topic1</th>\n",
       "      <th>topic2</th>\n",
       "      <th>topic3</th>\n",
       "      <th>topic4</th>\n",
       "    </tr>\n",
       "  </thead>\n",
       "  <tbody>\n",
       "    <tr>\n",
       "      <th>Integral</th>\n",
       "      <td>0.133416</td>\n",
       "      <td>0.714304</td>\n",
       "      <td>-0.232649</td>\n",
       "      <td>0.089952</td>\n",
       "      <td>-0.039705</td>\n",
       "    </tr>\n",
       "    <tr>\n",
       "      <th>Riemann_integral</th>\n",
       "      <td>0.066007</td>\n",
       "      <td>0.376593</td>\n",
       "      <td>-0.123720</td>\n",
       "      <td>0.047167</td>\n",
       "      <td>-0.031530</td>\n",
       "    </tr>\n",
       "    <tr>\n",
       "      <th>Riemann-Stieltjes_integral</th>\n",
       "      <td>0.023030</td>\n",
       "      <td>0.132584</td>\n",
       "      <td>-0.043353</td>\n",
       "      <td>0.016959</td>\n",
       "      <td>-0.009829</td>\n",
       "    </tr>\n",
       "    <tr>\n",
       "      <th>Derivative</th>\n",
       "      <td>0.086505</td>\n",
       "      <td>0.431104</td>\n",
       "      <td>-0.143288</td>\n",
       "      <td>0.051058</td>\n",
       "      <td>0.001215</td>\n",
       "    </tr>\n",
       "    <tr>\n",
       "      <th>Limit_of_a_sequence</th>\n",
       "      <td>0.015490</td>\n",
       "      <td>0.078165</td>\n",
       "      <td>-0.025569</td>\n",
       "      <td>0.009700</td>\n",
       "      <td>-0.001717</td>\n",
       "    </tr>\n",
       "    <tr>\n",
       "      <th>Edvard_Munch</th>\n",
       "      <td>0.076140</td>\n",
       "      <td>0.002742</td>\n",
       "      <td>0.059437</td>\n",
       "      <td>0.056028</td>\n",
       "      <td>0.014324</td>\n",
       "    </tr>\n",
       "    <tr>\n",
       "      <th>Vincent_van_Gogh</th>\n",
       "      <td>0.383241</td>\n",
       "      <td>0.027809</td>\n",
       "      <td>0.584260</td>\n",
       "      <td>0.701610</td>\n",
       "      <td>-0.066774</td>\n",
       "    </tr>\n",
       "    <tr>\n",
       "      <th>Jan_Matejko</th>\n",
       "      <td>0.036327</td>\n",
       "      <td>0.004399</td>\n",
       "      <td>0.032435</td>\n",
       "      <td>-0.005167</td>\n",
       "      <td>-0.003052</td>\n",
       "    </tr>\n",
       "    <tr>\n",
       "      <th>Lev_Tolstoj</th>\n",
       "      <td>0.042466</td>\n",
       "      <td>-0.001800</td>\n",
       "      <td>0.003943</td>\n",
       "      <td>0.000212</td>\n",
       "      <td>0.025536</td>\n",
       "    </tr>\n",
       "    <tr>\n",
       "      <th>Franz_Kafka</th>\n",
       "      <td>0.080888</td>\n",
       "      <td>-0.003088</td>\n",
       "      <td>0.003484</td>\n",
       "      <td>0.000163</td>\n",
       "      <td>0.034353</td>\n",
       "    </tr>\n",
       "    <tr>\n",
       "      <th>J._R._R._Tolkien</th>\n",
       "      <td>0.703513</td>\n",
       "      <td>-0.341611</td>\n",
       "      <td>-0.574726</td>\n",
       "      <td>0.080438</td>\n",
       "      <td>-0.219376</td>\n",
       "    </tr>\n",
       "    <tr>\n",
       "      <th>Warsaw</th>\n",
       "      <td>0.450647</td>\n",
       "      <td>0.143333</td>\n",
       "      <td>0.478725</td>\n",
       "      <td>-0.684915</td>\n",
       "      <td>-0.270219</td>\n",
       "    </tr>\n",
       "    <tr>\n",
       "      <th>England</th>\n",
       "      <td>0.321678</td>\n",
       "      <td>0.006134</td>\n",
       "      <td>0.027333</td>\n",
       "      <td>-0.123841</td>\n",
       "      <td>0.930038</td>\n",
       "    </tr>\n",
       "    <tr>\n",
       "      <th>Eiffel_Tower</th>\n",
       "      <td>0.062661</td>\n",
       "      <td>0.014916</td>\n",
       "      <td>0.030845</td>\n",
       "      <td>-0.006249</td>\n",
       "      <td>0.056200</td>\n",
       "    </tr>\n",
       "    <tr>\n",
       "      <th>Taipei_101</th>\n",
       "      <td>0.042849</td>\n",
       "      <td>0.009648</td>\n",
       "      <td>0.018574</td>\n",
       "      <td>-0.017847</td>\n",
       "      <td>0.039365</td>\n",
       "    </tr>\n",
       "  </tbody>\n",
       "</table>\n",
       "</div>"
      ],
      "text/plain": [
       "                              topic0    topic1    topic2    topic3    topic4\n",
       "Integral                    0.133416  0.714304 -0.232649  0.089952 -0.039705\n",
       "Riemann_integral            0.066007  0.376593 -0.123720  0.047167 -0.031530\n",
       "Riemann-Stieltjes_integral  0.023030  0.132584 -0.043353  0.016959 -0.009829\n",
       "Derivative                  0.086505  0.431104 -0.143288  0.051058  0.001215\n",
       "Limit_of_a_sequence         0.015490  0.078165 -0.025569  0.009700 -0.001717\n",
       "Edvard_Munch                0.076140  0.002742  0.059437  0.056028  0.014324\n",
       "Vincent_van_Gogh            0.383241  0.027809  0.584260  0.701610 -0.066774\n",
       "Jan_Matejko                 0.036327  0.004399  0.032435 -0.005167 -0.003052\n",
       "Lev_Tolstoj                 0.042466 -0.001800  0.003943  0.000212  0.025536\n",
       "Franz_Kafka                 0.080888 -0.003088  0.003484  0.000163  0.034353\n",
       "J._R._R._Tolkien            0.703513 -0.341611 -0.574726  0.080438 -0.219376\n",
       "Warsaw                      0.450647  0.143333  0.478725 -0.684915 -0.270219\n",
       "England                     0.321678  0.006134  0.027333 -0.123841  0.930038\n",
       "Eiffel_Tower                0.062661  0.014916  0.030845 -0.006249  0.056200\n",
       "Taipei_101                  0.042849  0.009648  0.018574 -0.017847  0.039365"
      ]
     },
     "execution_count": 91,
     "metadata": {},
     "output_type": "execute_result"
    }
   ],
   "source": [
    "pd.DataFrame(svd_topic_vectors,\n",
    "             index=titles,\n",
    "             columns=['topic{}'.format(i) for i in range(svd_topic_vectors.shape[1])])"
   ]
  },
  {
   "cell_type": "code",
   "execution_count": 96,
   "metadata": {
    "collapsed": false
   },
   "outputs": [
    {
     "name": "stdout",
     "output_type": "stream",
     "text": [
      "topic_0\n",
      "['J._R._R._Tolkien', 'Warsaw', 'Vincent_van_Gogh', 'England', 'Integral', 'Derivative', 'Franz_Kafka', 'Edvard_Munch', 'Riemann_integral', 'Eiffel_Tower', 'Taipei_101', 'Lev_Tolstoj', 'Jan_Matejko', 'Riemann-Stieltjes_integral', 'Limit_of_a_sequence']\n",
      "topic_1\n",
      "['Integral', 'Derivative', 'Riemann_integral', 'Warsaw', 'Riemann-Stieltjes_integral', 'Limit_of_a_sequence', 'Vincent_van_Gogh', 'Eiffel_Tower', 'Taipei_101', 'England', 'Jan_Matejko', 'Edvard_Munch', 'Lev_Tolstoj', 'Franz_Kafka', 'J._R._R._Tolkien']\n",
      "topic_2\n",
      "['Vincent_van_Gogh', 'Warsaw', 'Edvard_Munch', 'Jan_Matejko', 'Eiffel_Tower', 'England', 'Taipei_101', 'Lev_Tolstoj', 'Franz_Kafka', 'Limit_of_a_sequence', 'Riemann-Stieltjes_integral', 'Riemann_integral', 'Derivative', 'Integral', 'J._R._R._Tolkien']\n",
      "topic_3\n",
      "['Vincent_van_Gogh', 'Integral', 'J._R._R._Tolkien', 'Edvard_Munch', 'Derivative', 'Riemann_integral', 'Riemann-Stieltjes_integral', 'Limit_of_a_sequence', 'Lev_Tolstoj', 'Franz_Kafka', 'Jan_Matejko', 'Eiffel_Tower', 'Taipei_101', 'England', 'Warsaw']\n",
      "topic_4\n",
      "['England', 'Eiffel_Tower', 'Taipei_101', 'Franz_Kafka', 'Lev_Tolstoj', 'Edvard_Munch', 'Derivative', 'Limit_of_a_sequence', 'Jan_Matejko', 'Riemann-Stieltjes_integral', 'Riemann_integral', 'Integral', 'Vincent_van_Gogh', 'J._R._R._Tolkien', 'Warsaw']\n"
     ]
    }
   ],
   "source": [
    "for col in range(svd_topic_vectors.shape[1]):\n",
    "    indexes = np.argsort(svd_topic_vectors[:,col])\n",
    "    indexes = indexes[::-1]\n",
    "    print('topic_{}'.format(col))\n",
    "    print([titles[ind] for ind in indexes])"
   ]
  },
  {
   "cell_type": "code",
   "execution_count": 93,
   "metadata": {
    "collapsed": false
   },
   "outputs": [
    {
     "name": "stdout",
     "output_type": "stream",
     "text": [
      "Article Integral is most similar to Riemann-Stieltjes_integral\n",
      "Article Riemann_integral is most similar to Riemann-Stieltjes_integral\n",
      "Article Riemann-Stieltjes_integral is most similar to Riemann_integral\n",
      "Article Derivative is most similar to Limit_of_a_sequence\n",
      "Article Limit_of_a_sequence is most similar to Derivative\n",
      "Article Edvard_Munch is most similar to Vincent_van_Gogh\n",
      "Article Vincent_van_Gogh is most similar to Edvard_Munch\n",
      "Article Jan_Matejko is most similar to Edvard_Munch\n",
      "Article Lev_Tolstoj is most similar to Franz_Kafka\n",
      "Article Franz_Kafka is most similar to Lev_Tolstoj\n",
      "Article J._R._R._Tolkien is most similar to Franz_Kafka\n",
      "Article Warsaw is most similar to Jan_Matejko\n",
      "Article England is most similar to Taipei_101\n",
      "Article Eiffel_Tower is most similar to Taipei_101\n",
      "Article Taipei_101 is most similar to Eiffel_Tower\n"
     ]
    }
   ],
   "source": [
    "# documents' similarity according to topics \n",
    "for art_ind in range(svd_topic_vectors.shape[0]):\n",
    "    distances = [cosine(svd_topic_vectors[art_ind,:],art2) for art2 in svd_topic_vectors]\n",
    "    distances[art_ind] = 1.0\n",
    "    print('Article {} is most similar to {}'.format(titles[art_ind],titles[np.argmin(distances)]))"
   ]
  },
  {
   "cell_type": "markdown",
   "metadata": {},
   "source": [
    "## LDA (Latent Dirichlet Allocation) \n",
    "Motywacja: przedstawienie tekstu jako mieszanki tematów.\n",
    "Temat - rozkład prawdopodobieństwa na zbiorze słów.\n",
    "\n",
    "**Rozkład Dirichleta**\n",
    "Jest to rozkład, na którym opiera się model LDA\n",
    "\n",
    "Gęstość trójwymiarowego rozkładu Dirichleta Dir( αα ).\n",
    "\n",
    "Wektor losowy  (x1,...,xK)(x1,...,xK)  z  KK -wymiarowego rozkładu Dirichleta to punkt na  (K−1)(K−1) -wymiarowym \"trójkącie\" (sympleksie), czyli  x1+...+xK=1x1+...+xK=1 ,  xi≥0xi≥0 ."
   ]
  },
  {
   "cell_type": "markdown",
   "metadata": {},
   "source": [
    "<img src=\"Grafika/3d_simplex.png\" width=\"500\">"
   ]
  },
  {
   "cell_type": "markdown",
   "metadata": {},
   "source": [
    "<img src=\"Grafika/Smoothed_LDA.png\">\n",
    "\n",
    "\n",
    ",gdzie\n",
    "\n",
    "$\\theta_d \\sim Dir(\\alpha)$  - rozkład tematów w dokumencie\n",
    "\n",
    "$Z \\sim Discr(\\theta)$ - temat, którego pochodz słowo\n",
    "\n",
    "$W \\sim Discr(\\phi_Z)$ - słowo\n",
    "\n",
    "$\\phi_i \\sim Dir(\\beta)$ - tematy"
   ]
  },
  {
   "cell_type": "markdown",
   "metadata": {},
   "source": [
    "Dokumenty będą składać sie tylko z kilku tematów (alfa będzie mała).\n",
    "\n",
    "Tematy będą charakteryzowane również tylko przez cześć słów (beta małe). Dzięki temu możemy ludzkim okiem rozróżnić i zintepretować tematy."
   ]
  },
  {
   "cell_type": "markdown",
   "metadata": {},
   "source": [
    "### LDA w module GENSIM\n",
    "gensim to modul stworzony do analizy tekstów: https://radimrehurek.com/gensim/"
   ]
  },
  {
   "cell_type": "markdown",
   "metadata": {},
   "source": [
    "### LDA assumes that each document is a mixture (linear combination) of some arbitrary number of topics. LDA also assumes taht each topic can be represented by a distribution of words"
   ]
  },
  {
   "cell_type": "markdown",
   "metadata": {},
   "source": [
    "### Create corpus from text"
   ]
  },
  {
   "cell_type": "code",
   "execution_count": 97,
   "metadata": {
    "collapsed": true
   },
   "outputs": [],
   "source": [
    "dictionary = corpora.Dictionary(articles_stemmed)# create a dictionary from all words"
   ]
  },
  {
   "cell_type": "code",
   "execution_count": 98,
   "metadata": {
    "collapsed": false
   },
   "outputs": [
    {
     "data": {
      "text/plain": [
       "<gensim.corpora.dictionary.Dictionary at 0x7f9292d25b00>"
      ]
     },
     "execution_count": 98,
     "metadata": {},
     "output_type": "execute_result"
    }
   ],
   "source": [
    "dictionary"
   ]
  },
  {
   "cell_type": "code",
   "execution_count": 99,
   "metadata": {
    "collapsed": false
   },
   "outputs": [
    {
     "data": {
      "text/plain": [
       "[10521, 10522, 10523, 10524, 10525, 10526, 10527, 10528, 10529, 10530]"
      ]
     },
     "execution_count": 99,
     "metadata": {},
     "output_type": "execute_result"
    }
   ],
   "source": [
    "dictionary.keys()[-10:]"
   ]
  },
  {
   "cell_type": "code",
   "execution_count": 100,
   "metadata": {
    "collapsed": false
   },
   "outputs": [
    {
     "data": {
      "text/plain": [
       "'determin'"
      ]
     },
     "execution_count": 100,
     "metadata": {},
     "output_type": "execute_result"
    }
   ],
   "source": [
    "dictionary.get(300)"
   ]
  },
  {
   "cell_type": "code",
   "execution_count": 101,
   "metadata": {
    "collapsed": false
   },
   "outputs": [
    {
     "data": {
      "text/plain": [
       "'determin'"
      ]
     },
     "execution_count": 101,
     "metadata": {},
     "output_type": "execute_result"
    }
   ],
   "source": [
    "dictionary.id2token[300]"
   ]
  },
  {
   "cell_type": "code",
   "execution_count": 102,
   "metadata": {
    "collapsed": false
   },
   "outputs": [
    {
     "data": {
      "text/plain": [
       "[(626, 3)]"
      ]
     },
     "execution_count": 102,
     "metadata": {},
     "output_type": "execute_result"
    }
   ],
   "source": [
    "dictionary.doc2bow(['mathemat' ,'mathemat','mathemat'])# word nr 644 apears 2 times in this doc"
   ]
  },
  {
   "cell_type": "code",
   "execution_count": 103,
   "metadata": {
    "collapsed": true
   },
   "outputs": [],
   "source": [
    "corpus = [dictionary.doc2bow(art) for art in articles_stemmed] # create corpus"
   ]
  },
  {
   "cell_type": "code",
   "execution_count": 104,
   "metadata": {
    "collapsed": false
   },
   "outputs": [
    {
     "data": {
      "text/plain": [
       "15"
      ]
     },
     "execution_count": 104,
     "metadata": {},
     "output_type": "execute_result"
    }
   ],
   "source": [
    "len(corpus) # corpus made of all words from all documents"
   ]
  },
  {
   "cell_type": "code",
   "execution_count": 105,
   "metadata": {
    "collapsed": false
   },
   "outputs": [
    {
     "data": {
      "text/plain": [
       "10531"
      ]
     },
     "execution_count": 105,
     "metadata": {},
     "output_type": "execute_result"
    }
   ],
   "source": [
    "len(dictionary) #number of tokens in dictionary "
   ]
  },
  {
   "cell_type": "code",
   "execution_count": 106,
   "metadata": {
    "collapsed": false
   },
   "outputs": [
    {
     "data": {
      "text/plain": [
       "1084"
      ]
     },
     "execution_count": 106,
     "metadata": {},
     "output_type": "execute_result"
    }
   ],
   "source": [
    "len(corpus[0])# number of words in first document"
   ]
  },
  {
   "cell_type": "code",
   "execution_count": 107,
   "metadata": {
    "collapsed": false
   },
   "outputs": [
    {
     "data": {
      "text/plain": [
       "[(0, 18),\n",
       " (1, 1),\n",
       " (2, 15),\n",
       " (3, 1),\n",
       " (4, 1),\n",
       " (5, 1),\n",
       " (6, 1),\n",
       " (7, 1),\n",
       " (8, 1),\n",
       " (9, 2),\n",
       " (10, 1),\n",
       " (11, 1),\n",
       " (12, 12),\n",
       " (13, 2),\n",
       " (14, 1),\n",
       " (15, 1),\n",
       " (16, 1),\n",
       " (17, 18),\n",
       " (18, 6),\n",
       " (19, 1),\n",
       " (20, 1),\n",
       " (21, 1),\n",
       " (22, 1),\n",
       " (23, 1),\n",
       " (24, 2),\n",
       " (25, 1),\n",
       " (26, 1),\n",
       " (27, 4),\n",
       " (28, 1),\n",
       " (29, 2),\n",
       " (30, 1),\n",
       " (31, 1),\n",
       " (32, 1),\n",
       " (33, 1),\n",
       " (34, 1),\n",
       " (35, 1),\n",
       " (36, 1),\n",
       " (37, 10),\n",
       " (38, 1),\n",
       " (39, 1),\n",
       " (40, 1),\n",
       " (41, 1),\n",
       " (42, 1),\n",
       " (43, 1),\n",
       " (44, 1),\n",
       " (45, 1),\n",
       " (46, 1),\n",
       " (47, 1),\n",
       " (48, 1),\n",
       " (49, 1),\n",
       " (50, 1),\n",
       " (51, 1),\n",
       " (52, 2),\n",
       " (53, 3),\n",
       " (54, 1),\n",
       " (55, 1),\n",
       " (56, 1),\n",
       " (57, 1),\n",
       " (58, 1),\n",
       " (59, 1),\n",
       " (60, 1),\n",
       " (61, 2),\n",
       " (62, 1),\n",
       " (63, 1),\n",
       " (64, 1),\n",
       " (65, 1),\n",
       " (66, 1),\n",
       " (67, 1),\n",
       " (68, 1),\n",
       " (69, 1),\n",
       " (70, 13),\n",
       " (71, 1),\n",
       " (72, 4),\n",
       " (73, 1),\n",
       " (74, 1),\n",
       " (75, 3),\n",
       " (76, 18),\n",
       " (77, 1),\n",
       " (78, 2),\n",
       " (79, 1),\n",
       " (80, 1),\n",
       " (81, 1),\n",
       " (82, 1),\n",
       " (83, 1),\n",
       " (84, 3),\n",
       " (85, 6),\n",
       " (86, 2),\n",
       " (87, 1),\n",
       " (88, 1),\n",
       " (89, 2),\n",
       " (90, 2),\n",
       " (91, 3),\n",
       " (92, 1),\n",
       " (93, 2),\n",
       " (94, 1),\n",
       " (95, 1),\n",
       " (96, 5),\n",
       " (97, 1),\n",
       " (98, 1),\n",
       " (99, 1),\n",
       " (100, 3),\n",
       " (101, 5),\n",
       " (102, 6),\n",
       " (103, 1),\n",
       " (104, 3),\n",
       " (105, 1),\n",
       " (106, 13),\n",
       " (107, 5),\n",
       " (108, 2),\n",
       " (109, 2),\n",
       " (110, 1),\n",
       " (111, 4),\n",
       " (112, 3),\n",
       " (113, 4),\n",
       " (114, 1),\n",
       " (115, 1),\n",
       " (116, 1),\n",
       " (117, 1),\n",
       " (118, 2),\n",
       " (119, 6),\n",
       " (120, 25),\n",
       " (121, 3),\n",
       " (122, 2),\n",
       " (123, 6),\n",
       " (124, 9),\n",
       " (125, 29),\n",
       " (126, 2),\n",
       " (127, 2),\n",
       " (128, 1),\n",
       " (129, 1),\n",
       " (130, 32),\n",
       " (131, 2),\n",
       " (132, 1),\n",
       " (133, 1),\n",
       " (134, 3),\n",
       " (135, 2),\n",
       " (136, 1),\n",
       " (137, 4),\n",
       " (138, 2),\n",
       " (139, 1),\n",
       " (140, 1),\n",
       " (141, 2),\n",
       " (142, 1),\n",
       " (143, 1),\n",
       " (144, 1),\n",
       " (145, 48),\n",
       " (146, 2),\n",
       " (147, 2),\n",
       " (148, 2),\n",
       " (149, 5),\n",
       " (150, 3),\n",
       " (151, 2),\n",
       " (152, 1),\n",
       " (153, 1),\n",
       " (154, 2),\n",
       " (155, 2),\n",
       " (156, 4),\n",
       " (157, 1),\n",
       " (158, 1),\n",
       " (159, 1),\n",
       " (160, 1),\n",
       " (161, 1),\n",
       " (162, 4),\n",
       " (163, 2),\n",
       " (164, 1),\n",
       " (165, 1),\n",
       " (166, 2),\n",
       " (167, 2),\n",
       " (168, 2),\n",
       " (169, 7),\n",
       " (170, 2),\n",
       " (171, 1),\n",
       " (172, 3),\n",
       " (173, 1),\n",
       " (174, 2),\n",
       " (175, 1),\n",
       " (176, 1),\n",
       " (177, 1),\n",
       " (178, 2),\n",
       " (179, 1),\n",
       " (180, 1),\n",
       " (181, 10),\n",
       " (182, 1),\n",
       " (183, 1),\n",
       " (184, 1),\n",
       " (185, 1),\n",
       " (186, 10),\n",
       " (187, 26),\n",
       " (188, 16),\n",
       " (189, 1),\n",
       " (190, 2),\n",
       " (191, 1),\n",
       " (192, 1),\n",
       " (193, 2),\n",
       " (194, 1),\n",
       " (195, 14),\n",
       " (196, 1),\n",
       " (197, 4),\n",
       " (198, 8),\n",
       " (199, 3),\n",
       " (200, 2),\n",
       " (201, 1),\n",
       " (202, 1),\n",
       " (203, 1),\n",
       " (204, 1),\n",
       " (205, 1),\n",
       " (206, 1),\n",
       " (207, 1),\n",
       " (208, 3),\n",
       " (209, 2),\n",
       " (210, 1),\n",
       " (211, 6),\n",
       " (212, 1),\n",
       " (213, 1),\n",
       " (214, 1),\n",
       " (215, 16),\n",
       " (216, 1),\n",
       " (217, 3),\n",
       " (218, 1),\n",
       " (219, 1),\n",
       " (220, 3),\n",
       " (221, 2),\n",
       " (222, 4),\n",
       " (223, 7),\n",
       " (224, 3),\n",
       " (225, 2),\n",
       " (226, 1),\n",
       " (227, 3),\n",
       " (228, 2),\n",
       " (229, 1),\n",
       " (230, 1),\n",
       " (231, 1),\n",
       " (232, 2),\n",
       " (233, 7),\n",
       " (234, 1),\n",
       " (235, 2),\n",
       " (236, 2),\n",
       " (237, 1),\n",
       " (238, 26),\n",
       " (239, 1),\n",
       " (240, 1),\n",
       " (241, 1),\n",
       " (242, 3),\n",
       " (243, 1),\n",
       " (244, 2),\n",
       " (245, 1),\n",
       " (246, 6),\n",
       " (247, 2),\n",
       " (248, 5),\n",
       " (249, 1),\n",
       " (250, 1),\n",
       " (251, 1),\n",
       " (252, 3),\n",
       " (253, 2),\n",
       " (254, 3),\n",
       " (255, 11),\n",
       " (256, 2),\n",
       " (257, 4),\n",
       " (258, 1),\n",
       " (259, 1),\n",
       " (260, 1),\n",
       " (261, 3),\n",
       " (262, 1),\n",
       " (263, 1),\n",
       " (264, 2),\n",
       " (265, 1),\n",
       " (266, 1),\n",
       " (267, 3),\n",
       " (268, 1),\n",
       " (269, 16),\n",
       " (270, 1),\n",
       " (271, 1),\n",
       " (272, 5),\n",
       " (273, 1),\n",
       " (274, 1),\n",
       " (275, 1),\n",
       " (276, 2),\n",
       " (277, 2),\n",
       " (278, 2),\n",
       " (279, 2),\n",
       " (280, 2),\n",
       " (281, 2),\n",
       " (282, 1),\n",
       " (283, 23),\n",
       " (284, 28),\n",
       " (285, 1),\n",
       " (286, 8),\n",
       " (287, 1),\n",
       " (288, 1),\n",
       " (289, 1),\n",
       " (290, 7),\n",
       " (291, 2),\n",
       " (292, 1),\n",
       " (293, 3),\n",
       " (294, 1),\n",
       " (295, 6),\n",
       " (296, 1),\n",
       " (297, 1),\n",
       " (298, 2),\n",
       " (299, 1),\n",
       " (300, 6),\n",
       " (301, 7),\n",
       " (302, 1),\n",
       " (303, 11),\n",
       " (304, 29),\n",
       " (305, 4),\n",
       " (306, 1),\n",
       " (307, 4),\n",
       " (308, 1),\n",
       " (309, 1),\n",
       " (310, 1),\n",
       " (311, 1),\n",
       " (312, 2),\n",
       " (313, 1),\n",
       " (314, 5),\n",
       " (315, 3),\n",
       " (316, 2),\n",
       " (317, 1),\n",
       " (318, 1),\n",
       " (319, 1),\n",
       " (320, 9),\n",
       " (321, 4),\n",
       " (322, 1),\n",
       " (323, 7),\n",
       " (324, 1),\n",
       " (325, 1),\n",
       " (326, 1),\n",
       " (327, 1),\n",
       " (328, 2),\n",
       " (329, 1),\n",
       " (330, 1),\n",
       " (331, 15),\n",
       " (332, 1),\n",
       " (333, 2),\n",
       " (334, 2),\n",
       " (335, 1),\n",
       " (336, 2),\n",
       " (337, 1),\n",
       " (338, 1),\n",
       " (339, 1),\n",
       " (340, 7),\n",
       " (341, 1),\n",
       " (342, 1),\n",
       " (343, 2),\n",
       " (344, 3),\n",
       " (345, 1),\n",
       " (346, 1),\n",
       " (347, 3),\n",
       " (348, 1),\n",
       " (349, 1),\n",
       " (350, 2),\n",
       " (351, 1),\n",
       " (352, 1),\n",
       " (353, 1),\n",
       " (354, 2),\n",
       " (355, 1),\n",
       " (356, 4),\n",
       " (357, 5),\n",
       " (358, 1),\n",
       " (359, 1),\n",
       " (360, 1),\n",
       " (361, 1),\n",
       " (362, 4),\n",
       " (363, 1),\n",
       " (364, 5),\n",
       " (365, 1),\n",
       " (366, 2),\n",
       " (367, 1),\n",
       " (368, 2),\n",
       " (369, 1),\n",
       " (370, 1),\n",
       " (371, 7),\n",
       " (372, 2),\n",
       " (373, 5),\n",
       " (374, 1),\n",
       " (375, 1),\n",
       " (376, 1),\n",
       " (377, 1),\n",
       " (378, 12),\n",
       " (379, 2),\n",
       " (380, 1),\n",
       " (381, 2),\n",
       " (382, 8),\n",
       " (383, 1),\n",
       " (384, 19),\n",
       " (385, 1),\n",
       " (386, 1),\n",
       " (387, 7),\n",
       " (388, 1),\n",
       " (389, 2),\n",
       " (390, 1),\n",
       " (391, 1),\n",
       " (392, 1),\n",
       " (393, 1),\n",
       " (394, 2),\n",
       " (395, 2),\n",
       " (396, 1),\n",
       " (397, 3),\n",
       " (398, 15),\n",
       " (399, 4),\n",
       " (400, 4),\n",
       " (401, 3),\n",
       " (402, 1),\n",
       " (403, 2),\n",
       " (404, 64),\n",
       " (405, 2),\n",
       " (406, 4),\n",
       " (407, 2),\n",
       " (408, 1),\n",
       " (409, 1),\n",
       " (410, 1),\n",
       " (411, 1),\n",
       " (412, 1),\n",
       " (413, 1),\n",
       " (414, 1),\n",
       " (415, 18),\n",
       " (416, 1),\n",
       " (417, 1),\n",
       " (418, 1),\n",
       " (419, 12),\n",
       " (420, 1),\n",
       " (421, 11),\n",
       " (422, 1),\n",
       " (423, 1),\n",
       " (424, 16),\n",
       " (425, 1),\n",
       " (426, 1),\n",
       " (427, 2),\n",
       " (428, 1),\n",
       " (429, 1),\n",
       " (430, 1),\n",
       " (431, 2),\n",
       " (432, 6),\n",
       " (433, 5),\n",
       " (434, 1),\n",
       " (435, 3),\n",
       " (436, 1),\n",
       " (437, 3),\n",
       " (438, 13),\n",
       " (439, 5),\n",
       " (440, 2),\n",
       " (441, 6),\n",
       " (442, 4),\n",
       " (443, 2),\n",
       " (444, 2),\n",
       " (445, 3),\n",
       " (446, 1),\n",
       " (447, 1),\n",
       " (448, 2),\n",
       " (449, 1),\n",
       " (450, 1),\n",
       " (451, 1),\n",
       " (452, 1),\n",
       " (453, 129),\n",
       " (454, 11),\n",
       " (455, 1),\n",
       " (456, 1),\n",
       " (457, 2),\n",
       " (458, 6),\n",
       " (459, 2),\n",
       " (460, 2),\n",
       " (461, 5),\n",
       " (462, 1),\n",
       " (463, 1),\n",
       " (464, 20),\n",
       " (465, 1),\n",
       " (466, 1),\n",
       " (467, 1),\n",
       " (468, 2),\n",
       " (469, 6),\n",
       " (470, 1),\n",
       " (471, 8),\n",
       " (472, 15),\n",
       " (473, 1),\n",
       " (474, 1),\n",
       " (475, 1),\n",
       " (476, 3),\n",
       " (477, 1),\n",
       " (478, 2),\n",
       " (479, 1),\n",
       " (480, 4),\n",
       " (481, 1),\n",
       " (482, 3),\n",
       " (483, 1),\n",
       " (484, 1),\n",
       " (485, 1),\n",
       " (486, 3),\n",
       " (487, 1),\n",
       " (488, 2),\n",
       " (489, 1),\n",
       " (490, 1),\n",
       " (491, 3),\n",
       " (492, 1),\n",
       " (493, 1),\n",
       " (494, 1),\n",
       " (495, 1),\n",
       " (496, 3),\n",
       " (497, 1),\n",
       " (498, 1),\n",
       " (499, 1),\n",
       " (500, 1),\n",
       " (501, 1),\n",
       " (502, 2),\n",
       " (503, 2),\n",
       " (504, 1),\n",
       " (505, 1),\n",
       " (506, 1),\n",
       " (507, 1),\n",
       " (508, 1),\n",
       " (509, 2),\n",
       " (510, 3),\n",
       " (511, 1),\n",
       " (512, 3),\n",
       " (513, 2),\n",
       " (514, 1),\n",
       " (515, 3),\n",
       " (516, 1),\n",
       " (517, 1),\n",
       " (518, 1),\n",
       " (519, 1),\n",
       " (520, 1),\n",
       " (521, 2),\n",
       " (522, 4),\n",
       " (523, 2),\n",
       " (524, 1),\n",
       " (525, 1),\n",
       " (526, 1),\n",
       " (527, 1),\n",
       " (528, 2),\n",
       " (529, 7),\n",
       " (530, 1),\n",
       " (531, 6),\n",
       " (532, 2),\n",
       " (533, 1),\n",
       " (534, 6),\n",
       " (535, 1),\n",
       " (536, 2),\n",
       " (537, 2),\n",
       " (538, 1),\n",
       " (539, 4),\n",
       " (540, 6),\n",
       " (541, 3),\n",
       " (542, 8),\n",
       " (543, 1),\n",
       " (544, 1),\n",
       " (545, 3),\n",
       " (546, 9),\n",
       " (547, 11),\n",
       " (548, 1),\n",
       " (549, 2),\n",
       " (550, 1),\n",
       " (551, 7),\n",
       " (552, 4),\n",
       " (553, 1),\n",
       " (554, 260),\n",
       " (555, 1),\n",
       " (556, 13),\n",
       " (557, 1),\n",
       " (558, 1),\n",
       " (559, 4),\n",
       " (560, 2),\n",
       " (561, 39),\n",
       " (562, 2),\n",
       " (563, 1),\n",
       " (564, 4),\n",
       " (565, 2),\n",
       " (566, 1),\n",
       " (567, 2),\n",
       " (568, 1),\n",
       " (569, 2),\n",
       " (570, 1),\n",
       " (571, 9),\n",
       " (572, 1),\n",
       " (573, 1),\n",
       " (574, 1),\n",
       " (575, 1),\n",
       " (576, 1),\n",
       " (577, 7),\n",
       " (578, 1),\n",
       " (579, 1),\n",
       " (580, 1),\n",
       " (581, 1),\n",
       " (582, 1),\n",
       " (583, 2),\n",
       " (584, 1),\n",
       " (585, 3),\n",
       " (586, 1),\n",
       " (587, 1),\n",
       " (588, 1),\n",
       " (589, 17),\n",
       " (590, 2),\n",
       " (591, 4),\n",
       " (592, 1),\n",
       " (593, 1),\n",
       " (594, 7),\n",
       " (595, 6),\n",
       " (596, 4),\n",
       " (597, 7),\n",
       " (598, 3),\n",
       " (599, 1),\n",
       " (600, 2),\n",
       " (601, 1),\n",
       " (602, 5),\n",
       " (603, 24),\n",
       " (604, 14),\n",
       " (605, 11),\n",
       " (606, 1),\n",
       " (607, 2),\n",
       " (608, 1),\n",
       " (609, 3),\n",
       " (610, 3),\n",
       " (611, 1),\n",
       " (612, 1),\n",
       " (613, 1),\n",
       " (614, 1),\n",
       " (615, 3),\n",
       " (616, 1),\n",
       " (617, 1),\n",
       " (618, 2),\n",
       " (619, 1),\n",
       " (620, 1),\n",
       " (621, 2),\n",
       " (622, 4),\n",
       " (623, 16),\n",
       " (624, 1),\n",
       " (625, 1),\n",
       " (626, 11),\n",
       " (627, 1),\n",
       " (628, 2),\n",
       " (629, 1),\n",
       " (630, 1),\n",
       " (631, 18),\n",
       " (632, 4),\n",
       " (633, 18),\n",
       " (634, 2),\n",
       " (635, 1),\n",
       " (636, 1),\n",
       " (637, 20),\n",
       " (638, 1),\n",
       " (639, 1),\n",
       " (640, 6),\n",
       " (641, 1),\n",
       " (642, 1),\n",
       " (643, 1),\n",
       " (644, 1),\n",
       " (645, 1),\n",
       " (646, 1),\n",
       " (647, 1),\n",
       " (648, 4),\n",
       " (649, 2),\n",
       " (650, 3),\n",
       " (651, 5),\n",
       " (652, 8),\n",
       " (653, 1),\n",
       " (654, 3),\n",
       " (655, 1),\n",
       " (656, 5),\n",
       " (657, 1),\n",
       " (658, 1),\n",
       " (659, 4),\n",
       " (660, 1),\n",
       " (661, 2),\n",
       " (662, 2),\n",
       " (663, 4),\n",
       " (664, 2),\n",
       " (665, 2),\n",
       " (666, 3),\n",
       " (667, 1),\n",
       " (668, 6),\n",
       " (669, 1),\n",
       " (670, 3),\n",
       " (671, 1),\n",
       " (672, 1),\n",
       " (673, 1),\n",
       " (674, 1),\n",
       " (675, 1),\n",
       " (676, 1),\n",
       " (677, 1),\n",
       " (678, 1),\n",
       " (679, 13),\n",
       " (680, 2),\n",
       " (681, 4),\n",
       " (682, 11),\n",
       " (683, 11),\n",
       " (684, 6),\n",
       " (685, 1),\n",
       " (686, 2),\n",
       " (687, 4),\n",
       " (688, 3),\n",
       " (689, 1),\n",
       " (690, 4),\n",
       " (691, 2),\n",
       " (692, 25),\n",
       " (693, 1),\n",
       " (694, 2),\n",
       " (695, 1),\n",
       " (696, 10),\n",
       " (697, 2),\n",
       " (698, 2),\n",
       " (699, 1),\n",
       " (700, 6),\n",
       " (701, 5),\n",
       " (702, 1),\n",
       " (703, 4),\n",
       " (704, 1),\n",
       " (705, 1),\n",
       " (706, 1),\n",
       " (707, 3),\n",
       " (708, 1),\n",
       " (709, 2),\n",
       " (710, 1),\n",
       " (711, 2),\n",
       " (712, 5),\n",
       " (713, 3),\n",
       " (714, 13),\n",
       " (715, 1),\n",
       " (716, 4),\n",
       " (717, 1),\n",
       " (718, 2),\n",
       " (719, 1),\n",
       " (720, 2),\n",
       " (721, 1),\n",
       " (722, 1),\n",
       " (723, 1),\n",
       " (724, 1),\n",
       " (725, 6),\n",
       " (726, 1),\n",
       " (727, 11),\n",
       " (728, 2),\n",
       " (729, 3),\n",
       " (730, 2),\n",
       " (731, 1),\n",
       " (732, 1),\n",
       " (733, 1),\n",
       " (734, 3),\n",
       " (735, 15),\n",
       " (736, 1),\n",
       " (737, 11),\n",
       " (738, 1),\n",
       " (739, 2),\n",
       " (740, 8),\n",
       " (741, 4),\n",
       " (742, 4),\n",
       " (743, 2),\n",
       " (744, 6),\n",
       " (745, 4),\n",
       " (746, 1),\n",
       " (747, 1),\n",
       " (748, 1),\n",
       " (749, 3),\n",
       " (750, 5),\n",
       " (751, 1),\n",
       " (752, 1),\n",
       " (753, 4),\n",
       " (754, 9),\n",
       " (755, 1),\n",
       " (756, 1),\n",
       " (757, 1),\n",
       " (758, 4),\n",
       " (759, 1),\n",
       " (760, 6),\n",
       " (761, 1),\n",
       " (762, 12),\n",
       " (763, 1),\n",
       " (764, 1),\n",
       " (765, 2),\n",
       " (766, 2),\n",
       " (767, 2),\n",
       " (768, 1),\n",
       " (769, 1),\n",
       " (770, 9),\n",
       " (771, 6),\n",
       " (772, 1),\n",
       " (773, 6),\n",
       " (774, 1),\n",
       " (775, 1),\n",
       " (776, 1),\n",
       " (777, 1),\n",
       " (778, 1),\n",
       " (779, 5),\n",
       " (780, 1),\n",
       " (781, 2),\n",
       " (782, 3),\n",
       " (783, 2),\n",
       " (784, 13),\n",
       " (785, 7),\n",
       " (786, 1),\n",
       " (787, 1),\n",
       " (788, 3),\n",
       " (789, 1),\n",
       " (790, 9),\n",
       " (791, 2),\n",
       " (792, 1),\n",
       " (793, 1),\n",
       " (794, 2),\n",
       " (795, 1),\n",
       " (796, 9),\n",
       " (797, 4),\n",
       " (798, 1),\n",
       " (799, 1),\n",
       " (800, 1),\n",
       " (801, 1),\n",
       " (802, 2),\n",
       " (803, 4),\n",
       " (804, 8),\n",
       " (805, 1),\n",
       " (806, 1),\n",
       " (807, 10),\n",
       " (808, 1),\n",
       " (809, 1),\n",
       " (810, 10),\n",
       " (811, 7),\n",
       " (812, 1),\n",
       " (813, 1),\n",
       " (814, 1),\n",
       " (815, 1),\n",
       " (816, 29),\n",
       " (817, 5),\n",
       " (818, 1),\n",
       " (819, 1),\n",
       " (820, 6),\n",
       " (821, 4),\n",
       " (822, 1),\n",
       " (823, 3),\n",
       " (824, 1),\n",
       " (825, 2),\n",
       " (826, 3),\n",
       " (827, 1),\n",
       " (828, 1),\n",
       " (829, 1),\n",
       " (830, 12),\n",
       " (831, 1),\n",
       " (832, 4),\n",
       " (833, 1),\n",
       " (834, 2),\n",
       " (835, 6),\n",
       " (836, 1),\n",
       " (837, 1),\n",
       " (838, 4),\n",
       " (839, 1),\n",
       " (840, 2),\n",
       " (841, 7),\n",
       " (842, 1),\n",
       " (843, 4),\n",
       " (844, 1),\n",
       " (845, 3),\n",
       " (846, 3),\n",
       " (847, 1),\n",
       " (848, 7),\n",
       " (849, 2),\n",
       " (850, 1),\n",
       " (851, 1),\n",
       " (852, 1),\n",
       " (853, 1),\n",
       " (854, 1),\n",
       " (855, 1),\n",
       " (856, 2),\n",
       " (857, 3),\n",
       " (858, 5),\n",
       " (859, 1),\n",
       " (860, 2),\n",
       " (861, 4),\n",
       " (862, 1),\n",
       " (863, 3),\n",
       " (864, 1),\n",
       " (865, 1),\n",
       " (866, 1),\n",
       " (867, 3),\n",
       " (868, 1),\n",
       " (869, 1),\n",
       " (870, 2),\n",
       " (871, 2),\n",
       " (872, 2),\n",
       " (873, 2),\n",
       " (874, 1),\n",
       " (875, 1),\n",
       " (876, 3),\n",
       " (877, 2),\n",
       " (878, 1),\n",
       " (879, 5),\n",
       " (880, 1),\n",
       " (881, 4),\n",
       " (882, 1),\n",
       " (883, 3),\n",
       " (884, 2),\n",
       " (885, 15),\n",
       " (886, 1),\n",
       " (887, 7),\n",
       " (888, 2),\n",
       " (889, 2),\n",
       " (890, 1),\n",
       " (891, 1),\n",
       " (892, 1),\n",
       " (893, 2),\n",
       " (894, 1),\n",
       " (895, 1),\n",
       " (896, 1),\n",
       " (897, 1),\n",
       " (898, 1),\n",
       " (899, 2),\n",
       " (900, 1),\n",
       " (901, 13),\n",
       " (902, 3),\n",
       " (903, 1),\n",
       " (904, 1),\n",
       " (905, 1),\n",
       " (906, 1),\n",
       " (907, 1),\n",
       " (908, 3),\n",
       " (909, 5),\n",
       " (910, 1),\n",
       " (911, 6),\n",
       " (912, 2),\n",
       " (913, 1),\n",
       " (914, 2),\n",
       " (915, 1),\n",
       " (916, 1),\n",
       " (917, 1),\n",
       " (918, 2),\n",
       " (919, 1),\n",
       " (920, 1),\n",
       " (921, 1),\n",
       " (922, 1),\n",
       " (923, 1),\n",
       " (924, 2),\n",
       " (925, 3),\n",
       " (926, 34),\n",
       " (927, 1),\n",
       " (928, 2),\n",
       " (929, 1),\n",
       " (930, 20),\n",
       " (931, 1),\n",
       " (932, 14),\n",
       " (933, 1),\n",
       " (934, 1),\n",
       " (935, 7),\n",
       " (936, 2),\n",
       " (937, 4),\n",
       " (938, 6),\n",
       " (939, 8),\n",
       " (940, 5),\n",
       " (941, 2),\n",
       " (942, 1),\n",
       " (943, 6),\n",
       " (944, 1),\n",
       " (945, 1),\n",
       " (946, 1),\n",
       " (947, 10),\n",
       " (948, 1),\n",
       " (949, 2),\n",
       " (950, 19),\n",
       " (951, 7),\n",
       " (952, 3),\n",
       " (953, 1),\n",
       " (954, 2),\n",
       " (955, 2),\n",
       " (956, 2),\n",
       " (957, 4),\n",
       " (958, 3),\n",
       " (959, 8),\n",
       " (960, 1),\n",
       " (961, 6),\n",
       " (962, 1),\n",
       " (963, 1),\n",
       " (964, 4),\n",
       " (965, 1),\n",
       " (966, 5),\n",
       " (967, 1),\n",
       " (968, 2),\n",
       " (969, 2),\n",
       " (970, 7),\n",
       " (971, 1),\n",
       " (972, 1),\n",
       " (973, 2),\n",
       " (974, 1),\n",
       " (975, 2),\n",
       " (976, 3),\n",
       " (977, 1),\n",
       " (978, 1),\n",
       " (979, 11),\n",
       " (980, 2),\n",
       " (981, 3),\n",
       " (982, 1),\n",
       " (983, 2),\n",
       " (984, 3),\n",
       " (985, 2),\n",
       " (986, 1),\n",
       " (987, 1),\n",
       " (988, 3),\n",
       " (989, 2),\n",
       " (990, 2),\n",
       " (991, 1),\n",
       " (992, 4),\n",
       " (993, 1),\n",
       " (994, 1),\n",
       " (995, 48),\n",
       " (996, 1),\n",
       " (997, 3),\n",
       " (998, 11),\n",
       " (999, 1),\n",
       " ...]"
      ]
     },
     "execution_count": 107,
     "metadata": {},
     "output_type": "execute_result"
    }
   ],
   "source": [
    "corpus[0] # word nb 0 epears 18 times"
   ]
  },
  {
   "cell_type": "code",
   "execution_count": 108,
   "metadata": {
    "collapsed": true
   },
   "outputs": [],
   "source": [
    "model_corpus = LdaModel(corpus=corpus,id2word=dictionary,num_topics=5)"
   ]
  },
  {
   "cell_type": "markdown",
   "metadata": {},
   "source": [
    "### Create corpus from sparse matrix"
   ]
  },
  {
   "cell_type": "code",
   "execution_count": 109,
   "metadata": {
    "collapsed": true
   },
   "outputs": [],
   "source": [
    "vectorizer = CountVectorizer(min_df=0.2,max_df=0.5)\n",
    "dtm_cv = vectorizer.fit_transform(articles_cleaned)"
   ]
  },
  {
   "cell_type": "code",
   "execution_count": 110,
   "metadata": {
    "collapsed": true
   },
   "outputs": [],
   "source": [
    "corpus_sparse = matutils.Sparse2Corpus(dtm_cv,documents_columns=False) # by default documents in columns"
   ]
  },
  {
   "cell_type": "code",
   "execution_count": 111,
   "metadata": {
    "collapsed": true
   },
   "outputs": [],
   "source": [
    "dictionary_sparse = vectorizer.get_feature_names()"
   ]
  },
  {
   "cell_type": "code",
   "execution_count": 112,
   "metadata": {
    "collapsed": false
   },
   "outputs": [
    {
     "data": {
      "text/plain": [
       "1908"
      ]
     },
     "execution_count": 112,
     "metadata": {},
     "output_type": "execute_result"
    }
   ],
   "source": [
    "len(dictionary_sparse)"
   ]
  },
  {
   "cell_type": "code",
   "execution_count": 113,
   "metadata": {
    "collapsed": true
   },
   "outputs": [],
   "source": [
    "dictionary_sparse_dict = {i:j for i,j in enumerate(dictionary_sparse)}"
   ]
  },
  {
   "cell_type": "code",
   "execution_count": 114,
   "metadata": {
    "collapsed": false
   },
   "outputs": [
    {
     "data": {
      "text/plain": [
       "'convinc'"
      ]
     },
     "execution_count": 114,
     "metadata": {},
     "output_type": "execute_result"
    }
   ],
   "source": [
    "dictionary_sparse_dict[615]"
   ]
  },
  {
   "cell_type": "code",
   "execution_count": 115,
   "metadata": {
    "collapsed": true
   },
   "outputs": [],
   "source": [
    "dictionary_sparse = corpora.Dictionary.from_corpus(corpus=corpus_sparse,id2word=dictionary_sparse_dict)"
   ]
  },
  {
   "cell_type": "code",
   "execution_count": 116,
   "metadata": {
    "collapsed": true
   },
   "outputs": [],
   "source": [
    "model_corpus_sparse = LdaModel(corpus=corpus_sparse,id2word=dictionary_sparse,num_topics=5)"
   ]
  },
  {
   "cell_type": "markdown",
   "metadata": {},
   "source": [
    "### LDA model"
   ]
  },
  {
   "cell_type": "code",
   "execution_count": 117,
   "metadata": {
    "collapsed": true
   },
   "outputs": [],
   "source": [
    "model_corpus = LdaModel(corpus=corpus_sparse,id2word=dictionary_sparse,num_topics=5, alpha='auto',eta='auto')"
   ]
  },
  {
   "cell_type": "code",
   "execution_count": 118,
   "metadata": {
    "collapsed": false
   },
   "outputs": [
    {
     "data": {
      "text/plain": [
       "[(0, 0.00031131925),\n",
       " (1, 0.00042808364),\n",
       " (2, 0.067101486),\n",
       " (3, 0.93182719),\n",
       " (4, 0.00033188384)]"
      ]
     },
     "execution_count": 118,
     "metadata": {},
     "output_type": "execute_result"
    }
   ],
   "source": [
    "model_corpus.get_document_topics(corpus_sparse[5],minimum_probability=0)"
   ]
  },
  {
   "cell_type": "code",
   "execution_count": 119,
   "metadata": {
    "collapsed": false
   },
   "outputs": [
    {
     "name": "stdout",
     "output_type": "stream",
     "text": [
      "[(0, 0.93745089), (1, 0.0020810517), (2, 0.059966374), (3, 0.0002389888), (4, 0.00026269618)]\n",
      "[(0, 0.65862131), (1, 0.0004315454), (2, 0.34018096), (3, 0.00037473935), (4, 0.0003914712)]\n",
      "[(0, 0.84734547), (1, 0.076737665), (2, 0.073287539), (3, 0.0012819829), (4, 0.0013473193)]\n",
      "[(0, 0.94320649), (1, 0.00059398008), (2, 0.055219535), (3, 0.00047249213), (4, 0.00050747831)]\n",
      "[(0, 0.0013685753), (1, 0.0013787752), (2, 0.9946236), (3, 0.0012973673), (4, 0.0013316747)]\n",
      "[(0, 0.00031130385), (1, 0.00038182785), (2, 0.068758428), (3, 0.93021882), (4, 0.00032957399)]\n",
      "[(0, 0.00014048049), (1, 0.99939388), (2, 0.00017576713), (3, 0.00014461015), (4, 0.00014524098)]\n",
      "[(0, 0.0009358605), (1, 0.001053397), (2, 0.0011465134), (3, 0.26354808), (4, 0.73331618)]\n",
      "[(0, 0.00042136171), (1, 0.00099713844), (2, 0.62272626), (3, 0.00041702477), (4, 0.37543818)]\n",
      "[(0, 0.00021689587), (1, 0.00022829071), (2, 0.00025986691), (3, 0.0027350439), (4, 0.99655986)]\n",
      "[(0, 0.00015377723), (1, 0.009764472), (2, 0.0024394239), (3, 0.00046692695), (4, 0.98717535)]\n",
      "[(0, 0.55895942), (1, 0.00014333114), (2, 0.0001441101), (3, 0.39177611), (4, 0.048976988)]\n",
      "[(0, 0.00011638977), (1, 0.00011683038), (2, 0.00012529497), (3, 0.00011279985), (4, 0.99952871)]\n",
      "[(0, 0.014614376), (1, 0.98450273), (2, 0.00031958116), (3, 0.00027608848), (4, 0.00028724343)]\n",
      "[(0, 0.9931016), (1, 0.0032898861), (2, 0.00044388956), (3, 0.0027529888), (4, 0.00041160718)]\n"
     ]
    }
   ],
   "source": [
    "for i in range(len(corpus_sparse)):\n",
    "    print(model_corpus.get_document_topics(corpus_sparse[i],minimum_probability=0))"
   ]
  },
  {
   "cell_type": "code",
   "execution_count": 120,
   "metadata": {
    "collapsed": false
   },
   "outputs": [
    {
     "data": {
      "text/plain": [
       "['Integral',\n",
       " 'Riemann_integral',\n",
       " 'Riemann-Stieltjes_integral',\n",
       " 'Derivative',\n",
       " 'Limit_of_a_sequence',\n",
       " 'Edvard_Munch',\n",
       " 'Vincent_van_Gogh',\n",
       " 'Jan_Matejko',\n",
       " 'Lev_Tolstoj',\n",
       " 'Franz_Kafka',\n",
       " 'J._R._R._Tolkien',\n",
       " 'Warsaw',\n",
       " 'England',\n",
       " 'Eiffel_Tower',\n",
       " 'Taipei_101']"
      ]
     },
     "execution_count": 120,
     "metadata": {},
     "output_type": "execute_result"
    }
   ],
   "source": [
    "titles"
   ]
  },
  {
   "cell_type": "code",
   "execution_count": 123,
   "metadata": {
    "collapsed": true
   },
   "outputs": [],
   "source": [
    "model_corpus.get_topic_terms?"
   ]
  },
  {
   "cell_type": "code",
   "execution_count": 125,
   "metadata": {
    "collapsed": false
   },
   "outputs": [
    {
     "name": "stdout",
     "output_type": "stream",
     "text": [
      "integr 0.0213524\n",
      "gogh 0.0194905\n",
      "van 0.0173988\n",
      "tower 0.0119824\n",
      "warsaw 0.0115928\n",
      "riemann 0.00612462\n",
      "pari 0.00514521\n",
      "interv 0.00411954\n",
      "1888 0.00400462\n",
      "level 0.00370289\n"
     ]
    }
   ],
   "source": [
    "for tup in model_corpus.get_topic_terms(topicid=1):\n",
    "    print(dictionary_sparse[tup[0]],tup[1])"
   ]
  },
  {
   "cell_type": "code",
   "execution_count": 126,
   "metadata": {
    "collapsed": false
   },
   "outputs": [
    {
     "data": {
      "text/plain": [
       "array([ 0.33863,  0.34356,  0.36412,  0.33029,  0.33625], dtype=float32)"
      ]
     },
     "execution_count": 126,
     "metadata": {},
     "output_type": "execute_result"
    }
   ],
   "source": [
    "model_corpus.alpha"
   ]
  },
  {
   "cell_type": "code",
   "execution_count": 127,
   "metadata": {
    "collapsed": false
   },
   "outputs": [
    {
     "data": {
      "text/plain": [
       "array([ 0.3478 ,  0.4259 ,  0.33266, ...,  0.34632,  0.32715,  0.40179], dtype=float32)"
      ]
     },
     "execution_count": 127,
     "metadata": {},
     "output_type": "execute_result"
    }
   ],
   "source": [
    "model_corpus.eta"
   ]
  },
  {
   "cell_type": "code",
   "execution_count": 128,
   "metadata": {
    "collapsed": false
   },
   "outputs": [
    {
     "data": {
      "text/plain": [
       "[(0,\n",
       "  '0.023*\"integr\" + 0.017*\"warsaw\" + 0.014*\"riemann\" + 0.008*\"tower\" + 0.007*\"england\" + 0.006*\"interv\" + 0.005*\"level\" + 0.005*\"defin\"'),\n",
       " (1,\n",
       "  '0.021*\"integr\" + 0.019*\"gogh\" + 0.017*\"van\" + 0.012*\"tower\" + 0.012*\"warsaw\" + 0.006*\"riemann\" + 0.005*\"pari\" + 0.004*\"interv\"'),\n",
       " (2,\n",
       "  '0.019*\"integr\" + 0.015*\"displaystyl\" + 0.013*\"van\" + 0.009*\"gogh\" + 0.009*\"riemann\" + 0.009*\"sequenc\" + 0.007*\"sum\" + 0.006*\"tower\"'),\n",
       " (3,\n",
       "  '0.014*\"warsaw\" + 0.008*\"gogh\" + 0.007*\"van\" + 0.007*\"integr\" + 0.007*\"england\" + 0.006*\"tower\" + 0.005*\"polish\" + 0.004*\"stori\"'),\n",
       " (4,\n",
       "  '0.020*\"england\" + 0.015*\"integr\" + 0.008*\"warsaw\" + 0.006*\"kingdom\" + 0.005*\"stori\" + 0.005*\"british\" + 0.005*\"london\" + 0.004*\"tower\"')]"
      ]
     },
     "execution_count": 128,
     "metadata": {},
     "output_type": "execute_result"
    }
   ],
   "source": [
    "model_corpus.print_topics(num_words=8)"
   ]
  },
  {
   "cell_type": "code",
   "execution_count": null,
   "metadata": {
    "collapsed": true
   },
   "outputs": [],
   "source": [
    "# zsumowac wystapienia tematow w corpusie i zobaczyc ktory jest najczestszy"
   ]
  },
  {
   "cell_type": "code",
   "execution_count": 129,
   "metadata": {
    "collapsed": false
   },
   "outputs": [
    {
     "name": "stdout",
     "output_type": "stream",
     "text": [
      "[0 4 2 1 3]\n"
     ]
    }
   ],
   "source": [
    "sum_percent = np.zeros(5)\n",
    "for i in range(len(corpus_sparse)):\n",
    "    dict_topics = model_corpus.get_document_topics(corpus_sparse[i],minimum_probability=0)\n",
    "    doc_topics = [topic[1] for topic in dict_topics]\n",
    "    added = [doc+sum_ for doc,sum_ in zip(doc_topics,sum_percent)]\n",
    "    sum_percent = added.copy()\n",
    "    \n",
    "print(np.argsort(sum_percent)[::-1])\n"
   ]
  },
  {
   "cell_type": "code",
   "execution_count": 130,
   "metadata": {
    "collapsed": true
   },
   "outputs": [],
   "source": [
    "pyLDAvis.enable_notebook()"
   ]
  },
  {
   "cell_type": "code",
   "execution_count": 131,
   "metadata": {
    "collapsed": false
   },
   "outputs": [
    {
     "data": {
      "text/html": [
       "\n",
       "<link rel=\"stylesheet\" type=\"text/css\" href=\"https://cdn.rawgit.com/bmabey/pyLDAvis/files/ldavis.v1.0.0.css\">\n",
       "\n",
       "\n",
       "<div id=\"ldavis_el241631402675151654569614734247\"></div>\n",
       "<script type=\"text/javascript\">\n",
       "\n",
       "var ldavis_el241631402675151654569614734247_data = {\"mdsDat\": {\"Freq\": [38.73098899592449, 25.18605668629035, 18.669042273001114, 11.064554263012155, 6.349357781771888], \"cluster\": [1, 1, 1, 1, 1], \"topics\": [1, 2, 3, 4, 5], \"x\": [-0.02412519088547932, 0.004039369665603626, 0.015522504914754091, -0.013341614999877738, 0.017904931304999344], \"y\": [-0.0006944967300169548, -0.01774552717306826, 0.002703178806834359, 0.008602594223232308, 0.0071342508730185454]}, \"tinfo\": {\"Category\": [\"Default\", \"Default\", \"Default\", \"Default\", \"Default\", \"Default\", \"Default\", \"Default\", \"Default\", \"Default\", \"Default\", \"Default\", \"Default\", \"Default\", \"Default\", \"Default\", \"Default\", \"Default\", \"Default\", \"Default\", \"Default\", \"Default\", \"Default\", \"Default\", \"Default\", \"Default\", \"Default\", \"Default\", \"Default\", \"Default\", \"Topic1\", \"Topic1\", \"Topic1\", \"Topic1\", \"Topic1\", \"Topic1\", \"Topic1\", \"Topic1\", \"Topic1\", \"Topic1\", \"Topic1\", \"Topic1\", \"Topic1\", \"Topic1\", \"Topic1\", \"Topic1\", \"Topic1\", \"Topic1\", \"Topic1\", \"Topic1\", \"Topic1\", \"Topic1\", \"Topic1\", \"Topic1\", \"Topic1\", \"Topic1\", \"Topic1\", \"Topic1\", \"Topic1\", \"Topic1\", \"Topic1\", \"Topic1\", \"Topic1\", \"Topic1\", \"Topic1\", \"Topic1\", \"Topic1\", \"Topic1\", \"Topic1\", \"Topic1\", \"Topic1\", \"Topic1\", \"Topic1\", \"Topic1\", \"Topic1\", \"Topic1\", \"Topic1\", \"Topic1\", \"Topic1\", \"Topic1\", \"Topic1\", \"Topic1\", \"Topic1\", \"Topic1\", \"Topic1\", \"Topic1\", \"Topic1\", \"Topic1\", \"Topic1\", \"Topic1\", \"Topic1\", \"Topic1\", \"Topic1\", \"Topic1\", \"Topic1\", \"Topic1\", \"Topic2\", \"Topic2\", \"Topic2\", \"Topic2\", \"Topic2\", \"Topic2\", \"Topic2\", \"Topic2\", \"Topic2\", \"Topic2\", \"Topic2\", \"Topic2\", \"Topic2\", \"Topic2\", \"Topic2\", \"Topic2\", \"Topic2\", \"Topic2\", \"Topic2\", \"Topic2\", \"Topic2\", \"Topic2\", \"Topic2\", \"Topic2\", \"Topic2\", \"Topic2\", \"Topic2\", \"Topic2\", \"Topic2\", \"Topic2\", \"Topic2\", \"Topic2\", \"Topic2\", \"Topic2\", \"Topic2\", \"Topic2\", \"Topic2\", \"Topic2\", \"Topic2\", \"Topic2\", \"Topic2\", \"Topic2\", \"Topic2\", \"Topic2\", \"Topic2\", \"Topic2\", \"Topic2\", \"Topic2\", \"Topic2\", \"Topic2\", \"Topic2\", \"Topic2\", \"Topic2\", \"Topic2\", \"Topic2\", \"Topic2\", \"Topic2\", \"Topic2\", \"Topic3\", \"Topic3\", \"Topic3\", \"Topic3\", \"Topic3\", \"Topic3\", \"Topic3\", \"Topic3\", \"Topic3\", \"Topic3\", \"Topic3\", \"Topic3\", \"Topic3\", \"Topic3\", \"Topic3\", \"Topic3\", \"Topic3\", \"Topic3\", \"Topic3\", \"Topic3\", \"Topic3\", \"Topic3\", \"Topic3\", \"Topic3\", \"Topic3\", \"Topic3\", \"Topic3\", \"Topic3\", \"Topic3\", \"Topic3\", \"Topic3\", \"Topic3\", \"Topic3\", \"Topic3\", \"Topic3\", \"Topic3\", \"Topic3\", \"Topic3\", \"Topic3\", \"Topic3\", \"Topic3\", \"Topic3\", \"Topic3\", \"Topic3\", \"Topic3\", \"Topic3\", \"Topic3\", \"Topic3\", \"Topic3\", \"Topic3\", \"Topic3\", \"Topic3\", \"Topic3\", \"Topic3\", \"Topic3\", \"Topic3\", \"Topic3\", \"Topic3\", \"Topic4\", \"Topic4\", \"Topic4\", \"Topic4\", \"Topic4\", \"Topic4\", \"Topic4\", \"Topic4\", \"Topic4\", \"Topic4\", \"Topic4\", \"Topic4\", \"Topic4\", \"Topic4\", \"Topic4\", \"Topic4\", \"Topic4\", \"Topic4\", \"Topic4\", \"Topic4\", \"Topic4\", \"Topic4\", \"Topic4\", \"Topic4\", \"Topic4\", \"Topic4\", \"Topic4\", \"Topic4\", \"Topic4\", \"Topic4\", \"Topic4\", \"Topic4\", \"Topic4\", \"Topic4\", \"Topic4\", \"Topic4\", \"Topic4\", \"Topic4\", \"Topic4\", \"Topic4\", \"Topic4\", \"Topic4\", \"Topic4\", \"Topic4\", \"Topic4\", \"Topic4\", \"Topic4\", \"Topic4\", \"Topic4\", \"Topic4\", \"Topic4\", \"Topic4\", \"Topic4\", \"Topic4\", \"Topic4\", \"Topic4\", \"Topic4\", \"Topic4\", \"Topic4\", \"Topic4\", \"Topic4\", \"Topic4\", \"Topic4\", \"Topic4\", \"Topic4\", \"Topic4\", \"Topic4\", \"Topic4\", \"Topic4\", \"Topic4\", \"Topic4\", \"Topic4\", \"Topic5\", \"Topic5\", \"Topic5\", \"Topic5\", \"Topic5\", \"Topic5\", \"Topic5\", \"Topic5\", \"Topic5\", \"Topic5\", \"Topic5\", \"Topic5\", \"Topic5\", \"Topic5\", \"Topic5\", \"Topic5\", \"Topic5\", \"Topic5\", \"Topic5\", \"Topic5\", \"Topic5\", \"Topic5\", \"Topic5\", \"Topic5\", \"Topic5\", \"Topic5\", \"Topic5\", \"Topic5\", \"Topic5\", \"Topic5\", \"Topic5\", \"Topic5\", \"Topic5\", \"Topic5\", \"Topic5\", \"Topic5\", \"Topic5\", \"Topic5\", \"Topic5\", \"Topic5\", \"Topic5\", \"Topic5\", \"Topic5\", \"Topic5\", \"Topic5\", \"Topic5\", \"Topic5\", \"Topic5\", \"Topic5\", \"Topic5\", \"Topic5\", \"Topic5\", \"Topic5\", \"Topic5\", \"Topic5\", \"Topic5\", \"Topic5\", \"Topic5\"], \"Freq\": [150.0, 147.0, 376.0, 59.0, 141.0, 249.0, 22.0, 148.0, 72.0, 82.0, 51.0, 241.0, 58.0, 39.0, 12.0, 58.0, 18.0, 62.0, 35.0, 29.0, 33.0, 57.0, 11.0, 88.0, 31.0, 34.0, 56.0, 59.0, 25.0, 26.0, 168.672890790259, 18.85804129715151, 23.915590838242412, 11.965967270131586, 48.531702489530616, 26.240586713599555, 39.06927738354471, 5.8470779232092465, 11.488598580187006, 11.469111253246991, 9.68325492044057, 8.963113009181603, 6.178906910599018, 38.98961265592884, 3.884062686767171, 14.364829478580509, 8.078777679854303, 16.253870676383666, 8.20482759643834, 9.86347531736821, 6.964101005105756, 26.11797550562557, 16.61698689570214, 7.050831511697685, 19.63888979250516, 4.86911942407923, 10.362756922191128, 4.770405568804169, 11.986591652893459, 7.704327295972444, 23.959878965781332, 10.79444173873933, 9.44536238337191, 13.220831321090095, 16.860360120521143, 19.697894727316264, 12.75105611812194, 17.847515394680897, 23.181145236878372, 21.742761753329148, 43.77892718763906, 18.426630908435744, 17.27489172212351, 17.88160542986599, 15.458764720703169, 17.21552481798503, 28.775707750721676, 22.940718914518097, 123.38306035122126, 19.32099219796391, 21.183863406842878, 19.408401888850815, 69.04630231508118, 19.406773026877634, 28.55310841773455, 21.831985225302134, 22.24650895800608, 20.18085623681369, 33.65740314989638, 19.504396547915213, 18.767336505050743, 21.942696691638712, 21.479027753845383, 24.306456727843123, 21.273893440904033, 21.241369316504752, 75.50144141879123, 10.767198008616429, 10.751529750584307, 20.35838758584495, 2.356422760815895, 10.047656157072144, 13.231817043869663, 5.02645533889968, 5.472055966447023, 9.79537583927449, 1.834064075296629, 9.108307757337112, 5.130624693206967, 8.70467869346587, 6.876360051210291, 4.692427726939907, 3.184195426556407, 24.983231878267713, 12.227714271720526, 12.31213967644684, 2.8099200407391383, 24.638379250022194, 1.6712284607982224, 9.976053957645796, 1.588811479088763, 2.7236908930486434, 22.121142090228037, 1.9307312660482845, 3.7272026515456864, 34.13730417650702, 13.71976917244088, 16.544196551538384, 7.494020487661075, 94.50053470308087, 22.33028928505067, 10.134298502618972, 22.42866619386731, 14.258382172549336, 21.76429521089588, 27.987310777347336, 124.7168266050416, 22.018177789730863, 15.7883553322777, 43.811601530622774, 24.143012586542895, 18.607157847677684, 20.205231898681358, 15.175144128471896, 19.223862684132552, 16.6736528471031, 37.007573491151646, 18.744450830759117, 16.680221797543574, 15.875082108346257, 21.273258809780945, 17.451942351140698, 14.572751544700193, 15.510001973895324, 79.37819453613022, 70.85917795348493, 13.873920989964027, 16.309414597138215, 10.891841133961014, 10.802225996088191, 2.2693305265300294, 9.490435308594277, 6.233696391197515, 4.278893596867236, 12.45203701464542, 4.341108446677025, 12.444042419246077, 2.3650665413216947, 2.0818240286701064, 4.638755170147464, 2.3832722386731002, 2.163392180988703, 1.1943106248903217, 2.495315341085613, 20.954649078205346, 3.615492948579204, 2.1493487747659206, 48.80023923416779, 6.488209660092537, 4.8966920526932185, 1.6548615717236106, 1.9501100825159132, 3.106044207776285, 7.953986628702594, 5.8387376812175, 5.545398803423638, 14.867852784821958, 6.282354280928499, 14.436925981449674, 86.96071600195447, 6.48012830090728, 7.061851038316939, 10.825828590571058, 47.21331346975523, 11.048917723036647, 14.558289079062199, 13.919141516591866, 9.310920561419406, 13.342718007789635, 13.091598957164326, 24.943442978619505, 16.777445957262522, 15.080574830168459, 7.815585114836589, 12.166898025798993, 13.3690041160882, 11.765316346827552, 11.60126072535491, 10.304289102847468, 12.01270218406332, 12.145574995702322, 13.589010526499079, 1.7052363453520045, 1.2709258433157054, 1.5090715949746116, 2.834259486228206, 2.668274349709742, 1.3683268747861044, 1.0223604291125716, 1.6866480748165058, 1.2608341727109285, 1.2641455635958756, 1.8589099472077275, 1.463629432233101, 2.3181139766904955, 1.0275592664376896, 0.8553625849909547, 0.9182828754923941, 0.9002762655391722, 1.7625953846462046, 1.210856602902636, 1.6500679465889299, 1.8706533090698103, 5.573092917508975, 1.2853736458899248, 0.6585597641946224, 0.670866240939257, 2.504821544190059, 0.8595029124545089, 0.6749153853791644, 1.2741485801360593, 3.1446661684033383, 4.1377661900240215, 4.784398259341115, 2.5653760637459264, 1.8193095393817933, 9.004550348447008, 3.224608531048747, 2.397649317426036, 3.0451403898349265, 9.150952912028822, 9.526604489817485, 11.117771575076006, 33.507684633809774, 5.144735585084327, 7.899998820348538, 8.335849177452893, 18.79350624050735, 6.50765905785744, 4.901018115137655, 5.266476863959406, 4.998117216996626, 16.45999525861127, 10.124726909559046, 4.826713926204025, 3.3560301031892537, 13.836666693179948, 4.187986820896889, 5.241419937658544, 5.3522653369498725, 15.926282616004722, 4.433622927778723, 5.65586237538061, 4.84814825915865, 5.711114510787897, 16.15832978290641, 6.132627918023205, 5.63109150244823, 4.629967655742081, 5.836454217400481, 5.872806036824627, 6.809814027636852, 5.202743161877993, 4.945045606284252, 12.177726318810594, 4.927233576275501, 21.268749814075903, 3.837847749912171, 1.411326618687371, 4.378529772690092, 1.4184774973854042, 1.4185982723678117, 1.584820122788253, 0.8622105838035298, 1.5302825589366402, 0.5616738515209182, 0.6881531943709, 0.8822812412771703, 0.5208385238576397, 0.9059408829576676, 1.4505979990150413, 3.220747251683499, 1.5375914609761412, 0.59733738158974, 1.151962263343041, 0.8102712945567551, 0.6949614204152402, 0.8269700080455957, 0.5910987248799913, 0.5875691203624157, 2.9337897634425847, 1.096796798581555, 9.82747289586892, 2.7899904576865784, 17.612552797650505, 5.908497252433642, 8.264562064381947, 3.137176768796561, 12.676667282181333, 12.849084292580542, 5.853211012689748, 25.75572262110335, 4.203595998705546, 3.3895177928541855, 3.1257526486982847, 2.883717326477283, 3.6955022588976685, 4.583723404082645, 8.34495853558169, 2.8701440889350445, 3.0886210334127346, 4.824716094746575, 3.03404428622237, 3.733164381115289, 6.781055059513006, 4.012152010503767, 5.630885716102394, 3.6049319869769376, 3.4776973973661396, 3.3776873270207064, 3.133085576735621, 3.1490288419032613], \"Term\": [\"van\", \"gogh\", \"integr\", \"displaystyl\", \"riemann\", \"warsaw\", \"sequenc\", \"tower\", \"sum\", \"interv\", \"portrait\", \"england\", \"partit\", \"zero\", \"to\", \"defin\", \"gt\", \"pari\", \"1888\", \"vincent\", \"1889\", \"vector\", \"converg\", \"stori\", \"self\", \"draw\", \"101\", \"poland\", \"1890\", \"tag\", \"england\", \"wale\", \"industri\", \"footbal\", \"kingdom\", \"union\", \"british\", \"profession\", \"jame\", \"cup\", \"counti\", \"insur\", \"wider\", \"london\", \"1948\", \"battl\", \"dedic\", \"franz\", \"parti\", \"da\", \"game\", \"roman\", \"tale\", \"minor\", \"west\", \"settl\", \"free\", \"192\", \"anglo\", \"coloni\", \"king\", \"henri\", \"text\", \"uk\", \"polit\", \"edit\", \"empir\", \"der\", \"region\", \"john\", \"stori\", \"literari\", \"music\", \"literatur\", \"club\", \"writer\", \"church\", \"north\", \"integr\", \"age\", \"royal\", \"popul\", \"warsaw\", \"friend\", \"polish\", \"ring\", \"largest\", \"east\", \"tower\", \"novel\", \"south\", \"level\", \"sum\", \"van\", \"riemann\", \"gogh\", \"riemann\", \"darboux\", \"subinterv\", \"zero\", \"neighborhood\", \"graph\", \"tag\", \"mesh\", \"refin\", \"choos\", \"integ\", \"ti\", \"equat\", \"partial\", \"alway\", \"xn\", \"complic\", \"defin\", \"equal\", \"let\", \"lebesgue\", \"partit\", \"yield\", \"denot\", \"modifi\", \"intersect\", \"floor\", \"multivari\", \"restrict\", \"interv\", \"notat\", \"lebesgu\", \"smaller\", \"warsaw\", \"101\", \"stieltj\", \"vector\", \"calculu\", \"ft\", \"level\", \"integr\", \"differenti\", \"linear\", \"tower\", \"sum\", \"palac\", \"poland\", \"centr\", \"park\", \"variabl\", \"england\", \"polish\", \"pari\", \"displaystyl\", \"van\", \"stori\", \"largest\", \"gogh\", \"gogh\", \"van\", \"vincent\", \"1888\", \"stieltj\", \"1890\", \"treat\", \"colour\", \"yellow\", \"1885\", \"1889\", \"dutch\", \"draw\", \"1880\", \"jean\", \"hospit\", \"remov\", \"chair\", \"slight\", \"rememb\", \"pari\", \"stay\", \"deepli\", \"tower\", \"1887\", \"ill\", \"alongsid\", \"sein\", \"arrang\", \"brother\", \"le\", \"la\", \"variabl\", \"visitor\", \"portrait\", \"integr\", \"decemb\", \"franc\", \"top\", \"warsaw\", \"linear\", \"differenti\", \"partit\", \"juli\", \"vector\", \"ft\", \"riemann\", \"interv\", \"level\", \"xi\", \"displaystyl\", \"sum\", \"defin\", \"poland\", \"ring\", \"polish\", \"stori\", \"england\", \"recov\", \"1898\", \"andrea\", \"color\", \"canva\", \"psycholog\", \"abroad\", \"ash\", \"sibl\", \"1903\", \"1906\", \"1902\", \"1900\", \"medium\", \"aesthet\", \"theater\", \"bigger\", \"1895\", \"pain\", \"1896\", \"99\", \"painter\", \"pattern\", \"sculptor\", \"1963\", \"emot\", \"1879\", \"solitud\", \"bright\", \"jan\", \"berlin\", \"theatr\", \"1892\", \"commiss\", \"portrait\", \"mayor\", \"hospit\", \"nazi\", \"park\", \"poland\", \"polish\", \"warsaw\", \"self\", \"palac\", \"101\", \"gogh\", \"royal\", \"street\", \"literari\", \"highest\", \"van\", \"stori\", \"1889\", \"theme\", \"tower\", \"garden\", \"town\", \"centr\", \"england\", \"district\", \"ring\", \"architectur\", \"largest\", \"integr\", \"british\", \"floor\", \"juli\", \"pari\", \"level\", \"riemann\", \"ft\", \"kingdom\", \"sequenc\", \"to\", \"displaystyl\", \"converg\", \"lt\", \"gt\", \"sin\", \"infin\", \"analysi\", \"succeed\", \"index\", \"versa\", \"otherwis\", \"in\", \"regardless\", \"ultim\", \"distanc\", \"ti\", \"notion\", \"intuit\", \"larger\", \"uniqu\", \"neither\", \"criterion\", \"integ\", \"proven\", \"choos\", \"prove\", \"sum\", \"infinit\", \"van\", \"portrait\", \"interv\", \"tag\", \"riemann\", \"gogh\", \"partit\", \"integr\", \"zero\", \"self\", \"let\", \"xi\", \"novel\", \"defin\", \"tower\", \"finit\", \"draw\", \"stori\", \"1889\", \"vector\", \"england\", \"kingdom\", \"warsaw\", \"differenti\", \"pari\", \"level\", \"linear\", \"ring\"], \"Total\": [150.0, 147.0, 376.0, 59.0, 141.0, 249.0, 22.0, 148.0, 72.0, 82.0, 51.0, 241.0, 58.0, 39.0, 12.0, 58.0, 18.0, 62.0, 35.0, 29.0, 33.0, 57.0, 11.0, 88.0, 31.0, 34.0, 56.0, 59.0, 25.0, 26.0, 241.97681248342744, 28.5505773906044, 36.96554157483857, 18.58100515907498, 76.12537623681291, 41.31300882405986, 61.56883477663175, 9.409819710223976, 18.622753106221605, 18.80194965319294, 16.130211879383655, 14.93568814775931, 10.301092388903278, 65.04234460012378, 6.483181724987575, 24.223150855305544, 13.652321374465018, 27.474152889363523, 13.89846478536235, 16.76953060588537, 11.847076049925478, 44.4428264286612, 28.278017006947795, 12.001181763737753, 33.73775521634242, 8.388018372578173, 17.894529046745376, 8.24056840358211, 20.741643167799374, 13.356373780130394, 41.89154697572846, 18.74301428618636, 16.40233391986186, 23.14142439603959, 29.952276905681945, 35.30194617850949, 22.524600233613533, 32.223178824682456, 42.836049198060536, 40.06918610389398, 88.3258875387877, 33.85163903675523, 31.519102543348467, 32.752412236956324, 28.0900719527412, 32.03856597982154, 58.701605721844906, 45.43816228331271, 376.97465536222717, 37.56472701803484, 42.798831653789506, 38.5487648646507, 249.89872083782944, 38.62561032731708, 72.6686624136323, 47.805725151981996, 51.93707563445997, 42.86141157963804, 148.45086914344859, 41.06787114414552, 39.347535187723395, 74.26107566299984, 72.15449786815948, 150.51144154737077, 141.20525914813297, 147.77215635961818, 141.20525914813297, 20.51833913410216, 20.669087195042326, 39.9263051698604, 4.669811640275079, 20.21767162434125, 26.748670207008015, 10.402537810619641, 11.345877075504337, 20.498097537559907, 4.078030274860073, 20.304357447779303, 11.4604667630679, 19.452751167687413, 15.78586528889233, 10.833433490530107, 7.403420007348079, 58.20249088164515, 28.54806109608812, 28.805859459069918, 6.593648322609228, 58.22899929228398, 3.950057288433694, 23.588636383983093, 3.7617625568684905, 6.4743279374054605, 52.605414828551496, 4.594283541376675, 8.899991369107715, 82.42446927020131, 33.28219205759055, 40.47315469419782, 18.316232785776222, 249.89872083782944, 56.780938649268684, 25.015500893637274, 57.8720631434521, 35.94154153791855, 56.63517498613492, 74.26107566299984, 376.97465536222717, 60.64110319447867, 42.81739222771098, 148.45086914344859, 72.15449786815948, 52.38263750575588, 59.76511375016118, 41.08358704074913, 57.061120293391355, 49.4773009666421, 241.97681248342744, 72.6686624136323, 62.714809988141916, 59.18711158217706, 150.51144154737077, 88.3258875387877, 51.93707563445997, 147.77215635961818, 147.77215635961818, 150.51144154737077, 29.757106763430617, 35.799053494865376, 25.015500893637274, 25.58567750312474, 5.609944488121295, 24.362788396575333, 16.41617697478543, 11.324972566690123, 33.77358225472546, 11.816205337586206, 34.263955029972664, 6.649488050156009, 5.878706094442497, 13.159886421391779, 6.81706827875431, 6.264125810879416, 3.4799376032355793, 7.347680920091396, 62.714809988141916, 10.904937014157355, 6.492807292489064, 148.45086914344859, 19.83431646129456, 15.009538265493822, 5.084484982007538, 6.0054001803447505, 9.66192329273145, 24.74792803709394, 18.478822674213134, 17.534165857032306, 49.4773009666421, 20.51825082583017, 51.6598308319002, 376.97465536222717, 21.655229327888122, 24.346887217747017, 40.6488359231797, 249.89872083782944, 42.81739222771098, 60.64110319447867, 58.22899929228398, 35.357133354645896, 57.8720631434521, 56.63517498613492, 141.20525914813297, 82.42446927020131, 74.26107566299984, 28.26089926059419, 59.18711158217706, 72.15449786815948, 58.20249088164515, 59.76511375016118, 47.805725151981996, 72.6686624136323, 88.3258875387877, 241.97681248342744, 6.805636296475734, 5.369852038657789, 6.393904521264291, 12.208834176118048, 11.627846141512643, 6.003536781272311, 4.6016276686973026, 7.919159520495162, 6.17906137374567, 6.201458814126967, 9.148805566158902, 7.302049722991842, 11.572604587135817, 5.283011561395905, 4.429549818666425, 4.764838531175314, 4.690786558983371, 9.186254194314726, 6.327651603455393, 8.676084660498383, 9.86410210679091, 29.395881252407346, 6.787837838480621, 3.4904904624370805, 3.560735831365152, 13.314994980696753, 4.576554514368129, 3.5988363133961716, 6.81833339289723, 16.847905021465703, 22.306471413702585, 26.139789534125207, 13.858363858171494, 9.836771418395656, 51.6598308319002, 18.025612143306365, 13.159886421391779, 17.02149154703038, 57.061120293391355, 59.76511375016118, 72.6686624136323, 249.89872083782944, 31.282482230557175, 52.38263750575588, 56.780938649268684, 147.77215635961818, 42.798831653789506, 30.9536030203557, 33.85163903675523, 33.2792933608091, 150.51144154737077, 88.3258875387877, 33.77358225472546, 20.468031876887693, 148.45086914344859, 28.122635095286352, 39.56953916811674, 41.08358704074913, 241.97681248342744, 31.84952919506893, 47.805725151981996, 37.68866202236502, 51.93707563445997, 376.97465536222717, 61.56883477663175, 52.605414828551496, 35.357133354645896, 62.714809988141916, 74.26107566299984, 141.20525914813297, 56.63517498613492, 76.12537623681291, 22.212335897199914, 12.455487886875211, 59.18711158217706, 11.113446040504982, 4.994651847267935, 18.594400022416988, 6.1558321553025666, 6.258264203792383, 7.860021184036892, 4.330323194660885, 7.927233419427958, 2.9305263659818253, 3.717114696236359, 5.110445772972169, 3.0265220363947383, 5.437557048754833, 8.921070668753758, 20.304357447779303, 10.056778328373628, 3.9228769627120776, 7.61729073698525, 5.451778664717203, 4.711334464359711, 5.643691145160654, 4.078030274860073, 4.094213691857017, 20.498097537559907, 7.740317690398101, 72.15449786815948, 20.647316845571392, 150.51144154737077, 51.6598308319002, 82.42446927020131, 26.748670207008015, 141.20525914813297, 147.77215635961818, 58.22899929228398, 376.97465536222717, 39.9263051698604, 31.282482230557175, 28.805859459069918, 28.26089926059419, 41.06787114414552, 58.20249088164515, 148.45086914344859, 29.868225039199803, 34.263955029972664, 88.3258875387877, 33.77358225472546, 57.8720631434521, 241.97681248342744, 76.12537623681291, 249.89872083782944, 60.64110319447867, 62.714809988141916, 74.26107566299984, 42.81739222771098, 47.805725151981996], \"loglift\": [30.0, 29.0, 28.0, 27.0, 26.0, 25.0, 24.0, 23.0, 22.0, 21.0, 20.0, 19.0, 18.0, 17.0, 16.0, 15.0, 14.0, 13.0, 12.0, 11.0, 10.0, 9.0, 8.0, 7.0, 6.0, 5.0, 4.0, 3.0, 2.0, 1.0, 0.5876, 0.5338, 0.5131, 0.5085, 0.4984, 0.4947, 0.4937, 0.4727, 0.4655, 0.4542, 0.4382, 0.4379, 0.4374, 0.4368, 0.4362, 0.426, 0.4239, 0.4236, 0.4215, 0.4178, 0.4172, 0.417, 0.4169, 0.4167, 0.4074, 0.4046, 0.4023, 0.4019, 0.4002, 0.3983, 0.3898, 0.3967, 0.3966, 0.3887, 0.3739, 0.3651, 0.3795, 0.3577, 0.3345, 0.3372, 0.2466, 0.3403, 0.3472, 0.3433, 0.3513, 0.3274, 0.2356, 0.2651, -0.1684, 0.2837, 0.2453, 0.2623, -0.3377, 0.2602, 0.0144, 0.1648, 0.1007, 0.1953, -0.5355, 0.2039, 0.2082, -0.2706, -0.2632, -0.8748, -0.9442, -0.9912, 0.7528, 0.7341, 0.7253, 0.7053, 0.6949, 0.6797, 0.675, 0.6515, 0.6497, 0.6405, 0.5798, 0.5772, 0.5752, 0.5748, 0.5479, 0.5422, 0.5351, 0.5332, 0.531, 0.5289, 0.5259, 0.5188, 0.5187, 0.5183, 0.517, 0.513, 0.5126, 0.512, 0.5085, 0.4974, 0.4927, 0.4843, 0.4852, 0.4064, 0.4456, 0.4753, 0.431, 0.4543, 0.4225, 0.403, 0.2727, 0.3658, 0.3812, 0.1585, 0.2841, 0.3439, 0.2944, 0.3829, 0.2909, 0.2912, -0.4988, 0.0239, 0.0545, 0.0629, -0.5777, -0.2427, 0.108, -0.8753, 1.0569, 0.925, 0.9152, 0.8921, 0.8468, 0.816, 0.7732, 0.7355, 0.71, 0.705, 0.6805, 0.677, 0.6655, 0.6446, 0.6402, 0.6356, 0.6273, 0.6151, 0.6089, 0.5983, 0.5821, 0.5743, 0.5728, 0.5658, 0.5609, 0.5582, 0.5558, 0.5535, 0.5435, 0.5432, 0.5262, 0.5271, 0.476, 0.4947, 0.4034, 0.2116, 0.4718, 0.4406, 0.3553, 0.0119, 0.3237, 0.2515, 0.2472, 0.344, 0.211, 0.2136, -0.0553, 0.0865, 0.0841, 0.3929, 0.0963, -0.0076, 0.0795, 0.039, 0.1437, -0.1216, -0.3058, -1.2013, 0.8174, 0.7604, 0.7576, 0.741, 0.7295, 0.7227, 0.6971, 0.6549, 0.612, 0.611, 0.6078, 0.5942, 0.5935, 0.5641, 0.5569, 0.5549, 0.5508, 0.5505, 0.5478, 0.5417, 0.5388, 0.5385, 0.5373, 0.5337, 0.5323, 0.5308, 0.5291, 0.5276, 0.5241, 0.5229, 0.5167, 0.5033, 0.5146, 0.5138, 0.4545, 0.4804, 0.4987, 0.4805, 0.3712, 0.3651, 0.3241, 0.1921, 0.3963, 0.3097, 0.2828, 0.1393, 0.3179, 0.3584, 0.3408, 0.3055, -0.0117, 0.0354, 0.2559, 0.3933, -0.1715, 0.2971, 0.18, 0.1633, -0.5194, 0.2296, 0.067, 0.1507, -0.0062, -0.9483, -0.1051, -0.0331, 0.1685, -0.1731, -0.3358, -0.8304, -0.186, -0.5326, 2.1558, 1.8294, 1.7334, 1.6936, 1.493, 1.3107, 1.289, 1.2726, 1.1555, 1.1429, 1.112, 1.1048, 1.0701, 1.0003, 0.9971, 0.9647, 0.9404, 0.9156, 0.8788, 0.8747, 0.8679, 0.8505, 0.8429, 0.8363, 0.8254, 0.8155, 0.8128, 0.8028, 0.7632, 0.7553, 0.6114, 0.5885, 0.4569, 0.6137, 0.3464, 0.3144, 0.4594, 0.0733, 0.5057, 0.5344, 0.5359, 0.4744, 0.3487, 0.2154, -0.1218, 0.4144, 0.3504, -0.1505, 0.347, 0.0158, -0.8179, -0.1862, -1.036, -0.0659, -0.1354, -0.3336, 0.1419, 0.0368], \"logprob\": [30.0, 29.0, 28.0, 27.0, 26.0, 25.0, 24.0, 23.0, 22.0, 21.0, 20.0, 19.0, 18.0, 17.0, 16.0, 15.0, 14.0, 13.0, 12.0, 11.0, 10.0, 9.0, 8.0, 7.0, 6.0, 5.0, 4.0, 3.0, 2.0, 1.0, -3.9138998985290527, -6.104899883270264, -5.867300033569336, -6.559800148010254, -5.159599781036377, -5.774499893188477, -5.376500129699707, -7.275899887084961, -6.600500106811523, -6.602200031280518, -6.771399974822998, -6.848700046539307, -7.220699787139893, -5.378499984741211, -7.684899806976318, -6.376999855041504, -6.952600002288818, -6.253499984741211, -6.937099933624268, -6.752999782562256, -7.101099967956543, -5.779200077056885, -6.231400012969971, -7.088699817657471, -6.064300060272217, -7.458899974822998, -6.70359992980957, -7.479400157928467, -6.558000087738037, -7.0, -5.8653998374938965, -6.662799835205078, -6.796299934387207, -6.460000038146973, -6.216899871826172, -6.061299800872803, -6.496200084686279, -6.159999847412109, -5.898499965667725, -5.962500095367432, -5.262700080871582, -6.127999782562256, -6.192599773406982, -6.158100128173828, -6.303599834442139, -6.196000099182129, -5.682300090789795, -5.908899784088135, -4.226500034332275, -6.080599784851074, -5.98859977722168, -6.076099872589111, -4.807000160217285, -6.076200008392334, -5.690100193023682, -5.958399772644043, -5.939599990844727, -6.037099838256836, -5.525599956512451, -6.071199893951416, -6.1097002029418945, -5.953400135040283, -5.974699974060059, -5.851099967956543, -5.984300136566162, -5.985899925231934, -4.287300109863281, -6.235000133514404, -6.236400127410889, -5.5980000495910645, -7.754300117492676, -6.304100036621094, -6.028800010681152, -6.996799945831299, -6.911799907684326, -6.329599857330322, -8.004899978637695, -6.402299880981445, -6.976200103759766, -6.4475998878479, -6.6834001541137695, -7.065499782562256, -7.4532999992370605, -5.3933000564575195, -6.107800006866455, -6.100900173187256, -7.5782999992370605, -5.407199859619141, -8.097900390625, -6.311299800872803, -8.148500442504883, -7.609499931335449, -5.514900207519531, -7.95359992980957, -7.29580020904541, -5.081099987030029, -5.992599964141846, -5.8053998947143555, -6.597400188446045, -4.062900066375732, -5.505499839782715, -6.295499801635742, -5.501100063323975, -5.954100131988525, -5.531199932098389, -5.279699802398682, -3.785399913787842, -5.519599914550781, -5.852200031280518, -4.831600189208984, -5.427499771118164, -5.687900066375732, -5.605500221252441, -5.8917999267578125, -5.655300140380859, -5.797599792480469, -5.000400066375732, -5.680600166320801, -5.7972002029418945, -5.846700191497803, -5.553999900817871, -5.751999855041504, -5.932300090789795, -5.869999885559082, -3.9377999305725098, -4.051400184631348, -5.682000160217285, -5.520299911499023, -5.923999786376953, -5.932300090789795, -7.492599964141846, -6.061800003051758, -6.482100009918213, -6.858399868011475, -5.790200233459473, -6.843900203704834, -5.790800094604492, -7.451200008392334, -7.578800201416016, -6.777599811553955, -7.443600177764893, -7.54040002822876, -8.134499549865723, -7.397600173950195, -5.269700050354004, -7.026800155639648, -7.546899795532227, -4.424300193786621, -6.4421000480651855, -6.723499774932861, -7.808300018310547, -7.644199848175049, -7.178699970245361, -6.238399982452393, -6.547500133514404, -6.599100112915039, -5.612800121307373, -6.474299907684326, -5.642300128936768, -3.84660005569458, -6.443299770355225, -6.3572998046875, -5.930099964141846, -4.457399845123291, -5.9096999168396, -5.633900165557861, -5.678800106048584, -6.080900192260742, -5.721099853515625, -5.740099906921387, -5.095399856567383, -5.492000102996826, -5.598599910736084, -6.255899906158447, -5.813300132751465, -5.719099998474121, -5.84689998626709, -5.860899925231934, -5.979499816894531, -5.826099872589111, -5.815100193023682, -5.7027997970581055, -7.255199909210205, -7.549200057983398, -7.377399921417236, -6.747099876403809, -6.807499885559082, -7.475299835205078, -7.7667999267578125, -7.266200065612793, -7.557199954986572, -7.554500102996826, -7.168900012969971, -7.4079999923706055, -6.948200225830078, -7.76170015335083, -7.945199966430664, -7.874199867248535, -7.894000053405762, -7.222099781036377, -7.597599983215332, -7.288099765777588, -7.162600040435791, -6.071000099182129, -7.537899971008301, -8.206600189208984, -8.18809986114502, -6.870699882507324, -7.940299987792969, -8.182100296020508, -7.5467000007629395, -6.643199920654297, -6.368800163269043, -6.223599910736084, -6.846799850463867, -7.190499782562256, -5.59119987487793, -6.618100166320801, -6.914400100708008, -6.6753997802734375, -5.575099945068359, -5.534800052642822, -5.38040018081665, -4.277200222015381, -6.151000022888184, -5.722099781036377, -5.668399810791016, -4.855400085449219, -5.915999889373779, -6.19950008392334, -6.127600193023682, -6.179900169372559, -4.98799991607666, -5.473899841308594, -6.214799880981445, -6.578199863433838, -5.161600112915039, -6.3566999435424805, -6.132299900054932, -6.111400127410889, -5.020999908447266, -6.299699783325195, -6.05620002746582, -6.210299968719482, -6.046500205993652, -5.006499767303467, -5.975299835205078, -6.0605998039245605, -6.256400108337402, -6.024799823760986, -6.018599987030029, -5.87060022354126, -6.139699935913086, -6.190499782562256, -4.73390007019043, -5.638800144195557, -4.176300048828125, -5.888599872589111, -6.888999938964844, -5.756800174713135, -6.883999824523926, -6.883900165557861, -6.773099899291992, -7.381800174713135, -6.80810022354126, -7.810400009155273, -7.6072998046875, -7.358799934387207, -7.885900020599365, -7.332300186157227, -6.861599922180176, -6.063899993896484, -6.803299903869629, -7.748799800872803, -7.092100143432617, -7.443900108337402, -7.597400188446045, -7.423500061035156, -7.759300231933594, -7.7652997970581055, -6.157199859619141, -7.14109992980957, -4.948400020599365, -6.207499980926514, -4.3649001121521, -5.457099914550781, -5.121600151062012, -6.090199947357178, -4.69379997253418, -4.680300235748291, -5.4664998054504395, -3.9848999977111816, -5.797599792480469, -6.012800216674805, -6.093900203704834, -6.174499988555908, -5.926400184631348, -5.710999965667725, -5.1118998527526855, -6.179200172424316, -6.105800151824951, -5.659800052642822, -6.123600006103516, -5.916299819946289, -5.319399833679199, -5.844200134277344, -5.505300045013428, -5.951200008392334, -5.987199783325195, -6.016300201416016, -6.0914998054504395, -6.086400032043457]}, \"token.table\": {\"Topic\": [1, 2, 3, 4, 5, 1, 2, 3, 4, 1, 2, 3, 4, 1, 2, 3, 4, 5, 1, 2, 3, 4, 5, 1, 2, 3, 4, 5, 1, 2, 3, 4, 5, 1, 2, 3, 4, 5, 1, 2, 3, 4, 5, 1, 2, 3, 4, 5, 1, 2, 3, 4, 5, 1, 2, 3, 4, 1, 2, 3, 4, 5, 1, 2, 3, 4, 5, 1, 2, 3, 4, 1, 2, 3, 4, 5, 1, 2, 3, 4, 1, 2, 3, 4, 1, 2, 3, 4, 1, 2, 3, 4, 5, 1, 2, 3, 4, 1, 2, 3, 4, 1, 2, 3, 4, 5, 1, 2, 3, 4, 1, 2, 3, 4, 5, 1, 2, 3, 4, 5, 1, 2, 3, 4, 1, 2, 3, 4, 5, 1, 2, 3, 4, 5, 1, 2, 3, 4, 5, 1, 2, 3, 4, 5, 1, 2, 3, 4, 5, 1, 2, 3, 4, 5, 1, 2, 3, 4, 1, 2, 3, 4, 1, 2, 3, 4, 5, 1, 2, 3, 4, 5, 1, 2, 3, 4, 5, 1, 2, 3, 4, 5, 1, 2, 3, 4, 5, 1, 2, 3, 4, 5, 1, 2, 3, 4, 5, 1, 2, 3, 4, 5, 1, 2, 3, 4, 5, 1, 2, 3, 4, 5, 1, 2, 3, 4, 5, 1, 2, 3, 4, 5, 1, 2, 3, 4, 5, 1, 2, 3, 5, 1, 2, 3, 4, 5, 1, 2, 3, 4, 5, 1, 2, 3, 5, 1, 2, 3, 4, 5, 1, 2, 3, 4, 5, 1, 2, 3, 4, 5, 1, 2, 3, 4, 5, 1, 2, 3, 4, 5, 1, 2, 3, 4, 5, 1, 2, 3, 4, 5, 1, 2, 3, 4, 5, 1, 2, 3, 4, 5, 1, 2, 3, 4, 5, 1, 2, 3, 4, 5, 1, 2, 3, 4, 5, 1, 2, 3, 4, 5, 1, 2, 3, 4, 5, 1, 2, 3, 4, 5, 1, 2, 3, 4, 5, 1, 2, 3, 4, 5, 1, 2, 3, 4, 5, 1, 2, 3, 4, 5, 1, 2, 3, 4, 5, 1, 2, 3, 4, 5, 1, 2, 3, 5, 1, 2, 3, 4, 5, 1, 2, 3, 4, 5, 1, 2, 3, 4, 5, 1, 2, 3, 4, 5, 1, 2, 3, 4, 5, 1, 2, 3, 4, 5, 1, 2, 3, 4, 5, 1, 2, 3, 4, 5, 1, 2, 3, 4, 1, 2, 3, 4, 5, 1, 2, 3, 4, 5, 1, 2, 3, 5, 1, 2, 3, 4, 5, 1, 2, 3, 4, 5, 1, 2, 3, 4, 5, 1, 2, 3, 4, 5, 1, 2, 3, 4, 5, 1, 2, 3, 4, 5, 1, 2, 3, 4, 5, 1, 2, 3, 4, 5, 1, 2, 3, 5, 1, 2, 3, 4, 5, 1, 2, 3, 4, 5, 1, 2, 3, 5, 1, 2, 3, 4, 5, 1, 2, 3, 4, 1, 2, 3, 4, 5, 1, 2, 3, 5, 1, 2, 3, 4, 5, 1, 2, 3, 4, 5, 1, 2, 3, 4, 1, 2, 3, 4, 5, 1, 2, 3, 4, 5, 1, 2, 3, 4, 5, 1, 2, 3, 4, 5, 1, 2, 3, 4, 5, 1, 2, 3, 4, 5, 1, 2, 3, 4, 5, 1, 2, 3, 4, 5, 1, 2, 3, 4, 5, 1, 2, 3, 1, 2, 3, 4, 5, 1, 2, 3, 4, 5, 1, 2, 3, 4, 5, 1, 2, 3, 4, 5, 1, 2, 3, 4, 5, 1, 2, 3, 4, 5, 1, 2, 3, 5, 1, 2, 3, 4, 5, 1, 2, 3, 4, 1, 2, 3, 4, 5, 1, 2, 3, 4, 1, 2, 3, 1, 2, 3, 1, 2, 3, 4, 5, 1, 2, 3, 4, 5, 1, 2, 3, 1, 2, 3, 4, 5, 1, 2, 3, 4, 5, 1, 2, 3, 4, 5, 1, 2, 3, 4, 5, 1, 2, 3, 4, 5, 1, 2, 3, 5, 1, 2, 3, 4, 1, 2, 3, 4, 5, 1, 2, 3, 4, 5, 1, 2, 3, 4, 5, 1, 2, 3, 4, 5, 1, 2, 3, 4, 1, 2, 3, 4, 5, 1, 2, 3, 4, 5, 1, 2, 3, 4, 1, 2, 3, 4, 5, 1, 2, 3, 4, 5, 1, 2, 3, 4, 5, 1, 2, 3, 4, 5, 1, 2, 3, 4, 5, 1, 2, 3, 4, 1, 2, 3, 4, 5, 1, 2, 3, 5, 1, 2, 3, 4, 5, 1, 2, 3, 4, 1, 2, 3, 4, 5, 1, 2, 3, 5, 1, 2, 3, 4, 5, 1, 2, 3, 4, 5, 1, 2, 3, 4, 1, 2, 3, 4, 5, 1, 2, 3, 4, 5, 1, 2, 3, 4, 5, 1, 2, 3, 4, 5, 1, 2, 3, 4, 5, 1, 2, 3, 4, 1, 2, 3, 4, 1, 2, 3, 4, 5, 1, 2, 3, 4, 5, 1, 2, 3, 4, 1, 2, 3, 4, 5, 1, 2, 3, 4, 5, 1, 2, 3, 1, 2, 3, 4, 5, 1, 2, 3, 4, 1, 2, 3, 4, 5, 1, 2, 3, 4, 5, 1, 2, 3, 4, 5, 1, 2, 3, 4, 5, 1, 2, 3, 4, 5, 1, 2, 3, 4, 5, 1, 2, 3, 5, 1, 2, 3, 4, 5, 1, 2, 3, 4, 5, 1, 2, 3, 4, 5, 1, 2, 3, 4, 5, 1, 2, 3, 4, 1, 2, 3, 4, 5, 1, 2, 3, 4, 5, 1, 2, 3, 4, 5, 1, 2, 3, 4, 5, 1, 2, 3, 4, 5, 1, 2, 3, 4, 5, 1, 2, 3, 4, 5, 1, 2, 3, 4, 1, 2, 3, 4, 5, 1, 2, 3, 4, 5, 1, 2, 3, 4, 5, 1, 2, 3, 5, 1, 2, 3, 4, 5, 1, 2, 3, 4, 5, 1, 2, 3, 4, 5, 1, 2, 3, 5, 1, 2, 3, 4, 5, 1, 2, 3, 4, 5, 1, 2, 3, 4, 5, 1, 2, 3, 4, 5, 1, 2, 3, 4, 5, 1, 2, 3, 4, 5, 1, 2, 3, 4, 5, 1, 2, 3, 4, 5, 1, 2, 3, 4, 5, 1, 2, 3, 4, 5, 1, 2, 3, 1, 2, 3, 4, 5], \"Freq\": [0.26417316016302234, 0.3874539682390994, 0.14089235208694523, 0.14089235208694523, 0.05283463203260446, 0.4370099807007617, 0.21850499035038085, 0.21850499035038085, 0.21850499035038085, 0.3007750348469423, 0.15038751742347115, 0.3007750348469423, 0.15038751742347115, 0.17660086929327787, 0.17660086929327787, 0.35320173858655574, 0.08830043464663893, 0.08830043464663893, 0.2520883444487331, 0.2016706755589865, 0.3025060133384797, 0.15125300666923985, 0.10083533777949324, 0.2234695953943987, 0.13966849712149917, 0.4469391907887974, 0.08380109827289951, 0.08380109827289951, 0.26648046784379104, 0.11843576348612934, 0.35530729045838805, 0.14804470435766168, 0.08882682261459701, 0.27359056640751844, 0.078168733259291, 0.42992803292610043, 0.11725309988893648, 0.11725309988893648, 0.3607929515468583, 0.14431718061874332, 0.28863436123748665, 0.21647577092811499, 0.07215859030937166, 0.43543319348549675, 0.21771659674274838, 0.10885829837137419, 0.21771659674274838, 0.10885829837137419, 0.34577809200719234, 0.2305187280047949, 0.2305187280047949, 0.2305187280047949, 0.11525936400239745, 0.3724497408125804, 0.1862248704062902, 0.1862248704062902, 0.1862248704062902, 0.34564388421655967, 0.25923291316241975, 0.08641097105413992, 0.17282194210827984, 0.08641097105413992, 0.4108435458271327, 0.27389569721808843, 0.13694784860904421, 0.13694784860904421, 0.13694784860904421, 0.3225047621769229, 0.16125238108846146, 0.16125238108846146, 0.16125238108846146, 0.3279116577902683, 0.21860777186017888, 0.21860777186017888, 0.21860777186017888, 0.10930388593008944, 0.6067542619786446, 0.1213508523957289, 0.1213508523957289, 0.1213508523957289, 0.6169810086586253, 0.15424525216465632, 0.15424525216465632, 0.15424525216465632, 0.2808408282331379, 0.2808408282331379, 0.2808408282331379, 0.2808408282331379, 0.304133104820018, 0.20275540321334534, 0.20275540321334534, 0.20275540321334534, 0.10137770160667267, 0.43462881919044744, 0.21731440959522372, 0.21731440959522372, 0.21731440959522372, 0.22575657593598605, 0.22575657593598605, 0.22575657593598605, 0.22575657593598605, 0.505793639625761, 0.18634502512528037, 0.13310358937520025, 0.10648287150016021, 0.07986215362512016, 0.3933535072042494, 0.1966767536021247, 0.3933535072042494, 0.1966767536021247, 0.19004343094901105, 0.4434346722143591, 0.19004343094901105, 0.06334781031633702, 0.06334781031633702, 0.2544522404165842, 0.2544522404165842, 0.1272261202082921, 0.1272261202082921, 0.2544522404165842, 0.3127979145369741, 0.3127979145369741, 0.15639895726848704, 0.3127979145369741, 0.5785462560955417, 0.19284875203184723, 0.09642437601592362, 0.09642437601592362, 0.04821218800796181, 0.4245308573306571, 0.31839814299799285, 0.10613271433266427, 0.13266589291583034, 0.02653317858316607, 0.3104971866478038, 0.2069981244318692, 0.3104971866478038, 0.1034990622159346, 0.1034990622159346, 0.3788280804592782, 0.12627602681975938, 0.12627602681975938, 0.25255205363951877, 0.12627602681975938, 0.5779594935286303, 0.16513128386532294, 0.1238484628989922, 0.08256564193266147, 0.08256564193266147, 0.4483003974289329, 0.17932015897157316, 0.17932015897157316, 0.17932015897157316, 0.04483003974289329, 0.21318386318066215, 0.21318386318066215, 0.21318386318066215, 0.21318386318066215, 0.29332681239721026, 0.14666340619860513, 0.29332681239721026, 0.14666340619860513, 0.6334373574145067, 0.12993586818759112, 0.09745190114069334, 0.09745190114069334, 0.03248396704689778, 0.3636668082479538, 0.12122226941598459, 0.32325938510929225, 0.12122226941598459, 0.08081484627732306, 0.25040662183353884, 0.3895214117410605, 0.22258366385203454, 0.055645915963008635, 0.055645915963008635, 0.344001799758906, 0.172000899879453, 0.172000899879453, 0.2580013498191795, 0.0860004499397265, 0.3651093071576762, 0.3651093071576762, 0.09736248190871366, 0.12170310238589208, 0.024340620477178415, 0.3192783894165148, 0.1596391947082574, 0.3192783894165148, 0.1596391947082574, 0.1596391947082574, 0.19514006081152446, 0.48785015202881116, 0.14635504560864335, 0.048785015202881116, 0.14635504560864335, 0.4940239648198941, 0.2214590187123663, 0.15331778218548436, 0.08517654565860243, 0.051105927395161455, 0.533996496172599, 0.21359859846903964, 0.10679929923451982, 0.07119953282301321, 0.035599766411506605, 0.5989649684633114, 0.14974124211582784, 0.07487062105791392, 0.07487062105791392, 0.07487062105791392, 0.4095395127718749, 0.24572370766312493, 0.08190790255437498, 0.24572370766312493, 0.08190790255437498, 0.24627722830131454, 0.16418481886754302, 0.3694158424519718, 0.12313861415065727, 0.08209240943377151, 0.30497811450510354, 0.20331874300340233, 0.20331874300340233, 0.20331874300340233, 0.10165937150170117, 0.2701454190110719, 0.4052181285166079, 0.2701454190110719, 0.13507270950553596, 0.17996218209101256, 0.26994327313651884, 0.17996218209101256, 0.08998109104550628, 0.3599243641820251, 0.6199546586725992, 0.1859863976017798, 0.12399093173451986, 0.06199546586725993, 0.06199546586725993, 0.17718900171521237, 0.35437800343042475, 0.17718900171521237, 0.17718900171521237, 0.5850457108383962, 0.2127438948503259, 0.05318597371258148, 0.05318597371258148, 0.05318597371258148, 0.5963196129348092, 0.11926392258696182, 0.11926392258696182, 0.11926392258696182, 0.05963196129348091, 0.14621066453736017, 0.5361057699703207, 0.19494755271648023, 0.04873688817912006, 0.09747377635824012, 0.27706933550101254, 0.27706933550101254, 0.27706933550101254, 0.13853466775050627, 0.046178222583502085, 0.5859809317822691, 0.14649523294556727, 0.07324761647278363, 0.14649523294556727, 0.07324761647278363, 0.308033168074096, 0.154016584037048, 0.308033168074096, 0.154016584037048, 0.154016584037048, 0.24053953341050335, 0.42953488109018456, 0.20617674292328858, 0.051544185730822145, 0.08590697621803692, 0.25435976469051247, 0.42393294115085406, 0.21196647057542703, 0.042393294115085405, 0.08478658823017081, 0.5586041060049692, 0.1862013686683231, 0.09310068433416155, 0.12413424577888206, 0.06206712288944103, 0.2968283730306359, 0.36279023370411057, 0.2473569775255299, 0.032980930336737324, 0.06596186067347465, 0.1351645617795113, 0.2703291235590226, 0.20274684266926696, 0.033791140444877826, 0.35480697467121713, 0.22418833728164972, 0.22418833728164972, 0.22418833728164972, 0.11209416864082486, 0.11209416864082486, 0.345374022097101, 0.345374022097101, 0.15698819186231863, 0.12559055348985493, 0.03139763837246373, 0.23348151119746502, 0.17511113339809875, 0.3502222667961975, 0.11674075559873251, 0.08755556669904938, 0.25388861434705184, 0.1692590762313679, 0.3385181524627358, 0.08462953811568395, 0.08462953811568395, 0.4666201896509937, 0.20997908534294718, 0.16331706637784782, 0.11665504741274843, 0.046662018965099375, 0.5665410031182716, 0.16996230093548148, 0.1416352507795679, 0.08498115046774074, 0.05665410031182716, 0.3004131812140335, 0.22530988591052512, 0.22530988591052512, 0.22530988591052512, 0.07510329530350837, 0.5771467579966217, 0.1775836178451144, 0.13318771338383578, 0.0887918089225572, 0.0443959044612786, 0.6984140268050457, 0.15290721296915202, 0.05785678328562509, 0.06612203804071438, 0.028928391642812544, 0.21017189152723817, 0.42034378305447634, 0.21017189152723817, 0.07005729717574605, 0.10508594576361908, 0.17451296193669266, 0.4362824048417317, 0.261769442905039, 0.08725648096834633, 0.2678431674296213, 0.3682843552157293, 0.1674019796435133, 0.06696079185740532, 0.10044118778610799, 0.3041511991141267, 0.4182078987819242, 0.11405669966779752, 0.11405669966779752, 0.05702834983389876, 0.6458208206319338, 0.16145520515798345, 0.05381840171932782, 0.10763680343865564, 0.05381840171932782, 0.28751108662866504, 0.28751108662866504, 0.28751108662866504, 0.08214602475104715, 0.08214602475104715, 0.5823655442419233, 0.18198923257560107, 0.07279569303024042, 0.10919353954536064, 0.03639784651512021, 0.55883001859827, 0.16764900557948098, 0.11176600371965399, 0.11176600371965399, 0.055883001859826996, 0.49190161240151814, 0.15533735128468992, 0.15533735128468992, 0.1294477927372416, 0.07766867564234496, 0.24719619924238595, 0.38845117023803505, 0.2295393278679298, 0.08828435687228069, 0.035313742748912275, 0.5908630931801971, 0.16881802662291348, 0.08440901331145674, 0.08440901331145674, 0.3200269096230066, 0.28446836410933923, 0.2133512730820044, 0.14223418205466962, 0.035558545513667404, 0.14211066900109667, 0.10827479542940698, 0.534606802432697, 0.1285763195724208, 0.08797327128639316, 0.1483850393725914, 0.49461679790863794, 0.24730839895431897, 0.09892335958172759, 0.16133889753814418, 0.3764574275890031, 0.2151185300508589, 0.053779632512714726, 0.2151185300508589, 0.5868853233552206, 0.1600596336423329, 0.1600596336423329, 0.05335321121411096, 0.05335321121411096, 0.36058457942294037, 0.2704384345672053, 0.1502435747595585, 0.1502435747595585, 0.06009742990382339, 0.2279654933133323, 0.15197699554222152, 0.3799424888555538, 0.15197699554222152, 0.07598849777111076, 0.3331215065752389, 0.19987290394514334, 0.3331215065752389, 0.13324860263009555, 0.06662430131504778, 0.19567764622192887, 0.19567764622192887, 0.19567764622192887, 0.19567764622192887, 0.19567764622192887, 0.25229482900029493, 0.25229482900029493, 0.12614741450014746, 0.12614741450014746, 0.25229482900029493, 0.6492533039563566, 0.16231332598908915, 0.08115666299454458, 0.08115666299454458, 0.027052220998181522, 0.31957743151656015, 0.31957743151656015, 0.15978871575828008, 0.15978871575828008, 0.2905946590966821, 0.38745954546224276, 0.14529732954834104, 0.048432443182780345, 0.14529732954834104, 0.6025835509527697, 0.20086118365092323, 0.06695372788364108, 0.13390745576728216, 0.06695372788364108, 0.2452164237633847, 0.4904328475267694, 0.2452164237633847, 0.2452164237633847, 0.3262818819525462, 0.33158727840705915, 0.2307847457713132, 0.042443171636103574, 0.06897015390866831, 0.15445618598070932, 0.46336855794212795, 0.15445618598070932, 0.15445618598070932, 0.23051407146723377, 0.4124988647308394, 0.2062494323654197, 0.048529278203628165, 0.09705855640725633, 0.254914953873203, 0.254914953873203, 0.254914953873203, 0.254914953873203, 0.5906752850804349, 0.16109325956739132, 0.10739550637826088, 0.10739550637826088, 0.05369775318913044, 0.47483648499960684, 0.11870912124990171, 0.17806368187485255, 0.17806368187485255, 0.059354560624950856, 0.17010545925154544, 0.17010545925154544, 0.3402109185030909, 0.17010545925154544, 0.5490503336643019, 0.19965466678701888, 0.12478416674188679, 0.09982733339350944, 0.04991366669675472, 0.3393940306086271, 0.1979798511883658, 0.2545455229564703, 0.1414141794202613, 0.05656567176810452, 0.5729079428340366, 0.1909693142780122, 0.0954846571390061, 0.0954846571390061, 0.04774232856950305, 0.6436749796489604, 0.17077091296809152, 0.07881734444681147, 0.06568112037234289, 0.052544896297874316, 0.2851575627131806, 0.2281260501705445, 0.3421890752558167, 0.11406302508527225, 0.05703151254263612, 0.2625605440382015, 0.2625605440382015, 0.2625605440382015, 0.13128027201910075, 0.13128027201910075, 0.4235895019357447, 0.28881102404709863, 0.1540325461584526, 0.11552440961883946, 0.03850813653961315, 0.27058000870247056, 0.27058000870247056, 0.32469601044296464, 0.10823200348098821, 0.05411600174049411, 0.24707735474431866, 0.4200315030653417, 0.19766188379545493, 0.049415470948863734, 0.0741232064232956, 0.151661106427387, 0.454983319282161, 0.303322212854774, 0.20829095582186555, 0.4165819116437311, 0.17357579651822128, 0.06943031860728852, 0.10414547791093277, 0.29625210520565315, 0.37704813389810404, 0.20199007173112715, 0.08079602869245087, 0.04039801434622543, 0.2802599452152932, 0.37367992695372426, 0.2569049497806854, 0.023354995434607766, 0.0700649863038233, 0.5317320080264376, 0.14770333556289933, 0.11816266845031946, 0.14770333556289933, 0.05908133422515973, 0.5495778408556309, 0.15266051134878636, 0.12212840907902908, 0.12212840907902908, 0.06106420453951454, 0.5996093812387843, 0.16912059470837504, 0.1076221966326023, 0.07687299759471593, 0.046123798556829555, 0.20021415517620073, 0.40042831035240145, 0.20021415517620073, 0.20021415517620073, 0.2773830902523164, 0.33285970830277967, 0.16642985415138983, 0.16642985415138983, 0.055476618050463285, 0.3785719521445737, 0.18928597607228684, 0.18928597607228684, 0.18928597607228684, 0.09613038839225653, 0.48065194196128264, 0.19226077678451306, 0.09613038839225653, 0.09613038839225653, 0.5832758921417968, 0.24997538234648434, 0.08332512744882811, 0.08332512744882811, 0.2658328336471237, 0.5316656672942474, 0.2658328336471237, 0.21766179448740564, 0.43532358897481127, 0.21766179448740564, 0.5393554583801924, 0.1903607500165385, 0.12690716667769233, 0.09518037500826924, 0.031726791669423084, 0.41124480664100443, 0.23499703236628824, 0.11749851618314412, 0.1762477742747162, 0.05874925809157206, 0.21414139948931518, 0.42828279897863036, 0.21414139948931518, 0.21225408800092566, 0.21225408800092566, 0.21225408800092566, 0.21225408800092566, 0.21225408800092566, 0.5061824432201303, 0.19807139082526837, 0.15405552619743096, 0.08803172925567483, 0.044015864627837416, 0.3004609787328998, 0.4206453702260597, 0.18027658723973985, 0.03004609787328998, 0.06009219574657996, 0.39774168917640607, 0.19887084458820303, 0.19887084458820303, 0.09943542229410152, 0.19887084458820303, 0.48699870343415946, 0.1947994813736638, 0.14609961103024785, 0.0973997406868319, 0.0973997406868319, 0.26902586595256717, 0.26902586595256717, 0.26902586595256717, 0.26902586595256717, 0.31607302761546535, 0.15803651380773268, 0.15803651380773268, 0.15803651380773268, 0.34018371193348934, 0.13607348477339573, 0.27214696954679146, 0.20411022716009358, 0.06803674238669787, 0.32453501407087443, 0.36271560396156555, 0.1336320646174189, 0.15272235956276445, 0.03818058989069111, 0.25512315197997526, 0.2710683489787237, 0.33484913697371754, 0.09567118199249072, 0.04783559099624536, 0.3329762875721268, 0.3329762875721268, 0.14020054213563235, 0.15772560990258638, 0.03505013553390809, 0.5756031420409452, 0.1439007855102363, 0.1439007855102363, 0.07195039275511815, 0.20562644150017825, 0.4626594933754011, 0.2570330518752228, 0.05140661037504456, 0.10281322075008913, 0.1889093086553804, 0.4293393378531372, 0.24043002919775686, 0.05152072054237647, 0.10304144108475294, 0.29464463465256807, 0.29464463465256807, 0.14732231732628404, 0.14732231732628404, 0.2677147083980385, 0.33464338549754813, 0.20078603129852887, 0.16732169274877406, 0.033464338549754814, 0.39907160854194745, 0.2614607090447242, 0.1651330793966679, 0.15137198944694558, 0.02752217989944465, 0.5675695391549715, 0.20031866087822528, 0.13354577391881683, 0.10015933043911264, 0.03338644347970421, 0.4928821991239216, 0.2594116837494324, 0.10376467349977297, 0.10376467349977297, 0.025941168374943244, 0.2710035974673562, 0.15485919855277497, 0.2710035974673562, 0.17421659837187184, 0.11614439891458124, 0.6376317702963924, 0.1062719617160654, 0.1062719617160654, 0.1062719617160654, 0.25838732723864927, 0.25838732723864927, 0.25838732723864927, 0.12919366361932463, 0.12919366361932463, 0.2442471437162404, 0.2442471437162404, 0.2442471437162404, 0.2442471437162404, 0.3331369612390625, 0.16656848061953125, 0.16656848061953125, 0.16656848061953125, 0.16656848061953125, 0.2938740645067516, 0.1469370322533758, 0.1469370322533758, 0.2938740645067516, 0.17627548638949958, 0.4406887159737489, 0.17627548638949958, 0.08813774319474979, 0.08813774319474979, 0.3304122646307319, 0.3304122646307319, 0.3304122646307319, 0.3304122646307319, 0.5369309362227869, 0.21010340982630787, 0.14006893988420527, 0.04668964662806842, 0.04668964662806842, 0.2721947267104683, 0.2721947267104683, 0.2721947267104683, 0.13609736335523415, 0.13609736335523415, 0.29338124809943406, 0.29338124809943406, 0.29338124809943406, 0.14669062404971703, 0.2247193190481165, 0.449438638096233, 0.2247193190481165, 0.11235965952405826, 0.11235965952405826, 0.1487196732380181, 0.5382235793375892, 0.17704723004525963, 0.0495732244126727, 0.092064559623535, 0.4601959269534874, 0.1464259767579278, 0.2091799667970397, 0.12550798007822384, 0.06275399003911192, 0.5850212979081049, 0.22500819150311727, 0.0900032766012469, 0.06750245745093518, 0.04500163830062345, 0.4906675997577287, 0.2336512379798708, 0.09346049519194832, 0.16355586658590957, 0.02336512379798708, 0.28649268942617145, 0.28649268942617145, 0.28649268942617145, 0.28649268942617145, 0.3330335930894095, 0.16651679654470475, 0.3330335930894095, 0.16651679654470475, 0.35163450006710284, 0.15983386366686492, 0.2237674091336109, 0.15983386366686492, 0.09590031820011895, 0.13506008615591752, 0.1800801148745567, 0.09004005743727835, 0.04502002871863917, 0.5402403446236701, 0.5960883462470505, 0.11921766924941012, 0.11921766924941012, 0.11921766924941012, 0.48551063317589893, 0.16183687772529964, 0.16183687772529964, 0.16183687772529964, 0.16183687772529964, 0.32489514813642567, 0.16244757406821284, 0.16244757406821284, 0.16244757406821284, 0.16244757406821284, 0.28736147426040604, 0.28736147426040604, 0.28736147426040604, 0.21838551883366908, 0.38217465795892086, 0.21838551883366908, 0.10919275941683454, 0.10919275941683454, 0.27786759744466233, 0.27786759744466233, 0.27786759744466233, 0.27786759744466233, 0.48287649809200966, 0.22873097278042565, 0.15248731518695044, 0.07624365759347522, 0.05082910506231681, 0.27510475265517303, 0.183403168436782, 0.366806336873564, 0.091701584218391, 0.091701584218391, 0.07995042787684906, 0.3997521393842453, 0.4397273533226698, 0.03997521393842453, 0.03997521393842453, 0.4981551980519608, 0.19246905379280302, 0.13586050855962567, 0.11321709046635473, 0.05660854523317736, 0.452289834911733, 0.258451334235276, 0.129225667117638, 0.1615320838970475, 0.0323064167794095, 0.19352572091134423, 0.5321957325061967, 0.14514429068350818, 0.04838143022783606, 0.09676286045567212, 0.4618592908875532, 0.2309296454437766, 0.2309296454437766, 0.2309296454437766, 0.29104214734293, 0.3326195969633486, 0.18016894835514713, 0.04157744962041857, 0.13859149873472856, 0.1869251802540085, 0.4860054686604221, 0.1495401442032068, 0.0373850360508017, 0.1121551081524051, 0.6011736960135207, 0.17681579294515312, 0.10608947576709188, 0.10608947576709188, 0.03536315858903062, 0.5487024007663781, 0.18290080025545938, 0.12193386683697291, 0.060966933418486455, 0.060966933418486455, 0.4197414008710747, 0.20987070043553735, 0.20987070043553735, 0.20987070043553735, 0.30604684056679526, 0.30604684056679526, 0.19127927535424702, 0.19127927535424702, 0.03825585507084941, 0.4397100832231317, 0.1465700277410439, 0.1465700277410439, 0.1465700277410439, 0.0977133518273626, 0.14775153598018004, 0.44325460794054006, 0.14775153598018004, 0.049250511993393344, 0.14775153598018004, 0.2408576867680315, 0.16057179117868767, 0.08028589558934383, 0.08028589558934383, 0.4014294779467191, 0.27061045538397155, 0.3198123563628754, 0.27061045538397155, 0.09840380195780783, 0.049201900978903916, 0.22903200362636936, 0.2963943576341251, 0.3300755346380029, 0.09430729561085797, 0.05388988320620455, 0.35380750684305506, 0.30326357729404724, 0.17690375342152753, 0.12635982387251968, 0.05054392954900787, 0.1782548832911693, 0.1782548832911693, 0.3565097665823386, 0.1782548832911693, 0.5617631731530239, 0.2160627589050092, 0.08642510356200368, 0.08642510356200368, 0.04321255178100184, 0.36781223296921317, 0.18390611648460659, 0.18390611648460659, 0.18390611648460659, 0.18390611648460659, 0.6293417192324692, 0.1452327044382621, 0.07261635221913106, 0.09682180295884141, 0.048410901479420704, 0.1834263754087809, 0.3668527508175618, 0.1834263754087809, 0.1834263754087809, 0.15945631609970617, 0.1395242765872429, 0.4717249351282974, 0.10630421073313744, 0.11959223707477962, 0.282958037857378, 0.34359190311253046, 0.30316932627576215, 0.020211288418384144, 0.06063386525515243, 0.29375140744266787, 0.3801488802199231, 0.22463342922086366, 0.0345589891109021, 0.0691179782218042, 0.34123562633942256, 0.34123562633942256, 0.34123562633942256, 0.34123562633942256, 0.16802708810873532, 0.13442167048698825, 0.4704758467044589, 0.13442167048698825, 0.1008162528652412, 0.2924225876236329, 0.24368548968636072, 0.2924225876236329, 0.09747419587454428, 0.04873709793727214, 0.665485665668276, 0.1751278067548095, 0.07005112270192379, 0.07005112270192379, 0.035025561350961895, 0.27611185751037604, 0.3801540067171844, 0.1880761927969228, 0.13605511819351862, 0.024009726740032697, 0.5928076681969667, 0.17784230045909, 0.11856153363939334, 0.088921150229545, 0.05928076681969667, 0.582462497517586, 0.19415416583919534, 0.09707708291959767, 0.09707708291959767, 0.09707708291959767, 0.530610515174334, 0.18727429947329435, 0.09363714973664718, 0.12484953298219624, 0.06242476649109812, 0.2123074692236049, 0.3538457820393415, 0.28307662563147323, 0.035384578203934154, 0.10615373461180246, 0.18461367781029642, 0.461534194525741, 0.18461367781029642, 0.09230683890514821, 0.09230683890514821, 0.24366209051862897, 0.18274656788897173, 0.36549313577794346, 0.12183104525931449, 0.12183104525931449, 0.2531608852682052, 0.5063217705364104, 0.2531608852682052, 0.15027686570229606, 0.5009228856743202, 0.20036915426972807, 0.02504614428371601, 0.10018457713486403], \"Term\": [\"101\", \"101\", \"101\", \"101\", \"101\", \"1879\", \"1879\", \"1879\", \"1879\", \"1880\", \"1880\", \"1880\", \"1880\", \"1885\", \"1885\", \"1885\", \"1885\", \"1885\", \"1887\", \"1887\", \"1887\", \"1887\", \"1887\", \"1888\", \"1888\", \"1888\", \"1888\", \"1888\", \"1889\", \"1889\", \"1889\", \"1889\", \"1889\", \"1890\", \"1890\", \"1890\", \"1890\", \"1890\", \"1892\", \"1892\", \"1892\", \"1892\", \"1892\", \"1895\", \"1895\", \"1895\", \"1895\", \"1895\", \"1896\", \"1896\", \"1896\", \"1896\", \"1896\", \"1898\", \"1898\", \"1898\", \"1898\", \"1900\", \"1900\", \"1900\", \"1900\", \"1900\", \"1902\", \"1902\", \"1902\", \"1902\", \"1902\", \"1903\", \"1903\", \"1903\", \"1903\", \"1906\", \"1906\", \"1906\", \"1906\", \"1906\", \"192\", \"192\", \"192\", \"192\", \"1948\", \"1948\", \"1948\", \"1948\", \"1963\", \"1963\", \"1963\", \"1963\", \"99\", \"99\", \"99\", \"99\", \"99\", \"abroad\", \"abroad\", \"abroad\", \"abroad\", \"aesthet\", \"aesthet\", \"aesthet\", \"aesthet\", \"age\", \"age\", \"age\", \"age\", \"age\", \"alongsid\", \"alongsid\", \"alongsid\", \"alongsid\", \"alway\", \"alway\", \"alway\", \"alway\", \"alway\", \"analysi\", \"analysi\", \"analysi\", \"analysi\", \"analysi\", \"andrea\", \"andrea\", \"andrea\", \"andrea\", \"anglo\", \"anglo\", \"anglo\", \"anglo\", \"anglo\", \"architectur\", \"architectur\", \"architectur\", \"architectur\", \"architectur\", \"arrang\", \"arrang\", \"arrang\", \"arrang\", \"arrang\", \"ash\", \"ash\", \"ash\", \"ash\", \"ash\", \"battl\", \"battl\", \"battl\", \"battl\", \"battl\", \"berlin\", \"berlin\", \"berlin\", \"berlin\", \"berlin\", \"bigger\", \"bigger\", \"bigger\", \"bigger\", \"bright\", \"bright\", \"bright\", \"bright\", \"british\", \"british\", \"british\", \"british\", \"british\", \"brother\", \"brother\", \"brother\", \"brother\", \"brother\", \"calculu\", \"calculu\", \"calculu\", \"calculu\", \"calculu\", \"canva\", \"canva\", \"canva\", \"canva\", \"canva\", \"centr\", \"centr\", \"centr\", \"centr\", \"centr\", \"chair\", \"chair\", \"chair\", \"chair\", \"chair\", \"choos\", \"choos\", \"choos\", \"choos\", \"choos\", \"church\", \"church\", \"church\", \"church\", \"church\", \"club\", \"club\", \"club\", \"club\", \"club\", \"coloni\", \"coloni\", \"coloni\", \"coloni\", \"coloni\", \"color\", \"color\", \"color\", \"color\", \"color\", \"colour\", \"colour\", \"colour\", \"colour\", \"colour\", \"commiss\", \"commiss\", \"commiss\", \"commiss\", \"commiss\", \"complic\", \"complic\", \"complic\", \"complic\", \"converg\", \"converg\", \"converg\", \"converg\", \"converg\", \"counti\", \"counti\", \"counti\", \"counti\", \"counti\", \"criterion\", \"criterion\", \"criterion\", \"criterion\", \"cup\", \"cup\", \"cup\", \"cup\", \"cup\", \"da\", \"da\", \"da\", \"da\", \"da\", \"darboux\", \"darboux\", \"darboux\", \"darboux\", \"darboux\", \"decemb\", \"decemb\", \"decemb\", \"decemb\", \"decemb\", \"dedic\", \"dedic\", \"dedic\", \"dedic\", \"dedic\", \"deepli\", \"deepli\", \"deepli\", \"deepli\", \"deepli\", \"defin\", \"defin\", \"defin\", \"defin\", \"defin\", \"denot\", \"denot\", \"denot\", \"denot\", \"denot\", \"der\", \"der\", \"der\", \"der\", \"der\", \"differenti\", \"differenti\", \"differenti\", \"differenti\", \"differenti\", \"displaystyl\", \"displaystyl\", \"displaystyl\", \"displaystyl\", \"displaystyl\", \"distanc\", \"distanc\", \"distanc\", \"distanc\", \"distanc\", \"district\", \"district\", \"district\", \"district\", \"district\", \"draw\", \"draw\", \"draw\", \"draw\", \"draw\", \"dutch\", \"dutch\", \"dutch\", \"dutch\", \"dutch\", \"east\", \"east\", \"east\", \"east\", \"east\", \"edit\", \"edit\", \"edit\", \"edit\", \"edit\", \"emot\", \"emot\", \"emot\", \"emot\", \"emot\", \"empir\", \"empir\", \"empir\", \"empir\", \"empir\", \"england\", \"england\", \"england\", \"england\", \"england\", \"equal\", \"equal\", \"equal\", \"equal\", \"equal\", \"equat\", \"equat\", \"equat\", \"equat\", \"finit\", \"finit\", \"finit\", \"finit\", \"finit\", \"floor\", \"floor\", \"floor\", \"floor\", \"floor\", \"footbal\", \"footbal\", \"footbal\", \"footbal\", \"footbal\", \"franc\", \"franc\", \"franc\", \"franc\", \"franc\", \"franz\", \"franz\", \"franz\", \"franz\", \"franz\", \"free\", \"free\", \"free\", \"free\", \"free\", \"friend\", \"friend\", \"friend\", \"friend\", \"friend\", \"ft\", \"ft\", \"ft\", \"ft\", \"ft\", \"game\", \"game\", \"game\", \"game\", \"garden\", \"garden\", \"garden\", \"garden\", \"garden\", \"gogh\", \"gogh\", \"gogh\", \"gogh\", \"gogh\", \"graph\", \"graph\", \"graph\", \"graph\", \"gt\", \"gt\", \"gt\", \"gt\", \"gt\", \"henri\", \"henri\", \"henri\", \"henri\", \"henri\", \"highest\", \"highest\", \"highest\", \"highest\", \"highest\", \"hospit\", \"hospit\", \"hospit\", \"hospit\", \"hospit\", \"ill\", \"ill\", \"ill\", \"ill\", \"ill\", \"in\", \"in\", \"in\", \"in\", \"in\", \"index\", \"index\", \"index\", \"index\", \"index\", \"industri\", \"industri\", \"industri\", \"industri\", \"industri\", \"infin\", \"infin\", \"infin\", \"infin\", \"infinit\", \"infinit\", \"infinit\", \"infinit\", \"infinit\", \"insur\", \"insur\", \"insur\", \"insur\", \"insur\", \"integ\", \"integ\", \"integ\", \"integ\", \"integr\", \"integr\", \"integr\", \"integr\", \"integr\", \"intersect\", \"intersect\", \"intersect\", \"intersect\", \"interv\", \"interv\", \"interv\", \"interv\", \"interv\", \"intuit\", \"intuit\", \"intuit\", \"intuit\", \"jame\", \"jame\", \"jame\", \"jame\", \"jame\", \"jan\", \"jan\", \"jan\", \"jan\", \"jan\", \"jean\", \"jean\", \"jean\", \"jean\", \"john\", \"john\", \"john\", \"john\", \"john\", \"juli\", \"juli\", \"juli\", \"juli\", \"juli\", \"king\", \"king\", \"king\", \"king\", \"king\", \"kingdom\", \"kingdom\", \"kingdom\", \"kingdom\", \"kingdom\", \"la\", \"la\", \"la\", \"la\", \"la\", \"larger\", \"larger\", \"larger\", \"larger\", \"larger\", \"largest\", \"largest\", \"largest\", \"largest\", \"largest\", \"le\", \"le\", \"le\", \"le\", \"le\", \"lebesgu\", \"lebesgu\", \"lebesgu\", \"lebesgu\", \"lebesgu\", \"lebesgue\", \"lebesgue\", \"lebesgue\", \"let\", \"let\", \"let\", \"let\", \"let\", \"level\", \"level\", \"level\", \"level\", \"level\", \"linear\", \"linear\", \"linear\", \"linear\", \"linear\", \"literari\", \"literari\", \"literari\", \"literari\", \"literari\", \"literatur\", \"literatur\", \"literatur\", \"literatur\", \"literatur\", \"london\", \"london\", \"london\", \"london\", \"london\", \"lt\", \"lt\", \"lt\", \"lt\", \"mayor\", \"mayor\", \"mayor\", \"mayor\", \"mayor\", \"medium\", \"medium\", \"medium\", \"medium\", \"mesh\", \"mesh\", \"mesh\", \"mesh\", \"mesh\", \"minor\", \"minor\", \"minor\", \"minor\", \"modifi\", \"modifi\", \"modifi\", \"multivari\", \"multivari\", \"multivari\", \"music\", \"music\", \"music\", \"music\", \"music\", \"nazi\", \"nazi\", \"nazi\", \"nazi\", \"nazi\", \"neighborhood\", \"neighborhood\", \"neighborhood\", \"neither\", \"neither\", \"neither\", \"neither\", \"neither\", \"north\", \"north\", \"north\", \"north\", \"north\", \"notat\", \"notat\", \"notat\", \"notat\", \"notat\", \"notion\", \"notion\", \"notion\", \"notion\", \"notion\", \"novel\", \"novel\", \"novel\", \"novel\", \"novel\", \"otherwis\", \"otherwis\", \"otherwis\", \"otherwis\", \"pain\", \"pain\", \"pain\", \"pain\", \"painter\", \"painter\", \"painter\", \"painter\", \"painter\", \"palac\", \"palac\", \"palac\", \"palac\", \"palac\", \"pari\", \"pari\", \"pari\", \"pari\", \"pari\", \"park\", \"park\", \"park\", \"park\", \"park\", \"parti\", \"parti\", \"parti\", \"parti\", \"partial\", \"partial\", \"partial\", \"partial\", \"partial\", \"partit\", \"partit\", \"partit\", \"partit\", \"partit\", \"pattern\", \"pattern\", \"pattern\", \"pattern\", \"poland\", \"poland\", \"poland\", \"poland\", \"poland\", \"polish\", \"polish\", \"polish\", \"polish\", \"polish\", \"polit\", \"polit\", \"polit\", \"polit\", \"polit\", \"popul\", \"popul\", \"popul\", \"popul\", \"popul\", \"portrait\", \"portrait\", \"portrait\", \"portrait\", \"portrait\", \"profession\", \"profession\", \"profession\", \"profession\", \"prove\", \"prove\", \"prove\", \"prove\", \"prove\", \"proven\", \"proven\", \"proven\", \"proven\", \"psycholog\", \"psycholog\", \"psycholog\", \"psycholog\", \"psycholog\", \"recov\", \"recov\", \"recov\", \"recov\", \"refin\", \"refin\", \"refin\", \"refin\", \"refin\", \"regardless\", \"regardless\", \"regardless\", \"regardless\", \"region\", \"region\", \"region\", \"region\", \"region\", \"rememb\", \"rememb\", \"rememb\", \"rememb\", \"rememb\", \"remov\", \"remov\", \"remov\", \"remov\", \"restrict\", \"restrict\", \"restrict\", \"restrict\", \"restrict\", \"riemann\", \"riemann\", \"riemann\", \"riemann\", \"riemann\", \"ring\", \"ring\", \"ring\", \"ring\", \"ring\", \"roman\", \"roman\", \"roman\", \"roman\", \"roman\", \"royal\", \"royal\", \"royal\", \"royal\", \"royal\", \"sculptor\", \"sculptor\", \"sculptor\", \"sculptor\", \"sein\", \"sein\", \"sein\", \"sein\", \"self\", \"self\", \"self\", \"self\", \"self\", \"sequenc\", \"sequenc\", \"sequenc\", \"sequenc\", \"sequenc\", \"settl\", \"settl\", \"settl\", \"settl\", \"sibl\", \"sibl\", \"sibl\", \"sibl\", \"sibl\", \"sin\", \"sin\", \"sin\", \"sin\", \"sin\", \"slight\", \"slight\", \"slight\", \"smaller\", \"smaller\", \"smaller\", \"smaller\", \"smaller\", \"solitud\", \"solitud\", \"solitud\", \"solitud\", \"south\", \"south\", \"south\", \"south\", \"south\", \"stay\", \"stay\", \"stay\", \"stay\", \"stay\", \"stieltj\", \"stieltj\", \"stieltj\", \"stieltj\", \"stieltj\", \"stori\", \"stori\", \"stori\", \"stori\", \"stori\", \"street\", \"street\", \"street\", \"street\", \"street\", \"subinterv\", \"subinterv\", \"subinterv\", \"subinterv\", \"subinterv\", \"succeed\", \"succeed\", \"succeed\", \"succeed\", \"sum\", \"sum\", \"sum\", \"sum\", \"sum\", \"tag\", \"tag\", \"tag\", \"tag\", \"tag\", \"tale\", \"tale\", \"tale\", \"tale\", \"tale\", \"text\", \"text\", \"text\", \"text\", \"text\", \"theater\", \"theater\", \"theater\", \"theater\", \"theatr\", \"theatr\", \"theatr\", \"theatr\", \"theatr\", \"theme\", \"theme\", \"theme\", \"theme\", \"theme\", \"ti\", \"ti\", \"ti\", \"ti\", \"ti\", \"to\", \"to\", \"to\", \"to\", \"to\", \"top\", \"top\", \"top\", \"top\", \"top\", \"tower\", \"tower\", \"tower\", \"tower\", \"tower\", \"town\", \"town\", \"town\", \"town\", \"town\", \"treat\", \"treat\", \"treat\", \"treat\", \"uk\", \"uk\", \"uk\", \"uk\", \"uk\", \"ultim\", \"ultim\", \"ultim\", \"ultim\", \"ultim\", \"union\", \"union\", \"union\", \"union\", \"union\", \"uniqu\", \"uniqu\", \"uniqu\", \"uniqu\", \"van\", \"van\", \"van\", \"van\", \"van\", \"variabl\", \"variabl\", \"variabl\", \"variabl\", \"variabl\", \"vector\", \"vector\", \"vector\", \"vector\", \"vector\", \"versa\", \"versa\", \"versa\", \"versa\", \"vincent\", \"vincent\", \"vincent\", \"vincent\", \"vincent\", \"visitor\", \"visitor\", \"visitor\", \"visitor\", \"visitor\", \"wale\", \"wale\", \"wale\", \"wale\", \"wale\", \"warsaw\", \"warsaw\", \"warsaw\", \"warsaw\", \"warsaw\", \"west\", \"west\", \"west\", \"west\", \"west\", \"wider\", \"wider\", \"wider\", \"wider\", \"wider\", \"writer\", \"writer\", \"writer\", \"writer\", \"writer\", \"xi\", \"xi\", \"xi\", \"xi\", \"xi\", \"xn\", \"xn\", \"xn\", \"xn\", \"xn\", \"yellow\", \"yellow\", \"yellow\", \"yellow\", \"yellow\", \"yield\", \"yield\", \"yield\", \"zero\", \"zero\", \"zero\", \"zero\", \"zero\"]}, \"R\": 30, \"lambda.step\": 0.01, \"plot.opts\": {\"xlab\": \"PC1\", \"ylab\": \"PC2\"}, \"topic.order\": [5, 1, 2, 4, 3]};\n",
       "\n",
       "function LDAvis_load_lib(url, callback){\n",
       "  var s = document.createElement('script');\n",
       "  s.src = url;\n",
       "  s.async = true;\n",
       "  s.onreadystatechange = s.onload = callback;\n",
       "  s.onerror = function(){console.warn(\"failed to load library \" + url);};\n",
       "  document.getElementsByTagName(\"head\")[0].appendChild(s);\n",
       "}\n",
       "\n",
       "if(typeof(LDAvis) !== \"undefined\"){\n",
       "   // already loaded: just create the visualization\n",
       "   !function(LDAvis){\n",
       "       new LDAvis(\"#\" + \"ldavis_el241631402675151654569614734247\", ldavis_el241631402675151654569614734247_data);\n",
       "   }(LDAvis);\n",
       "}else if(typeof define === \"function\" && define.amd){\n",
       "   // require.js is available: use it to load d3/LDAvis\n",
       "   require.config({paths: {d3: \"https://cdnjs.cloudflare.com/ajax/libs/d3/3.5.5/d3.min\"}});\n",
       "   require([\"d3\"], function(d3){\n",
       "      window.d3 = d3;\n",
       "      LDAvis_load_lib(\"https://cdn.rawgit.com/bmabey/pyLDAvis/files/ldavis.v1.0.0.js\", function(){\n",
       "        new LDAvis(\"#\" + \"ldavis_el241631402675151654569614734247\", ldavis_el241631402675151654569614734247_data);\n",
       "      });\n",
       "    });\n",
       "}else{\n",
       "    // require.js not available: dynamically load d3 & LDAvis\n",
       "    LDAvis_load_lib(\"https://cdnjs.cloudflare.com/ajax/libs/d3/3.5.5/d3.min.js\", function(){\n",
       "         LDAvis_load_lib(\"https://cdn.rawgit.com/bmabey/pyLDAvis/files/ldavis.v1.0.0.js\", function(){\n",
       "                 new LDAvis(\"#\" + \"ldavis_el241631402675151654569614734247\", ldavis_el241631402675151654569614734247_data);\n",
       "            })\n",
       "         });\n",
       "}\n",
       "</script>"
      ],
      "text/plain": [
       "PreparedData(topic_coordinates=            Freq  cluster  topics         x         y\n",
       "topic                                                \n",
       "4      38.730989        1       1 -0.024125 -0.000694\n",
       "0      25.186057        1       2  0.004039 -0.017746\n",
       "1      18.669042        1       3  0.015523  0.002703\n",
       "3      11.064554        1       4 -0.013342  0.008603\n",
       "2       6.349358        1       5  0.017905  0.007134, topic_info=     Category        Freq         Term       Total  loglift  logprob\n",
       "term                                                                \n",
       "1829  Default  150.000000          van  150.000000  30.0000  30.0000\n",
       "941   Default  147.000000         gogh  147.000000  29.0000  29.0000\n",
       "1067  Default  376.000000       integr  376.000000  28.0000  28.0000\n",
       "711   Default   59.000000  displaystyl   59.000000  27.0000  27.0000\n",
       "1547  Default  141.000000      riemann  141.000000  26.0000  26.0000\n",
       "1864  Default  249.000000       warsaw  249.000000  25.0000  25.0000\n",
       "1612  Default   22.000000      sequenc   22.000000  24.0000  24.0000\n",
       "1778  Default  148.000000        tower  148.000000  23.0000  23.0000\n",
       "1718  Default   72.000000          sum   72.000000  22.0000  22.0000\n",
       "1074  Default   82.000000       interv   82.000000  21.0000  21.0000\n",
       "1406  Default   51.000000     portrait   51.000000  20.0000  20.0000\n",
       "781   Default  241.000000      england  241.000000  19.0000  19.0000\n",
       "1356  Default   58.000000       partit   58.000000  18.0000  18.0000\n",
       "1907  Default   39.000000         zero   39.000000  17.0000  17.0000\n",
       "1772  Default   12.000000           to   12.000000  16.0000  16.0000\n",
       "673   Default   58.000000        defin   58.000000  15.0000  15.0000\n",
       "964   Default   18.000000           gt   18.000000  14.0000  14.0000\n",
       "1352  Default   62.000000         pari   62.000000  13.0000  13.0000\n",
       "115   Default   35.000000         1888   35.000000  12.0000  12.0000\n",
       "1848  Default   29.000000      vincent   29.000000  11.0000  11.0000\n",
       "116   Default   33.000000         1889   33.000000  10.0000  10.0000\n",
       "1835  Default   57.000000       vector   57.000000   9.0000   9.0000\n",
       "611   Default   11.000000      converg   11.000000   8.0000   8.0000\n",
       "1693  Default   88.000000        stori   88.000000   7.0000   7.0000\n",
       "1602  Default   31.000000         self   31.000000   6.0000   6.0000\n",
       "731   Default   34.000000         draw   34.000000   5.0000   5.0000\n",
       "1     Default   56.000000          101   56.000000   4.0000   4.0000\n",
       "1398  Default   59.000000       poland   59.000000   3.0000   3.0000\n",
       "118   Default   25.000000         1890   25.000000   2.0000   2.0000\n",
       "1732  Default   26.000000          tag   26.000000   1.0000   1.0000\n",
       "...       ...         ...          ...         ...      ...      ...\n",
       "1718   Topic5    9.827473          sum   72.154498   0.7632  -4.9484\n",
       "1049   Topic5    2.789990      infinit   20.647317   0.7553  -6.2075\n",
       "1829   Topic5   17.612553          van  150.511442   0.6114  -4.3649\n",
       "1406   Topic5    5.908497     portrait   51.659831   0.5885  -5.4571\n",
       "1074   Topic5    8.264562       interv   82.424469   0.4569  -5.1216\n",
       "1732   Topic5    3.137177          tag   26.748670   0.6137  -6.0902\n",
       "1547   Topic5   12.676667      riemann  141.205259   0.3464  -4.6938\n",
       "941    Topic5   12.849084         gogh  147.772156   0.3144  -4.6803\n",
       "1356   Topic5    5.853211       partit   58.228999   0.4594  -5.4665\n",
       "1067   Topic5   25.755723       integr  376.974655   0.0733  -3.9849\n",
       "1907   Topic5    4.203596         zero   39.926305   0.5057  -5.7976\n",
       "1602   Topic5    3.389518         self   31.282482   0.5344  -6.0128\n",
       "1147   Topic5    3.125753          let   28.805859   0.5359  -6.0939\n",
       "1898   Topic5    2.883717           xi   28.260899   0.4744  -6.1745\n",
       "1296   Topic5    3.695502        novel   41.067871   0.3487  -5.9264\n",
       "673    Topic5    4.583723        defin   58.202491   0.2154  -5.7110\n",
       "1778   Topic5    8.344959        tower  148.450869  -0.1218  -5.1119\n",
       "876    Topic5    2.870144        finit   29.868225   0.4144  -6.1792\n",
       "731    Topic5    3.088621         draw   34.263955   0.3504  -6.1058\n",
       "1693   Topic5    4.824716        stori   88.325888  -0.1505  -5.6598\n",
       "116    Topic5    3.034044         1889   33.773582   0.3470  -6.1236\n",
       "1835   Topic5    3.733164       vector   57.872063   0.0158  -5.9163\n",
       "781    Topic5    6.781055      england  241.976812  -0.8179  -5.3194\n",
       "1112   Topic5    4.012152      kingdom   76.125376  -0.1862  -5.8442\n",
       "1864   Topic5    5.630886       warsaw  249.898721  -1.0360  -5.5053\n",
       "701    Topic5    3.604932   differenti   60.641103  -0.0659  -5.9512\n",
       "1352   Topic5    3.477697         pari   62.714810  -0.1354  -5.9872\n",
       "1148   Topic5    3.377687        level   74.261076  -0.3336  -6.0163\n",
       "1155   Topic5    3.133086       linear   42.817392   0.1419  -6.0915\n",
       "1550   Topic5    3.149029         ring   47.805725   0.0368  -6.0864\n",
       "\n",
       "[342 rows x 6 columns], token_table=      Topic      Freq    Term\n",
       "term                         \n",
       "1         1  0.264173     101\n",
       "1         2  0.387454     101\n",
       "1         3  0.140892     101\n",
       "1         4  0.140892     101\n",
       "1         5  0.052835     101\n",
       "106       1  0.437010    1879\n",
       "106       2  0.218505    1879\n",
       "106       3  0.218505    1879\n",
       "106       4  0.218505    1879\n",
       "108       1  0.300775    1880\n",
       "108       2  0.150388    1880\n",
       "108       3  0.300775    1880\n",
       "108       4  0.150388    1880\n",
       "112       1  0.176601    1885\n",
       "112       2  0.176601    1885\n",
       "112       3  0.353202    1885\n",
       "112       4  0.088300    1885\n",
       "112       5  0.088300    1885\n",
       "114       1  0.252088    1887\n",
       "114       2  0.201671    1887\n",
       "114       3  0.302506    1887\n",
       "114       4  0.151253    1887\n",
       "114       5  0.100835    1887\n",
       "115       1  0.223470    1888\n",
       "115       2  0.139668    1888\n",
       "115       3  0.446939    1888\n",
       "115       4  0.083801    1888\n",
       "115       5  0.083801    1888\n",
       "116       1  0.266480    1889\n",
       "116       2  0.118436    1889\n",
       "...     ...       ...     ...\n",
       "1879      4  0.097077   wider\n",
       "1879      5  0.097077   wider\n",
       "1896      1  0.530611  writer\n",
       "1896      2  0.187274  writer\n",
       "1896      3  0.093637  writer\n",
       "1896      4  0.124850  writer\n",
       "1896      5  0.062425  writer\n",
       "1898      1  0.212307      xi\n",
       "1898      2  0.353846      xi\n",
       "1898      3  0.283077      xi\n",
       "1898      4  0.035385      xi\n",
       "1898      5  0.106154      xi\n",
       "1899      1  0.184614      xn\n",
       "1899      2  0.461534      xn\n",
       "1899      3  0.184614      xn\n",
       "1899      4  0.092307      xn\n",
       "1899      5  0.092307      xn\n",
       "1901      1  0.243662  yellow\n",
       "1901      2  0.182747  yellow\n",
       "1901      3  0.365493  yellow\n",
       "1901      4  0.121831  yellow\n",
       "1901      5  0.121831  yellow\n",
       "1903      1  0.253161   yield\n",
       "1903      2  0.506322   yield\n",
       "1903      3  0.253161   yield\n",
       "1907      1  0.150277    zero\n",
       "1907      2  0.500923    zero\n",
       "1907      3  0.200369    zero\n",
       "1907      4  0.025046    zero\n",
       "1907      5  0.100185    zero\n",
       "\n",
       "[1024 rows x 3 columns], R=30, lambda_step=0.01, plot_opts={'xlab': 'PC1', 'ylab': 'PC2'}, topic_order=[5, 1, 2, 4, 3])"
      ]
     },
     "execution_count": 131,
     "metadata": {},
     "output_type": "execute_result"
    }
   ],
   "source": [
    "# topics are sorted from most to least popular! the order of topics is changed\n",
    "pyLDAvis.gensim.prepare(model_corpus,corpus=corpus_sparse,dictionary=dictionary_sparse)  "
   ]
  },
  {
   "cell_type": "code",
   "execution_count": null,
   "metadata": {
    "collapsed": true
   },
   "outputs": [],
   "source": []
  }
 ],
 "metadata": {
  "kernelspec": {
   "display_name": "Python 3",
   "language": "python",
   "name": "python3"
  },
  "language_info": {
   "codemirror_mode": {
    "name": "ipython",
    "version": 3
   },
   "file_extension": ".py",
   "mimetype": "text/x-python",
   "name": "python",
   "nbconvert_exporter": "python",
   "pygments_lexer": "ipython3",
   "version": "3.6.0"
  }
 },
 "nbformat": 4,
 "nbformat_minor": 2
}
