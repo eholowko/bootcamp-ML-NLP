{
 "cells": [
  {
   "cell_type": "code",
   "execution_count": 2,
   "metadata": {
    "collapsed": false
   },
   "outputs": [],
   "source": [
    "import re\n",
    "import nltk\n",
    "from bs4 import BeautifulSoup\n",
    "import numpy as np\n",
    "from urllib.request import urlopen\n",
    "import string\n",
    "import pandas as pd\n",
    "from sklearn.feature_extraction.text import CountVectorizer\n",
    "from sklearn.decomposition import TruncatedSVD\n",
    "from sklearn.feature_extraction.text import TfidfVectorizer\n",
    "from scipy.spatial.distance import euclidean\n",
    "from scipy.spatial.distance import cosine\n",
    "from gensim import corpora, models\n",
    "from gensim.models.ldamodel import LdaModel\n",
    "from gensim import matutils\n",
    "\n",
    "import pyLDAvis.gensim"
   ]
  },
  {
   "cell_type": "code",
   "execution_count": 3,
   "metadata": {
    "collapsed": false
   },
   "outputs": [],
   "source": [
    "wiki = \"http://en.wikipedia.org/wiki/\"\n",
    "titles = [\"Integral\", \"Riemann_integral\", \"Riemann-Stieltjes_integral\", \"Derivative\",\n",
    "    \"Limit_of_a_sequence\", \"Edvard_Munch\", \"Vincent_van_Gogh\", \"Jan_Matejko\",\n",
    "    \"Lev_Tolstoj\", \"Franz_Kafka\", \"J._R._R._Tolkien\",\"Warsaw\",\"England\",\"Eiffel_Tower\",\"Taipei_101\"]\n",
    "\n",
    "def parse(url):        \n",
    "    x = urlopen(url)\n",
    "    x = x.read()\n",
    "    x = BeautifulSoup(x,'html.parser')\n",
    "    x = x.find(\"div\",id=\"bodyContent\")\n",
    "    x = x.find_all(\"p\")\n",
    "    return(x)\n",
    "\n",
    "articles_raw = [parse(url) for url in [wiki+x for x in titles]]"
   ]
  },
  {
   "cell_type": "code",
   "execution_count": 4,
   "metadata": {
    "collapsed": false,
    "scrolled": true
   },
   "outputs": [
    {
     "data": {
      "text/plain": [
       "<p>is defined informally as the signed <a class=\"mw-redirect\" href=\"/wiki/Area_(geometry)\" title=\"Area (geometry)\">area</a> of the region in the <span class=\"texhtml mvar\" style=\"font-style:italic;\">xy</span>-plane that is bounded by the <a href=\"/wiki/Graph_of_a_function\" title=\"Graph of a function\">graph</a> of <span class=\"texhtml mvar\" style=\"font-style:italic;\">f</span>, the <span class=\"texhtml mvar\" style=\"font-style:italic;\">x</span>-axis and the vertical lines <span class=\"texhtml\"><i>x</i> = <i>a</i></span> and <span class=\"texhtml\"><i>x</i> = <i>b</i></span>. The area above the <span class=\"texhtml mvar\" style=\"font-style:italic;\">x</span>-axis adds to the total and that below the <span class=\"texhtml mvar\" style=\"font-style:italic;\">x</span>-axis subtracts from the total.\n",
       "</p>"
      ]
     },
     "execution_count": 4,
     "metadata": {},
     "output_type": "execute_result"
    }
   ],
   "source": [
    "articles_raw[0][1]"
   ]
  },
  {
   "cell_type": "markdown",
   "metadata": {},
   "source": [
    "## Preprocessing"
   ]
  },
  {
   "cell_type": "markdown",
   "metadata": {},
   "source": [
    "### Removing html tags"
   ]
  },
  {
   "cell_type": "code",
   "execution_count": 5,
   "metadata": {
    "collapsed": true
   },
   "outputs": [],
   "source": [
    "articles_non_tags = [re.sub('<.*?>','',str(a)) for a in articles_raw]"
   ]
  },
  {
   "cell_type": "markdown",
   "metadata": {},
   "source": [
    "### Convert into lower letters "
   ]
  },
  {
   "cell_type": "code",
   "execution_count": 6,
   "metadata": {
    "collapsed": false
   },
   "outputs": [],
   "source": [
    "articles_lower = [art.lower() for art in articles_non_tags]"
   ]
  },
  {
   "cell_type": "code",
   "execution_count": 7,
   "metadata": {
    "collapsed": false
   },
   "outputs": [
    {
     "data": {
      "text/plain": [
       "'[in the branch of mathematics known as real analysis, the riemann integral, created by bernhard riemann, was the first rigorous definition of the integral of a function on an interval.  it was presented to the faculty at the university of göttingen in 1854, but not published in a journal until 1868.[1] for many functions and practical applications, the riemann integral can be evaluated by the fundamental theorem of calculus or approximated by numerical integration.\\n, the riemann integral is unsuitable for many theoretical purposes. some of the technical deficiencies in riemann integration can be remedied with the riemann–stieltjes integral, and most disappear with the lebesgue integral.\\n, let f be a nonnegative real-valued function on the interval [a, b], and let\\n, be the region of the plane under the graph of the function f and above the interval [a, b] (see the figure on the top right). we are interested in measuring the area of s. once we have measured it, we will denote the area by'"
      ]
     },
     "execution_count": 7,
     "metadata": {},
     "output_type": "execute_result"
    }
   ],
   "source": [
    "articles_lower[1][:1000]"
   ]
  },
  {
   "cell_type": "markdown",
   "metadata": {},
   "source": [
    "## Segmentation"
   ]
  },
  {
   "cell_type": "markdown",
   "metadata": {},
   "source": [
    "### Word tokenize - document segmentation"
   ]
  },
  {
   "cell_type": "code",
   "execution_count": 18,
   "metadata": {
    "collapsed": false
   },
   "outputs": [
    {
     "data": {
      "text/plain": [
       "['[',\n",
       " 'in',\n",
       " 'mathematics',\n",
       " ',',\n",
       " 'an',\n",
       " 'integral',\n",
       " 'assigns',\n",
       " 'numbers',\n",
       " 'to',\n",
       " 'functions']"
      ]
     },
     "execution_count": 18,
     "metadata": {},
     "output_type": "execute_result"
    }
   ],
   "source": [
    "nltk.word_tokenize(articles_lower[0])[:10]"
   ]
  },
  {
   "cell_type": "code",
   "execution_count": 19,
   "metadata": {
    "collapsed": true
   },
   "outputs": [],
   "source": [
    "article_tokenized = [nltk.word_tokenize(art) for art in articles_lower]"
   ]
  },
  {
   "cell_type": "code",
   "execution_count": 20,
   "metadata": {
    "collapsed": false
   },
   "outputs": [
    {
     "data": {
      "text/plain": [
       "['[',\n",
       " 'in',\n",
       " 'mathematics',\n",
       " ',',\n",
       " 'an',\n",
       " 'integral',\n",
       " 'assigns',\n",
       " 'numbers',\n",
       " 'to',\n",
       " 'functions']"
      ]
     },
     "execution_count": 20,
     "metadata": {},
     "output_type": "execute_result"
    }
   ],
   "source": [
    "article_tokenized[0][:10]"
   ]
  },
  {
   "cell_type": "markdown",
   "metadata": {},
   "source": [
    "## Cleaning segments"
   ]
  },
  {
   "cell_type": "markdown",
   "metadata": {},
   "source": [
    "### Removing punctuation"
   ]
  },
  {
   "cell_type": "code",
   "execution_count": 21,
   "metadata": {
    "collapsed": false
   },
   "outputs": [
    {
     "data": {
      "text/plain": [
       "'!\"#$%&\\'()*+,-./:;<=>?@[\\\\]^_`{|}~'"
      ]
     },
     "execution_count": 21,
     "metadata": {},
     "output_type": "execute_result"
    }
   ],
   "source": [
    "string.punctuation"
   ]
  },
  {
   "cell_type": "code",
   "execution_count": 22,
   "metadata": {
    "collapsed": true
   },
   "outputs": [],
   "source": [
    "articles_no_punctuation = [\n",
    "    [token for token in art if token not in string.punctuation]\n",
    "    for art in article_tokenized\n",
    "]"
   ]
  },
  {
   "cell_type": "code",
   "execution_count": 23,
   "metadata": {
    "collapsed": false
   },
   "outputs": [
    {
     "data": {
      "text/plain": [
       "['edvard',\n",
       " 'munch',\n",
       " '/mʊŋk/',\n",
       " '1',\n",
       " 'norwegian',\n",
       " 'ˈedvɑʈ',\n",
       " 'ˈmuŋk',\n",
       " 'listen',\n",
       " '12',\n",
       " 'december']"
      ]
     },
     "execution_count": 23,
     "metadata": {},
     "output_type": "execute_result"
    }
   ],
   "source": [
    "articles_no_punctuation[5][:10]"
   ]
  },
  {
   "cell_type": "markdown",
   "metadata": {},
   "source": [
    "### Removing 'stopwords'"
   ]
  },
  {
   "cell_type": "code",
   "execution_count": 24,
   "metadata": {
    "collapsed": true
   },
   "outputs": [],
   "source": [
    "stopwords = nltk.corpus.stopwords.words('english')"
   ]
  },
  {
   "cell_type": "code",
   "execution_count": 25,
   "metadata": {
    "collapsed": false
   },
   "outputs": [
    {
     "data": {
      "text/plain": [
       "['i', 'me', 'my', 'myself', 'we', 'our', 'ours', 'ourselves', 'you', \"you're\"]"
      ]
     },
     "execution_count": 25,
     "metadata": {},
     "output_type": "execute_result"
    }
   ],
   "source": [
    "stopwords[:10]"
   ]
  },
  {
   "cell_type": "code",
   "execution_count": 26,
   "metadata": {
    "collapsed": false
   },
   "outputs": [
    {
     "data": {
      "text/plain": [
       "179"
      ]
     },
     "execution_count": 26,
     "metadata": {},
     "output_type": "execute_result"
    }
   ],
   "source": [
    "len(stopwords)"
   ]
  },
  {
   "cell_type": "code",
   "execution_count": 27,
   "metadata": {
    "collapsed": false
   },
   "outputs": [],
   "source": [
    "articles_no_stopwords = [\n",
    "    [token for token in art if not token in stopwords]\n",
    "    for art in articles_no_punctuation\n",
    "]"
   ]
  },
  {
   "cell_type": "code",
   "execution_count": 28,
   "metadata": {
    "collapsed": false
   },
   "outputs": [
    {
     "data": {
      "text/plain": [
       "['mathematics',\n",
       " 'integral',\n",
       " 'assigns',\n",
       " 'numbers',\n",
       " 'functions',\n",
       " 'way',\n",
       " 'describe',\n",
       " 'displacement',\n",
       " 'area',\n",
       " 'volume']"
      ]
     },
     "execution_count": 28,
     "metadata": {},
     "output_type": "execute_result"
    }
   ],
   "source": [
    "articles_no_stopwords[0][:10]"
   ]
  },
  {
   "cell_type": "markdown",
   "metadata": {},
   "source": [
    "## Segments normalization"
   ]
  },
  {
   "cell_type": "markdown",
   "metadata": {},
   "source": [
    "### Stemming - identifying a common stem among various forms of a word (removing suffixes, plural from, various form fo verbs, stem is not required to be a propery spelled word)\n",
    "### Most popular : Porter and Snowball stemmers"
   ]
  },
  {
   "cell_type": "markdown",
   "metadata": {},
   "source": [
    "### More sxtensive normalization down to the semmantic root of a word is called lemmatization, more accurate than stemming as it takes into account the meaning of a word, but stemmers are faster, and less complex"
   ]
  },
  {
   "cell_type": "markdown",
   "metadata": {},
   "source": [
    "W nltk mamy dostępny stemmer dla języka angielskiego. Dla języka polskiego mamy dostępny na przykład stemmer Morfeusz (http://sgjp.pl/morfeusz/index.html),"
   ]
  },
  {
   "cell_type": "code",
   "execution_count": 29,
   "metadata": {
    "collapsed": true
   },
   "outputs": [],
   "source": [
    "stemmer = nltk.PorterStemmer()"
   ]
  },
  {
   "cell_type": "code",
   "execution_count": 30,
   "metadata": {
    "collapsed": false
   },
   "outputs": [
    {
     "data": {
      "text/plain": [
       "'drive'"
      ]
     },
     "execution_count": 30,
     "metadata": {},
     "output_type": "execute_result"
    }
   ],
   "source": [
    "stemmer.stem('driving')"
   ]
  },
  {
   "cell_type": "code",
   "execution_count": 31,
   "metadata": {
    "collapsed": true
   },
   "outputs": [],
   "source": [
    "articles_stemmed = [\n",
    "    [stemmer.stem(token) for token in art]\n",
    "    for art in articles_no_stopwords\n",
    "]"
   ]
  },
  {
   "cell_type": "code",
   "execution_count": 32,
   "metadata": {
    "collapsed": false
   },
   "outputs": [
    {
     "data": {
      "text/plain": [
       "['mathemat',\n",
       " 'integr',\n",
       " 'assign',\n",
       " 'number',\n",
       " 'function',\n",
       " 'way',\n",
       " 'describ',\n",
       " 'displac',\n",
       " 'area',\n",
       " 'volum']"
      ]
     },
     "execution_count": 32,
     "metadata": {},
     "output_type": "execute_result"
    }
   ],
   "source": [
    "articles_stemmed[0][:10]"
   ]
  },
  {
   "cell_type": "markdown",
   "metadata": {},
   "source": [
    "### Merging into one text"
   ]
  },
  {
   "cell_type": "code",
   "execution_count": 33,
   "metadata": {
    "collapsed": false
   },
   "outputs": [],
   "source": [
    "articles_cleaned = [' '.join(tokens) for tokens in articles_stemmed]"
   ]
  },
  {
   "cell_type": "code",
   "execution_count": 34,
   "metadata": {
    "collapsed": false
   },
   "outputs": [
    {
     "data": {
      "text/plain": [
       "'mathemat integr assign number function way describ displac area volum concept aris combin infinitesim data integr one two main oper calculu invers oper differenti given function f real variabl x interv b real line definit integr defin inform sign area region xy-plan bound graph f x-axi vertic line x x b. area x-axi add total x-axi subtract total oper integr addit constant invers oper differenti re'"
      ]
     },
     "execution_count": 34,
     "metadata": {},
     "output_type": "execute_result"
    }
   ],
   "source": [
    "articles_cleaned[0][:400]"
   ]
  },
  {
   "cell_type": "markdown",
   "metadata": {},
   "source": [
    "### Count vectorizer (reguires text not separate tokens) - represent documents as vectors of word counts"
   ]
  },
  {
   "cell_type": "code",
   "execution_count": 35,
   "metadata": {
    "collapsed": true
   },
   "outputs": [],
   "source": [
    "vectorizer = CountVectorizer(token_pattern='(?u)\\\\b\\\\w+\\\\b',min_df=2, max_df=0.7) \n",
    "# default pattern remove one letter long words"
   ]
  },
  {
   "cell_type": "code",
   "execution_count": 36,
   "metadata": {
    "collapsed": false
   },
   "outputs": [
    {
     "data": {
      "text/plain": [
       "<15x3711 sparse matrix of type '<class 'numpy.int64'>'\n",
       "\twith 14572 stored elements in Compressed Sparse Row format>"
      ]
     },
     "execution_count": 36,
     "metadata": {},
     "output_type": "execute_result"
    }
   ],
   "source": [
    "vectorizer.fit(articles_cleaned)\n",
    "dtm_count = vectorizer.transform(articles_cleaned)\n",
    "dtm_count"
   ]
  },
  {
   "cell_type": "code",
   "execution_count": 37,
   "metadata": {
    "collapsed": false
   },
   "outputs": [
    {
     "data": {
      "text/plain": [
       "(15, 3711)"
      ]
     },
     "execution_count": 37,
     "metadata": {},
     "output_type": "execute_result"
    }
   ],
   "source": [
    "dtm_count.shape"
   ]
  },
  {
   "cell_type": "code",
   "execution_count": 38,
   "metadata": {
    "collapsed": false
   },
   "outputs": [
    {
     "data": {
      "text/plain": [
       "array([[0],\n",
       "       [0],\n",
       "       [0],\n",
       "       [0],\n",
       "       [0],\n",
       "       [0],\n",
       "       [0],\n",
       "       [0],\n",
       "       [0],\n",
       "       [0],\n",
       "       [0],\n",
       "       [1],\n",
       "       [2],\n",
       "       [0],\n",
       "       [0]])"
      ]
     },
     "execution_count": 38,
     "metadata": {},
     "output_type": "execute_result"
    }
   ],
   "source": [
    "dtm_count.getcol(800).toarray()"
   ]
  },
  {
   "cell_type": "code",
   "execution_count": 39,
   "metadata": {
    "collapsed": false
   },
   "outputs": [
    {
     "data": {
      "text/plain": [
       "'birthplac'"
      ]
     },
     "execution_count": 39,
     "metadata": {},
     "output_type": "execute_result"
    }
   ],
   "source": [
    "vectorizer.get_feature_names()[800]"
   ]
  },
  {
   "cell_type": "code",
   "execution_count": 42,
   "metadata": {
    "collapsed": false
   },
   "outputs": [
    {
     "data": {
      "text/plain": [
       "2260"
      ]
     },
     "execution_count": 42,
     "metadata": {},
     "output_type": "execute_result"
    }
   ],
   "source": [
    "vectorizer.vocabulary_['mathemat']"
   ]
  },
  {
   "cell_type": "markdown",
   "metadata": {},
   "source": [
    "### statistics for  word 'kingdom' in documents"
   ]
  },
  {
   "cell_type": "code",
   "execution_count": 43,
   "metadata": {
    "collapsed": false
   },
   "outputs": [
    {
     "data": {
      "text/plain": [
       "2089"
      ]
     },
     "execution_count": 43,
     "metadata": {},
     "output_type": "execute_result"
    }
   ],
   "source": [
    "vectorizer.vocabulary_[\"kingdom\"]"
   ]
  },
  {
   "cell_type": "code",
   "execution_count": 44,
   "metadata": {
    "collapsed": false
   },
   "outputs": [
    {
     "data": {
      "text/plain": [
       "'king'"
      ]
     },
     "execution_count": 44,
     "metadata": {},
     "output_type": "execute_result"
    }
   ],
   "source": [
    "vectorizer.get_feature_names()[2088]"
   ]
  },
  {
   "cell_type": "code",
   "execution_count": 45,
   "metadata": {
    "collapsed": false
   },
   "outputs": [
    {
     "data": {
      "text/plain": [
       "array([[ 0],\n",
       "       [ 0],\n",
       "       [ 0],\n",
       "       [ 0],\n",
       "       [ 0],\n",
       "       [ 1],\n",
       "       [ 0],\n",
       "       [ 0],\n",
       "       [ 7],\n",
       "       [ 2],\n",
       "       [ 3],\n",
       "       [ 5],\n",
       "       [56],\n",
       "       [ 0],\n",
       "       [ 0]])"
      ]
     },
     "execution_count": 45,
     "metadata": {},
     "output_type": "execute_result"
    }
   ],
   "source": [
    "dtm_count.getcol(vectorizer.vocabulary_[\"kingdom\"]).toarray()"
   ]
  },
  {
   "cell_type": "markdown",
   "metadata": {},
   "source": [
    "### statistics of words in first document"
   ]
  },
  {
   "cell_type": "code",
   "execution_count": 46,
   "metadata": {
    "collapsed": false
   },
   "outputs": [
    {
     "data": {
      "text/plain": [
       "(3711,)"
      ]
     },
     "execution_count": 46,
     "metadata": {},
     "output_type": "execute_result"
    }
   ],
   "source": [
    "dtm_count.getrow(0).toarray()[0].shape"
   ]
  },
  {
   "cell_type": "code",
   "execution_count": 47,
   "metadata": {
    "collapsed": false
   },
   "outputs": [],
   "source": [
    "df = pd.DataFrame({\n",
    "    'counts':dtm_count.getrow(0).toarray()[0],# pandas potrzebuje 1d\n",
    "    'words':vectorizer.get_feature_names()\n",
    "}\n",
    ")"
   ]
  },
  {
   "cell_type": "code",
   "execution_count": 48,
   "metadata": {
    "collapsed": false
   },
   "outputs": [],
   "source": [
    "df = df.sort_values(by=\"counts\",ascending=False)"
   ]
  },
  {
   "cell_type": "code",
   "execution_count": 49,
   "metadata": {
    "collapsed": false
   },
   "outputs": [
    {
     "data": {
      "text/html": [
       "<div>\n",
       "<style scoped>\n",
       "    .dataframe tbody tr th:only-of-type {\n",
       "        vertical-align: middle;\n",
       "    }\n",
       "\n",
       "    .dataframe tbody tr th {\n",
       "        vertical-align: top;\n",
       "    }\n",
       "\n",
       "    .dataframe thead th {\n",
       "        text-align: right;\n",
       "    }\n",
       "</style>\n",
       "<table border=\"1\" class=\"dataframe\">\n",
       "  <thead>\n",
       "    <tr style=\"text-align: right;\">\n",
       "      <th></th>\n",
       "      <th>counts</th>\n",
       "      <th>words</th>\n",
       "    </tr>\n",
       "  </thead>\n",
       "  <tbody>\n",
       "    <tr>\n",
       "      <th>1992</th>\n",
       "      <td>267</td>\n",
       "      <td>integr</td>\n",
       "    </tr>\n",
       "    <tr>\n",
       "      <th>1703</th>\n",
       "      <td>132</td>\n",
       "      <td>function</td>\n",
       "    </tr>\n",
       "    <tr>\n",
       "      <th>1554</th>\n",
       "      <td>74</td>\n",
       "      <td>f</td>\n",
       "    </tr>\n",
       "    <tr>\n",
       "      <th>3677</th>\n",
       "      <td>71</td>\n",
       "      <td>x</td>\n",
       "    </tr>\n",
       "    <tr>\n",
       "      <th>731</th>\n",
       "      <td>50</td>\n",
       "      <td>b</td>\n",
       "    </tr>\n",
       "  </tbody>\n",
       "</table>\n",
       "</div>"
      ],
      "text/plain": [
       "      counts     words\n",
       "1992     267    integr\n",
       "1703     132  function\n",
       "1554      74         f\n",
       "3677      71         x\n",
       "731       50         b"
      ]
     },
     "execution_count": 49,
     "metadata": {},
     "output_type": "execute_result"
    }
   ],
   "source": [
    "df.head()"
   ]
  },
  {
   "cell_type": "markdown",
   "metadata": {},
   "source": [
    "### Top k words for all documents"
   ]
  },
  {
   "cell_type": "code",
   "execution_count": 50,
   "metadata": {
    "collapsed": true
   },
   "outputs": [],
   "source": [
    "def top_words(matrix,vectorizer,k):\n",
    "    \n",
    "    words = np.array(vectorizer.get_feature_names())\n",
    "    top_words = []\n",
    "    \n",
    "    for art in range(matrix.shape[0]):\n",
    "\n",
    "        words_counter =  matrix.getrow(art).toarray()[0]\n",
    "\n",
    "        words_counter = np.argsort(words_counter)\n",
    "        words_counter = words_counter[::-1]\n",
    "        \n",
    "        top_words_indices = words_counter[:k]\n",
    "        top_document_words = words[top_words_indices]\n",
    "        \n",
    "        \n",
    "        top_words.append(top_document_words) \n",
    "        \n",
    "    return np.array(top_words)\n",
    "\n",
    "    \n",
    "        "
   ]
  },
  {
   "cell_type": "code",
   "execution_count": 51,
   "metadata": {
    "collapsed": false
   },
   "outputs": [
    {
     "data": {
      "text/plain": [
       "array([['integr', 'function', 'f', 'x', 'b'],\n",
       "       ['integr', 'riemann', 'sum', 'interv', 'function'],\n",
       "       ['integr', 'g', 'riemann', 'stieltj', 'function'],\n",
       "       ['deriv', 'f', 'function', 'x', 'h'],\n",
       "       ['displaystyl', 'x', 'sequenc', 'b', 'to'],\n",
       "       ['cm', 'paint', 'museum', 'art', 'portrait'],\n",
       "       ['van', 'gogh', 'paint', 'art', 'portrait'],\n",
       "       ['paint', 'kraków', 'polish', 'jan', '26'],\n",
       "       ['war', 'russian', 'anarchist', 'novel', 'life'],\n",
       "       ['stori', 'german', 'der', 'write', 'die'],\n",
       "       ['tolkien', 'ring', 'english', 'lord', 'stori'],\n",
       "       ['warsaw', 'citi', 'polish', 'poland', 'palac'],\n",
       "       ['england', 'english', 'world', 'kingdom', 'london'],\n",
       "       ['tower', 'level', 'top', 'pari', 'de'],\n",
       "       ['101', 'floor', 'build', 'tower', 'ft']], dtype='<U14')"
      ]
     },
     "execution_count": 51,
     "metadata": {},
     "output_type": "execute_result"
    }
   ],
   "source": [
    "top_words(dtm_count,vectorizer,5)"
   ]
  },
  {
   "cell_type": "markdown",
   "metadata": {},
   "source": [
    "### TF-IDF - Term Frequency-Inverse Documents Frequency"
   ]
  },
  {
   "cell_type": "code",
   "execution_count": 52,
   "metadata": {
    "collapsed": true
   },
   "outputs": [],
   "source": [
    "sentences = [\n",
    "    \"morze plaza slonce\",\n",
    "    'morze piasek slonce lato',\n",
    "    'plaza lato woda'\n",
    "]"
   ]
  },
  {
   "cell_type": "code",
   "execution_count": 53,
   "metadata": {
    "collapsed": false
   },
   "outputs": [
    {
     "data": {
      "text/plain": [
       "array([[0, 1, 0, 1, 1, 0],\n",
       "       [1, 1, 1, 0, 1, 0],\n",
       "       [1, 0, 0, 1, 0, 1]], dtype=int64)"
      ]
     },
     "execution_count": 53,
     "metadata": {},
     "output_type": "execute_result"
    }
   ],
   "source": [
    "CountVectorizer().fit_transform(sentences).toarray()"
   ]
  },
  {
   "cell_type": "code",
   "execution_count": 54,
   "metadata": {
    "collapsed": false
   },
   "outputs": [
    {
     "data": {
      "text/plain": [
       "array([[0.        , 1.28768207, 0.        , 1.28768207, 1.28768207,\n",
       "        0.        ],\n",
       "       [1.28768207, 1.28768207, 1.69314718, 0.        , 1.28768207,\n",
       "        0.        ],\n",
       "       [1.28768207, 0.        , 0.        , 1.28768207, 0.        ,\n",
       "        1.69314718]])"
      ]
     },
     "execution_count": 54,
     "metadata": {},
     "output_type": "execute_result"
    }
   ],
   "source": [
    "TfidfVectorizer(norm=None).fit_transform(sentences).toarray()"
   ]
  },
  {
   "cell_type": "code",
   "execution_count": 55,
   "metadata": {
    "collapsed": true
   },
   "outputs": [],
   "source": [
    "# im częściej występuje slowo w danym dokumencie tym to słowo ma większe TF-IDF\n",
    "# im częściej słowo występuje w wielu artykułąch tym to słowo ma mniejsze TF-IDF"
   ]
  },
  {
   "cell_type": "code",
   "execution_count": 56,
   "metadata": {
    "collapsed": true
   },
   "outputs": [],
   "source": [
    "tf_idf = TfidfVectorizer(norm=None,min_df=2,max_df=0.7,token_pattern='(?u)\\\\b\\\\w+\\\\b')"
   ]
  },
  {
   "cell_type": "code",
   "execution_count": 57,
   "metadata": {
    "collapsed": false
   },
   "outputs": [
    {
     "data": {
      "text/plain": [
       "<15x3711 sparse matrix of type '<class 'numpy.float64'>'\n",
       "\twith 14572 stored elements in Compressed Sparse Row format>"
      ]
     },
     "execution_count": 57,
     "metadata": {},
     "output_type": "execute_result"
    }
   ],
   "source": [
    "tf_idf.fit(articles_cleaned)\n",
    "dtm_tfidf = tf_idf.transform(articles_cleaned)\n",
    "dtm_tfidf"
   ]
  },
  {
   "cell_type": "code",
   "execution_count": 58,
   "metadata": {
    "collapsed": false
   },
   "outputs": [
    {
     "data": {
      "text/plain": [
       "array([['integr', 'function', 'x', 'f', 'interv'],\n",
       "       ['riemann', 'integr', 'sum', 'interv', 'partit'],\n",
       "       ['integr', 'riemann', 'stieltj', 'g', 'x'],\n",
       "       ['f', 'deriv', 'x', 'function', 'vector'],\n",
       "       ['displaystyl', 'x', 'sequenc', 'b', 'to'],\n",
       "       ['cm', 'paint', 'museum', 'portrait', 'scream'],\n",
       "       ['gogh', 'van', 'paint', 'gauguin', '1888'],\n",
       "       ['kraków', 'polish', 'paint', 'jan', 'fine'],\n",
       "       ['anarchist', 'war', 'russian', 'novel', 'peac'],\n",
       "       ['stori', 'der', 'franz', 'jewish', 'czech'],\n",
       "       ['tolkien', 'ring', 'lord', 'english', 'beowulf'],\n",
       "       ['warsaw', 'citi', 'polish', 'poland', 'palac'],\n",
       "       ['england', 'english', 'london', 'kingdom', 'britain'],\n",
       "       ['tower', 'level', 'top', 'pari', 'ft'],\n",
       "       ['floor', '101', 'tower', 'build', 'ft']], dtype='<U14')"
      ]
     },
     "execution_count": 58,
     "metadata": {},
     "output_type": "execute_result"
    }
   ],
   "source": [
    "top_words(dtm_tfidf,tf_idf,5)"
   ]
  },
  {
   "cell_type": "code",
   "execution_count": 59,
   "metadata": {
    "collapsed": false
   },
   "outputs": [
    {
     "data": {
      "text/plain": [
       "array([['integr', 'function', 'f', 'x', 'b'],\n",
       "       ['integr', 'riemann', 'sum', 'interv', 'function'],\n",
       "       ['integr', 'g', 'riemann', 'stieltj', 'function'],\n",
       "       ['deriv', 'f', 'function', 'x', 'h'],\n",
       "       ['displaystyl', 'x', 'sequenc', 'b', 'to'],\n",
       "       ['cm', 'paint', 'museum', 'art', 'portrait'],\n",
       "       ['van', 'gogh', 'paint', 'art', 'portrait'],\n",
       "       ['paint', 'kraków', 'polish', 'jan', '26'],\n",
       "       ['war', 'russian', 'anarchist', 'novel', 'life'],\n",
       "       ['stori', 'german', 'der', 'write', 'die'],\n",
       "       ['tolkien', 'ring', 'english', 'lord', 'stori'],\n",
       "       ['warsaw', 'citi', 'polish', 'poland', 'palac'],\n",
       "       ['england', 'english', 'world', 'kingdom', 'london'],\n",
       "       ['tower', 'level', 'top', 'pari', 'de'],\n",
       "       ['101', 'floor', 'build', 'tower', 'ft']], dtype='<U14')"
      ]
     },
     "execution_count": 59,
     "metadata": {},
     "output_type": "execute_result"
    }
   ],
   "source": [
    "top_words(dtm_count,vectorizer,5)"
   ]
  },
  {
   "cell_type": "markdown",
   "metadata": {},
   "source": [
    "### Cosine similarity "
   ]
  },
  {
   "cell_type": "code",
   "execution_count": 60,
   "metadata": {
    "collapsed": true
   },
   "outputs": [],
   "source": [
    "sentences = [\"morze plaza slonce\",\"morze plaza slonce morze plaza slonce\"]"
   ]
  },
  {
   "cell_type": "code",
   "execution_count": 61,
   "metadata": {
    "collapsed": true
   },
   "outputs": [],
   "source": [
    "matrix_repr = CountVectorizer().fit_transform(sentences).toarray()"
   ]
  },
  {
   "cell_type": "code",
   "execution_count": 62,
   "metadata": {
    "collapsed": false
   },
   "outputs": [
    {
     "data": {
      "text/plain": [
       "1.7320508075688772"
      ]
     },
     "execution_count": 62,
     "metadata": {},
     "output_type": "execute_result"
    }
   ],
   "source": [
    "euclidean(matrix_repr[0],matrix_repr[1])"
   ]
  },
  {
   "cell_type": "code",
   "execution_count": 63,
   "metadata": {
    "collapsed": false
   },
   "outputs": [
    {
     "data": {
      "text/plain": [
       "0.0"
      ]
     },
     "execution_count": 63,
     "metadata": {},
     "output_type": "execute_result"
    }
   ],
   "source": [
    "cosine(matrix_repr[0],matrix_repr[1])"
   ]
  },
  {
   "cell_type": "code",
   "execution_count": 64,
   "metadata": {
    "collapsed": false
   },
   "outputs": [
    {
     "data": {
      "text/plain": [
       "(15, 3711)"
      ]
     },
     "execution_count": 64,
     "metadata": {},
     "output_type": "execute_result"
    }
   ],
   "source": [
    "dtm_count.shape"
   ]
  },
  {
   "cell_type": "code",
   "execution_count": 65,
   "metadata": {
    "collapsed": false
   },
   "outputs": [
    {
     "data": {
      "text/plain": [
       "0.24659537669553977"
      ]
     },
     "execution_count": 65,
     "metadata": {},
     "output_type": "execute_result"
    }
   ],
   "source": [
    "cosine(dtm_count[0].toarray(),dtm_count[1].toarray())"
   ]
  },
  {
   "cell_type": "markdown",
   "metadata": {},
   "source": [
    "### according to CountVectorizer"
   ]
  },
  {
   "cell_type": "code",
   "execution_count": 66,
   "metadata": {
    "collapsed": false
   },
   "outputs": [
    {
     "name": "stdout",
     "output_type": "stream",
     "text": [
      "Article Integral is most similar to Riemann_integral\n",
      "Article Riemann_integral is most similar to Integral\n",
      "Article Riemann-Stieltjes_integral is most similar to Riemann_integral\n",
      "Article Derivative is most similar to Integral\n",
      "Article Limit_of_a_sequence is most similar to Derivative\n",
      "Article Edvard_Munch is most similar to Jan_Matejko\n",
      "Article Vincent_van_Gogh is most similar to Edvard_Munch\n",
      "Article Jan_Matejko is most similar to Edvard_Munch\n",
      "Article Lev_Tolstoj is most similar to Franz_Kafka\n",
      "Article Franz_Kafka is most similar to Lev_Tolstoj\n",
      "Article J._R._R._Tolkien is most similar to Franz_Kafka\n",
      "Article Warsaw is most similar to Jan_Matejko\n",
      "Article England is most similar to J._R._R._Tolkien\n",
      "Article Eiffel_Tower is most similar to Taipei_101\n",
      "Article Taipei_101 is most similar to Eiffel_Tower\n"
     ]
    }
   ],
   "source": [
    "for art in range(dtm_count.shape[0]):\n",
    "    distances = [cosine(dtm_count[art].toarray(),dtm_count[art2].toarray())for art2 in range(dtm_count.shape[0])]\n",
    "    distances[art] = 1.0\n",
    "    print('Article {} is most similar to {}'.format(titles[art],titles[np.argmin(distances)]))"
   ]
  },
  {
   "cell_type": "markdown",
   "metadata": {},
   "source": [
    "### according to TF-IDF"
   ]
  },
  {
   "cell_type": "code",
   "execution_count": 67,
   "metadata": {
    "collapsed": false
   },
   "outputs": [
    {
     "name": "stdout",
     "output_type": "stream",
     "text": [
      "Article Integral is most similar to Riemann_integral\n",
      "Article Riemann_integral is most similar to Riemann-Stieltjes_integral\n",
      "Article Riemann-Stieltjes_integral is most similar to Riemann_integral\n",
      "Article Derivative is most similar to Integral\n",
      "Article Limit_of_a_sequence is most similar to Derivative\n",
      "Article Edvard_Munch is most similar to Jan_Matejko\n",
      "Article Vincent_van_Gogh is most similar to Edvard_Munch\n",
      "Article Jan_Matejko is most similar to Edvard_Munch\n",
      "Article Lev_Tolstoj is most similar to Franz_Kafka\n",
      "Article Franz_Kafka is most similar to Lev_Tolstoj\n",
      "Article J._R._R._Tolkien is most similar to Franz_Kafka\n",
      "Article Warsaw is most similar to Jan_Matejko\n",
      "Article England is most similar to Lev_Tolstoj\n",
      "Article Eiffel_Tower is most similar to Taipei_101\n",
      "Article Taipei_101 is most similar to Eiffel_Tower\n"
     ]
    }
   ],
   "source": [
    "for art in range(dtm_tfidf.shape[0]):\n",
    "    distances = [cosine(dtm_tfidf[art].toarray(),dtm_tfidf[art2].toarray())for art2 in range(dtm_tfidf.shape[0])]\n",
    "    distances[art] = 1.0\n",
    "    print('Article {} is most similar to {}'.format(titles[art],titles[np.argmin(distances)]))"
   ]
  },
  {
   "cell_type": "markdown",
   "metadata": {},
   "source": [
    "## LSI - Latent Semantic Indexing, LSA - Latent Semantic Analysis (SVD)"
   ]
  },
  {
   "cell_type": "code",
   "execution_count": 68,
   "metadata": {
    "collapsed": false
   },
   "outputs": [
    {
     "data": {
      "text/plain": [
       "(15, 3711)"
      ]
     },
     "execution_count": 68,
     "metadata": {},
     "output_type": "execute_result"
    }
   ],
   "source": [
    "dtm_tfidf.shape"
   ]
  },
  {
   "cell_type": "code",
   "execution_count": 69,
   "metadata": {
    "collapsed": true
   },
   "outputs": [],
   "source": [
    "# 15 documents and 3724 terms - OVERFITTTING\n",
    "# We want to end up with fewer topics than words, so we can use those topic vector \n",
    "# as a reduced-dimension reprezentation of the original TF-IDF vectors"
   ]
  },
  {
   "cell_type": "code",
   "execution_count": 70,
   "metadata": {
    "collapsed": true
   },
   "outputs": [],
   "source": [
    "svd = TruncatedSVD(5,n_iter=100) # 5 topics"
   ]
  },
  {
   "cell_type": "code",
   "execution_count": 71,
   "metadata": {
    "collapsed": false
   },
   "outputs": [
    {
     "data": {
      "text/plain": [
       "TruncatedSVD(algorithm='randomized', n_components=5, n_iter=100,\n",
       "       random_state=None, tol=0.0)"
      ]
     },
     "execution_count": 71,
     "metadata": {},
     "output_type": "execute_result"
    }
   ],
   "source": [
    "svd.fit(dtm_tfidf)"
   ]
  },
  {
   "cell_type": "code",
   "execution_count": 72,
   "metadata": {
    "collapsed": true
   },
   "outputs": [],
   "source": [
    "svd_topic_vectors = svd.transform(dtm_tfidf)#transform document_term_matrix \n",
    "                                            #into topic_document matrix(topic vectors)"
   ]
  },
  {
   "cell_type": "code",
   "execution_count": 73,
   "metadata": {
    "collapsed": false
   },
   "outputs": [
    {
     "data": {
      "text/plain": [
       "(15, 5)"
      ]
     },
     "execution_count": 73,
     "metadata": {},
     "output_type": "execute_result"
    }
   ],
   "source": [
    "svd_topic_vectors.shape"
   ]
  },
  {
   "cell_type": "code",
   "execution_count": 77,
   "metadata": {
    "collapsed": false
   },
   "outputs": [
    {
     "data": {
      "text/plain": [
       "array([[ 122.34006,  579.64478,   61.19412,  -50.45245,  -22.24377],\n",
       "       [  63.85942,  323.87726,   35.0873 ,  -28.10853,  -19.64049],\n",
       "       [  21.26956,  108.0415 ,   11.54142,   -9.61745,   -5.63918],\n",
       "       [  77.89685,  342.31017,   38.24582,  -27.26122,    3.21529],\n",
       "       [  13.97334,   62.15429,    6.63352,   -5.28584,   -0.60542],\n",
       "       [  65.30551,   -6.67192,  -46.63602,  -41.00558,    8.3564 ],\n",
       "       [ 328.47639,  -57.06762, -459.70302, -519.80318,  -39.10851],\n",
       "       [  31.02738,   -2.23506,  -25.19203,    4.68742,   -1.94244],\n",
       "       [  36.50551,   -2.46899,   -2.94982,    0.06929,   14.95896],\n",
       "       [  69.57849,   -3.83023,   -2.65704,    0.24222,   20.08586],\n",
       "       [ 605.71004, -173.30739,  482.57372,  -76.60586, -128.60102],\n",
       "       [ 382.96687,   12.20754, -371.09711,  528.12232, -161.26747],\n",
       "       [ 276.79253,   -7.039  ,  -22.16649,   97.25957,  546.59481],\n",
       "       [  53.9151 ,    5.5439 ,  -25.92881,    6.00826,   33.03741],\n",
       "       [  36.89758,    3.46018,  -15.49009,   14.32067,   23.06589]])"
      ]
     },
     "execution_count": 77,
     "metadata": {},
     "output_type": "execute_result"
    }
   ],
   "source": [
    "svd_topic_vectors"
   ]
  },
  {
   "cell_type": "code",
   "execution_count": 75,
   "metadata": {
    "collapsed": true
   },
   "outputs": [],
   "source": [
    "np.set_printoptions(5, suppress=True)"
   ]
  },
  {
   "cell_type": "code",
   "execution_count": 76,
   "metadata": {
    "collapsed": false
   },
   "outputs": [
    {
     "data": {
      "text/plain": [
       "array([0.13518, 0.3002 , 0.48821, 0.67127, 0.78089])"
      ]
     },
     "execution_count": 76,
     "metadata": {},
     "output_type": "execute_result"
    }
   ],
   "source": [
    "cumsum = np.cumsum(svd.explained_variance_ratio_)\n",
    "cumsum # it shows us how each topic explains the variance of our documnets in our new topic vectos space "
   ]
  },
  {
   "cell_type": "code",
   "execution_count": 78,
   "metadata": {
    "collapsed": false
   },
   "outputs": [
    {
     "data": {
      "text/plain": [
       "array([859.9357 , 779.2308 , 769.9104 , 755.36761, 588.29256])"
      ]
     },
     "execution_count": 78,
     "metadata": {},
     "output_type": "execute_result"
    }
   ],
   "source": [
    "svd.singular_values_"
   ]
  },
  {
   "cell_type": "code",
   "execution_count": 79,
   "metadata": {
    "collapsed": false
   },
   "outputs": [
    {
     "data": {
      "text/plain": [
       "(15, 5)"
      ]
     },
     "execution_count": 79,
     "metadata": {},
     "output_type": "execute_result"
    }
   ],
   "source": [
    "svd_topic_vectors.shape"
   ]
  },
  {
   "cell_type": "code",
   "execution_count": 80,
   "metadata": {
    "collapsed": false
   },
   "outputs": [
    {
     "data": {
      "text/plain": [
       "(5, 3711)"
      ]
     },
     "execution_count": 80,
     "metadata": {},
     "output_type": "execute_result"
    }
   ],
   "source": [
    "svd.components_.shape # (topics,terms)"
   ]
  },
  {
   "cell_type": "code",
   "execution_count": 81,
   "metadata": {
    "collapsed": false
   },
   "outputs": [
    {
     "name": "stdout",
     "output_type": "stream",
     "text": [
      "['tolkien' 'warsaw' 'gogh' 'van' 'england' 'english' 'citi' 'paint']\n",
      "[0.59017 0.3205  0.2251  0.19539 0.17532 0.12593 0.11799 0.10793]\n",
      "['integr' 'function' 'f' 'x' 'riemann' 'deriv' 'interv' 'sum']\n",
      "[0.60331 0.32601 0.30717 0.26743 0.22145 0.15633 0.13712 0.11995]\n",
      "['tolkien' 'ring' 'lord' 'integr' 'beowulf' 'english' 'stori' 'fantasi']\n",
      "[0.58549 0.0959  0.09478 0.067   0.04997 0.04915 0.04287 0.037  ]\n",
      "['warsaw' 'citi' 'polish' 'poland' 'palac' 'park' 'england' 'centr']\n",
      "[0.5721  0.19115 0.1223  0.12164 0.095   0.07486 0.06243 0.05259]\n",
      "['england' 'english' 'london' 'kingdom' 'britain' 'world' 'british'\n",
      " 'roman']\n",
      "[0.62098 0.2391  0.16677 0.15607 0.14259 0.11145 0.11074 0.08964]\n"
     ]
    }
   ],
   "source": [
    "#Top words in each topic\n",
    "k=8\n",
    "words = np.array(vectorizer.get_feature_names())\n",
    "for topic in svd.components_:\n",
    "    indexes = np.argsort(topic)\n",
    "    indexes = indexes[::-1]\n",
    "    top_words_indices = indexes[:k]\n",
    "    print(words[top_words_indices])\n",
    "    print(topic[indexes[:k]])\n",
    "# each topic is a linear combiantations of terms"
   ]
  },
  {
   "cell_type": "code",
   "execution_count": 82,
   "metadata": {
    "collapsed": false
   },
   "outputs": [
    {
     "data": {
      "text/plain": [
       "array([[ 0.14227,  0.74387,  0.07948, -0.06679, -0.03781],\n",
       "       [ 0.07426,  0.41564,  0.04557, -0.03721, -0.03339],\n",
       "       [ 0.02473,  0.13865,  0.01499, -0.01273, -0.00959],\n",
       "       [ 0.09058,  0.43929,  0.04968, -0.03609,  0.00547],\n",
       "       [ 0.01625,  0.07976,  0.00862, -0.007  , -0.00103],\n",
       "       [ 0.07594, -0.00856, -0.06057, -0.05429,  0.0142 ],\n",
       "       [ 0.38198, -0.07324, -0.59709, -0.68815, -0.06648],\n",
       "       [ 0.03608, -0.00287, -0.03272,  0.00621, -0.0033 ],\n",
       "       [ 0.04245, -0.00317, -0.00383,  0.00009,  0.02543],\n",
       "       [ 0.08091, -0.00492, -0.00345,  0.00032,  0.03414],\n",
       "       [ 0.70437, -0.22241,  0.62679, -0.10142, -0.2186 ],\n",
       "       [ 0.44534,  0.01567, -0.482  ,  0.69916, -0.27413],\n",
       "       [ 0.32188, -0.00903, -0.02879,  0.12876,  0.92912],\n",
       "       [ 0.0627 ,  0.00711, -0.03368,  0.00795,  0.05616],\n",
       "       [ 0.04291,  0.00444, -0.02012,  0.01896,  0.03921]])"
      ]
     },
     "execution_count": 82,
     "metadata": {},
     "output_type": "execute_result"
    }
   ],
   "source": [
    "# topics in documents\n",
    "svd_topic_vectors = svd_topic_vectors/svd.singular_values_#(documents,topics)\n",
    "svd_topic_vectors"
   ]
  },
  {
   "cell_type": "code",
   "execution_count": 83,
   "metadata": {
    "collapsed": false
   },
   "outputs": [
    {
     "data": {
      "text/html": [
       "<div>\n",
       "<style scoped>\n",
       "    .dataframe tbody tr th:only-of-type {\n",
       "        vertical-align: middle;\n",
       "    }\n",
       "\n",
       "    .dataframe tbody tr th {\n",
       "        vertical-align: top;\n",
       "    }\n",
       "\n",
       "    .dataframe thead th {\n",
       "        text-align: right;\n",
       "    }\n",
       "</style>\n",
       "<table border=\"1\" class=\"dataframe\">\n",
       "  <thead>\n",
       "    <tr style=\"text-align: right;\">\n",
       "      <th></th>\n",
       "      <th>topic0</th>\n",
       "      <th>topic1</th>\n",
       "      <th>topic2</th>\n",
       "      <th>topic3</th>\n",
       "      <th>topic4</th>\n",
       "    </tr>\n",
       "  </thead>\n",
       "  <tbody>\n",
       "    <tr>\n",
       "      <th>Integral</th>\n",
       "      <td>0.142267</td>\n",
       "      <td>0.743868</td>\n",
       "      <td>0.079482</td>\n",
       "      <td>-0.066792</td>\n",
       "      <td>-0.037811</td>\n",
       "    </tr>\n",
       "    <tr>\n",
       "      <th>Riemann_integral</th>\n",
       "      <td>0.074261</td>\n",
       "      <td>0.415637</td>\n",
       "      <td>0.045573</td>\n",
       "      <td>-0.037212</td>\n",
       "      <td>-0.033386</td>\n",
       "    </tr>\n",
       "    <tr>\n",
       "      <th>Riemann-Stieltjes_integral</th>\n",
       "      <td>0.024734</td>\n",
       "      <td>0.138651</td>\n",
       "      <td>0.014991</td>\n",
       "      <td>-0.012732</td>\n",
       "      <td>-0.009586</td>\n",
       "    </tr>\n",
       "    <tr>\n",
       "      <th>Derivative</th>\n",
       "      <td>0.090585</td>\n",
       "      <td>0.439292</td>\n",
       "      <td>0.049676</td>\n",
       "      <td>-0.036090</td>\n",
       "      <td>0.005465</td>\n",
       "    </tr>\n",
       "    <tr>\n",
       "      <th>Limit_of_a_sequence</th>\n",
       "      <td>0.016249</td>\n",
       "      <td>0.079764</td>\n",
       "      <td>0.008616</td>\n",
       "      <td>-0.006998</td>\n",
       "      <td>-0.001029</td>\n",
       "    </tr>\n",
       "    <tr>\n",
       "      <th>Edvard_Munch</th>\n",
       "      <td>0.075942</td>\n",
       "      <td>-0.008562</td>\n",
       "      <td>-0.060573</td>\n",
       "      <td>-0.054286</td>\n",
       "      <td>0.014205</td>\n",
       "    </tr>\n",
       "    <tr>\n",
       "      <th>Vincent_van_Gogh</th>\n",
       "      <td>0.381978</td>\n",
       "      <td>-0.073236</td>\n",
       "      <td>-0.597086</td>\n",
       "      <td>-0.688146</td>\n",
       "      <td>-0.066478</td>\n",
       "    </tr>\n",
       "    <tr>\n",
       "      <th>Jan_Matejko</th>\n",
       "      <td>0.036081</td>\n",
       "      <td>-0.002868</td>\n",
       "      <td>-0.032721</td>\n",
       "      <td>0.006205</td>\n",
       "      <td>-0.003302</td>\n",
       "    </tr>\n",
       "    <tr>\n",
       "      <th>Lev_Tolstoj</th>\n",
       "      <td>0.042451</td>\n",
       "      <td>-0.003168</td>\n",
       "      <td>-0.003831</td>\n",
       "      <td>0.000092</td>\n",
       "      <td>0.025428</td>\n",
       "    </tr>\n",
       "    <tr>\n",
       "      <th>Franz_Kafka</th>\n",
       "      <td>0.080911</td>\n",
       "      <td>-0.004915</td>\n",
       "      <td>-0.003451</td>\n",
       "      <td>0.000321</td>\n",
       "      <td>0.034143</td>\n",
       "    </tr>\n",
       "    <tr>\n",
       "      <th>J._R._R._Tolkien</th>\n",
       "      <td>0.704367</td>\n",
       "      <td>-0.222408</td>\n",
       "      <td>0.626792</td>\n",
       "      <td>-0.101415</td>\n",
       "      <td>-0.218600</td>\n",
       "    </tr>\n",
       "    <tr>\n",
       "      <th>Warsaw</th>\n",
       "      <td>0.445344</td>\n",
       "      <td>0.015666</td>\n",
       "      <td>-0.482000</td>\n",
       "      <td>0.699159</td>\n",
       "      <td>-0.274128</td>\n",
       "    </tr>\n",
       "    <tr>\n",
       "      <th>England</th>\n",
       "      <td>0.321876</td>\n",
       "      <td>-0.009033</td>\n",
       "      <td>-0.028791</td>\n",
       "      <td>0.128758</td>\n",
       "      <td>0.929121</td>\n",
       "    </tr>\n",
       "    <tr>\n",
       "      <th>Eiffel_Tower</th>\n",
       "      <td>0.062697</td>\n",
       "      <td>0.007115</td>\n",
       "      <td>-0.033678</td>\n",
       "      <td>0.007954</td>\n",
       "      <td>0.056158</td>\n",
       "    </tr>\n",
       "    <tr>\n",
       "      <th>Taipei_101</th>\n",
       "      <td>0.042907</td>\n",
       "      <td>0.004441</td>\n",
       "      <td>-0.020119</td>\n",
       "      <td>0.018959</td>\n",
       "      <td>0.039208</td>\n",
       "    </tr>\n",
       "  </tbody>\n",
       "</table>\n",
       "</div>"
      ],
      "text/plain": [
       "                              topic0    topic1    topic2    topic3    topic4\n",
       "Integral                    0.142267  0.743868  0.079482 -0.066792 -0.037811\n",
       "Riemann_integral            0.074261  0.415637  0.045573 -0.037212 -0.033386\n",
       "Riemann-Stieltjes_integral  0.024734  0.138651  0.014991 -0.012732 -0.009586\n",
       "Derivative                  0.090585  0.439292  0.049676 -0.036090  0.005465\n",
       "Limit_of_a_sequence         0.016249  0.079764  0.008616 -0.006998 -0.001029\n",
       "Edvard_Munch                0.075942 -0.008562 -0.060573 -0.054286  0.014205\n",
       "Vincent_van_Gogh            0.381978 -0.073236 -0.597086 -0.688146 -0.066478\n",
       "Jan_Matejko                 0.036081 -0.002868 -0.032721  0.006205 -0.003302\n",
       "Lev_Tolstoj                 0.042451 -0.003168 -0.003831  0.000092  0.025428\n",
       "Franz_Kafka                 0.080911 -0.004915 -0.003451  0.000321  0.034143\n",
       "J._R._R._Tolkien            0.704367 -0.222408  0.626792 -0.101415 -0.218600\n",
       "Warsaw                      0.445344  0.015666 -0.482000  0.699159 -0.274128\n",
       "England                     0.321876 -0.009033 -0.028791  0.128758  0.929121\n",
       "Eiffel_Tower                0.062697  0.007115 -0.033678  0.007954  0.056158\n",
       "Taipei_101                  0.042907  0.004441 -0.020119  0.018959  0.039208"
      ]
     },
     "execution_count": 83,
     "metadata": {},
     "output_type": "execute_result"
    }
   ],
   "source": [
    "pd.DataFrame(svd_topic_vectors,\n",
    "             index=titles,\n",
    "             columns=['topic{}'.format(i) for i in range(svd_topic_vectors.shape[1])])"
   ]
  },
  {
   "cell_type": "code",
   "execution_count": 84,
   "metadata": {
    "collapsed": false
   },
   "outputs": [
    {
     "name": "stdout",
     "output_type": "stream",
     "text": [
      "topic_0\n",
      "['J._R._R._Tolkien', 'Warsaw', 'Vincent_van_Gogh', 'England', 'Integral', 'Derivative', 'Franz_Kafka', 'Edvard_Munch', 'Riemann_integral', 'Eiffel_Tower', 'Taipei_101', 'Lev_Tolstoj', 'Jan_Matejko', 'Riemann-Stieltjes_integral', 'Limit_of_a_sequence']\n",
      "topic_1\n",
      "['Integral', 'Derivative', 'Riemann_integral', 'Riemann-Stieltjes_integral', 'Limit_of_a_sequence', 'Warsaw', 'Eiffel_Tower', 'Taipei_101', 'Jan_Matejko', 'Lev_Tolstoj', 'Franz_Kafka', 'Edvard_Munch', 'England', 'Vincent_van_Gogh', 'J._R._R._Tolkien']\n",
      "topic_2\n",
      "['J._R._R._Tolkien', 'Integral', 'Derivative', 'Riemann_integral', 'Riemann-Stieltjes_integral', 'Limit_of_a_sequence', 'Franz_Kafka', 'Lev_Tolstoj', 'Taipei_101', 'England', 'Jan_Matejko', 'Eiffel_Tower', 'Edvard_Munch', 'Warsaw', 'Vincent_van_Gogh']\n",
      "topic_3\n",
      "['Warsaw', 'England', 'Taipei_101', 'Eiffel_Tower', 'Jan_Matejko', 'Franz_Kafka', 'Lev_Tolstoj', 'Limit_of_a_sequence', 'Riemann-Stieltjes_integral', 'Derivative', 'Riemann_integral', 'Edvard_Munch', 'Integral', 'J._R._R._Tolkien', 'Vincent_van_Gogh']\n",
      "topic_4\n",
      "['England', 'Eiffel_Tower', 'Taipei_101', 'Franz_Kafka', 'Lev_Tolstoj', 'Edvard_Munch', 'Derivative', 'Limit_of_a_sequence', 'Jan_Matejko', 'Riemann-Stieltjes_integral', 'Riemann_integral', 'Integral', 'Vincent_van_Gogh', 'J._R._R._Tolkien', 'Warsaw']\n"
     ]
    }
   ],
   "source": [
    "for col in range(svd_topic_vectors.shape[1]):\n",
    "    indexes = np.argsort(svd_topic_vectors[:,col])\n",
    "    indexes = indexes[::-1]\n",
    "    print('topic_{}'.format(col))\n",
    "    print([titles[ind] for ind in indexes])"
   ]
  },
  {
   "cell_type": "code",
   "execution_count": 85,
   "metadata": {
    "collapsed": false
   },
   "outputs": [
    {
     "name": "stdout",
     "output_type": "stream",
     "text": [
      "Article Integral is most similar to Riemann-Stieltjes_integral\n",
      "Article Riemann_integral is most similar to Riemann-Stieltjes_integral\n",
      "Article Riemann-Stieltjes_integral is most similar to Riemann_integral\n",
      "Article Derivative is most similar to Limit_of_a_sequence\n",
      "Article Limit_of_a_sequence is most similar to Derivative\n",
      "Article Edvard_Munch is most similar to Vincent_van_Gogh\n",
      "Article Vincent_van_Gogh is most similar to Edvard_Munch\n",
      "Article Jan_Matejko is most similar to Edvard_Munch\n",
      "Article Lev_Tolstoj is most similar to Franz_Kafka\n",
      "Article Franz_Kafka is most similar to Lev_Tolstoj\n",
      "Article J._R._R._Tolkien is most similar to Franz_Kafka\n",
      "Article Warsaw is most similar to Jan_Matejko\n",
      "Article England is most similar to Taipei_101\n",
      "Article Eiffel_Tower is most similar to Taipei_101\n",
      "Article Taipei_101 is most similar to Eiffel_Tower\n"
     ]
    }
   ],
   "source": [
    "# documents' similarity according to topics \n",
    "for art_ind in range(svd_topic_vectors.shape[0]):\n",
    "    distances = [cosine(svd_topic_vectors[art_ind,:],art2) for art2 in svd_topic_vectors]\n",
    "    distances[art_ind] = 1.0\n",
    "    print('Article {} is most similar to {}'.format(titles[art_ind],titles[np.argmin(distances)]))"
   ]
  },
  {
   "cell_type": "markdown",
   "metadata": {},
   "source": [
    "## LDA (Latent Dirichlet Allocation) \n",
    "Motywacja: przedstawienie tekstu jako mieszanki tematów.\n",
    "Temat - rozkład prawdopodobieństwa na zbiorze słów.\n",
    "\n",
    "**Rozkład Dirichleta**\n",
    "Jest to rozkład, na którym opiera się model LDA\n",
    "\n",
    "Gęstość trójwymiarowego rozkładu Dirichleta Dir( αα ).\n",
    "\n",
    "Wektor losowy  (x1,...,xK)(x1,...,xK)  z  KK -wymiarowego rozkładu Dirichleta to punkt na  (K−1)(K−1) -wymiarowym \"trójkącie\" (sympleksie), czyli  x1+...+xK=1x1+...+xK=1 ,  xi≥0xi≥0 ."
   ]
  },
  {
   "cell_type": "markdown",
   "metadata": {},
   "source": [
    "<img src=\"Grafika/3d_simplex.png\" width=\"500\">"
   ]
  },
  {
   "cell_type": "markdown",
   "metadata": {},
   "source": [
    "<img src=\"Grafika/Smoothed_LDA.png\">\n",
    "\n",
    "\n",
    ",gdzie\n",
    "\n",
    "$\\theta_d \\sim Dir(\\alpha)$  - rozkład tematów w dokumencie\n",
    "\n",
    "$Z \\sim Discr(\\theta)$ - temat, którego pochodz słowo\n",
    "\n",
    "$W \\sim Discr(\\phi_Z)$ - słowo\n",
    "\n",
    "$\\phi_i \\sim Dir(\\beta)$ - tematy"
   ]
  },
  {
   "cell_type": "markdown",
   "metadata": {},
   "source": [
    "Dokumenty będą składać sie tylko z kilku tematów (alfa będzie mała).\n",
    "\n",
    "Tematy będą charakteryzowane również tylko przez cześć słów (beta małe). Dzięki temu możemy ludzkim okiem rozróżnić i zintepretować tematy."
   ]
  },
  {
   "cell_type": "markdown",
   "metadata": {},
   "source": [
    "### LDA w module GENSIM\n",
    "gensim to modul stworzony do analizy tekstów: https://radimrehurek.com/gensim/"
   ]
  },
  {
   "cell_type": "markdown",
   "metadata": {},
   "source": [
    "### LDA assumes that each document is a mixture (linear combination) of some arbitrary number of topics. LDA also assumes taht each topic can be represented by a distribution of words"
   ]
  },
  {
   "cell_type": "markdown",
   "metadata": {},
   "source": [
    "### Create corpus from text"
   ]
  },
  {
   "cell_type": "code",
   "execution_count": 86,
   "metadata": {
    "collapsed": true
   },
   "outputs": [],
   "source": [
    "dictionary = corpora.Dictionary(articles_stemmed)# create a dictionary from all words"
   ]
  },
  {
   "cell_type": "code",
   "execution_count": 87,
   "metadata": {
    "collapsed": false
   },
   "outputs": [
    {
     "data": {
      "text/plain": [
       "<gensim.corpora.dictionary.Dictionary at 0x7fdc61699da0>"
      ]
     },
     "execution_count": 87,
     "metadata": {},
     "output_type": "execute_result"
    }
   ],
   "source": [
    "dictionary"
   ]
  },
  {
   "cell_type": "code",
   "execution_count": 88,
   "metadata": {
    "collapsed": false
   },
   "outputs": [
    {
     "data": {
      "text/plain": [
       "[10509, 10510, 10511, 10512, 10513, 10514, 10515, 10516, 10517, 10518]"
      ]
     },
     "execution_count": 88,
     "metadata": {},
     "output_type": "execute_result"
    }
   ],
   "source": [
    "dictionary.keys()[-10:]"
   ]
  },
  {
   "cell_type": "code",
   "execution_count": 89,
   "metadata": {
    "collapsed": false
   },
   "outputs": [
    {
     "data": {
      "text/plain": [
       "'determin'"
      ]
     },
     "execution_count": 89,
     "metadata": {},
     "output_type": "execute_result"
    }
   ],
   "source": [
    "dictionary.get(300)"
   ]
  },
  {
   "cell_type": "code",
   "execution_count": 90,
   "metadata": {
    "collapsed": false
   },
   "outputs": [
    {
     "data": {
      "text/plain": [
       "'determin'"
      ]
     },
     "execution_count": 90,
     "metadata": {},
     "output_type": "execute_result"
    }
   ],
   "source": [
    "dictionary.id2token[300]"
   ]
  },
  {
   "cell_type": "code",
   "execution_count": 91,
   "metadata": {
    "collapsed": false
   },
   "outputs": [
    {
     "data": {
      "text/plain": [
       "[(626, 3)]"
      ]
     },
     "execution_count": 91,
     "metadata": {},
     "output_type": "execute_result"
    }
   ],
   "source": [
    "dictionary.doc2bow(['mathemat' ,'mathemat','mathemat'])# word nr 644 apears 2 times in this doc"
   ]
  },
  {
   "cell_type": "code",
   "execution_count": 92,
   "metadata": {
    "collapsed": true
   },
   "outputs": [],
   "source": [
    "corpus = [dictionary.doc2bow(art) for art in articles_stemmed] # create corpus"
   ]
  },
  {
   "cell_type": "code",
   "execution_count": 93,
   "metadata": {
    "collapsed": false
   },
   "outputs": [
    {
     "data": {
      "text/plain": [
       "15"
      ]
     },
     "execution_count": 93,
     "metadata": {},
     "output_type": "execute_result"
    }
   ],
   "source": [
    "len(corpus) # corpus made of all words from all documents"
   ]
  },
  {
   "cell_type": "code",
   "execution_count": 94,
   "metadata": {
    "collapsed": false
   },
   "outputs": [
    {
     "data": {
      "text/plain": [
       "10519"
      ]
     },
     "execution_count": 94,
     "metadata": {},
     "output_type": "execute_result"
    }
   ],
   "source": [
    "len(dictionary) #number of tokens in dictionary "
   ]
  },
  {
   "cell_type": "code",
   "execution_count": 95,
   "metadata": {
    "collapsed": false
   },
   "outputs": [
    {
     "data": {
      "text/plain": [
       "1084"
      ]
     },
     "execution_count": 95,
     "metadata": {},
     "output_type": "execute_result"
    }
   ],
   "source": [
    "len(corpus[0])# number of words in first document"
   ]
  },
  {
   "cell_type": "code",
   "execution_count": 98,
   "metadata": {
    "collapsed": false
   },
   "outputs": [
    {
     "data": {
      "text/plain": [
       "[(0, 18), (1, 1), (2, 15), (3, 1), (4, 1)]"
      ]
     },
     "execution_count": 98,
     "metadata": {},
     "output_type": "execute_result"
    }
   ],
   "source": [
    "corpus[0][:5] # word nb 0 epears 18 times"
   ]
  },
  {
   "cell_type": "code",
   "execution_count": 99,
   "metadata": {
    "collapsed": true
   },
   "outputs": [],
   "source": [
    "model_corpus = LdaModel(corpus=corpus,id2word=dictionary,num_topics=5)"
   ]
  },
  {
   "cell_type": "markdown",
   "metadata": {},
   "source": [
    "### Create corpus from sparse matrix"
   ]
  },
  {
   "cell_type": "code",
   "execution_count": 100,
   "metadata": {
    "collapsed": true
   },
   "outputs": [],
   "source": [
    "vectorizer = CountVectorizer(min_df=0.2,max_df=0.5)\n",
    "dtm_cv = vectorizer.fit_transform(articles_cleaned)"
   ]
  },
  {
   "cell_type": "code",
   "execution_count": 101,
   "metadata": {
    "collapsed": true
   },
   "outputs": [],
   "source": [
    "corpus_sparse = matutils.Sparse2Corpus(dtm_cv,documents_columns=False) # by default documents in columns"
   ]
  },
  {
   "cell_type": "code",
   "execution_count": 102,
   "metadata": {
    "collapsed": true
   },
   "outputs": [],
   "source": [
    "dictionary_sparse = vectorizer.get_feature_names()"
   ]
  },
  {
   "cell_type": "code",
   "execution_count": 103,
   "metadata": {
    "collapsed": false
   },
   "outputs": [
    {
     "data": {
      "text/plain": [
       "1909"
      ]
     },
     "execution_count": 103,
     "metadata": {},
     "output_type": "execute_result"
    }
   ],
   "source": [
    "len(dictionary_sparse)"
   ]
  },
  {
   "cell_type": "code",
   "execution_count": 104,
   "metadata": {
    "collapsed": true
   },
   "outputs": [],
   "source": [
    "dictionary_sparse_dict = {i:j for i,j in enumerate(dictionary_sparse)}"
   ]
  },
  {
   "cell_type": "code",
   "execution_count": 105,
   "metadata": {
    "collapsed": false
   },
   "outputs": [
    {
     "data": {
      "text/plain": [
       "'copi'"
      ]
     },
     "execution_count": 105,
     "metadata": {},
     "output_type": "execute_result"
    }
   ],
   "source": [
    "dictionary_sparse_dict[615]"
   ]
  },
  {
   "cell_type": "code",
   "execution_count": 106,
   "metadata": {
    "collapsed": true
   },
   "outputs": [],
   "source": [
    "dictionary_sparse = corpora.Dictionary.from_corpus(corpus=corpus_sparse,id2word=dictionary_sparse_dict)"
   ]
  },
  {
   "cell_type": "code",
   "execution_count": 107,
   "metadata": {
    "collapsed": true
   },
   "outputs": [],
   "source": [
    "model_corpus_sparse = LdaModel(corpus=corpus_sparse,id2word=dictionary_sparse,num_topics=5)"
   ]
  },
  {
   "cell_type": "markdown",
   "metadata": {},
   "source": [
    "### LDA model"
   ]
  },
  {
   "cell_type": "code",
   "execution_count": 108,
   "metadata": {
    "collapsed": true
   },
   "outputs": [],
   "source": [
    "model_corpus = LdaModel(corpus=corpus_sparse,id2word=dictionary_sparse,num_topics=5, alpha='auto',eta='auto')"
   ]
  },
  {
   "cell_type": "code",
   "execution_count": 109,
   "metadata": {
    "collapsed": false
   },
   "outputs": [
    {
     "data": {
      "text/plain": [
       "[(0, 0.8084837),\n",
       " (1, 0.000386054),\n",
       " (2, 0.19042878),\n",
       " (3, 0.00035596616),\n",
       " (4, 0.0003454574)]"
      ]
     },
     "execution_count": 109,
     "metadata": {},
     "output_type": "execute_result"
    }
   ],
   "source": [
    "model_corpus.get_document_topics(corpus_sparse[5],minimum_probability=0)"
   ]
  },
  {
   "cell_type": "code",
   "execution_count": 110,
   "metadata": {
    "collapsed": false
   },
   "outputs": [
    {
     "name": "stdout",
     "output_type": "stream",
     "text": [
      "[(0, 0.00024527204), (1, 0.00029643162), (2, 0.00025273184), (3, 0.9989192), (4, 0.00028634755)]\n",
      "[(0, 0.00037598817), (1, 0.00042959556), (2, 0.0003659157), (3, 0.99841464), (4, 0.00041390446)]\n",
      "[(0, 0.001335877), (1, 0.0014931974), (2, 0.0012785523), (3, 0.9944392), (4, 0.0014531367)]\n",
      "[(0, 0.0005166747), (1, 0.9952794), (2, 0.0005007746), (3, 0.0031121871), (4, 0.00059098087)]\n",
      "[(0, 0.9730465), (1, 0.0017814501), (2, 0.0013653358), (3, 0.011274056), (4, 0.012532664)]\n",
      "[(0, 0.8202629), (1, 0.00038635463), (2, 0.1786489), (3, 0.00035624887), (4, 0.0003455638)]\n",
      "[(0, 0.5058793), (1, 0.00032987475), (2, 0.49346766), (3, 0.00016512933), (4, 0.00015800908)]\n",
      "[(0, 0.9956163), (1, 0.0013076743), (2, 0.0009025927), (3, 0.001123489), (4, 0.001049956)]\n",
      "[(0, 0.076942496), (1, 0.0005022746), (2, 0.00041414777), (3, 0.92163783), (4, 0.00050325936)]\n",
      "[(0, 0.855582), (1, 0.004198087), (2, 0.13826728), (3, 0.00083091133), (4, 0.0011217478)]\n",
      "[(0, 0.9727455), (1, 0.0053994074), (2, 0.010167487), (3, 0.0045636743), (4, 0.0071239285)]\n",
      "[(0, 0.00017590773), (1, 0.9994077), (2, 0.00012258923), (3, 0.00013661022), (4, 0.00015716412)]\n",
      "[(0, 0.9952061), (1, 0.00014254851), (2, 0.00011212848), (3, 0.00012680018), (4, 0.004412386)]\n",
      "[(0, 0.00027805887), (1, 0.99884844), (2, 0.00025692163), (3, 0.00030846646), (4, 0.00030812196)]\n",
      "[(0, 0.0003988376), (1, 0.5048139), (2, 0.00037052092), (3, 0.46317887), (4, 0.031237923)]\n"
     ]
    }
   ],
   "source": [
    "for i in range(len(corpus_sparse)):\n",
    "    print(model_corpus.get_document_topics(corpus_sparse[i],minimum_probability=0))"
   ]
  },
  {
   "cell_type": "code",
   "execution_count": 111,
   "metadata": {
    "collapsed": false
   },
   "outputs": [
    {
     "data": {
      "text/plain": [
       "['Integral',\n",
       " 'Riemann_integral',\n",
       " 'Riemann-Stieltjes_integral',\n",
       " 'Derivative',\n",
       " 'Limit_of_a_sequence',\n",
       " 'Edvard_Munch',\n",
       " 'Vincent_van_Gogh',\n",
       " 'Jan_Matejko',\n",
       " 'Lev_Tolstoj',\n",
       " 'Franz_Kafka',\n",
       " 'J._R._R._Tolkien',\n",
       " 'Warsaw',\n",
       " 'England',\n",
       " 'Eiffel_Tower',\n",
       " 'Taipei_101']"
      ]
     },
     "execution_count": 111,
     "metadata": {},
     "output_type": "execute_result"
    }
   ],
   "source": [
    "titles"
   ]
  },
  {
   "cell_type": "code",
   "execution_count": 117,
   "metadata": {
    "collapsed": false
   },
   "outputs": [
    {
     "name": "stdout",
     "output_type": "stream",
     "text": [
      "warsaw 0.021059845\n",
      "tower 0.015536538\n",
      "integr 0.011015256\n",
      "van 0.008835143\n",
      "gogh 0.007441115\n",
      "level 0.0059618913\n",
      "england 0.005725723\n",
      "polish 0.005702318\n",
      "poland 0.0050903345\n",
      "riemann 0.004766491\n"
     ]
    }
   ],
   "source": [
    "for tup in model_corpus.get_topic_terms(topicid=1):\n",
    "    print(dictionary_sparse[tup[0]],tup[1])"
   ]
  },
  {
   "cell_type": "code",
   "execution_count": 118,
   "metadata": {
    "collapsed": false
   },
   "outputs": [
    {
     "data": {
      "text/plain": [
       "array([0.34437, 0.36998, 0.32482, 0.36194, 0.35779], dtype=float32)"
      ]
     },
     "execution_count": 118,
     "metadata": {},
     "output_type": "execute_result"
    }
   ],
   "source": [
    "model_corpus.alpha"
   ]
  },
  {
   "cell_type": "code",
   "execution_count": 119,
   "metadata": {
    "collapsed": false
   },
   "outputs": [
    {
     "data": {
      "text/plain": [
       "array([0.34243, 0.41751, 0.33211, ..., 0.34431, 0.32807, 0.40668],\n",
       "      dtype=float32)"
      ]
     },
     "execution_count": 119,
     "metadata": {},
     "output_type": "execute_result"
    }
   ],
   "source": [
    "model_corpus.eta"
   ]
  },
  {
   "cell_type": "code",
   "execution_count": 120,
   "metadata": {
    "collapsed": false
   },
   "outputs": [
    {
     "data": {
      "text/plain": [
       "[(0,\n",
       "  '0.016*\"england\" + 0.013*\"gogh\" + 0.009*\"van\" + 0.008*\"displaystyl\" + 0.008*\"warsaw\" + 0.005*\"stori\" + 0.005*\"portrait\" + 0.005*\"sequenc\"'),\n",
       " (1,\n",
       "  '0.021*\"warsaw\" + 0.016*\"tower\" + 0.011*\"integr\" + 0.009*\"van\" + 0.007*\"gogh\" + 0.006*\"level\" + 0.006*\"england\" + 0.006*\"polish\"'),\n",
       " (2,\n",
       "  '0.025*\"integr\" + 0.017*\"van\" + 0.011*\"gogh\" + 0.009*\"england\" + 0.006*\"warsaw\" + 0.005*\"interv\" + 0.004*\"riemann\" + 0.003*\"sum\"'),\n",
       " (3,\n",
       "  '0.039*\"integr\" + 0.020*\"riemann\" + 0.009*\"interv\" + 0.009*\"sum\" + 0.008*\"partit\" + 0.007*\"gogh\" + 0.007*\"tower\" + 0.006*\"van\"'),\n",
       " (4,\n",
       "  '0.018*\"integr\" + 0.012*\"warsaw\" + 0.010*\"england\" + 0.007*\"tower\" + 0.006*\"displaystyl\" + 0.005*\"riemann\" + 0.005*\"van\" + 0.004*\"gogh\"')]"
      ]
     },
     "execution_count": 120,
     "metadata": {},
     "output_type": "execute_result"
    }
   ],
   "source": [
    "model_corpus.print_topics(num_words=8)"
   ]
  },
  {
   "cell_type": "code",
   "execution_count": 121,
   "metadata": {
    "collapsed": true
   },
   "outputs": [],
   "source": [
    "# zsumowac wystapienia tematow w corpusie i zobaczyc ktory jest najczestszy"
   ]
  },
  {
   "cell_type": "code",
   "execution_count": 122,
   "metadata": {
    "collapsed": false
   },
   "outputs": [
    {
     "name": "stdout",
     "output_type": "stream",
     "text": [
      "[0 3 1 2 4]\n"
     ]
    }
   ],
   "source": [
    "sum_percent = np.zeros(5)\n",
    "for i in range(len(corpus_sparse)):\n",
    "    dict_topics = model_corpus.get_document_topics(corpus_sparse[i],minimum_probability=0)\n",
    "    doc_topics = [topic[1] for topic in dict_topics]\n",
    "    added = [doc+sum_ for doc,sum_ in zip(doc_topics,sum_percent)]\n",
    "    sum_percent = added.copy()\n",
    "    \n",
    "print(np.argsort(sum_percent)[::-1])\n"
   ]
  },
  {
   "cell_type": "code",
   "execution_count": 123,
   "metadata": {
    "collapsed": true
   },
   "outputs": [],
   "source": [
    "pyLDAvis.enable_notebook()"
   ]
  },
  {
   "cell_type": "code",
   "execution_count": 124,
   "metadata": {
    "collapsed": false
   },
   "outputs": [
    {
     "name": "stderr",
     "output_type": "stream",
     "text": [
      "/home/kodolamacz/anaconda3/lib/python3.6/site-packages/pyLDAvis/_prepare.py:257: FutureWarning: Sorting because non-concatenation axis is not aligned. A future version\n",
      "of pandas will change to not sort by default.\n",
      "\n",
      "To accept the future behavior, pass 'sort=False'.\n",
      "\n",
      "To retain the current behavior and silence the warning, pass 'sort=True'.\n",
      "\n",
      "  return pd.concat([default_term_info] + list(topic_dfs))\n"
     ]
    },
    {
     "data": {
      "text/html": [
       "\n",
       "<link rel=\"stylesheet\" type=\"text/css\" href=\"https://cdn.rawgit.com/bmabey/pyLDAvis/files/ldavis.v1.0.0.css\">\n",
       "\n",
       "\n",
       "<div id=\"ldavis_el168331405844872392562454020135\"></div>\n",
       "<script type=\"text/javascript\">\n",
       "\n",
       "var ldavis_el168331405844872392562454020135_data = {\"mdsDat\": {\"x\": [-0.038903663041578024, -1.0372901098970871e-05, 0.03887217308513625, -0.0005103332986914109, 0.0005521961562321922], \"y\": [-0.004727420699655022, 0.020136327634355883, -0.004937163095720906, -0.013171969227184247, 0.0027002253882042935], \"topics\": [1, 2, 3, 4, 5], \"cluster\": [1, 1, 1, 1, 1], \"Freq\": [47.599327087402344, 25.47473907470703, 18.458681106567383, 8.122997283935547, 0.34425604343414307]}, \"tinfo\": {\"Category\": [\"Default\", \"Default\", \"Default\", \"Default\", \"Default\", \"Default\", \"Default\", \"Default\", \"Default\", \"Default\", \"Default\", \"Default\", \"Default\", \"Default\", \"Default\", \"Default\", \"Default\", \"Default\", \"Default\", \"Default\", \"Default\", \"Default\", \"Default\", \"Default\", \"Default\", \"Default\", \"Default\", \"Default\", \"Default\", \"Default\", \"Topic1\", \"Topic1\", \"Topic1\", \"Topic1\", \"Topic1\", \"Topic1\", \"Topic1\", \"Topic1\", \"Topic1\", \"Topic1\", \"Topic1\", \"Topic1\", \"Topic1\", \"Topic1\", \"Topic1\", \"Topic1\", \"Topic1\", \"Topic1\", \"Topic1\", \"Topic1\", \"Topic1\", \"Topic1\", \"Topic1\", \"Topic1\", \"Topic1\", \"Topic1\", \"Topic1\", \"Topic1\", \"Topic1\", \"Topic1\", \"Topic1\", \"Topic1\", \"Topic1\", \"Topic1\", \"Topic1\", \"Topic1\", \"Topic1\", \"Topic1\", \"Topic1\", \"Topic1\", \"Topic1\", \"Topic1\", \"Topic1\", \"Topic1\", \"Topic1\", \"Topic1\", \"Topic1\", \"Topic1\", \"Topic1\", \"Topic1\", \"Topic1\", \"Topic1\", \"Topic1\", \"Topic1\", \"Topic1\", \"Topic1\", \"Topic1\", \"Topic1\", \"Topic1\", \"Topic1\", \"Topic2\", \"Topic2\", \"Topic2\", \"Topic2\", \"Topic2\", \"Topic2\", \"Topic2\", \"Topic2\", \"Topic2\", \"Topic2\", \"Topic2\", \"Topic2\", \"Topic2\", \"Topic2\", \"Topic2\", \"Topic2\", \"Topic2\", \"Topic2\", \"Topic2\", \"Topic2\", \"Topic2\", \"Topic2\", \"Topic2\", \"Topic2\", \"Topic2\", \"Topic2\", \"Topic2\", \"Topic2\", \"Topic2\", \"Topic2\", \"Topic2\", \"Topic2\", \"Topic2\", \"Topic2\", \"Topic2\", \"Topic2\", \"Topic2\", \"Topic2\", \"Topic2\", \"Topic2\", \"Topic2\", \"Topic2\", \"Topic2\", \"Topic2\", \"Topic2\", \"Topic2\", \"Topic2\", \"Topic2\", \"Topic2\", \"Topic2\", \"Topic2\", \"Topic2\", \"Topic2\", \"Topic2\", \"Topic2\", \"Topic2\", \"Topic2\", \"Topic2\", \"Topic2\", \"Topic3\", \"Topic3\", \"Topic3\", \"Topic3\", \"Topic3\", \"Topic3\", \"Topic3\", \"Topic3\", \"Topic3\", \"Topic3\", \"Topic3\", \"Topic3\", \"Topic3\", \"Topic3\", \"Topic3\", \"Topic3\", \"Topic3\", \"Topic3\", \"Topic3\", \"Topic3\", \"Topic3\", \"Topic3\", \"Topic3\", \"Topic3\", \"Topic3\", \"Topic3\", \"Topic3\", \"Topic3\", \"Topic3\", \"Topic3\", \"Topic3\", \"Topic3\", \"Topic3\", \"Topic3\", \"Topic3\", \"Topic3\", \"Topic3\", \"Topic3\", \"Topic3\", \"Topic3\", \"Topic3\", \"Topic3\", \"Topic3\", \"Topic3\", \"Topic3\", \"Topic3\", \"Topic3\", \"Topic3\", \"Topic3\", \"Topic4\", \"Topic4\", \"Topic4\", \"Topic4\", \"Topic4\", \"Topic4\", \"Topic4\", \"Topic4\", \"Topic4\", \"Topic4\", \"Topic4\", \"Topic4\", \"Topic4\", \"Topic4\", \"Topic4\", \"Topic4\", \"Topic4\", \"Topic4\", \"Topic4\", \"Topic4\", \"Topic4\", \"Topic4\", \"Topic4\", \"Topic4\", \"Topic4\", \"Topic4\", \"Topic4\", \"Topic4\", \"Topic4\", \"Topic4\", \"Topic4\", \"Topic4\", \"Topic4\", \"Topic4\", \"Topic4\", \"Topic4\", \"Topic4\", \"Topic4\", \"Topic4\", \"Topic4\", \"Topic4\", \"Topic4\", \"Topic4\", \"Topic4\", \"Topic4\", \"Topic4\", \"Topic4\", \"Topic4\", \"Topic4\", \"Topic4\", \"Topic4\", \"Topic4\", \"Topic4\", \"Topic4\", \"Topic4\", \"Topic4\", \"Topic4\", \"Topic4\", \"Topic4\", \"Topic4\", \"Topic4\", \"Topic4\", \"Topic4\", \"Topic4\", \"Topic5\", \"Topic5\", \"Topic5\", \"Topic5\", \"Topic5\", \"Topic5\", \"Topic5\", \"Topic5\", \"Topic5\", \"Topic5\", \"Topic5\", \"Topic5\", \"Topic5\", \"Topic5\", \"Topic5\", \"Topic5\", \"Topic5\", \"Topic5\", \"Topic5\", \"Topic5\", \"Topic5\", \"Topic5\", \"Topic5\", \"Topic5\", \"Topic5\", \"Topic5\", \"Topic5\", \"Topic5\", \"Topic5\", \"Topic5\", \"Topic5\", \"Topic5\", \"Topic5\", \"Topic5\", \"Topic5\", \"Topic5\", \"Topic5\", \"Topic5\", \"Topic5\", \"Topic5\", \"Topic5\", \"Topic5\", \"Topic5\", \"Topic5\", \"Topic5\", \"Topic5\", \"Topic5\", \"Topic5\", \"Topic5\", \"Topic5\", \"Topic5\", \"Topic5\", \"Topic5\", \"Topic5\", \"Topic5\", \"Topic5\", \"Topic5\", \"Topic5\", \"Topic5\", \"Topic5\", \"Topic5\", \"Topic5\", \"Topic5\", \"Topic5\", \"Topic5\", \"Topic5\", \"Topic5\"], \"Freq\": [275.0, 218.0, 235.0, 132.0, 118.0, 197.0, 121.0, 226.0, 65.0, 64.0, 67.0, 64.0, 54.0, 59.0, 59.0, 74.0, 61.0, 46.0, 42.0, 44.0, 49.0, 52.0, 38.0, 47.0, 49.0, 60.0, 58.0, 50.0, 98.0, 37.0, 46.962764739990234, 20.280479431152344, 170.6728973388672, 19.50457763671875, 45.56522750854492, 84.28506469726562, 4.977873802185059, 16.32988739013672, 8.478370666503906, 18.826000213623047, 9.520125389099121, 8.723882675170898, 15.65095329284668, 31.831483840942383, 3.843905448913574, 40.132381439208984, 30.29568862915039, 8.753728866577148, 6.0795135498046875, 6.135937690734863, 12.742438316345215, 5.197759628295898, 33.36529541015625, 8.838428497314453, 11.310025215148926, 5.882195472717285, 28.451019287109375, 4.468046188354492, 6.931233882904053, 12.452104568481445, 52.08833312988281, 19.73845863342285, 22.270414352416992, 18.48760223388672, 28.715219497680664, 135.66400146484375, 20.824642181396484, 18.79257583618164, 26.376169204711914, 22.97644805908203, 21.233516693115234, 26.190946578979492, 39.307151794433594, 54.29977798461914, 16.476505279541016, 95.93891143798828, 33.48068618774414, 28.554454803466797, 27.144588470458984, 82.24671173095703, 22.910093307495117, 34.40543746948242, 26.99359703063965, 30.577190399169922, 24.595821380615234, 23.599924087524414, 23.641931533813477, 25.78070640563965, 23.638391494750977, 23.544281005859375, 86.5551528930664, 7.920572757720947, 33.21411895751953, 117.32588195800781, 7.125823974609375, 5.573579788208008, 19.17599868774414, 5.629824161529541, 4.325490951538086, 2.6712238788604736, 21.550485610961914, 3.3058836460113525, 16.7314453125, 5.718464374542236, 4.151376247406006, 9.899974822998047, 5.520906925201416, 18.003780364990234, 28.358613967895508, 24.723020553588867, 2.2117459774017334, 22.07512092590332, 7.814122676849365, 12.842523574829102, 5.44791841506958, 12.147165298461914, 2.3823556900024414, 2.73933482170105, 3.811671733856201, 12.80811882019043, 31.76801872253418, 10.536164283752441, 7.502615451812744, 7.405534744262695, 21.804718017578125, 17.630956649780273, 20.308095932006836, 6.937002182006836, 8.357928276062012, 16.07509994506836, 23.775108337402344, 16.845247268676758, 11.332758903503418, 8.81164836883545, 49.22121047973633, 9.36695671081543, 61.36677169799805, 13.96540355682373, 12.104874610900879, 13.604203224182129, 41.454978942871094, 26.55445671081543, 31.898408889770508, 17.216949462890625, 16.83795166015625, 22.367595672607422, 19.729454040527344, 14.939042091369629, 14.591561317443848, 16.603506088256836, 13.746749877929688, 80.25000762939453, 34.23476028442383, 10.38327693939209, 19.24277687072754, 10.79996109008789, 155.4268798828125, 5.083714008331299, 13.91535472869873, 36.19499206542969, 12.843119621276855, 2.8941640853881836, 35.401771545410156, 5.366759777069092, 13.147029876708984, 11.462994575500488, 5.4133076667785645, 3.839367389678955, 3.5416555404663086, 10.199040412902832, 7.220020294189453, 10.341893196105957, 4.797636032104492, 5.386651992797852, 12.443681716918945, 2.9462382793426514, 17.612083435058594, 2.3386497497558594, 2.2198169231414795, 5.831043720245361, 17.064550399780273, 15.135099411010742, 16.508708953857422, 9.675124168395996, 9.070473670959473, 9.535052299499512, 27.01960563659668, 9.89004898071289, 11.709433555603027, 29.526947021484375, 18.64088249206543, 11.71334171295166, 22.667705535888672, 11.530974388122559, 16.523847579956055, 10.820762634277344, 11.704878807067871, 10.985257148742676, 2.892242431640625, 2.5384087562561035, 4.418580532073975, 1.8607966899871826, 1.8086134195327759, 44.50205993652344, 1.7583372592926025, 2.5007669925689697, 1.124419093132019, 1.1598461866378784, 29.779434204101562, 1.1483229398727417, 1.9062602519989014, 0.971821665763855, 0.6174570918083191, 4.305929183959961, 1.1412906646728516, 0.5111042261123657, 1.1550357341766357, 1.3258945941925049, 1.3728970289230347, 1.2016561031341553, 3.0509119033813477, 1.6961601972579956, 2.4819693565368652, 0.5077614188194275, 1.1004422903060913, 1.810629963874817, 1.3965295553207397, 1.2714684009552002, 8.310155868530273, 5.799073696136475, 1.986956000328064, 5.150925159454346, 1.8742101192474365, 1.8154906034469604, 19.207447052001953, 1.9856042861938477, 4.047350883483887, 2.6014344692230225, 2.0633208751678467, 5.877876281738281, 3.8766233921051025, 15.431302070617676, 3.425737142562866, 4.532397747039795, 4.414792537689209, 3.6686551570892334, 2.506103515625, 3.5355043411254883, 5.173592567443848, 5.728752136230469, 3.81667160987854, 4.964315891265869, 9.919798851013184, 5.011702537536621, 6.694216251373291, 3.6190176010131836, 5.616872787475586, 4.197531700134277, 3.8968801498413086, 3.492558002471924, 3.47147536277771, 4.119724273681641, 0.055190399289131165, 0.03309331461787224, 0.09493353962898254, 0.08169594407081604, 0.09540696442127228, 0.03503158688545227, 0.01901719532907009, 0.12356580048799515, 0.044265687465667725, 0.07144945114850998, 0.07278188318014145, 0.04077946022152901, 0.07944964617490768, 0.027108578011393547, 0.05216367542743683, 0.06701122969388962, 0.08660858869552612, 0.2208539843559265, 0.07772926986217499, 0.23922696709632874, 0.07600372284650803, 0.07109090685844421, 0.04124036431312561, 0.026870792731642723, 0.05853162333369255, 0.07442251592874527, 0.16027963161468506, 0.08742710202932358, 0.2388087511062622, 0.04792557656764984, 0.06661102175712585, 0.24224646389484406, 1.3228155374526978, 0.08787015825510025, 0.09607880562543869, 0.13247297704219818, 0.8970798254013062, 0.18323583900928497, 0.14832840859889984, 0.1683427393436432, 0.2913631200790405, 0.2991209626197815, 0.2274402230978012, 0.26669493317604065, 0.28291967511177063, 0.5107311606407166, 0.2528855800628662, 0.11792375892400742, 0.739457368850708, 0.42538580298423767, 0.21638479828834534, 0.19888168573379517, 0.3867048919200897, 0.13508810102939606, 0.24425524473190308, 0.16785269975662231, 0.15106827020645142, 0.17871186137199402, 0.20956428349018097, 0.1962655782699585, 0.1868075132369995, 0.3746350407600403, 0.2190331071615219, 0.20050151646137238, 0.32622453570365906, 0.1904744952917099, 0.18082693219184875], \"Term\": [\"integr\", \"warsaw\", \"england\", \"tower\", \"riemann\", \"van\", \"displaystyl\", \"gogh\", \"interv\", \"sum\", \"kingdom\", \"london\", \"partit\", \"level\", \"british\", \"polish\", \"sequenc\", \"defin\", \"101\", \"ft\", \"largest\", \"park\", \"floor\", \"differenti\", \"palac\", \"poland\", \"church\", \"ring\", \"stori\", \"south\", \"sequenc\", \"to\", \"england\", \"wale\", \"london\", \"displaystyl\", \"succeed\", \"uk\", \"minor\", \"william\", \"173\", \"religion\", \"converg\", \"royal\", \"counter\", \"british\", \"roman\", \"18th\", \"angel\", \"settl\", \"cup\", \"ultim\", \"north\", \"afterward\", \"footbal\", \"recov\", \"john\", \"pope\", \"hors\", \"jame\", \"portrait\", \"sea\", \"georg\", \"saint\", \"age\", \"gogh\", \"mother\", \"signific\", \"union\", \"west\", \"industri\", \"king\", \"kingdom\", \"stori\", \"regard\", \"van\", \"church\", \"largest\", \"1888\", \"warsaw\", \"painter\", \"polish\", \"ring\", \"pari\", \"1889\", \"east\", \"draw\", \"poland\", \"palac\", \"park\", \"tower\", \"exposit\", \"level\", \"warsaw\", \"vari\", \"radio\", \"linear\", \"wind\", \"column\", \"fair\", \"ft\", \"2000\", \"top\", \"instal\", \"chain\", \"monument\", \"averag\", \"centr\", \"poland\", \"vector\", \"surround\", \"differenti\", \"replac\", \"car\", \"depend\", \"structur\", \"scale\", \"tourist\", \"mechan\", \"notat\", \"polish\", \"presid\", \"eastern\", \"domain\", \"park\", \"variabl\", \"palac\", \"1939\", \"partial\", \"101\", \"pari\", \"defin\", \"garden\", \"denot\", \"van\", \"light\", \"integr\", \"zero\", \"march\", \"floor\", \"gogh\", \"riemann\", \"england\", \"interv\", \"sum\", \"displaystyl\", \"stori\", \"church\", \"kingdom\", \"stieltj\", \"ti\", \"riemann\", \"partit\", \"subinterv\", \"lebesgu\", \"darboux\", \"integr\", \"mesh\", \"xi\", \"interv\", \"tag\", \"lebesgue\", \"sum\", \"refin\", \"finit\", \"theorem\", \"improp\", \"ration\", \"distribut\", \"choos\", \"alway\", \"bound\", \"compact\", \"integrand\", \"equal\", \"criterion\", \"floor\", \"monoton\", \"trap\", \"indic\", \"101\", \"zero\", \"defin\", \"let\", \"calculu\", \"russian\", \"tower\", \"comput\", \"novel\", \"gogh\", \"stori\", \"ft\", \"van\", \"vector\", \"england\", \"differenti\", \"displaystyl\", \"level\", \"surfac\", \"curv\", \"calculu\", \"integrand\", \"complex\", \"integr\", \"techniqu\", \"step\", \"axi\", \"displac\", \"van\", \"sub\", \"parent\", \"psycholog\", \"boundari\", \"comput\", \"altern\", \"mont\", \"orient\", \"answer\", \"120\", \"wider\", \"method\", \"exact\", \"volum\", \"224\", \"142\", \"calcul\", \"1906\", \"multipl\", \"interv\", \"differenti\", \"learn\", \"draw\", \"fundament\", \"canva\", \"gogh\", \"physic\", \"vincent\", \"theorem\", \"ill\", \"sum\", \"friend\", \"england\", \"edit\", \"1888\", \"defin\", \"region\", \"yellow\", \"juli\", \"kingdom\", \"portrait\", \"variabl\", \"london\", \"warsaw\", \"pari\", \"riemann\", \"self\", \"stori\", \"british\", \"church\", \"1889\", \"age\", \"tower\", \"displac\", \"exterior\", \"fundament\", \"site\", \"surfac\", \"impact\", \"offset\", \"council\", \"axi\", \"doubl\", \"manag\", \"goe\", \"calcul\", \"easili\", \"2007\", \"box\", \"per\", \"floor\", \"protect\", \"101\", \"curv\", \"difficult\", \"00\", \"principl\", \"center\", \"infinitesim\", \"compani\", \"2002\", \"ft\", \"roof\", \"exact\", \"defin\", \"integr\", \"2011\", \"volum\", \"calculu\", \"warsaw\", \"south\", \"comput\", \"top\", \"interv\", \"kingdom\", \"largest\", \"level\", \"sum\", \"tower\", \"british\", \"central\", \"england\", \"displaystyl\", \"park\", \"differenti\", \"riemann\", \"music\", \"london\", \"region\", \"engin\", \"variabl\", \"partit\", \"ring\", \"palac\", \"van\", \"polish\", \"sequenc\", \"gogh\", \"church\", \"stori\"], \"Total\": [275.0, 218.0, 235.0, 132.0, 118.0, 197.0, 121.0, 226.0, 65.0, 64.0, 67.0, 64.0, 54.0, 59.0, 59.0, 74.0, 61.0, 46.0, 42.0, 44.0, 49.0, 52.0, 38.0, 47.0, 49.0, 60.0, 58.0, 50.0, 98.0, 37.0, 61.1630859375, 26.860876083374023, 235.2659149169922, 27.628814697265625, 64.58831787109375, 121.55889892578125, 7.1867451667785645, 23.64435386657715, 12.28332805633545, 27.479103088378906, 13.898527145385742, 12.804495811462402, 22.97350311279297, 46.75076675415039, 5.6608405113220215, 59.18639373779297, 44.71990966796875, 12.933298110961914, 9.016548156738281, 9.114590644836426, 18.93956756591797, 7.742877006530762, 49.83657455444336, 13.205402374267578, 16.906761169433594, 8.794044494628906, 42.56156539916992, 6.714453220367432, 10.435359954833984, 18.778518676757812, 79.30815887451172, 29.85106658935547, 33.72250747680664, 27.98807144165039, 44.01372528076172, 226.17959594726562, 32.16729736328125, 29.153825759887695, 42.0553092956543, 36.38520050048828, 33.60731887817383, 42.3773078918457, 67.4830093383789, 98.46781921386719, 25.800064086914062, 197.98190307617188, 58.83674621582031, 49.39939880371094, 47.83210372924805, 218.61981201171875, 38.07004165649414, 74.50517272949219, 50.36811828613281, 69.16065979003906, 45.28141784667969, 42.70279312133789, 43.34761428833008, 60.40300369262695, 49.6478271484375, 52.174781799316406, 132.6622314453125, 13.276564598083496, 59.659603118896484, 218.61981201171875, 13.746041297912598, 10.992988586425781, 38.0882682800293, 11.37566089630127, 8.791576385498047, 5.448240756988525, 44.08320617675781, 6.798599720001221, 34.530799865722656, 11.89913272857666, 8.747981071472168, 20.937395095825195, 11.67894172668457, 38.320560455322266, 60.40300369262695, 52.68954086303711, 4.7572922706604, 47.5418701171875, 16.838363647460938, 27.83607292175293, 11.821366310119629, 26.481679916381836, 5.208436489105225, 6.016491889953613, 8.373106002807617, 28.441997528076172, 74.50517272949219, 23.889558792114258, 16.853727340698242, 16.69373321533203, 52.174781799316406, 42.561920166015625, 49.6478271484375, 15.643259048461914, 19.460588455200195, 42.8145751953125, 69.16065979003906, 46.547698974609375, 28.372617721557617, 20.81538200378418, 197.98190307617188, 22.535194396972656, 275.3001708984375, 38.28847122192383, 31.76292610168457, 38.50362014770508, 226.17959594726562, 118.89627838134766, 235.2659149169922, 65.27754211425781, 64.6061019897461, 121.55889892578125, 98.46781921386719, 58.83674621582031, 67.4830093383789, 23.719247817993164, 20.345867156982422, 118.89627838134766, 54.8818359375, 16.884130477905273, 31.35346221923828, 18.046100616455078, 275.3001708984375, 9.026753425598145, 25.0786190032959, 65.27754211425781, 23.2010440826416, 5.24114465713501, 64.6061019897461, 9.931100845336914, 24.52353286743164, 22.356456756591797, 10.645121574401855, 7.670523166656494, 7.125978469848633, 20.59137725830078, 14.688738822937012, 21.760438919067383, 10.13118839263916, 11.40805721282959, 26.457996368408203, 6.274641513824463, 38.50362014770508, 5.123023509979248, 5.015145778656006, 13.769789695739746, 42.8145751953125, 38.28847122192383, 46.547698974609375, 27.80196189880371, 26.215368270874023, 28.183738708496094, 132.6622314453125, 29.831531524658203, 40.64067459106445, 226.17959594726562, 98.46781921386719, 44.08320617675781, 197.98190307617188, 52.68954086303711, 235.2659149169922, 47.5418701171875, 121.55889892578125, 59.659603118896484, 15.516844749450684, 13.637001037597656, 26.215368270874023, 11.40805721282959, 11.153125762939453, 275.3001708984375, 11.316838264465332, 16.204837799072266, 7.364880561828613, 7.641347408294678, 197.98190307617188, 7.738185405731201, 12.954625129699707, 6.620844841003418, 4.242338180541992, 29.831531524658203, 7.929284572601318, 3.565290689468384, 8.061959266662598, 9.412379264831543, 9.860069274902344, 8.676644325256348, 22.204910278320312, 12.383695602416992, 18.178348541259766, 3.7774953842163086, 8.208338737487793, 13.507329940795898, 10.550721168518066, 9.641119003295898, 65.27754211425781, 47.5418701171875, 15.466669082641602, 43.34761428833008, 14.53409194946289, 14.302274703979492, 226.17959594726562, 15.889721870422363, 37.604339599609375, 22.356456756591797, 16.70743751525879, 64.6061019897461, 37.76079177856445, 235.2659149169922, 32.79318618774414, 47.83210372924805, 46.547698974609375, 38.341548919677734, 22.13538360595703, 37.354331970214844, 67.4830093383789, 79.30815887451172, 42.561920166015625, 64.58831787109375, 218.61981201171875, 69.16065979003906, 118.89627838134766, 40.73469543457031, 98.46781921386719, 59.18639373779297, 58.83674621582031, 45.28141784667969, 44.01372528076172, 132.6622314453125, 7.641347408294678, 4.8790459632873535, 14.53409194946289, 12.871264457702637, 15.516844749450684, 5.741929531097412, 3.125401496887207, 20.356639862060547, 7.364880561828613, 12.05049991607666, 12.276988983154297, 6.928062915802002, 13.507329940795898, 4.6814188957214355, 9.04377555847168, 11.644620895385742, 15.093223571777344, 38.50362014770508, 13.753046035766602, 42.8145751953125, 13.637001037597656, 12.80986213684082, 7.455913066864014, 4.874484062194824, 10.642279624938965, 13.620356559753418, 29.477264404296875, 16.110660552978516, 44.08320617675781, 8.890180587768555, 12.383695602416992, 46.547698974609375, 275.3001708984375, 16.529760360717773, 18.178348541259766, 26.215368270874023, 218.61981201171875, 37.5793571472168, 29.831531524658203, 34.530799865722656, 65.27754211425781, 67.4830093383789, 49.39939880371094, 59.659603118896484, 64.6061019897461, 132.6622314453125, 59.18639373779297, 23.415740966796875, 235.2659149169922, 121.55889892578125, 52.174781799316406, 47.5418701171875, 118.89627838134766, 28.20793914794922, 64.58831787109375, 38.341548919677734, 33.12657165527344, 42.561920166015625, 54.8818359375, 50.36811828613281, 49.6478271484375, 197.98190307617188, 74.50517272949219, 61.1630859375, 226.17959594726562, 58.83674621582031, 98.46781921386719], \"loglift\": [30.0, 29.0, 28.0, 27.0, 26.0, 25.0, 24.0, 23.0, 22.0, 21.0, 20.0, 19.0, 18.0, 17.0, 16.0, 15.0, 14.0, 13.0, 12.0, 11.0, 10.0, 9.0, 8.0, 7.0, 6.0, 5.0, 4.0, 3.0, 2.0, 1.0, 0.4781999886035919, 0.46129998564720154, 0.4214000105857849, 0.39410001039505005, 0.3935000002384186, 0.37619999051094055, 0.3750999867916107, 0.37220001220703125, 0.3716000020503998, 0.36419999599456787, 0.36399999260902405, 0.358599990606308, 0.35850000381469727, 0.3580000102519989, 0.35530000925064087, 0.3537999987602234, 0.3528999984264374, 0.35199999809265137, 0.3481999933719635, 0.3465999960899353, 0.34599998593330383, 0.34380000829696655, 0.3411000072956085, 0.3407999873161316, 0.3402999937534332, 0.3402000069618225, 0.33959999680519104, 0.33500000834465027, 0.33320000767707825, 0.33149999380111694, 0.32199999690055847, 0.3287000060081482, 0.32739999890327454, 0.3276999890804291, 0.31529998779296875, 0.23119999468326569, 0.3075000047683716, 0.30320000648498535, 0.2757999897003174, 0.2827000021934509, 0.2831999957561493, 0.2612000107765198, 0.20190000534057617, 0.14710000157356262, 0.2939000129699707, 0.017899999395012856, 0.1785999983549118, 0.19419999420642853, 0.17579999566078186, -0.2353000044822693, 0.2345000058412552, -0.030300000682473183, 0.11860000342130661, -0.0737999975681305, 0.13199999928474426, 0.1492999941110611, 0.13609999418258667, -0.10909999907016754, 0.0003000000142492354, -0.05339999869465828, 0.940500020980835, 0.8508999943733215, 0.7817999720573425, 0.7451000213623047, 0.7105000019073486, 0.6883000135421753, 0.6812000274658203, 0.6640999913215637, 0.6582000255584717, 0.654699981212616, 0.6517999768257141, 0.6464999914169312, 0.6428999900817871, 0.6347000002861023, 0.6220999956130981, 0.6184999942779541, 0.6182000041007996, 0.6121000051498413, 0.6114000082015991, 0.61080002784729, 0.6015999913215637, 0.6003000140190125, 0.5997999906539917, 0.5939000248908997, 0.5928000211715698, 0.588100016117096, 0.5853000283241272, 0.5806999802589417, 0.5805000066757202, 0.5697000026702881, 0.5151000022888184, 0.5489000082015991, 0.5582000017166138, 0.5547000169754028, 0.4950000047683716, 0.4862000048160553, 0.47350001335144043, 0.5543000102043152, 0.5223000049591064, 0.3878999948501587, 0.299699991941452, 0.35109999775886536, 0.4498000144958496, 0.5078999996185303, -0.024399999529123306, 0.4896000027656555, -0.13349999487400055, 0.3589000105857849, 0.4027999937534332, 0.32710000872612, -0.32919999957084656, -0.1316000074148178, -0.6306999921798706, 0.034699998795986176, 0.02280000038444996, -0.325300008058548, -0.24009999632835388, -0.0032999999821186066, -0.1639000028371811, 1.3329999446868896, 1.2976000308990479, 1.2964999675750732, 1.2177000045776367, 1.2035000324249268, 1.2014000415802002, 1.176200032234192, 1.117900013923645, 1.1154999732971191, 1.100600004196167, 1.0999000072479248, 1.0981999635696411, 1.0958000421524048, 1.0880999565124512, 1.0742000341415405, 1.0662000179290771, 1.0216000080108643, 1.0133999586105347, 0.9976000189781189, 0.9904999732971191, 0.9871000051498413, 0.9793999791145325, 0.9456999897956848, 0.9420999884605408, 0.9391999840736389, 0.9352999925613403, 0.9336000084877014, 0.9075000286102295, 0.9054999947547913, 0.8745999932289124, 0.8303999900817871, 0.7698000073432922, 0.7615000009536743, 0.652999997138977, 0.6341000199317932, 0.6283000111579895, 0.60589998960495, 0.09839999675750732, 0.5856000185012817, 0.44530001282691956, -0.3463999927043915, 0.025299999862909317, 0.364300012588501, -0.47760000824928284, 0.17030000686645508, -0.9663000106811523, 0.2094999998807907, -0.6507999897003174, -0.0024999999441206455, 0.8306000232696533, 0.829200029373169, 0.7299000024795532, 0.6972000002861023, 0.6912999749183655, 0.6880999803543091, 0.6485000252723694, 0.6417999863624573, 0.6309999823570251, 0.6251999735832214, 0.616100013256073, 0.6025999784469604, 0.5942000150680542, 0.59170001745224, 0.5831999778747559, 0.5748999714851379, 0.5720999836921692, 0.5680000185966492, 0.5673999786376953, 0.5504999756813049, 0.5389000177383423, 0.5335000157356262, 0.525600016117096, 0.5224999785423279, 0.5192999839782715, 0.5037000179290771, 0.5009999871253967, 0.5008999705314636, 0.48829999566078186, 0.4846000075340271, 0.44929999113082886, 0.4065999984741211, 0.45840001106262207, 0.38040000200271606, 0.46219998598098755, 0.446399986743927, 0.04439999908208847, 0.43070000410079956, 0.28139999508857727, 0.3594000041484833, 0.4189000129699707, 0.11339999735355377, 0.23420000076293945, -0.21379999816417694, 0.2515999972820282, 0.15399999916553497, 0.1550000011920929, 0.16380000114440918, 0.3319999873638153, 0.15289999544620514, -0.05779999867081642, -0.11739999800920486, 0.09889999777078629, -0.05530000105500221, -0.5823000073432922, -0.11420000344514847, -0.36649999022483826, 0.08959999680519104, -0.35350000858306885, -0.13570000231266022, -0.20409999787807465, -0.05180000141263008, -0.029500000178813934, -0.9614999890327454, 0.7409999966621399, 0.6782000064849854, 0.640500009059906, 0.6118000149726868, 0.5799999833106995, 0.5722000002861023, 0.569599986076355, 0.5672000050544739, 0.5572999715805054, 0.5436999797821045, 0.5435000061988831, 0.5364000201225281, 0.5357000231742859, 0.5199999809265137, 0.5160999894142151, 0.5138000249862671, 0.5109000205993652, 0.5105000138282776, 0.4957999885082245, 0.48429998755455017, 0.48179998993873596, 0.47749999165534973, 0.4742000102996826, 0.4708000123500824, 0.4684999883174896, 0.4620000123977661, 0.4571000039577484, 0.45509999990463257, 0.45339998602867126, 0.44850000739097595, 0.4462999999523163, 0.4133000075817108, 0.33340001106262207, 0.4345000088214874, 0.4287000000476837, 0.3837999999523163, 0.17560000717639923, 0.3481000065803528, 0.3675999939441681, 0.34790000319480896, 0.2597000002861023, 0.25279998779296875, 0.2906999886035919, 0.2612000107765198, 0.24060000479221344, 0.11180000007152557, 0.2160000056028366, 0.38040000200271606, -0.09099999815225601, 0.01640000008046627, 0.18619999289512634, 0.1949000060558319, -0.0568000003695488, 0.33009999990463257, 0.09399999678134918, 0.2402999997138977, 0.28119999170303345, 0.19859999418258667, 0.10360000282526016, 0.12389999628067017, 0.08889999985694885, -0.5983999967575073, -0.15790000557899475, -0.048900000751018524, -0.8700000047683716, -0.061500001698732376, -0.6284000277519226], \"logprob\": [30.0, 29.0, 28.0, 27.0, 26.0, 25.0, 24.0, 23.0, 22.0, 21.0, 20.0, 19.0, 18.0, 17.0, 16.0, 15.0, 14.0, 13.0, 12.0, 11.0, 10.0, 9.0, 8.0, 7.0, 6.0, 5.0, 4.0, 3.0, 2.0, 1.0, -5.401100158691406, -6.240799903869629, -4.1107001304626465, -6.279799938201904, -5.431300163269043, -4.816299915313721, -7.645500183105469, -6.457499980926514, -7.11299991607666, -6.315199851989746, -6.997099876403809, -7.084400177001953, -6.499899864196777, -5.789999961853027, -7.9039998054504395, -5.558300018310547, -5.8394999504089355, -7.080999851226807, -7.445499897003174, -7.436299800872803, -6.70550012588501, -7.602200031280518, -5.743000030517578, -7.071400165557861, -6.82480001449585, -7.478499889373779, -5.902299880981445, -7.753499984741211, -7.3144001960754395, -6.728600025177002, -5.297500133514404, -6.267899990081787, -6.147200107574463, -6.333399772644043, -5.89300012588501, -4.3403000831604, -6.214300155639648, -6.316999912261963, -5.978000164031982, -6.116000175476074, -6.194900035858154, -5.985099792480469, -5.579100131988525, -5.25600004196167, -6.448500156402588, -4.686800003051758, -5.739500045776367, -5.89870023727417, -5.9492998123168945, -4.840799808502197, -6.118899822235107, -5.712299823760986, -5.954899787902832, -5.8302001953125, -6.047900199890137, -6.089200019836426, -6.087500095367432, -6.000800132751465, -6.087600231170654, -6.091599941253662, -4.164599895477295, -6.5559000968933105, -5.122399806976318, -3.8603999614715576, -6.661600112915039, -6.907299995422363, -5.6717000007629395, -6.897299766540527, -7.160799980163574, -7.6427998542785645, -5.554900169372559, -7.429599761962891, -5.80810022354126, -6.8815999031066895, -7.201900005340576, -6.332799911499023, -6.916800022125244, -5.734799861907959, -5.280399799346924, -5.417600154876709, -7.831600189208984, -5.530900001525879, -6.569399833679199, -6.0725998878479, -6.930099964141846, -6.128200054168701, -7.757299900054932, -7.617599964141846, -7.287300109863281, -6.075300216674805, -5.166900157928467, -6.270500183105469, -6.610099792480469, -6.6230998039245605, -5.5432000160217285, -5.75570011138916, -5.614299774169922, -6.688499927520752, -6.502099990844727, -5.848100185394287, -5.456699848175049, -5.801300048828125, -6.1975998878479, -6.4492998123168945, -4.729000091552734, -6.388199806213379, -4.508500099182129, -5.988800048828125, -6.131700038909912, -6.014999866485596, -4.900700092315674, -5.346099853515625, -5.162799835205078, -5.779399871826172, -5.801700115203857, -5.5177001953125, -5.643199920654297, -5.92140007019043, -5.944900035858154, -5.493599891662598, -5.682400226593018, -3.9179999828338623, -4.769899845123291, -5.9629998207092285, -5.346099853515625, -5.923600196838379, -3.256999969482422, -6.67710018157959, -5.670199871063232, -4.714300155639648, -5.750400066375732, -7.240499973297119, -4.736400127410889, -6.623000144958496, -5.7270002365112305, -5.864099979400635, -6.614299774169922, -6.957900047302246, -7.038599967956543, -5.980899810791016, -6.326300144195557, -5.9670000076293945, -6.735099792480469, -6.61929988861084, -5.7820000648498535, -7.222700119018555, -5.434599876403809, -7.45359992980957, -7.505799770355225, -6.539999961853027, -5.46619987487793, -5.58620023727417, -5.499300003051758, -6.033599853515625, -6.098199844360352, -6.0482001304626465, -5.0065999031066895, -6.01170015335083, -5.842800140380859, -4.917900085449219, -5.377799987792969, -5.84250020980835, -5.182199954986572, -5.8582000732421875, -5.4984002113342285, -5.9217000007629395, -5.843200206756592, -5.906599998474121, -6.420300006866455, -6.55079984664917, -5.996500015258789, -6.861299991607666, -6.889800071716309, -3.686800003051758, -6.918000221252441, -6.565800189971924, -7.365099906921387, -7.334099769592285, -4.088500022888184, -7.344099998474121, -6.837200164794922, -7.510900020599365, -7.9644999504089355, -6.02239990234375, -7.350200176239014, -8.153499603271484, -7.338200092315674, -7.200300216674805, -7.16540002822876, -7.298699855804443, -6.3668999671936035, -6.953999996185303, -6.573299884796143, -8.160099983215332, -7.386600017547607, -6.888700008392334, -7.148399829864502, -7.242199897766113, -5.3649001121521, -5.724699974060059, -6.79580020904541, -5.843200206756592, -6.8541998863220215, -6.886000156402588, -4.527100086212158, -6.79640007019043, -6.0843000411987305, -6.526299953460693, -6.757999897003174, -5.71120023727417, -6.127399921417236, -4.745999813079834, -6.250999927520752, -5.971099853515625, -5.997399806976318, -6.182499885559082, -6.563600063323975, -6.2195000648498535, -5.838799953460693, -5.7368998527526855, -6.14300012588501, -5.880099773406982, -5.18779993057251, -5.87060022354126, -5.581099987030029, -6.196199893951416, -5.7565999031066895, -6.047900199890137, -6.122200012207031, -6.2316999435424805, -6.237800121307373, -6.0665998458862305, -7.218299865722656, -7.729700088500977, -6.675899982452393, -6.826000213623047, -6.670899868011475, -7.672800064086914, -8.283699989318848, -6.412300109863281, -7.438799858093262, -6.960100173950195, -6.9415998458862305, -7.520899772644043, -6.853899955749512, -7.929200172424316, -7.274700164794922, -7.024199962615967, -6.767600059509277, -5.831500053405762, -6.875800132751465, -5.7515997886657715, -6.8983001708984375, -6.965099811553955, -7.5096001625061035, -7.938000202178955, -7.1595001220703125, -6.919300079345703, -6.152100086212158, -6.758200168609619, -5.753399848937988, -7.359399795532227, -7.030200004577637, -5.739099979400635, -4.041500091552734, -6.753200054168701, -6.663899898529053, -6.342700004577637, -4.429900169372559, -6.0183000564575195, -6.229599952697754, -6.103000164031982, -5.554500102996826, -5.528200149536133, -5.802199840545654, -5.642899990081787, -5.583899974822998, -4.993199825286865, -5.696100234985352, -6.459000110626221, -4.6230998039245605, -5.176000118255615, -5.8520002365112305, -5.936299800872803, -5.271399974822998, -6.3231000900268555, -5.730800151824951, -6.105999946594238, -6.211299896240234, -6.043300151824951, -5.883999824523926, -5.9496002197265625, -5.999000072479248, -5.303100109100342, -5.839799880981445, -5.928199768066406, -5.441500186920166, -5.979499816894531, -6.031499862670898]}, \"token.table\": {\"Topic\": [1, 2, 3, 4, 1, 2, 3, 4, 1, 2, 3, 4, 1, 2, 3, 4, 1, 2, 3, 4, 1, 2, 3, 4, 1, 2, 3, 4, 1, 2, 3, 4, 1, 2, 3, 4, 1, 2, 3, 4, 1, 2, 3, 1, 2, 3, 4, 1, 2, 3, 4, 1, 2, 3, 4, 1, 2, 3, 4, 1, 2, 3, 4, 1, 2, 3, 4, 1, 2, 3, 4, 1, 2, 3, 4, 1, 2, 3, 4, 1, 2, 3, 4, 1, 2, 3, 4, 1, 2, 3, 4, 1, 2, 3, 4, 1, 2, 3, 4, 1, 2, 3, 4, 1, 2, 3, 4, 1, 2, 3, 4, 1, 2, 3, 4, 1, 2, 3, 4, 1, 2, 3, 4, 1, 2, 3, 4, 1, 2, 3, 4, 1, 2, 3, 4, 1, 2, 3, 4, 1, 2, 3, 4, 1, 2, 3, 4, 1, 2, 3, 1, 2, 3, 4, 1, 2, 3, 4, 1, 2, 3, 4, 1, 2, 3, 4, 1, 2, 3, 4, 1, 2, 3, 4, 1, 2, 3, 1, 2, 3, 1, 2, 3, 4, 1, 2, 3, 4, 1, 2, 3, 4, 1, 2, 3, 4, 1, 2, 3, 4, 1, 2, 3, 4, 1, 2, 3, 4, 1, 2, 3, 4, 1, 2, 3, 4, 1, 2, 3, 4, 1, 2, 3, 1, 2, 3, 4, 1, 2, 3, 4, 1, 2, 3, 4, 1, 2, 3, 4, 1, 2, 3, 4, 1, 2, 3, 4, 1, 2, 3, 4, 1, 2, 3, 4, 1, 2, 3, 4, 5, 1, 2, 3, 4, 1, 2, 3, 4, 1, 2, 3, 4, 1, 2, 3, 4, 1, 2, 3, 1, 2, 3, 4, 1, 2, 3, 4, 1, 2, 3, 4, 1, 2, 3, 4, 1, 2, 3, 4, 1, 2, 3, 4, 1, 2, 3, 4, 1, 2, 3, 4, 1, 2, 3, 4, 1, 2, 3, 4, 1, 2, 3, 4, 1, 2, 3, 4, 1, 2, 3, 4, 1, 2, 3, 4, 1, 2, 3, 4, 1, 2, 3, 4, 1, 2, 3, 4, 1, 2, 3, 4, 1, 2, 3, 4, 5, 1, 2, 3, 4, 1, 2, 3, 4, 1, 2, 3, 4, 1, 2, 3, 4, 1, 2, 3, 4, 1, 2, 3, 4, 1, 2, 3, 4, 1, 2, 3, 4, 1, 2, 3, 4, 1, 2, 3, 4, 1, 2, 3, 1, 2, 3, 4, 1, 2, 3, 4, 1, 2, 3, 4, 1, 2, 3, 4, 1, 2, 3, 4, 1, 2, 3, 4, 1, 2, 3, 4, 1, 2, 3, 4, 1, 2, 3, 4, 1, 2, 3, 4, 1, 2, 3, 4, 1, 2, 3, 1, 2, 3, 4, 1, 2, 3, 4, 1, 2, 3, 4, 1, 2, 3, 4, 1, 2, 3, 4, 1, 2, 3, 4, 1, 2, 3, 4, 1, 2, 3, 4, 1, 2, 3, 1, 2, 3, 4, 1, 2, 3, 4, 1, 2, 3, 4, 1, 2, 3, 4, 1, 2, 3, 4, 1, 2, 3, 4, 1, 2, 3, 4, 1, 2, 3, 4, 1, 2, 3, 4, 1, 2, 3, 4, 1, 2, 3, 4, 1, 2, 3, 4, 1, 2, 3, 1, 2, 3, 4, 1, 2, 3, 4, 1, 2, 3, 1, 2, 3, 4, 1, 2, 3, 4, 1, 2, 3, 4, 1, 2, 3, 4, 1, 2, 3, 4, 1, 2, 3, 4, 1, 2, 3, 4, 1, 2, 3, 4, 1, 2, 3, 4, 1, 2, 3, 4, 1, 2, 3, 4, 1, 2, 3, 4, 1, 2, 3, 4, 1, 2, 3, 1, 2, 3, 4, 1, 2, 3, 4, 1, 2, 3, 4, 1, 2, 3, 1, 2, 3, 4, 1, 2, 3, 4, 1, 2, 3, 4, 1, 2, 3, 4, 1, 2, 3, 4, 1, 2, 3, 4, 1, 2, 3, 4, 1, 2, 3, 4, 1, 2, 3, 4, 1, 2, 3, 4, 1, 2, 3, 4, 1, 2, 3, 4, 1, 2, 3, 4, 1, 2, 3, 1, 2, 3, 4, 1, 2, 3, 4, 1, 2, 3, 1, 2, 3, 4, 1, 2, 3, 4, 1, 2, 3, 4, 1, 2, 3, 4, 1, 2, 3, 4, 1, 2, 3, 4, 1, 2, 3, 1, 2, 3, 4, 5, 1, 2, 3, 1, 2, 3, 4, 1, 2, 3, 1, 2, 3, 4, 1, 2, 3, 4, 1, 2, 3, 4, 1, 2, 3, 4, 1, 2, 3, 4, 1, 2, 3, 4, 1, 2, 3, 4, 1, 2, 3, 4, 1, 2, 3, 4, 5, 1, 2, 3, 4, 1, 2, 3, 4, 1, 2, 3, 4, 1, 2, 3, 4, 1, 2, 3, 4, 1, 2, 3, 4, 1, 2, 3, 4], \"Freq\": [0.2682434618473053, 0.2682434618473053, 0.40236520767211914, 0.13412173092365265, 0.1634957194328308, 0.3737045228481293, 0.3970610499382019, 0.07006959617137909, 0.5070958137512207, 0.20283833146095276, 0.20283833146095276, 0.10141916573047638, 0.4873093366622925, 0.24365466833114624, 0.12182733416557312, 0.12182733416557312, 0.719500720500946, 0.21585020422935486, 0.07195007055997849, 0.07195007055997849, 0.5644744634628296, 0.20906460285186768, 0.12543876469135284, 0.10453230142593384, 0.5521028637886047, 0.2650093734264374, 0.11042056977748871, 0.06625234335660934, 0.6958782076835632, 0.1546396017074585, 0.07731980085372925, 0.07731980085372925, 0.47390124201774597, 0.18956050276756287, 0.18956050276756287, 0.09478025138378143, 0.38355177640914917, 0.4474771022796631, 0.12785059213638306, 0.06392529606819153, 0.29417821764945984, 0.44126734137535095, 0.14708910882472992, 0.3724242150783539, 0.31035351753234863, 0.2482828050851822, 0.06207070127129555, 0.4422931671142578, 0.2211465835571289, 0.2211465835571289, 0.11057329177856445, 0.3629816770553589, 0.3629816770553589, 0.18149083852767944, 0.060496944934129715, 0.5294513702392578, 0.2647256851196289, 0.2647256851196289, 0.2647256851196289, 0.6815392374992371, 0.1514531672000885, 0.1514531672000885, 0.07572658360004425, 0.6588853597640991, 0.13632111251354218, 0.13632111251354218, 0.06816055625677109, 0.3783443570137024, 0.12611478567123413, 0.25222957134246826, 0.12611478567123413, 0.20423808693885803, 0.20423808693885803, 0.47655555605888367, 0.06807936728000641, 0.6654431223869324, 0.1109071895480156, 0.1109071895480156, 0.1109071895480156, 0.3187291920185089, 0.2124861180782318, 0.2124861180782318, 0.1062430590391159, 0.342496782541275, 0.5137451887130737, 0.08562419563531876, 0.08562419563531876, 0.13577952980995178, 0.27155905961990356, 0.40733858942985535, 0.13577952980995178, 0.18381981551647186, 0.22977477312088013, 0.45954954624176025, 0.09190990775823593, 0.47143813967704773, 0.23571906983852386, 0.23571906983852386, 0.23571906983852386, 0.4293828010559082, 0.2576296925544739, 0.2576296925544739, 0.08587656170129776, 0.6758310198783875, 0.11827042698860168, 0.11827042698860168, 0.0675830990076065, 0.2961355149745941, 0.37016937136650085, 0.222101628780365, 0.14806775748729706, 0.1907278150320053, 0.2670189440250397, 0.34331008791923523, 0.15258225798606873, 0.5593515634536743, 0.13983789086341858, 0.20975683629512787, 0.13983789086341858, 0.3951706886291504, 0.4670198857784271, 0.10777382552623749, 0.035924606025218964, 0.2818945050239563, 0.2818945050239563, 0.3758593201637268, 0.0939648300409317, 0.4175304174423218, 0.4697217345237732, 0.05219130218029022, 0.05219130218029022, 0.4697694480419159, 0.2989442050457001, 0.12811894714832306, 0.08541262894868851, 0.34293627738952637, 0.45724835991859436, 0.11431208997964859, 0.11431208997964859, 0.14569205045700073, 0.29138410091400146, 0.48564016819000244, 0.048564016819000244, 0.5608739852905273, 0.25494271516799927, 0.10197708755731583, 0.06798472255468369, 0.22749048471450806, 0.4549809694290161, 0.22749048471450806, 0.1974102109670639, 0.29611530900001526, 0.49352550506591797, 0.09870510548353195, 0.4070934057235718, 0.3731689453125, 0.13569779694080353, 0.06784889847040176, 0.17932192981243134, 0.35864385962486267, 0.2689828872680664, 0.17932192981243134, 0.1676078885793686, 0.3352157771587372, 0.3352157771587372, 0.13408631086349487, 0.6964545249938965, 0.08705681562423706, 0.17411363124847412, 0.04352840781211853, 0.4912402033805847, 0.2947441339492798, 0.09824804216623306, 0.09824804216623306, 0.7066088318824768, 0.1766522079706192, 0.1766522079706192, 0.3187433183193207, 0.15937165915966034, 0.4781149625778198, 0.686393678188324, 0.1583985537290573, 0.10559903085231781, 0.052799515426158905, 0.14665980637073517, 0.29331961274147034, 0.3666495382785797, 0.21998971700668335, 0.055413633584976196, 0.277068167924881, 0.6095499396324158, 0.055413633584976196, 0.19335004687309265, 0.36521676182746887, 0.36521676182746887, 0.08593335747718811, 0.1921655833721161, 0.4323725700378418, 0.28824836015701294, 0.04804139584302902, 0.33837035298347473, 0.4229629635810852, 0.16918517649173737, 0.08459258824586868, 0.1893068104982376, 0.46274998784065247, 0.23137499392032623, 0.12620455026626587, 0.31225940585136414, 0.2341945618391037, 0.31225940585136414, 0.07806485146284103, 0.3926009237766266, 0.2617339491844177, 0.2617339491844177, 0.13086697459220886, 0.691023051738739, 0.18098223209381104, 0.0987175777554512, 0.0246793944388628, 0.28066322207450867, 0.14033161103725433, 0.5613264441490173, 0.23961088061332703, 0.4193190336227417, 0.17970815300941467, 0.11980544030666351, 0.24895232915878296, 0.33193644881248474, 0.33193644881248474, 0.16596822440624237, 0.5536636710166931, 0.20762388408184052, 0.13841591775417328, 0.11534660309553146, 0.4272209107875824, 0.2136104553937912, 0.2136104553937912, 0.2136104553937912, 0.5620241165161133, 0.25759437680244446, 0.14050602912902832, 0.07025301456451416, 0.415338397026062, 0.47467243671417236, 0.11866810917854309, 0.059334054589271545, 0.5184003710746765, 0.21345898509025574, 0.18296483159065247, 0.09148241579532623, 0.4829959571361542, 0.30187246203422546, 0.15093623101711273, 0.09056174010038376, 0.7268370985984802, 0.13601630926132202, 0.07225865870714188, 0.06375764310359955, 0.004250509664416313, 0.18897879123687744, 0.26457029581069946, 0.4535490870475769, 0.07559151202440262, 0.323005348443985, 0.24225401878356934, 0.24225401878356934, 0.1615026742219925, 0.15064138174057007, 0.6025655269622803, 0.15064138174057007, 0.07532069087028503, 0.20495809614658356, 0.20495809614658356, 0.4099161922931671, 0.20495809614658356, 0.36709097027778625, 0.5506364703178406, 0.18354548513889313, 0.12233147770166397, 0.24466295540332794, 0.5301030874252319, 0.08155431598424911, 0.12985791265964508, 0.3636021614074707, 0.46748849749565125, 0.05194316804409027, 0.6506272554397583, 0.17744380235671997, 0.11829587072134018, 0.05914793536067009, 0.3972374200820923, 0.2648249566555023, 0.21185997128486633, 0.10592998564243317, 0.18147499859333038, 0.49905624985694885, 0.27221250534057617, 0.045368749648332596, 0.2752149999141693, 0.2752149999141693, 0.2752149999141693, 0.13760749995708466, 0.4581882357597351, 0.3876977562904358, 0.10573574900627136, 0.07049050182104111, 0.6523832678794861, 0.11861514300107956, 0.148268923163414, 0.05930757150053978, 0.2886809706687927, 0.2886809706687927, 0.14434048533439636, 0.14434048533439636, 0.601292073726654, 0.18127188086509705, 0.13263796269893646, 0.08400403708219528, 0.6707962155342102, 0.19165606796741486, 0.09582803398370743, 0.09582803398370743, 0.47882866859436035, 0.17956075072288513, 0.17956075072288513, 0.11970716714859009, 0.5224724411964417, 0.17415748536586761, 0.17415748536586761, 0.17415748536586761, 0.18787948787212372, 0.18787948787212372, 0.4696987271308899, 0.09393974393606186, 0.21786825358867645, 0.21786825358867645, 0.4357365071773529, 0.07262275367975235, 0.624863862991333, 0.17853254079818726, 0.1190216913819313, 0.05951084569096565, 0.22025854885578156, 0.3670975863933563, 0.29367807507514954, 0.14683903753757477, 0.2521192133426666, 0.5042384266853333, 0.2521192133426666, 0.08403974026441574, 0.04722118377685547, 0.22157631814479828, 0.5630217790603638, 0.1634579449892044, 0.0036323987878859043, 0.08765734732151031, 0.26297202706336975, 0.4382867217063904, 0.17531469464302063, 0.04595761373639107, 0.26042646169662476, 0.551491379737854, 0.12255363166332245, 0.639028012752533, 0.15975700318813324, 0.10650467127561569, 0.10650467127561569, 0.6578705310821533, 0.16446763277053833, 0.09398150444030762, 0.07048612833023071, 0.4818718135356903, 0.24093590676784515, 0.18739460408687592, 0.10708262771368027, 0.6135358810424805, 0.188780277967453, 0.11798767745494843, 0.07079260796308517, 0.5779232382774353, 0.2222781777381897, 0.11854835599660873, 0.07409272342920303, 0.5870516896247864, 0.2631610929965973, 0.12145897001028061, 0.04048632085323334, 0.5172412991523743, 0.19396547973155975, 0.12931032478809357, 0.12931032478809357, 0.06378880888223648, 0.22326083481311798, 0.6059936881065369, 0.09568320959806442, 0.19079801440238953, 0.19079801440238953, 0.572394073009491, 0.3237181603908539, 0.25178077816963196, 0.35968685150146484, 0.07193736732006073, 0.2011411339044571, 0.5531381368637085, 0.18437936902046204, 0.05028528347611427, 0.31062522530555725, 0.3993752896785736, 0.2218751609325409, 0.08875006437301636, 0.26254802942276, 0.498841255903244, 0.157528817653656, 0.078764408826828, 0.7122030854225159, 0.15482676029205322, 0.06193070486187935, 0.07741338014602661, 0.4887191951274872, 0.2443595975637436, 0.16290639340877533, 0.08145319670438766, 0.3463157117366791, 0.3777989447116852, 0.1888994723558426, 0.0944497361779213, 0.23885998129844666, 0.4777199625968933, 0.23885998129844666, 0.11942999064922333, 0.11078180372714996, 0.22156360745429993, 0.5539090037345886, 0.11078180372714996, 0.3152455985546112, 0.2251754254102707, 0.3152455985546112, 0.13510525226593018, 0.6512892842292786, 0.16282232105731964, 0.08141116052865982, 0.08141116052865982, 0.1951972246170044, 0.1951972246170044, 0.3903944492340088, 0.560964047908783, 0.2804820239543915, 0.2804820239543915, 0.2804820239543915, 0.3820914626121521, 0.4776143431663513, 0.09552286565303802, 0.04776143282651901, 0.6528369188308716, 0.15543736517429352, 0.12434989213943481, 0.09326241910457611, 0.3111672103404999, 0.20744480192661285, 0.3111672103404999, 0.10372240096330643, 0.6026672124862671, 0.2127060741186142, 0.1063530370593071, 0.0709020271897316, 0.6621642708778381, 0.18059025704860687, 0.10032792389392853, 0.06019675359129906, 0.24611492455005646, 0.45707055926322937, 0.24611492455005646, 0.0703185498714447, 0.4429060220718384, 0.1722412407398224, 0.2952706813812256, 0.0738176703453064, 0.31995889544487, 0.31995889544487, 0.31995889544487, 0.3721179664134979, 0.24807865917682648, 0.3721179664134979, 0.12403932958841324, 0.604149580001831, 0.18387161195278168, 0.13133686780929565, 0.07880212366580963, 0.48340484499931335, 0.4028373658657074, 0.06042560562491417, 0.06042560562491417, 0.463155061006546, 0.231577530503273, 0.1543850153684616, 0.1543850153684616, 0.44823169708251953, 0.3470180928707123, 0.14459086954593658, 0.07229543477296829, 0.45999234914779663, 0.4216596484184265, 0.07666538655757904, 0.05749904364347458, 0.35970136523246765, 0.4110872745513916, 0.15415772795677185, 0.05138590931892395, 0.09110482037067413, 0.23687253892421722, 0.6195127964019775, 0.05466289445757866, 0.39752939343452454, 0.33127447962760925, 0.19876469671726227, 0.06625489890575409, 0.37760257720947266, 0.25173506140708923, 0.25173506140708923, 0.12586753070354462, 0.4304421842098236, 0.4635531008243561, 0.06622187048196793, 0.03311093524098396, 0.4563441574573517, 0.42950037121772766, 0.08053132146596909, 0.02684377320110798, 0.5957298278808594, 0.14893245697021484, 0.14893245697021484, 0.6556702256202698, 0.16391755640506744, 0.10087234526872635, 0.07565426081418991, 0.3767336308956146, 0.46045219898223877, 0.1255778670310974, 0.04185929149389267, 0.4102998375892639, 0.20514991879463196, 0.20514991879463196, 0.4362669885158539, 0.2908446490764618, 0.21813349425792694, 0.07271116226911545, 0.45311439037323, 0.15103812515735626, 0.15103812515735626, 0.15103812515735626, 0.2729012072086334, 0.5458024144172668, 0.1819341480731964, 0.0909670740365982, 0.13036920130252838, 0.26073840260505676, 0.5214768052101135, 0.13036920130252838, 0.6822799444198608, 0.1137133240699768, 0.1137133240699768, 0.1137133240699768, 0.20138753950595856, 0.20138753950595856, 0.5034688711166382, 0.10069376975297928, 0.6201534867286682, 0.15503837168216705, 0.15503837168216705, 0.07751918584108353, 0.5737900733947754, 0.18256956338882446, 0.15648819506168365, 0.10432546585798264, 0.7028781175613403, 0.15619513392448425, 0.07809756696224213, 0.07809756696224213, 0.23755277693271637, 0.47510555386543274, 0.23755277693271637, 0.05938819423317909, 0.0420534610748291, 0.22708868980407715, 0.6728553771972656, 0.05887484550476074, 0.5360533595085144, 0.21839211881160736, 0.17868445813655853, 0.059561487287282944, 0.670842170715332, 0.17889124155044556, 0.06708421558141708, 0.06708421558141708, 0.33745095133781433, 0.33745095133781433, 0.33745095133781433, 0.6844807267189026, 0.21390023827552795, 0.04278004541993141, 0.06417006999254227, 0.3548145294189453, 0.24837017059326172, 0.3548145294189453, 0.03548145294189453, 0.6431311368942261, 0.14291803538799286, 0.10718852281570435, 0.10718852281570435, 0.38399240374565125, 0.38399240374565125, 0.19199620187282562, 0.6699928045272827, 0.16749820113182068, 0.06699927896261215, 0.06699927896261215, 0.5646292567253113, 0.22094187140464783, 0.12274548411369324, 0.09819638729095459, 0.7684373259544373, 0.11444811522960663, 0.09809838235378265, 0.016349731013178825, 0.6582852005958557, 0.10971419513225555, 0.10971419513225555, 0.10971419513225555, 0.6517155170440674, 0.17150408029556274, 0.10290244966745377, 0.06860163062810898, 0.46615466475486755, 0.3107697665691376, 0.1553848832845688, 0.0776924416422844, 0.5854277610778809, 0.21288283169269562, 0.10644141584634781, 0.079831063747406, 0.18512989580631256, 0.30854982137680054, 0.30854982137680054, 0.18512989580631256, 0.08431970328092575, 0.12647956609725952, 0.7167174816131592, 0.042159851640462875, 0.5484024882316589, 0.20311205089092255, 0.19295644760131836, 0.060933612287044525, 0.18880976736545563, 0.453143447637558, 0.3020956516265869, 0.037761956453323364, 0.3876878023147583, 0.25845852494239807, 0.25845852494239807, 0.12922926247119904, 0.05922721326351166, 0.23690885305404663, 0.592272162437439, 0.11845442652702332, 0.6957252621650696, 0.13914504647254944, 0.13914504647254944, 0.09287048131227493, 0.26313304901123047, 0.5417444705963135, 0.09287048131227493, 0.1933382749557495, 0.257784366607666, 0.386676549911499, 0.1933382749557495, 0.2102036029100418, 0.4204072058200836, 0.2102036029100418, 0.08620301634073257, 0.3017105460166931, 0.5603196024894714, 0.04310150817036629, 0.3534556031227112, 0.2650917172431946, 0.2650917172431946, 0.1767278015613556, 0.0894596129655838, 0.2683788537979126, 0.4920278787612915, 0.1341894268989563, 0.09830006211996078, 0.19660012423992157, 0.6881004571914673, 0.04915003105998039, 0.7445773482322693, 0.14891546964645386, 0.07445773482322693, 0.037228867411613464, 0.23167723417282104, 0.49231410026550293, 0.23167723417282104, 0.05791930854320526, 0.33241963386535645, 0.49862945079803467, 0.16620981693267822, 0.10553116351366043, 0.6558008193969727, 0.2035243958234787, 0.030151762068271637, 0.007537940517067909, 0.19939599931240082, 0.19939599931240082, 0.39879199862480164, 0.6766943335533142, 0.16917358338832855, 0.08458679169416428, 0.04229339584708214, 0.6457548141479492, 0.12915095686912537, 0.12915095686912537, 0.6182335019111633, 0.1664474755525589, 0.14266926050186157, 0.047556422650814056, 0.4848928153514862, 0.24749736487865448, 0.11617223173379898, 0.151528999209404, 0.2909928560256958, 0.50923752784729, 0.1454964280128479, 0.07274821400642395, 0.25844699144363403, 0.42291325330734253, 0.23495180904865265, 0.09398072212934494, 0.24672828614711761, 0.47447746992111206, 0.22774918377399445, 0.05693729594349861, 0.5052608251571655, 0.2925194203853607, 0.1063707023859024, 0.1063707023859024, 0.33006298542022705, 0.2750524878501892, 0.22004199028015137, 0.11002099514007568, 0.7238819599151611, 0.1447763890028, 0.10858228802680969, 0.0723881945014, 0.3750803768634796, 0.535175621509552, 0.036593206226825714, 0.04574150964617729, 0.004574150778353214, 0.6321251392364502, 0.21986961364746094, 0.10993480682373047, 0.054967403411865234, 0.4610077142715454, 0.2305038571357727, 0.11525192856788635, 0.11525192856788635, 0.6914345026016235, 0.1819564551115036, 0.07278257608413696, 0.07278257608413696, 0.1758139580488205, 0.5274418592453003, 0.26372092962265015, 0.08790697902441025, 0.0797492042183876, 0.2791222333908081, 0.5582444667816162, 0.0797492042183876, 0.5421184301376343, 0.18070615828037262, 0.13552960753440857, 0.13552960753440857, 0.18282265961170197, 0.36564531922340393, 0.3917628228664398, 0.05223504453897476], \"Term\": [\"00\", \"00\", \"00\", \"00\", \"101\", \"101\", \"101\", \"101\", \"120\", \"120\", \"120\", \"120\", \"142\", \"142\", \"142\", \"142\", \"173\", \"173\", \"173\", \"173\", \"1888\", \"1888\", \"1888\", \"1888\", \"1889\", \"1889\", \"1889\", \"1889\", \"18th\", \"18th\", \"18th\", \"18th\", \"1906\", \"1906\", \"1906\", \"1906\", \"1939\", \"1939\", \"1939\", \"1939\", \"2000\", \"2000\", \"2000\", \"2002\", \"2002\", \"2002\", \"2002\", \"2007\", \"2007\", \"2007\", \"2007\", \"2011\", \"2011\", \"2011\", \"2011\", \"224\", \"224\", \"224\", \"224\", \"afterward\", \"afterward\", \"afterward\", \"afterward\", \"age\", \"age\", \"age\", \"age\", \"altern\", \"altern\", \"altern\", \"altern\", \"alway\", \"alway\", \"alway\", \"alway\", \"angel\", \"angel\", \"angel\", \"angel\", \"answer\", \"answer\", \"answer\", \"answer\", \"averag\", \"averag\", \"averag\", \"averag\", \"axi\", \"axi\", \"axi\", \"axi\", \"bound\", \"bound\", \"bound\", \"bound\", \"boundari\", \"boundari\", \"boundari\", \"boundari\", \"box\", \"box\", \"box\", \"box\", \"british\", \"british\", \"british\", \"british\", \"calcul\", \"calcul\", \"calcul\", \"calcul\", \"calculu\", \"calculu\", \"calculu\", \"calculu\", \"canva\", \"canva\", \"canva\", \"canva\", \"car\", \"car\", \"car\", \"car\", \"center\", \"center\", \"center\", \"center\", \"centr\", \"centr\", \"centr\", \"centr\", \"central\", \"central\", \"central\", \"central\", \"chain\", \"chain\", \"chain\", \"chain\", \"choos\", \"choos\", \"choos\", \"choos\", \"church\", \"church\", \"church\", \"church\", \"column\", \"column\", \"column\", \"compact\", \"compact\", \"compact\", \"compact\", \"compani\", \"compani\", \"compani\", \"compani\", \"complex\", \"complex\", \"complex\", \"complex\", \"comput\", \"comput\", \"comput\", \"comput\", \"converg\", \"converg\", \"converg\", \"converg\", \"council\", \"council\", \"council\", \"council\", \"counter\", \"counter\", \"counter\", \"criterion\", \"criterion\", \"criterion\", \"cup\", \"cup\", \"cup\", \"cup\", \"curv\", \"curv\", \"curv\", \"curv\", \"darboux\", \"darboux\", \"darboux\", \"darboux\", \"defin\", \"defin\", \"defin\", \"defin\", \"denot\", \"denot\", \"denot\", \"denot\", \"depend\", \"depend\", \"depend\", \"depend\", \"differenti\", \"differenti\", \"differenti\", \"differenti\", \"difficult\", \"difficult\", \"difficult\", \"difficult\", \"displac\", \"displac\", \"displac\", \"displac\", \"displaystyl\", \"displaystyl\", \"displaystyl\", \"displaystyl\", \"distribut\", \"distribut\", \"distribut\", \"domain\", \"domain\", \"domain\", \"domain\", \"doubl\", \"doubl\", \"doubl\", \"doubl\", \"draw\", \"draw\", \"draw\", \"draw\", \"easili\", \"easili\", \"easili\", \"easili\", \"east\", \"east\", \"east\", \"east\", \"eastern\", \"eastern\", \"eastern\", \"eastern\", \"edit\", \"edit\", \"edit\", \"edit\", \"engin\", \"engin\", \"engin\", \"engin\", \"england\", \"england\", \"england\", \"england\", \"england\", \"equal\", \"equal\", \"equal\", \"equal\", \"exact\", \"exact\", \"exact\", \"exact\", \"exposit\", \"exposit\", \"exposit\", \"exposit\", \"exterior\", \"exterior\", \"exterior\", \"exterior\", \"fair\", \"fair\", \"fair\", \"finit\", \"finit\", \"finit\", \"finit\", \"floor\", \"floor\", \"floor\", \"floor\", \"footbal\", \"footbal\", \"footbal\", \"footbal\", \"friend\", \"friend\", \"friend\", \"friend\", \"ft\", \"ft\", \"ft\", \"ft\", \"fundament\", \"fundament\", \"fundament\", \"fundament\", \"garden\", \"garden\", \"garden\", \"garden\", \"georg\", \"georg\", \"georg\", \"georg\", \"goe\", \"goe\", \"goe\", \"goe\", \"gogh\", \"gogh\", \"gogh\", \"gogh\", \"hors\", \"hors\", \"hors\", \"hors\", \"ill\", \"ill\", \"ill\", \"ill\", \"impact\", \"impact\", \"impact\", \"impact\", \"improp\", \"improp\", \"improp\", \"improp\", \"indic\", \"indic\", \"indic\", \"indic\", \"industri\", \"industri\", \"industri\", \"industri\", \"infinitesim\", \"infinitesim\", \"infinitesim\", \"infinitesim\", \"instal\", \"instal\", \"instal\", \"instal\", \"integr\", \"integr\", \"integr\", \"integr\", \"integr\", \"integrand\", \"integrand\", \"integrand\", \"integrand\", \"interv\", \"interv\", \"interv\", \"interv\", \"jame\", \"jame\", \"jame\", \"jame\", \"john\", \"john\", \"john\", \"john\", \"juli\", \"juli\", \"juli\", \"juli\", \"king\", \"king\", \"king\", \"king\", \"kingdom\", \"kingdom\", \"kingdom\", \"kingdom\", \"largest\", \"largest\", \"largest\", \"largest\", \"learn\", \"learn\", \"learn\", \"learn\", \"lebesgu\", \"lebesgu\", \"lebesgu\", \"lebesgu\", \"lebesgue\", \"lebesgue\", \"lebesgue\", \"let\", \"let\", \"let\", \"let\", \"level\", \"level\", \"level\", \"level\", \"light\", \"light\", \"light\", \"light\", \"linear\", \"linear\", \"linear\", \"linear\", \"london\", \"london\", \"london\", \"london\", \"manag\", \"manag\", \"manag\", \"manag\", \"march\", \"march\", \"march\", \"march\", \"mechan\", \"mechan\", \"mechan\", \"mechan\", \"mesh\", \"mesh\", \"mesh\", \"mesh\", \"method\", \"method\", \"method\", \"method\", \"minor\", \"minor\", \"minor\", \"minor\", \"monoton\", \"monoton\", \"monoton\", \"mont\", \"mont\", \"mont\", \"mont\", \"monument\", \"monument\", \"monument\", \"monument\", \"mother\", \"mother\", \"mother\", \"mother\", \"multipl\", \"multipl\", \"multipl\", \"multipl\", \"music\", \"music\", \"music\", \"music\", \"north\", \"north\", \"north\", \"north\", \"notat\", \"notat\", \"notat\", \"notat\", \"novel\", \"novel\", \"novel\", \"novel\", \"offset\", \"offset\", \"offset\", \"orient\", \"orient\", \"orient\", \"orient\", \"painter\", \"painter\", \"painter\", \"painter\", \"palac\", \"palac\", \"palac\", \"palac\", \"parent\", \"parent\", \"parent\", \"parent\", \"pari\", \"pari\", \"pari\", \"pari\", \"park\", \"park\", \"park\", \"park\", \"partial\", \"partial\", \"partial\", \"partial\", \"partit\", \"partit\", \"partit\", \"partit\", \"per\", \"per\", \"per\", \"per\", \"physic\", \"physic\", \"physic\", \"physic\", \"poland\", \"poland\", \"poland\", \"poland\", \"polish\", \"polish\", \"polish\", \"polish\", \"pope\", \"pope\", \"pope\", \"portrait\", \"portrait\", \"portrait\", \"portrait\", \"presid\", \"presid\", \"presid\", \"presid\", \"principl\", \"principl\", \"principl\", \"protect\", \"protect\", \"protect\", \"protect\", \"psycholog\", \"psycholog\", \"psycholog\", \"psycholog\", \"radio\", \"radio\", \"radio\", \"radio\", \"ration\", \"ration\", \"ration\", \"ration\", \"recov\", \"recov\", \"recov\", \"recov\", \"refin\", \"refin\", \"refin\", \"refin\", \"regard\", \"regard\", \"regard\", \"regard\", \"region\", \"region\", \"region\", \"region\", \"religion\", \"religion\", \"religion\", \"religion\", \"replac\", \"replac\", \"replac\", \"replac\", \"riemann\", \"riemann\", \"riemann\", \"riemann\", \"ring\", \"ring\", \"ring\", \"ring\", \"roman\", \"roman\", \"roman\", \"roman\", \"roof\", \"roof\", \"roof\", \"royal\", \"royal\", \"royal\", \"royal\", \"russian\", \"russian\", \"russian\", \"russian\", \"saint\", \"saint\", \"saint\", \"saint\", \"scale\", \"scale\", \"scale\", \"sea\", \"sea\", \"sea\", \"sea\", \"self\", \"self\", \"self\", \"self\", \"sequenc\", \"sequenc\", \"sequenc\", \"sequenc\", \"settl\", \"settl\", \"settl\", \"settl\", \"signific\", \"signific\", \"signific\", \"signific\", \"site\", \"site\", \"site\", \"site\", \"south\", \"south\", \"south\", \"south\", \"step\", \"step\", \"step\", \"step\", \"stieltj\", \"stieltj\", \"stieltj\", \"stieltj\", \"stori\", \"stori\", \"stori\", \"stori\", \"structur\", \"structur\", \"structur\", \"structur\", \"sub\", \"sub\", \"sub\", \"sub\", \"subinterv\", \"subinterv\", \"subinterv\", \"subinterv\", \"succeed\", \"succeed\", \"succeed\", \"sum\", \"sum\", \"sum\", \"sum\", \"surfac\", \"surfac\", \"surfac\", \"surfac\", \"surround\", \"surround\", \"surround\", \"tag\", \"tag\", \"tag\", \"tag\", \"techniqu\", \"techniqu\", \"techniqu\", \"techniqu\", \"theorem\", \"theorem\", \"theorem\", \"theorem\", \"ti\", \"ti\", \"ti\", \"ti\", \"to\", \"to\", \"to\", \"to\", \"top\", \"top\", \"top\", \"top\", \"tourist\", \"tourist\", \"tourist\", \"tower\", \"tower\", \"tower\", \"tower\", \"tower\", \"trap\", \"trap\", \"trap\", \"uk\", \"uk\", \"uk\", \"uk\", \"ultim\", \"ultim\", \"ultim\", \"union\", \"union\", \"union\", \"union\", \"van\", \"van\", \"van\", \"van\", \"vari\", \"vari\", \"vari\", \"vari\", \"variabl\", \"variabl\", \"variabl\", \"variabl\", \"vector\", \"vector\", \"vector\", \"vector\", \"vincent\", \"vincent\", \"vincent\", \"vincent\", \"volum\", \"volum\", \"volum\", \"volum\", \"wale\", \"wale\", \"wale\", \"wale\", \"warsaw\", \"warsaw\", \"warsaw\", \"warsaw\", \"warsaw\", \"west\", \"west\", \"west\", \"west\", \"wider\", \"wider\", \"wider\", \"wider\", \"william\", \"william\", \"william\", \"william\", \"wind\", \"wind\", \"wind\", \"wind\", \"xi\", \"xi\", \"xi\", \"xi\", \"yellow\", \"yellow\", \"yellow\", \"yellow\", \"zero\", \"zero\", \"zero\", \"zero\"]}, \"R\": 30, \"lambda.step\": 0.01, \"plot.opts\": {\"xlab\": \"PC1\", \"ylab\": \"PC2\"}, \"topic.order\": [1, 2, 4, 3, 5]};\n",
       "\n",
       "function LDAvis_load_lib(url, callback){\n",
       "  var s = document.createElement('script');\n",
       "  s.src = url;\n",
       "  s.async = true;\n",
       "  s.onreadystatechange = s.onload = callback;\n",
       "  s.onerror = function(){console.warn(\"failed to load library \" + url);};\n",
       "  document.getElementsByTagName(\"head\")[0].appendChild(s);\n",
       "}\n",
       "\n",
       "if(typeof(LDAvis) !== \"undefined\"){\n",
       "   // already loaded: just create the visualization\n",
       "   !function(LDAvis){\n",
       "       new LDAvis(\"#\" + \"ldavis_el168331405844872392562454020135\", ldavis_el168331405844872392562454020135_data);\n",
       "   }(LDAvis);\n",
       "}else if(typeof define === \"function\" && define.amd){\n",
       "   // require.js is available: use it to load d3/LDAvis\n",
       "   require.config({paths: {d3: \"https://cdnjs.cloudflare.com/ajax/libs/d3/3.5.5/d3.min\"}});\n",
       "   require([\"d3\"], function(d3){\n",
       "      window.d3 = d3;\n",
       "      LDAvis_load_lib(\"https://cdn.rawgit.com/bmabey/pyLDAvis/files/ldavis.v1.0.0.js\", function(){\n",
       "        new LDAvis(\"#\" + \"ldavis_el168331405844872392562454020135\", ldavis_el168331405844872392562454020135_data);\n",
       "      });\n",
       "    });\n",
       "}else{\n",
       "    // require.js not available: dynamically load d3 & LDAvis\n",
       "    LDAvis_load_lib(\"https://cdnjs.cloudflare.com/ajax/libs/d3/3.5.5/d3.min.js\", function(){\n",
       "         LDAvis_load_lib(\"https://cdn.rawgit.com/bmabey/pyLDAvis/files/ldavis.v1.0.0.js\", function(){\n",
       "                 new LDAvis(\"#\" + \"ldavis_el168331405844872392562454020135\", ldavis_el168331405844872392562454020135_data);\n",
       "            })\n",
       "         });\n",
       "}\n",
       "</script>"
      ],
      "text/plain": [
       "PreparedData(topic_coordinates=              x         y  topics  cluster       Freq\n",
       "topic                                                \n",
       "0     -0.038904 -0.004727       1        1  47.599327\n",
       "1     -0.000010  0.020136       2        1  25.474739\n",
       "3      0.038872 -0.004937       3        1  18.458681\n",
       "2     -0.000510 -0.013172       4        1   8.122997\n",
       "4      0.000552  0.002700       5        1   0.344256, topic_info=     Category        Freq         Term       Total  loglift  logprob\n",
       "term                                                                \n",
       "1065  Default  275.000000       integr  275.000000  30.0000  30.0000\n",
       "1865  Default  218.000000       warsaw  218.000000  29.0000  29.0000\n",
       "779   Default  235.000000      england  235.000000  28.0000  28.0000\n",
       "1779  Default  132.000000        tower  132.000000  27.0000  27.0000\n",
       "1547  Default  118.000000      riemann  118.000000  26.0000  26.0000\n",
       "1830  Default  197.000000          van  197.000000  25.0000  25.0000\n",
       "709   Default  121.000000  displaystyl  121.000000  24.0000  24.0000\n",
       "939   Default  226.000000         gogh  226.000000  23.0000  23.0000\n",
       "1073  Default   65.000000       interv   65.000000  22.0000  22.0000\n",
       "1718  Default   64.000000          sum   64.000000  21.0000  21.0000\n",
       "1111  Default   67.000000      kingdom   67.000000  20.0000  20.0000\n",
       "1161  Default   64.000000       london   64.000000  19.0000  19.0000\n",
       "1355  Default   54.000000       partit   54.000000  18.0000  18.0000\n",
       "1147  Default   59.000000        level   59.000000  17.0000  17.0000\n",
       "469   Default   59.000000      british   59.000000  16.0000  16.0000\n",
       "1400  Default   74.000000       polish   74.000000  15.0000  15.0000\n",
       "1612  Default   61.000000      sequenc   61.000000  14.0000  14.0000\n",
       "671   Default   46.000000        defin   46.000000  13.0000  13.0000\n",
       "1     Default   42.000000          101   42.000000  12.0000  12.0000\n",
       "913   Default   44.000000           ft   44.000000  11.0000  11.0000\n",
       "1127  Default   49.000000      largest   49.000000  10.0000  10.0000\n",
       "1352  Default   52.000000         park   52.000000   9.0000   9.0000\n",
       "885   Default   38.000000        floor   38.000000   8.0000   8.0000\n",
       "699   Default   47.000000   differenti   47.000000   7.0000   7.0000\n",
       "1347  Default   49.000000        palac   49.000000   6.0000   6.0000\n",
       "1397  Default   60.000000       poland   60.000000   5.0000   5.0000\n",
       "526   Default   58.000000       church   58.000000   4.0000   4.0000\n",
       "1550  Default   50.000000         ring   50.000000   3.0000   3.0000\n",
       "1693  Default   98.000000        stori   98.000000   2.0000   2.0000\n",
       "1663  Default   37.000000        south   37.000000   1.0000   1.0000\n",
       "...       ...         ...          ...         ...      ...      ...\n",
       "1663   Topic5    0.183236        south   37.579357   0.3481  -6.0183\n",
       "581    Topic5    0.148328       comput   29.831532   0.3676  -6.2296\n",
       "1775   Topic5    0.168343          top   34.530800   0.3479  -6.1030\n",
       "1073   Topic5    0.291363       interv   65.277542   0.2597  -5.5545\n",
       "1111   Topic5    0.299121      kingdom   67.483009   0.2528  -5.5282\n",
       "1127   Topic5    0.227440      largest   49.399399   0.2907  -5.8022\n",
       "1147   Topic5    0.266695        level   59.659603   0.2612  -5.6429\n",
       "1718   Topic5    0.282920          sum   64.606102   0.2406  -5.5839\n",
       "1779   Topic5    0.510731        tower  132.662231   0.1118  -4.9932\n",
       "469    Topic5    0.252886      british   59.186394   0.2160  -5.6961\n",
       "500    Topic5    0.117924      central   23.415741   0.3804  -6.4590\n",
       "779    Topic5    0.739457      england  235.265915  -0.0910  -4.6231\n",
       "709    Topic5    0.425386  displaystyl  121.558899   0.0164  -5.1760\n",
       "1352   Topic5    0.216385         park   52.174782   0.1862  -5.8520\n",
       "699    Topic5    0.198882   differenti   47.541870   0.1949  -5.9363\n",
       "1547   Topic5    0.386705      riemann  118.896278  -0.0568  -5.2714\n",
       "1257   Topic5    0.135088        music   28.207939   0.3301  -6.3231\n",
       "1161   Topic5    0.244255       london   64.588318   0.0940  -5.7308\n",
       "1502   Topic5    0.167853       region   38.341549   0.2403  -6.1060\n",
       "778    Topic5    0.151068        engin   33.126572   0.2812  -6.2113\n",
       "1832   Topic5    0.178712      variabl   42.561920   0.1986  -6.0433\n",
       "1355   Topic5    0.209564       partit   54.881836   0.1036  -5.8840\n",
       "1550   Topic5    0.196266         ring   50.368118   0.1239  -5.9496\n",
       "1347   Topic5    0.186808        palac   49.647827   0.0889  -5.9990\n",
       "1830   Topic5    0.374635          van  197.981903  -0.5984  -5.3031\n",
       "1400   Topic5    0.219033       polish   74.505173  -0.1579  -5.8398\n",
       "1612   Topic5    0.200502      sequenc   61.163086  -0.0489  -5.9282\n",
       "939    Topic5    0.326225         gogh  226.179596  -0.8700  -5.4415\n",
       "526    Topic5    0.190474       church   58.836746  -0.0615  -5.9795\n",
       "1693   Topic5    0.180827        stori   98.467819  -0.6284  -6.0315\n",
       "\n",
       "[329 rows x 6 columns], token_table=      Topic      Freq     Term\n",
       "term                          \n",
       "0         1  0.268243       00\n",
       "0         2  0.268243       00\n",
       "0         3  0.402365       00\n",
       "0         4  0.134122       00\n",
       "1         1  0.163496      101\n",
       "1         2  0.373705      101\n",
       "1         3  0.397061      101\n",
       "1         4  0.070070      101\n",
       "20        1  0.507096      120\n",
       "20        2  0.202838      120\n",
       "20        3  0.202838      120\n",
       "20        4  0.101419      120\n",
       "42        1  0.487309      142\n",
       "42        2  0.243655      142\n",
       "42        3  0.121827      142\n",
       "42        4  0.121827      142\n",
       "73        1  0.719501      173\n",
       "73        2  0.215850      173\n",
       "73        3  0.071950      173\n",
       "73        4  0.071950      173\n",
       "115       1  0.564474     1888\n",
       "115       2  0.209065     1888\n",
       "115       3  0.125439     1888\n",
       "115       4  0.104532     1888\n",
       "116       1  0.552103     1889\n",
       "116       2  0.265009     1889\n",
       "116       3  0.110421     1889\n",
       "116       4  0.066252     1889\n",
       "127       1  0.695878     18th\n",
       "127       2  0.154640     18th\n",
       "...     ...       ...      ...\n",
       "1865      4  0.045742   warsaw\n",
       "1865      5  0.004574   warsaw\n",
       "1872      1  0.632125     west\n",
       "1872      2  0.219870     west\n",
       "1872      3  0.109935     west\n",
       "1872      4  0.054967     west\n",
       "1880      1  0.461008    wider\n",
       "1880      2  0.230504    wider\n",
       "1880      3  0.115252    wider\n",
       "1880      4  0.115252    wider\n",
       "1884      1  0.691435  william\n",
       "1884      2  0.181956  william\n",
       "1884      3  0.072783  william\n",
       "1884      4  0.072783  william\n",
       "1886      1  0.175814     wind\n",
       "1886      2  0.527442     wind\n",
       "1886      3  0.263721     wind\n",
       "1886      4  0.087907     wind\n",
       "1899      1  0.079749       xi\n",
       "1899      2  0.279122       xi\n",
       "1899      3  0.558244       xi\n",
       "1899      4  0.079749       xi\n",
       "1902      1  0.542118   yellow\n",
       "1902      2  0.180706   yellow\n",
       "1902      3  0.135530   yellow\n",
       "1902      4  0.135530   yellow\n",
       "1908      1  0.182823     zero\n",
       "1908      2  0.365645     zero\n",
       "1908      3  0.391763     zero\n",
       "1908      4  0.052235     zero\n",
       "\n",
       "[786 rows x 3 columns], R=30, lambda_step=0.01, plot_opts={'xlab': 'PC1', 'ylab': 'PC2'}, topic_order=[1, 2, 4, 3, 5])"
      ]
     },
     "execution_count": 124,
     "metadata": {},
     "output_type": "execute_result"
    }
   ],
   "source": [
    "# topics are sorted from most to least popular! the order of topics is changed\n",
    "pyLDAvis.gensim.prepare(model_corpus,corpus=corpus_sparse,dictionary=dictionary_sparse)  "
   ]
  },
  {
   "cell_type": "code",
   "execution_count": null,
   "metadata": {
    "collapsed": true
   },
   "outputs": [],
   "source": []
  }
 ],
 "metadata": {
  "kernelspec": {
   "display_name": "Python 3",
   "language": "python",
   "name": "python3"
  },
  "language_info": {
   "codemirror_mode": {
    "name": "ipython",
    "version": 3
   },
   "file_extension": ".py",
   "mimetype": "text/x-python",
   "name": "python",
   "nbconvert_exporter": "python",
   "pygments_lexer": "ipython3",
   "version": "3.6.6"
  }
 },
 "nbformat": 4,
 "nbformat_minor": 2
}
